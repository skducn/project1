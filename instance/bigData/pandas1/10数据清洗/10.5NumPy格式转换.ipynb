{
 "cells": [
  {
   "cell_type": "code",
   "execution_count": 1,
   "id": "2cbe3a8a-7abc-435f-b937-c78b90c1213f",
   "metadata": {},
   "outputs": [],
   "source": [
    "import pandas as pd\n",
    "\n",
    "# None 、 NaN 、pd.NA 都是缺失值"
   ]
  },
  {
   "cell_type": "markdown",
   "id": "f2be31a2-b1b5-405e-8a31-a43c65ed4cfc",
   "metadata": {},
   "source": [
    "# 10.5.2 DataFrame转为ndarray"
   ]
  },
  {
   "cell_type": "code",
   "execution_count": 2,
   "id": "4ccde331-7dbe-4c7c-a141-5dfe52ad1226",
   "metadata": {},
   "outputs": [
    {
     "data": {
      "text/html": [
       "<div>\n",
       "<style scoped>\n",
       "    .dataframe tbody tr th:only-of-type {\n",
       "        vertical-align: middle;\n",
       "    }\n",
       "\n",
       "    .dataframe tbody tr th {\n",
       "        vertical-align: top;\n",
       "    }\n",
       "\n",
       "    .dataframe thead th {\n",
       "        text-align: right;\n",
       "    }\n",
       "</style>\n",
       "<table border=\"1\" class=\"dataframe\">\n",
       "  <thead>\n",
       "    <tr style=\"text-align: right;\">\n",
       "      <th></th>\n",
       "      <th>name</th>\n",
       "      <th>team</th>\n",
       "      <th>Q1</th>\n",
       "      <th>Q2</th>\n",
       "      <th>Q3</th>\n",
       "      <th>Q4</th>\n",
       "      <th>1city</th>\n",
       "      <th>what color</th>\n",
       "    </tr>\n",
       "  </thead>\n",
       "  <tbody>\n",
       "    <tr>\n",
       "      <th>0</th>\n",
       "      <td>Liver</td>\n",
       "      <td>E</td>\n",
       "      <td>89</td>\n",
       "      <td>21</td>\n",
       "      <td>24</td>\n",
       "      <td>1</td>\n",
       "      <td>shanghai</td>\n",
       "      <td>yellew</td>\n",
       "    </tr>\n",
       "    <tr>\n",
       "      <th>1</th>\n",
       "      <td>Arry</td>\n",
       "      <td>C</td>\n",
       "      <td>55</td>\n",
       "      <td>37</td>\n",
       "      <td>37</td>\n",
       "      <td>2</td>\n",
       "      <td>nanjin</td>\n",
       "      <td>red</td>\n",
       "    </tr>\n",
       "    <tr>\n",
       "      <th>2</th>\n",
       "      <td>Ack</td>\n",
       "      <td>A</td>\n",
       "      <td>57</td>\n",
       "      <td>60</td>\n",
       "      <td>33</td>\n",
       "      <td>3</td>\n",
       "      <td>beijin</td>\n",
       "      <td>purple</td>\n",
       "    </tr>\n",
       "    <tr>\n",
       "      <th>3</th>\n",
       "      <td>Eorge</td>\n",
       "      <td>C</td>\n",
       "      <td>93</td>\n",
       "      <td>4</td>\n",
       "      <td>71</td>\n",
       "      <td>4</td>\n",
       "      <td>tianjin</td>\n",
       "      <td>blue</td>\n",
       "    </tr>\n",
       "    <tr>\n",
       "      <th>4</th>\n",
       "      <td>Oah</td>\n",
       "      <td>D</td>\n",
       "      <td>93</td>\n",
       "      <td>49</td>\n",
       "      <td>44</td>\n",
       "      <td>5</td>\n",
       "      <td>henan</td>\n",
       "      <td>black</td>\n",
       "    </tr>\n",
       "    <tr>\n",
       "      <th>5</th>\n",
       "      <td>Harlie</td>\n",
       "      <td>C</td>\n",
       "      <td>24</td>\n",
       "      <td>13</td>\n",
       "      <td>87</td>\n",
       "      <td>6</td>\n",
       "      <td>hebei</td>\n",
       "      <td>pink</td>\n",
       "    </tr>\n",
       "  </tbody>\n",
       "</table>\n",
       "</div>"
      ],
      "text/plain": [
       "     name team  Q1  Q2  Q3  Q4     1city what color\n",
       "0   Liver    E  89  21  24   1  shanghai     yellew\n",
       "1    Arry    C  55  37  37   2    nanjin        red\n",
       "2     Ack    A  57  60  33   3    beijin     purple\n",
       "3   Eorge    C  93   4  71   4   tianjin       blue\n",
       "4     Oah    D  93  49  44   5     henan      black\n",
       "5  Harlie    C  24  13  87   6     hebei       pink"
      ]
     },
     "execution_count": 2,
     "metadata": {},
     "output_type": "execute_result"
    }
   ],
   "source": [
    "df = pd.read_excel(\"../team2.xlsx\")\n",
    "df"
   ]
  },
  {
   "cell_type": "code",
   "execution_count": 3,
   "id": "08f06ea9-d8df-4368-9e9a-5d8167e6659b",
   "metadata": {},
   "outputs": [
    {
     "data": {
      "text/plain": [
       "array([['Liver', 'E', 89, 21, 24, 1, 'shanghai', 'yellew'],\n",
       "       ['Arry', 'C', 55, 37, 37, 2, 'nanjin', 'red'],\n",
       "       ['Ack', 'A', 57, 60, 33, 3, 'beijin', 'purple'],\n",
       "       ['Eorge', 'C', 93, 4, 71, 4, 'tianjin', 'blue'],\n",
       "       ['Oah', 'D', 93, 49, 44, 5, 'henan', 'black'],\n",
       "       ['Harlie', 'C', 24, 13, 87, 6, 'hebei', 'pink']], dtype=object)"
      ]
     },
     "execution_count": 3,
     "metadata": {},
     "output_type": "execute_result"
    }
   ],
   "source": [
    "df.to_numpy()"
   ]
  },
  {
   "cell_type": "code",
   "execution_count": 4,
   "id": "d137864c-c200-4af3-884a-f036400a6f3d",
   "metadata": {},
   "outputs": [
    {
     "data": {
      "text/plain": [
       "numpy.ndarray"
      ]
     },
     "execution_count": 4,
     "metadata": {},
     "output_type": "execute_result"
    }
   ],
   "source": [
    "type(df.to_numpy())"
   ]
  },
  {
   "cell_type": "code",
   "execution_count": 5,
   "id": "45b096bc-e11a-49ec-ab43-b0a9caccd41a",
   "metadata": {},
   "outputs": [
    {
     "data": {
      "text/plain": [
       "dtype('O')"
      ]
     },
     "execution_count": 5,
     "metadata": {},
     "output_type": "execute_result"
    }
   ],
   "source": [
    "df.to_numpy().dtype"
   ]
  },
  {
   "cell_type": "code",
   "execution_count": 6,
   "id": "550d8f0a-9bdc-4a24-90fc-0b627bcc585a",
   "metadata": {},
   "outputs": [
    {
     "data": {
      "text/plain": [
       "array([['Liver', 89],\n",
       "       ['Arry', 55],\n",
       "       ['Ack', 57],\n",
       "       ['Eorge', 93],\n",
       "       ['Oah', 93],\n",
       "       ['Harlie', 24]], dtype=object)"
      ]
     },
     "execution_count": 6,
     "metadata": {},
     "output_type": "execute_result"
    }
   ],
   "source": [
    "# 转换指定的列\n",
    "df[['name','Q1']].to_numpy()"
   ]
  },
  {
   "cell_type": "markdown",
   "id": "80562c73-500d-4806-b73d-d3476cf3c04b",
   "metadata": {},
   "source": [
    "# 10.5.3 Series转为ndarray"
   ]
  },
  {
   "cell_type": "code",
   "execution_count": 7,
   "id": "c02abdaf-b27e-4dad-bfbc-de4936979fe8",
   "metadata": {},
   "outputs": [
    {
     "data": {
      "text/plain": [
       "0    89\n",
       "1    55\n",
       "2    57\n",
       "3    93\n",
       "4    93\n",
       "5    24\n",
       "Name: Q1, dtype: int64"
      ]
     },
     "execution_count": 7,
     "metadata": {},
     "output_type": "execute_result"
    }
   ],
   "source": [
    "df.Q1"
   ]
  },
  {
   "cell_type": "code",
   "execution_count": 8,
   "id": "3fdfffde-806a-4386-87de-b39f296f2b60",
   "metadata": {},
   "outputs": [
    {
     "data": {
      "text/plain": [
       "array([89, 55, 57, 93, 93, 24])"
      ]
     },
     "execution_count": 8,
     "metadata": {},
     "output_type": "execute_result"
    }
   ],
   "source": [
    "df.Q1.to_numpy()"
   ]
  },
  {
   "cell_type": "code",
   "execution_count": 9,
   "id": "38bc7e85-f409-4e3b-9630-c2afced1e0cc",
   "metadata": {},
   "outputs": [
    {
     "data": {
      "text/plain": [
       "numpy.ndarray"
      ]
     },
     "execution_count": 9,
     "metadata": {},
     "output_type": "execute_result"
    }
   ],
   "source": [
    "type(df.Q1.to_numpy())"
   ]
  },
  {
   "cell_type": "code",
   "execution_count": 10,
   "id": "697691f1-3e01-4059-8ace-4b96a008975f",
   "metadata": {},
   "outputs": [
    {
     "data": {
      "text/plain": [
       "dtype('int64')"
      ]
     },
     "execution_count": 10,
     "metadata": {},
     "output_type": "execute_result"
    }
   ],
   "source": [
    "df.Q1.to_numpy().dtype"
   ]
  },
  {
   "cell_type": "markdown",
   "id": "e9f3f7b2-070e-4c33-972a-4f604a4c92d8",
   "metadata": {},
   "source": [
    "# 10.5.4 df.to_records()"
   ]
  },
  {
   "cell_type": "code",
   "execution_count": 11,
   "id": "eea5cc48-a693-42dc-828d-efb3a11bff72",
   "metadata": {},
   "outputs": [
    {
     "data": {
      "text/html": [
       "<div>\n",
       "<style scoped>\n",
       "    .dataframe tbody tr th:only-of-type {\n",
       "        vertical-align: middle;\n",
       "    }\n",
       "\n",
       "    .dataframe tbody tr th {\n",
       "        vertical-align: top;\n",
       "    }\n",
       "\n",
       "    .dataframe thead th {\n",
       "        text-align: right;\n",
       "    }\n",
       "</style>\n",
       "<table border=\"1\" class=\"dataframe\">\n",
       "  <thead>\n",
       "    <tr style=\"text-align: right;\">\n",
       "      <th></th>\n",
       "      <th>name</th>\n",
       "      <th>team</th>\n",
       "      <th>Q1</th>\n",
       "      <th>Q2</th>\n",
       "      <th>Q3</th>\n",
       "      <th>Q4</th>\n",
       "      <th>1city</th>\n",
       "      <th>what color</th>\n",
       "    </tr>\n",
       "  </thead>\n",
       "  <tbody>\n",
       "    <tr>\n",
       "      <th>0</th>\n",
       "      <td>Liver</td>\n",
       "      <td>E</td>\n",
       "      <td>89</td>\n",
       "      <td>21</td>\n",
       "      <td>24</td>\n",
       "      <td>1</td>\n",
       "      <td>shanghai</td>\n",
       "      <td>yellew</td>\n",
       "    </tr>\n",
       "    <tr>\n",
       "      <th>1</th>\n",
       "      <td>Arry</td>\n",
       "      <td>C</td>\n",
       "      <td>55</td>\n",
       "      <td>37</td>\n",
       "      <td>37</td>\n",
       "      <td>2</td>\n",
       "      <td>nanjin</td>\n",
       "      <td>red</td>\n",
       "    </tr>\n",
       "    <tr>\n",
       "      <th>2</th>\n",
       "      <td>Ack</td>\n",
       "      <td>A</td>\n",
       "      <td>57</td>\n",
       "      <td>60</td>\n",
       "      <td>33</td>\n",
       "      <td>3</td>\n",
       "      <td>beijin</td>\n",
       "      <td>purple</td>\n",
       "    </tr>\n",
       "    <tr>\n",
       "      <th>3</th>\n",
       "      <td>Eorge</td>\n",
       "      <td>C</td>\n",
       "      <td>93</td>\n",
       "      <td>4</td>\n",
       "      <td>71</td>\n",
       "      <td>4</td>\n",
       "      <td>tianjin</td>\n",
       "      <td>blue</td>\n",
       "    </tr>\n",
       "    <tr>\n",
       "      <th>4</th>\n",
       "      <td>Oah</td>\n",
       "      <td>D</td>\n",
       "      <td>93</td>\n",
       "      <td>49</td>\n",
       "      <td>44</td>\n",
       "      <td>5</td>\n",
       "      <td>henan</td>\n",
       "      <td>black</td>\n",
       "    </tr>\n",
       "    <tr>\n",
       "      <th>5</th>\n",
       "      <td>Harlie</td>\n",
       "      <td>C</td>\n",
       "      <td>24</td>\n",
       "      <td>13</td>\n",
       "      <td>87</td>\n",
       "      <td>6</td>\n",
       "      <td>hebei</td>\n",
       "      <td>pink</td>\n",
       "    </tr>\n",
       "  </tbody>\n",
       "</table>\n",
       "</div>"
      ],
      "text/plain": [
       "     name team  Q1  Q2  Q3  Q4     1city what color\n",
       "0   Liver    E  89  21  24   1  shanghai     yellew\n",
       "1    Arry    C  55  37  37   2    nanjin        red\n",
       "2     Ack    A  57  60  33   3    beijin     purple\n",
       "3   Eorge    C  93   4  71   4   tianjin       blue\n",
       "4     Oah    D  93  49  44   5     henan      black\n",
       "5  Harlie    C  24  13  87   6     hebei       pink"
      ]
     },
     "execution_count": 11,
     "metadata": {},
     "output_type": "execute_result"
    }
   ],
   "source": [
    "df"
   ]
  },
  {
   "cell_type": "code",
   "execution_count": 12,
   "id": "ae199875-cfdd-46b7-b785-fd110ced4b1c",
   "metadata": {},
   "outputs": [
    {
     "data": {
      "text/plain": [
       "rec.array([(0, 'Liver', 'E', 89, 21, 24, 1, 'shanghai', 'yellew'),\n",
       "           (1, 'Arry', 'C', 55, 37, 37, 2, 'nanjin', 'red'),\n",
       "           (2, 'Ack', 'A', 57, 60, 33, 3, 'beijin', 'purple'),\n",
       "           (3, 'Eorge', 'C', 93,  4, 71, 4, 'tianjin', 'blue'),\n",
       "           (4, 'Oah', 'D', 93, 49, 44, 5, 'henan', 'black'),\n",
       "           (5, 'Harlie', 'C', 24, 13, 87, 6, 'hebei', 'pink')],\n",
       "          dtype=[('index', '<i8'), ('name', 'O'), ('team', 'O'), ('Q1', '<i8'), ('Q2', '<i8'), ('Q3', '<i8'), ('Q4', '<i8'), ('1city', 'O'), ('what color', 'O')])"
      ]
     },
     "execution_count": 12,
     "metadata": {},
     "output_type": "execute_result"
    }
   ],
   "source": [
    "# 将数据转为numpy的record array类型，然后再用numpy的np.array读取，转为array类型\n",
    "df.to_records()"
   ]
  },
  {
   "cell_type": "markdown",
   "id": "44679cf0-da3b-4c16-bd08-de7d1235d7e1",
   "metadata": {},
   "source": [
    "# 10.5.5 np.array读取"
   ]
  },
  {
   "cell_type": "code",
   "execution_count": 14,
   "id": "cc67f196-ab61-4a49-b976-3bc83be0ffe1",
   "metadata": {},
   "outputs": [
    {
     "data": {
      "text/plain": [
       "array([['Liver', 'E', 89, 21, 24, 1, 'shanghai', 'yellew'],\n",
       "       ['Arry', 'C', 55, 37, 37, 2, 'nanjin', 'red'],\n",
       "       ['Ack', 'A', 57, 60, 33, 3, 'beijin', 'purple'],\n",
       "       ['Eorge', 'C', 93, 4, 71, 4, 'tianjin', 'blue'],\n",
       "       ['Oah', 'D', 93, 49, 44, 5, 'henan', 'black'],\n",
       "       ['Harlie', 'C', 24, 13, 87, 6, 'hebei', 'pink']], dtype=object)"
      ]
     },
     "execution_count": 14,
     "metadata": {},
     "output_type": "execute_result"
    }
   ],
   "source": [
    "import numpy as np\n",
    "np.array(df)"
   ]
  },
  {
   "cell_type": "code",
   "execution_count": 15,
   "id": "ca0755fd-9202-4bbb-a8a4-8dcd5d361e3f",
   "metadata": {},
   "outputs": [
    {
     "data": {
      "text/plain": [
       "array([89, 55, 57, 93, 93, 24])"
      ]
     },
     "execution_count": 15,
     "metadata": {},
     "output_type": "execute_result"
    }
   ],
   "source": [
    "np.array(df.Q1)"
   ]
  },
  {
   "cell_type": "code",
   "execution_count": 16,
   "id": "e0c0c218-9fa5-40c3-b79d-fe8caf180a22",
   "metadata": {},
   "outputs": [
    {
     "data": {
      "text/plain": [
       "array([89, 55, 57, 93, 93, 24])"
      ]
     },
     "execution_count": 16,
     "metadata": {},
     "output_type": "execute_result"
    }
   ],
   "source": [
    "np.array(df.Q1.array)"
   ]
  },
  {
   "cell_type": "code",
   "execution_count": 17,
   "id": "b2dbcd61-0288-46eb-b070-a147457bb835",
   "metadata": {},
   "outputs": [
    {
     "data": {
      "text/plain": [
       "array([[(0, 'Liver', 'E', 89, 21, 24, 1, 'shanghai', 'yellew'),\n",
       "        (1, 'Arry', 'C', 55, 37, 37, 2, 'nanjin', 'red'),\n",
       "        (2, 'Ack', 'A', 57, 60, 33, 3, 'beijin', 'purple'),\n",
       "        (3, 'Eorge', 'C', 93,  4, 71, 4, 'tianjin', 'blue'),\n",
       "        (4, 'Oah', 'D', 93, 49, 44, 5, 'henan', 'black'),\n",
       "        (5, 'Harlie', 'C', 24, 13, 87, 6, 'hebei', 'pink')]],\n",
       "      dtype=(numpy.record, [('index', '<i8'), ('name', 'O'), ('team', 'O'), ('Q1', '<i8'), ('Q2', '<i8'), ('Q3', '<i8'), ('Q4', '<i8'), ('1city', 'O'), ('what color', 'O')]))"
      ]
     },
     "execution_count": 17,
     "metadata": {},
     "output_type": "execute_result"
    }
   ],
   "source": [
    "np.array(df.to_records().view(type=np.matrix))"
   ]
  },
  {
   "cell_type": "code",
   "execution_count": null,
   "id": "c5841687-69e8-432c-b8f2-7984f0aa4be4",
   "metadata": {},
   "outputs": [],
   "source": []
  }
 ],
 "metadata": {
  "kernelspec": {
   "display_name": "Python 3 (ipykernel)",
   "language": "python",
   "name": "python3"
  },
  "language_info": {
   "codemirror_mode": {
    "name": "ipython",
    "version": 3
   },
   "file_extension": ".py",
   "mimetype": "text/x-python",
   "name": "python",
   "nbconvert_exporter": "python",
   "pygments_lexer": "ipython3",
   "version": "3.8.16"
  }
 },
 "nbformat": 4,
 "nbformat_minor": 5
}
