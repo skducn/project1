{
 "cells": [
  {
   "cell_type": "code",
   "execution_count": 59,
   "id": "8cc917dc-ed7a-498b-a9b0-fe6051910fee",
   "metadata": {},
   "outputs": [],
   "source": [
    "import pandas as pd, numpy as np"
   ]
  },
  {
   "cell_type": "markdown",
   "id": "7f096ae5-de0f-4729-bbbe-00359ad0b81b",
   "metadata": {},
   "source": [
    "# 8.2.1 生成数据"
   ]
  },
  {
   "cell_type": "code",
   "execution_count": 60,
   "id": "4c1c32a2-2927-4d52-9b49-7c2990e27a19",
   "metadata": {},
   "outputs": [
    {
     "data": {
      "text/html": [
       "<div>\n",
       "<style scoped>\n",
       "    .dataframe tbody tr th:only-of-type {\n",
       "        vertical-align: middle;\n",
       "    }\n",
       "\n",
       "    .dataframe tbody tr th {\n",
       "        vertical-align: top;\n",
       "    }\n",
       "\n",
       "    .dataframe thead tr th {\n",
       "        text-align: left;\n",
       "    }\n",
       "\n",
       "    .dataframe thead tr:last-of-type th {\n",
       "        text-align: right;\n",
       "    }\n",
       "</style>\n",
       "<table border=\"1\" class=\"dataframe\">\n",
       "  <thead>\n",
       "    <tr>\n",
       "      <th></th>\n",
       "      <th>年份</th>\n",
       "      <th colspan=\"2\" halign=\"left\">2019</th>\n",
       "      <th colspan=\"2\" halign=\"left\">2020</th>\n",
       "    </tr>\n",
       "    <tr>\n",
       "      <th></th>\n",
       "      <th>学期</th>\n",
       "      <th>上半年</th>\n",
       "      <th>下半年</th>\n",
       "      <th>上半年</th>\n",
       "      <th>下半年</th>\n",
       "    </tr>\n",
       "    <tr>\n",
       "      <th>班级</th>\n",
       "      <th>性别</th>\n",
       "      <th></th>\n",
       "      <th></th>\n",
       "      <th></th>\n",
       "      <th></th>\n",
       "    </tr>\n",
       "  </thead>\n",
       "  <tbody>\n",
       "    <tr>\n",
       "      <th rowspan=\"2\" valign=\"top\">1</th>\n",
       "      <th>男</th>\n",
       "      <td>88</td>\n",
       "      <td>89</td>\n",
       "      <td>88</td>\n",
       "      <td>89</td>\n",
       "    </tr>\n",
       "    <tr>\n",
       "      <th>女</th>\n",
       "      <td>77</td>\n",
       "      <td>88</td>\n",
       "      <td>97</td>\n",
       "      <td>98</td>\n",
       "    </tr>\n",
       "    <tr>\n",
       "      <th rowspan=\"2\" valign=\"top\">2</th>\n",
       "      <th>男</th>\n",
       "      <td>67</td>\n",
       "      <td>89</td>\n",
       "      <td>74</td>\n",
       "      <td>58</td>\n",
       "    </tr>\n",
       "    <tr>\n",
       "      <th>女</th>\n",
       "      <td>34</td>\n",
       "      <td>67</td>\n",
       "      <td>89</td>\n",
       "      <td>54</td>\n",
       "    </tr>\n",
       "  </tbody>\n",
       "</table>\n",
       "</div>"
      ],
      "text/plain": [
       "年份    2019     2020    \n",
       "学期     上半年 下半年  上半年 下半年\n",
       "班级 性别                  \n",
       "1  男    88  89   88  89\n",
       "   女    77  88   97  98\n",
       "2  男    67  89   74  58\n",
       "   女    34  67   89  54"
      ]
     },
     "execution_count": 60,
     "metadata": {},
     "output_type": "execute_result"
    }
   ],
   "source": [
    "i_arr = [[1,1,2,2],['男','女','男','女']]\n",
    "c_arr = [['2019','2019','2020','2020'], ['上半年','下半年','上半年','下半年']]\n",
    "# 索引和列名转换为多层\n",
    "index = pd.MultiIndex.from_arrays(i_arr, names=('班级','性别'))\n",
    "columns = pd.MultiIndex.from_arrays(c_arr, names=('年份','学期'))\n",
    "df = pd.DataFrame([(88,89,88,89),(77,88,97,98),(67,89,74,58),(34,67,89,54)], columns=columns, index=index)\n",
    "df"
   ]
  },
  {
   "cell_type": "markdown",
   "id": "ff10f1f9-514c-41b3-961b-d91e30ae2aed",
   "metadata": {},
   "source": [
    "# 8.2.2 索引信息"
   ]
  },
  {
   "cell_type": "code",
   "execution_count": 61,
   "id": "e9fe6ed6-bb86-4503-9252-462dfebaf15c",
   "metadata": {},
   "outputs": [
    {
     "data": {
      "text/plain": [
       "MultiIndex([(1, '男'),\n",
       "            (1, '女'),\n",
       "            (2, '男'),\n",
       "            (2, '女')],\n",
       "           names=['班级', '性别'])"
      ]
     },
     "execution_count": 61,
     "metadata": {},
     "output_type": "execute_result"
    }
   ],
   "source": [
    "df.index"
   ]
  },
  {
   "cell_type": "code",
   "execution_count": 62,
   "id": "cfbb8173-7394-4c54-939d-6a5488f23b0d",
   "metadata": {},
   "outputs": [
    {
     "data": {
      "text/plain": [
       "MultiIndex([('2019', '上半年'),\n",
       "            ('2019', '下半年'),\n",
       "            ('2020', '上半年'),\n",
       "            ('2020', '下半年')],\n",
       "           names=['年份', '学期'])"
      ]
     },
     "execution_count": 62,
     "metadata": {},
     "output_type": "execute_result"
    }
   ],
   "source": [
    "df.columns"
   ]
  },
  {
   "cell_type": "code",
   "execution_count": 63,
   "id": "9d27f0fa-0f84-4b9b-9054-bcff9ba2905c",
   "metadata": {},
   "outputs": [
    {
     "data": {
      "text/plain": [
       "FrozenList(['班级', '性别'])"
      ]
     },
     "execution_count": 63,
     "metadata": {},
     "output_type": "execute_result"
    }
   ],
   "source": [
    "df.index.names"
   ]
  },
  {
   "cell_type": "code",
   "execution_count": 64,
   "id": "b42070da-5a57-48b1-bcdc-da0b9358b953",
   "metadata": {},
   "outputs": [
    {
     "data": {
      "text/plain": [
       "FrozenList(['年份', '学期'])"
      ]
     },
     "execution_count": 64,
     "metadata": {},
     "output_type": "execute_result"
    }
   ],
   "source": [
    "df.columns.names"
   ]
  },
  {
   "cell_type": "code",
   "execution_count": 65,
   "id": "5cc4573d-7019-439a-ae21-7a1975014147",
   "metadata": {},
   "outputs": [
    {
     "data": {
      "text/plain": [
       "'学期'"
      ]
     },
     "execution_count": 65,
     "metadata": {},
     "output_type": "execute_result"
    }
   ],
   "source": [
    "df.columns.names[1]"
   ]
  },
  {
   "cell_type": "markdown",
   "id": "13c823c0-c1bc-4c39-85dc-4d6c60eea6ed",
   "metadata": {},
   "source": [
    "# 8.2.3 查看层级"
   ]
  },
  {
   "cell_type": "code",
   "execution_count": 66,
   "id": "9252f4b5-fdf5-4683-b79d-90a5dbe6109d",
   "metadata": {},
   "outputs": [
    {
     "data": {
      "text/plain": [
       "2"
      ]
     },
     "execution_count": 66,
     "metadata": {},
     "output_type": "execute_result"
    }
   ],
   "source": [
    "df.index.nlevels"
   ]
  },
  {
   "cell_type": "code",
   "execution_count": 67,
   "id": "4e4c2655-f36c-43cb-bbc5-35b0fa6f61ab",
   "metadata": {},
   "outputs": [
    {
     "data": {
      "text/plain": [
       "FrozenList([[1, 2], ['女', '男']])"
      ]
     },
     "execution_count": 67,
     "metadata": {},
     "output_type": "execute_result"
    }
   ],
   "source": [
    "df.index.levels"
   ]
  },
  {
   "cell_type": "code",
   "execution_count": 68,
   "id": "c5803edd-9b6e-4066-ae20-8dd492d7b302",
   "metadata": {},
   "outputs": [
    {
     "data": {
      "text/plain": [
       "2"
      ]
     },
     "execution_count": 68,
     "metadata": {},
     "output_type": "execute_result"
    }
   ],
   "source": [
    "df.columns.nlevels"
   ]
  },
  {
   "cell_type": "code",
   "execution_count": 69,
   "id": "c0dc2b4f-4df7-44de-ac77-ede679b2f6bb",
   "metadata": {},
   "outputs": [
    {
     "data": {
      "text/plain": [
       "FrozenList([['2019', '2020'], ['上半年', '下半年']])"
      ]
     },
     "execution_count": 69,
     "metadata": {},
     "output_type": "execute_result"
    }
   ],
   "source": [
    "df.columns.levels"
   ]
  },
  {
   "cell_type": "code",
   "execution_count": 70,
   "id": "11a8344d-65d5-4ac5-965a-eb179c888aa7",
   "metadata": {},
   "outputs": [
    {
     "data": {
      "text/plain": [
       "FrozenList([[1, 2], ['女', '男']])"
      ]
     },
     "execution_count": 70,
     "metadata": {},
     "output_type": "execute_result"
    }
   ],
   "source": [
    "df[['2019','2020']].index.levels"
   ]
  },
  {
   "cell_type": "markdown",
   "id": "6689686a-7a5d-4a71-8fbb-d0e9ff6cbd10",
   "metadata": {},
   "source": [
    "# 8.2.4 索引内容"
   ]
  },
  {
   "cell_type": "code",
   "execution_count": 71,
   "id": "348d2c00-adf4-4b57-8f96-352ad561bdfc",
   "metadata": {},
   "outputs": [
    {
     "data": {
      "text/plain": [
       "Index(['男', '女', '男', '女'], dtype='object', name='性别')"
      ]
     },
     "execution_count": 71,
     "metadata": {},
     "output_type": "execute_result"
    }
   ],
   "source": [
    "# 获取索引第二层内容\n",
    "df.index.get_level_values(1)"
   ]
  },
  {
   "cell_type": "code",
   "execution_count": 72,
   "id": "09a0a79c-e701-4cbb-9280-397c2353fc81",
   "metadata": {},
   "outputs": [
    {
     "data": {
      "text/html": [
       "<div>\n",
       "<style scoped>\n",
       "    .dataframe tbody tr th:only-of-type {\n",
       "        vertical-align: middle;\n",
       "    }\n",
       "\n",
       "    .dataframe tbody tr th {\n",
       "        vertical-align: top;\n",
       "    }\n",
       "\n",
       "    .dataframe thead tr th {\n",
       "        text-align: left;\n",
       "    }\n",
       "\n",
       "    .dataframe thead tr:last-of-type th {\n",
       "        text-align: right;\n",
       "    }\n",
       "</style>\n",
       "<table border=\"1\" class=\"dataframe\">\n",
       "  <thead>\n",
       "    <tr>\n",
       "      <th></th>\n",
       "      <th>年份</th>\n",
       "      <th colspan=\"2\" halign=\"left\">2019</th>\n",
       "      <th colspan=\"2\" halign=\"left\">2020</th>\n",
       "    </tr>\n",
       "    <tr>\n",
       "      <th></th>\n",
       "      <th>学期</th>\n",
       "      <th>上半年</th>\n",
       "      <th>下半年</th>\n",
       "      <th>上半年</th>\n",
       "      <th>下半年</th>\n",
       "    </tr>\n",
       "    <tr>\n",
       "      <th>班级</th>\n",
       "      <th>性别</th>\n",
       "      <th></th>\n",
       "      <th></th>\n",
       "      <th></th>\n",
       "      <th></th>\n",
       "    </tr>\n",
       "  </thead>\n",
       "  <tbody>\n",
       "    <tr>\n",
       "      <th rowspan=\"2\" valign=\"top\">1</th>\n",
       "      <th>男</th>\n",
       "      <td>88</td>\n",
       "      <td>89</td>\n",
       "      <td>88</td>\n",
       "      <td>89</td>\n",
       "    </tr>\n",
       "    <tr>\n",
       "      <th>女</th>\n",
       "      <td>77</td>\n",
       "      <td>88</td>\n",
       "      <td>97</td>\n",
       "      <td>98</td>\n",
       "    </tr>\n",
       "    <tr>\n",
       "      <th rowspan=\"2\" valign=\"top\">2</th>\n",
       "      <th>男</th>\n",
       "      <td>67</td>\n",
       "      <td>89</td>\n",
       "      <td>74</td>\n",
       "      <td>58</td>\n",
       "    </tr>\n",
       "    <tr>\n",
       "      <th>女</th>\n",
       "      <td>34</td>\n",
       "      <td>67</td>\n",
       "      <td>89</td>\n",
       "      <td>54</td>\n",
       "    </tr>\n",
       "  </tbody>\n",
       "</table>\n",
       "</div>"
      ],
      "text/plain": [
       "年份    2019     2020    \n",
       "学期     上半年 下半年  上半年 下半年\n",
       "班级 性别                  \n",
       "1  男    88  89   88  89\n",
       "   女    77  88   97  98\n",
       "2  男    67  89   74  58\n",
       "   女    34  67   89  54"
      ]
     },
     "execution_count": 72,
     "metadata": {},
     "output_type": "execute_result"
    }
   ],
   "source": [
    "df"
   ]
  },
  {
   "cell_type": "code",
   "execution_count": 73,
   "id": "70890646-ed66-4a49-8e81-f5c4bc016110",
   "metadata": {},
   "outputs": [
    {
     "data": {
      "text/plain": [
       "'男'"
      ]
     },
     "execution_count": 73,
     "metadata": {},
     "output_type": "execute_result"
    }
   ],
   "source": [
    "df.index.get_level_values(1)[0]"
   ]
  },
  {
   "cell_type": "code",
   "execution_count": 74,
   "id": "34aec33b-638b-4967-ad6f-fbb0b2a2a2aa",
   "metadata": {},
   "outputs": [
    {
     "data": {
      "text/plain": [
       "FrozenList(['性别'])"
      ]
     },
     "execution_count": 74,
     "metadata": {},
     "output_type": "execute_result"
    }
   ],
   "source": [
    "df.index.get_level_values(1).names"
   ]
  },
  {
   "cell_type": "code",
   "execution_count": 75,
   "id": "901b66f9-2a06-4545-a97b-ccdf7251aebf",
   "metadata": {},
   "outputs": [
    {
     "data": {
      "text/plain": [
       "'性别'"
      ]
     },
     "execution_count": 75,
     "metadata": {},
     "output_type": "execute_result"
    }
   ],
   "source": [
    "df.index.get_level_values(1).names[0]"
   ]
  },
  {
   "cell_type": "code",
   "execution_count": 76,
   "id": "e784ce99-4846-4154-b6bc-a5cfbe5fa955",
   "metadata": {},
   "outputs": [
    {
     "data": {
      "text/plain": [
       "Index(['2019', '2019', '2020', '2020'], dtype='object', name='年份')"
      ]
     },
     "execution_count": 76,
     "metadata": {},
     "output_type": "execute_result"
    }
   ],
   "source": [
    "#获取列索引第一层内容\n",
    "df.columns.get_level_values(0)"
   ]
  },
  {
   "cell_type": "code",
   "execution_count": 77,
   "id": "45b02666-f776-4683-aba5-1358ae21ab93",
   "metadata": {},
   "outputs": [
    {
     "data": {
      "text/plain": [
       "Int64Index([1, 1, 2, 2], dtype='int64', name='班级')"
      ]
     },
     "execution_count": 77,
     "metadata": {},
     "output_type": "execute_result"
    }
   ],
   "source": [
    "df.index.get_level_values('班级')"
   ]
  },
  {
   "cell_type": "markdown",
   "id": "a7cb5e50-8a35-4fb9-805a-34620aa4f173",
   "metadata": {},
   "source": [
    "# 8.2.5 排序"
   ]
  },
  {
   "cell_type": "code",
   "execution_count": 78,
   "id": "4a016131-509d-49c7-aa7f-0402f834f406",
   "metadata": {},
   "outputs": [
    {
     "data": {
      "text/html": [
       "<div>\n",
       "<style scoped>\n",
       "    .dataframe tbody tr th:only-of-type {\n",
       "        vertical-align: middle;\n",
       "    }\n",
       "\n",
       "    .dataframe tbody tr th {\n",
       "        vertical-align: top;\n",
       "    }\n",
       "\n",
       "    .dataframe thead tr th {\n",
       "        text-align: left;\n",
       "    }\n",
       "\n",
       "    .dataframe thead tr:last-of-type th {\n",
       "        text-align: right;\n",
       "    }\n",
       "</style>\n",
       "<table border=\"1\" class=\"dataframe\">\n",
       "  <thead>\n",
       "    <tr>\n",
       "      <th></th>\n",
       "      <th>年份</th>\n",
       "      <th colspan=\"2\" halign=\"left\">2019</th>\n",
       "      <th colspan=\"2\" halign=\"left\">2020</th>\n",
       "    </tr>\n",
       "    <tr>\n",
       "      <th></th>\n",
       "      <th>学期</th>\n",
       "      <th>上半年</th>\n",
       "      <th>下半年</th>\n",
       "      <th>上半年</th>\n",
       "      <th>下半年</th>\n",
       "    </tr>\n",
       "    <tr>\n",
       "      <th>班级</th>\n",
       "      <th>性别</th>\n",
       "      <th></th>\n",
       "      <th></th>\n",
       "      <th></th>\n",
       "      <th></th>\n",
       "    </tr>\n",
       "  </thead>\n",
       "  <tbody>\n",
       "    <tr>\n",
       "      <th>2</th>\n",
       "      <th>女</th>\n",
       "      <td>34</td>\n",
       "      <td>67</td>\n",
       "      <td>89</td>\n",
       "      <td>54</td>\n",
       "    </tr>\n",
       "    <tr>\n",
       "      <th>1</th>\n",
       "      <th>女</th>\n",
       "      <td>77</td>\n",
       "      <td>88</td>\n",
       "      <td>97</td>\n",
       "      <td>98</td>\n",
       "    </tr>\n",
       "    <tr>\n",
       "      <th>2</th>\n",
       "      <th>男</th>\n",
       "      <td>67</td>\n",
       "      <td>89</td>\n",
       "      <td>74</td>\n",
       "      <td>58</td>\n",
       "    </tr>\n",
       "    <tr>\n",
       "      <th>1</th>\n",
       "      <th>男</th>\n",
       "      <td>88</td>\n",
       "      <td>89</td>\n",
       "      <td>88</td>\n",
       "      <td>89</td>\n",
       "    </tr>\n",
       "  </tbody>\n",
       "</table>\n",
       "</div>"
      ],
      "text/plain": [
       "年份    2019     2020    \n",
       "学期     上半年 下半年  上半年 下半年\n",
       "班级 性别                  \n",
       "2  女    34  67   89  54\n",
       "1  女    77  88   97  98\n",
       "2  男    67  89   74  58\n",
       "1  男    88  89   88  89"
      ]
     },
     "execution_count": 78,
     "metadata": {},
     "output_type": "execute_result"
    }
   ],
   "source": [
    "# 对性别，2020，下半年进行排序\n",
    "df.sort_values(by=['性别',('2020','下半年')])"
   ]
  },
  {
   "cell_type": "code",
   "execution_count": 79,
   "id": "2cda3217-15c5-4613-8b9a-69e44b68e8cf",
   "metadata": {},
   "outputs": [
    {
     "data": {
      "text/html": [
       "<div>\n",
       "<style scoped>\n",
       "    .dataframe tbody tr th:only-of-type {\n",
       "        vertical-align: middle;\n",
       "    }\n",
       "\n",
       "    .dataframe tbody tr th {\n",
       "        vertical-align: top;\n",
       "    }\n",
       "\n",
       "    .dataframe thead tr th {\n",
       "        text-align: left;\n",
       "    }\n",
       "\n",
       "    .dataframe thead tr:last-of-type th {\n",
       "        text-align: right;\n",
       "    }\n",
       "</style>\n",
       "<table border=\"1\" class=\"dataframe\">\n",
       "  <thead>\n",
       "    <tr>\n",
       "      <th></th>\n",
       "      <th>年份</th>\n",
       "      <th colspan=\"2\" halign=\"left\">2019</th>\n",
       "      <th colspan=\"2\" halign=\"left\">2020</th>\n",
       "    </tr>\n",
       "    <tr>\n",
       "      <th></th>\n",
       "      <th>学期</th>\n",
       "      <th>上半年</th>\n",
       "      <th>下半年</th>\n",
       "      <th>上半年</th>\n",
       "      <th>下半年</th>\n",
       "    </tr>\n",
       "    <tr>\n",
       "      <th>班级</th>\n",
       "      <th>性别</th>\n",
       "      <th></th>\n",
       "      <th></th>\n",
       "      <th></th>\n",
       "      <th></th>\n",
       "    </tr>\n",
       "  </thead>\n",
       "  <tbody>\n",
       "    <tr>\n",
       "      <th>1</th>\n",
       "      <th>女</th>\n",
       "      <td>77</td>\n",
       "      <td>88</td>\n",
       "      <td>97</td>\n",
       "      <td>98</td>\n",
       "    </tr>\n",
       "    <tr>\n",
       "      <th>2</th>\n",
       "      <th>女</th>\n",
       "      <td>34</td>\n",
       "      <td>67</td>\n",
       "      <td>89</td>\n",
       "      <td>54</td>\n",
       "    </tr>\n",
       "    <tr>\n",
       "      <th>1</th>\n",
       "      <th>男</th>\n",
       "      <td>88</td>\n",
       "      <td>89</td>\n",
       "      <td>88</td>\n",
       "      <td>89</td>\n",
       "    </tr>\n",
       "    <tr>\n",
       "      <th>2</th>\n",
       "      <th>男</th>\n",
       "      <td>67</td>\n",
       "      <td>89</td>\n",
       "      <td>74</td>\n",
       "      <td>58</td>\n",
       "    </tr>\n",
       "  </tbody>\n",
       "</table>\n",
       "</div>"
      ],
      "text/plain": [
       "年份    2019     2020    \n",
       "学期     上半年 下半年  上半年 下半年\n",
       "班级 性别                  \n",
       "1  女    77  88   97  98\n",
       "2  女    34  67   89  54\n",
       "1  男    88  89   88  89\n",
       "2  男    67  89   74  58"
      ]
     },
     "execution_count": 79,
     "metadata": {},
     "output_type": "execute_result"
    }
   ],
   "source": [
    "df.sort_values(by=['性别'])"
   ]
  },
  {
   "cell_type": "code",
   "execution_count": 80,
   "id": "1217b0f4-c9ff-4435-a784-dbf235bc135b",
   "metadata": {},
   "outputs": [
    {
     "data": {
      "text/plain": [
       "MultiIndex([('男', 1),\n",
       "            ('女', 1),\n",
       "            ('男', 2),\n",
       "            ('女', 2)],\n",
       "           names=['性别', '班级'])"
      ]
     },
     "execution_count": 80,
     "metadata": {},
     "output_type": "execute_result"
    }
   ],
   "source": [
    "# 性别与班级互换\n",
    "df.index.reorder_levels([1,0])"
   ]
  },
  {
   "cell_type": "code",
   "execution_count": 81,
   "id": "1331d8c4-983b-456c-86b9-07035a825513",
   "metadata": {},
   "outputs": [
    {
     "data": {
      "text/plain": [
       "MultiIndex([(1, '男'),\n",
       "            (1, '女'),\n",
       "            (2, '男'),\n",
       "            (2, '女')],\n",
       "           names=['班级', '性别'])"
      ]
     },
     "execution_count": 81,
     "metadata": {},
     "output_type": "execute_result"
    }
   ],
   "source": [
    "df.index"
   ]
  },
  {
   "cell_type": "code",
   "execution_count": 82,
   "id": "5df64b3a-0154-4c18-a7ec-51fe61238c29",
   "metadata": {},
   "outputs": [
    {
     "data": {
      "text/plain": [
       "MultiIndex([(1, '男'),\n",
       "            (1, '女'),\n",
       "            (2, '男'),\n",
       "            (2, '女')],\n",
       "           names=['班级', '性别'])"
      ]
     },
     "execution_count": 82,
     "metadata": {},
     "output_type": "execute_result"
    }
   ],
   "source": [
    "df.index.reorder_levels([0,1])"
   ]
  },
  {
   "cell_type": "code",
   "execution_count": 83,
   "id": "f0d9c5ac-15d7-415a-9fb3-d821ab62d73e",
   "metadata": {},
   "outputs": [
    {
     "data": {
      "text/html": [
       "<div>\n",
       "<style scoped>\n",
       "    .dataframe tbody tr th:only-of-type {\n",
       "        vertical-align: middle;\n",
       "    }\n",
       "\n",
       "    .dataframe tbody tr th {\n",
       "        vertical-align: top;\n",
       "    }\n",
       "\n",
       "    .dataframe thead tr th {\n",
       "        text-align: left;\n",
       "    }\n",
       "\n",
       "    .dataframe thead tr:last-of-type th {\n",
       "        text-align: right;\n",
       "    }\n",
       "</style>\n",
       "<table border=\"1\" class=\"dataframe\">\n",
       "  <thead>\n",
       "    <tr>\n",
       "      <th></th>\n",
       "      <th>年份</th>\n",
       "      <th colspan=\"2\" halign=\"left\">2019</th>\n",
       "      <th colspan=\"2\" halign=\"left\">2020</th>\n",
       "    </tr>\n",
       "    <tr>\n",
       "      <th></th>\n",
       "      <th>学期</th>\n",
       "      <th>上半年</th>\n",
       "      <th>下半年</th>\n",
       "      <th>上半年</th>\n",
       "      <th>下半年</th>\n",
       "    </tr>\n",
       "    <tr>\n",
       "      <th>班级</th>\n",
       "      <th>性别</th>\n",
       "      <th></th>\n",
       "      <th></th>\n",
       "      <th></th>\n",
       "      <th></th>\n",
       "    </tr>\n",
       "  </thead>\n",
       "  <tbody>\n",
       "    <tr>\n",
       "      <th rowspan=\"2\" valign=\"top\">1</th>\n",
       "      <th>男</th>\n",
       "      <td>88</td>\n",
       "      <td>89</td>\n",
       "      <td>88</td>\n",
       "      <td>89</td>\n",
       "    </tr>\n",
       "    <tr>\n",
       "      <th>女</th>\n",
       "      <td>77</td>\n",
       "      <td>88</td>\n",
       "      <td>97</td>\n",
       "      <td>98</td>\n",
       "    </tr>\n",
       "    <tr>\n",
       "      <th rowspan=\"2\" valign=\"top\">2</th>\n",
       "      <th>男</th>\n",
       "      <td>67</td>\n",
       "      <td>89</td>\n",
       "      <td>74</td>\n",
       "      <td>58</td>\n",
       "    </tr>\n",
       "    <tr>\n",
       "      <th>女</th>\n",
       "      <td>34</td>\n",
       "      <td>67</td>\n",
       "      <td>89</td>\n",
       "      <td>54</td>\n",
       "    </tr>\n",
       "  </tbody>\n",
       "</table>\n",
       "</div>"
      ],
      "text/plain": [
       "年份    2019     2020    \n",
       "学期     上半年 下半年  上半年 下半年\n",
       "班级 性别                  \n",
       "1  男    88  89   88  89\n",
       "   女    77  88   97  98\n",
       "2  男    67  89   74  58\n",
       "   女    34  67   89  54"
      ]
     },
     "execution_count": 83,
     "metadata": {},
     "output_type": "execute_result"
    }
   ],
   "source": [
    "df"
   ]
  },
  {
   "cell_type": "code",
   "execution_count": 85,
   "id": "0cf435ef-4b8d-4b7e-ab48-05151c182cdf",
   "metadata": {},
   "outputs": [
    {
     "ename": "AttributeError",
     "evalue": "'DataFrame' object has no attribute 'set_codes'",
     "output_type": "error",
     "traceback": [
      "\u001b[0;31m---------------------------------------------------------------------------\u001b[0m",
      "\u001b[0;31mAttributeError\u001b[0m                            Traceback (most recent call last)",
      "Cell \u001b[0;32mIn[85], line 1\u001b[0m\n\u001b[0;32m----> 1\u001b[0m \u001b[43mdf\u001b[49m\u001b[38;5;241;43m.\u001b[39;49m\u001b[43mset_codes\u001b[49m([\u001b[38;5;241m1\u001b[39m,\u001b[38;5;241m1\u001b[39m,\u001b[38;5;241m0\u001b[39m,\u001b[38;5;241m0\u001b[39m],level\u001b[38;5;241m=\u001b[39m\u001b[38;5;124m'\u001b[39m\u001b[38;5;124mfoo\u001b[39m\u001b[38;5;124m'\u001b[39m)\n\u001b[1;32m      2\u001b[0m df\u001b[38;5;241m.\u001b[39mindex\u001b[38;5;241m.\u001b[39msortlevel(level\u001b[38;5;241m=\u001b[39m\u001b[38;5;241m0\u001b[39m, ascending\u001b[38;5;241m=\u001b[39m\u001b[38;5;28;01mTrue\u001b[39;00m)\n",
      "File \u001b[0;32m~/miniconda3/envs/py308/lib/python3.8/site-packages/pandas/core/generic.py:5902\u001b[0m, in \u001b[0;36mNDFrame.__getattr__\u001b[0;34m(self, name)\u001b[0m\n\u001b[1;32m   5895\u001b[0m \u001b[38;5;28;01mif\u001b[39;00m (\n\u001b[1;32m   5896\u001b[0m     name \u001b[38;5;129;01mnot\u001b[39;00m \u001b[38;5;129;01min\u001b[39;00m \u001b[38;5;28mself\u001b[39m\u001b[38;5;241m.\u001b[39m_internal_names_set\n\u001b[1;32m   5897\u001b[0m     \u001b[38;5;129;01mand\u001b[39;00m name \u001b[38;5;129;01mnot\u001b[39;00m \u001b[38;5;129;01min\u001b[39;00m \u001b[38;5;28mself\u001b[39m\u001b[38;5;241m.\u001b[39m_metadata\n\u001b[1;32m   5898\u001b[0m     \u001b[38;5;129;01mand\u001b[39;00m name \u001b[38;5;129;01mnot\u001b[39;00m \u001b[38;5;129;01min\u001b[39;00m \u001b[38;5;28mself\u001b[39m\u001b[38;5;241m.\u001b[39m_accessors\n\u001b[1;32m   5899\u001b[0m     \u001b[38;5;129;01mand\u001b[39;00m \u001b[38;5;28mself\u001b[39m\u001b[38;5;241m.\u001b[39m_info_axis\u001b[38;5;241m.\u001b[39m_can_hold_identifiers_and_holds_name(name)\n\u001b[1;32m   5900\u001b[0m ):\n\u001b[1;32m   5901\u001b[0m     \u001b[38;5;28;01mreturn\u001b[39;00m \u001b[38;5;28mself\u001b[39m[name]\n\u001b[0;32m-> 5902\u001b[0m \u001b[38;5;28;01mreturn\u001b[39;00m \u001b[38;5;28;43mobject\u001b[39;49m\u001b[38;5;241;43m.\u001b[39;49m\u001b[38;5;21;43m__getattribute__\u001b[39;49m\u001b[43m(\u001b[49m\u001b[38;5;28;43mself\u001b[39;49m\u001b[43m,\u001b[49m\u001b[43m \u001b[49m\u001b[43mname\u001b[49m\u001b[43m)\u001b[49m\n",
      "\u001b[0;31mAttributeError\u001b[0m: 'DataFrame' object has no attribute 'set_codes'"
     ]
    }
   ],
   "source": [
    "df.set_codes([1,1,0,0],level='foo')"
   ]
  },
  {
   "cell_type": "code",
   "execution_count": 94,
   "id": "053944a3-fee2-4fc1-80e8-1a154c55f5e4",
   "metadata": {},
   "outputs": [
    {
     "data": {
      "text/plain": [
       "(MultiIndex([(1, '女'),\n",
       "             (1, '男'),\n",
       "             (2, '女'),\n",
       "             (2, '男')],\n",
       "            names=['班级', '性别']),\n",
       " array([1, 0, 3, 2]))"
      ]
     },
     "execution_count": 94,
     "metadata": {},
     "output_type": "execute_result"
    }
   ],
   "source": [
    "# 按指定级别排序\n",
    "df.index.sortlevel(level=0, ascending=True)"
   ]
  },
  {
   "cell_type": "code",
   "execution_count": 87,
   "id": "d35d5c6e-c61e-4bbd-88a3-ba9c1da56bf2",
   "metadata": {},
   "outputs": [
    {
     "data": {
      "text/html": [
       "<div>\n",
       "<style scoped>\n",
       "    .dataframe tbody tr th:only-of-type {\n",
       "        vertical-align: middle;\n",
       "    }\n",
       "\n",
       "    .dataframe tbody tr th {\n",
       "        vertical-align: top;\n",
       "    }\n",
       "\n",
       "    .dataframe thead tr th {\n",
       "        text-align: left;\n",
       "    }\n",
       "\n",
       "    .dataframe thead tr:last-of-type th {\n",
       "        text-align: right;\n",
       "    }\n",
       "</style>\n",
       "<table border=\"1\" class=\"dataframe\">\n",
       "  <thead>\n",
       "    <tr>\n",
       "      <th></th>\n",
       "      <th>年份</th>\n",
       "      <th colspan=\"2\" halign=\"left\">2019</th>\n",
       "      <th colspan=\"2\" halign=\"left\">2020</th>\n",
       "    </tr>\n",
       "    <tr>\n",
       "      <th></th>\n",
       "      <th>学期</th>\n",
       "      <th>上半年</th>\n",
       "      <th>下半年</th>\n",
       "      <th>上半年</th>\n",
       "      <th>下半年</th>\n",
       "    </tr>\n",
       "    <tr>\n",
       "      <th>班级</th>\n",
       "      <th>性别</th>\n",
       "      <th></th>\n",
       "      <th></th>\n",
       "      <th></th>\n",
       "      <th></th>\n",
       "    </tr>\n",
       "  </thead>\n",
       "  <tbody>\n",
       "    <tr>\n",
       "      <th rowspan=\"2\" valign=\"top\">1</th>\n",
       "      <th>男</th>\n",
       "      <td>88</td>\n",
       "      <td>89</td>\n",
       "      <td>88</td>\n",
       "      <td>89</td>\n",
       "    </tr>\n",
       "    <tr>\n",
       "      <th>女</th>\n",
       "      <td>77</td>\n",
       "      <td>88</td>\n",
       "      <td>97</td>\n",
       "      <td>98</td>\n",
       "    </tr>\n",
       "    <tr>\n",
       "      <th rowspan=\"2\" valign=\"top\">2</th>\n",
       "      <th>男</th>\n",
       "      <td>67</td>\n",
       "      <td>89</td>\n",
       "      <td>74</td>\n",
       "      <td>58</td>\n",
       "    </tr>\n",
       "    <tr>\n",
       "      <th>女</th>\n",
       "      <td>34</td>\n",
       "      <td>67</td>\n",
       "      <td>89</td>\n",
       "      <td>54</td>\n",
       "    </tr>\n",
       "  </tbody>\n",
       "</table>\n",
       "</div>"
      ],
      "text/plain": [
       "年份    2019     2020    \n",
       "学期     上半年 下半年  上半年 下半年\n",
       "班级 性别                  \n",
       "1  男    88  89   88  89\n",
       "   女    77  88   97  98\n",
       "2  男    67  89   74  58\n",
       "   女    34  67   89  54"
      ]
     },
     "execution_count": 87,
     "metadata": {},
     "output_type": "execute_result"
    }
   ],
   "source": [
    "df"
   ]
  },
  {
   "cell_type": "code",
   "execution_count": 95,
   "id": "04213a03-0097-4ee0-9b40-cf393a9e9a58",
   "metadata": {},
   "outputs": [
    {
     "data": {
      "text/plain": [
       "(MultiIndex([(2, '女'),\n",
       "             (2, '男'),\n",
       "             (1, '女'),\n",
       "             (1, '男')],\n",
       "            names=['班级', '性别']),\n",
       " array([3, 2, 1, 0]))"
      ]
     },
     "execution_count": 95,
     "metadata": {},
     "output_type": "execute_result"
    }
   ],
   "source": [
    "# 更换顺序\n",
    "df.index.reindex(df.index[::-1])"
   ]
  },
  {
   "cell_type": "markdown",
   "id": "5266270c-e65a-403e-9559-b43aa438b71c",
   "metadata": {},
   "source": [
    "# 8.2.6 其他操作"
   ]
  },
  {
   "cell_type": "code",
   "execution_count": null,
   "id": "3aa0c563-b671-4779-a4ef-47079424076f",
   "metadata": {},
   "outputs": [],
   "source": []
  }
 ],
 "metadata": {
  "kernelspec": {
   "display_name": "Python 3 (ipykernel)",
   "language": "python",
   "name": "python3"
  },
  "language_info": {
   "codemirror_mode": {
    "name": "ipython",
    "version": 3
   },
   "file_extension": ".py",
   "mimetype": "text/x-python",
   "name": "python",
   "nbconvert_exporter": "python",
   "pygments_lexer": "ipython3",
   "version": "3.8.16"
  }
 },
 "nbformat": 4,
 "nbformat_minor": 5
}
