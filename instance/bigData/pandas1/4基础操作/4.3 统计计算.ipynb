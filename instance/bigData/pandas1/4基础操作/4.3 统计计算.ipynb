{
 "cells": [
  {
   "cell_type": "code",
   "execution_count": 1,
   "id": "544d0d98",
   "metadata": {},
   "outputs": [],
   "source": [
    "import pandas as pd\n",
    "\n",
    "# pandas的描述性统计"
   ]
  },
  {
   "cell_type": "code",
   "execution_count": null,
   "id": "c55b1403",
   "metadata": {},
   "outputs": [],
   "source": []
  },
  {
   "cell_type": "markdown",
   "id": "1132a704",
   "metadata": {},
   "source": [
    "# 4.3 统计计算"
   ]
  },
  {
   "cell_type": "code",
   "execution_count": 2,
   "id": "dce52692",
   "metadata": {},
   "outputs": [
    {
     "data": {
      "text/html": [
       "<div>\n",
       "<style scoped>\n",
       "    .dataframe tbody tr th:only-of-type {\n",
       "        vertical-align: middle;\n",
       "    }\n",
       "\n",
       "    .dataframe tbody tr th {\n",
       "        vertical-align: top;\n",
       "    }\n",
       "\n",
       "    .dataframe thead th {\n",
       "        text-align: right;\n",
       "    }\n",
       "</style>\n",
       "<table border=\"1\" class=\"dataframe\">\n",
       "  <thead>\n",
       "    <tr style=\"text-align: right;\">\n",
       "      <th></th>\n",
       "      <th>team</th>\n",
       "      <th>Q1</th>\n",
       "      <th>Q2</th>\n",
       "      <th>Q3</th>\n",
       "      <th>Q4</th>\n",
       "    </tr>\n",
       "    <tr>\n",
       "      <th>name</th>\n",
       "      <th></th>\n",
       "      <th></th>\n",
       "      <th></th>\n",
       "      <th></th>\n",
       "      <th></th>\n",
       "    </tr>\n",
       "  </thead>\n",
       "  <tbody>\n",
       "    <tr>\n",
       "      <th>Liver</th>\n",
       "      <td>E</td>\n",
       "      <td>89.0</td>\n",
       "      <td>21</td>\n",
       "      <td>24.0</td>\n",
       "      <td>1</td>\n",
       "    </tr>\n",
       "    <tr>\n",
       "      <th>Arry</th>\n",
       "      <td>C</td>\n",
       "      <td>NaN</td>\n",
       "      <td>37</td>\n",
       "      <td>37.0</td>\n",
       "      <td>2</td>\n",
       "    </tr>\n",
       "    <tr>\n",
       "      <th>Ack</th>\n",
       "      <td>A</td>\n",
       "      <td>57.0</td>\n",
       "      <td>60</td>\n",
       "      <td>NaN</td>\n",
       "      <td>3</td>\n",
       "    </tr>\n",
       "    <tr>\n",
       "      <th>Eorge</th>\n",
       "      <td>C</td>\n",
       "      <td>93.0</td>\n",
       "      <td>4</td>\n",
       "      <td>71.0</td>\n",
       "      <td>4</td>\n",
       "    </tr>\n",
       "    <tr>\n",
       "      <th>Oah</th>\n",
       "      <td>D</td>\n",
       "      <td>93.0</td>\n",
       "      <td>49</td>\n",
       "      <td>NaN</td>\n",
       "      <td>5</td>\n",
       "    </tr>\n",
       "  </tbody>\n",
       "</table>\n",
       "</div>"
      ],
      "text/plain": [
       "      team    Q1  Q2    Q3  Q4\n",
       "name                          \n",
       "Liver    E  89.0  21  24.0   1\n",
       "Arry     C   NaN  37  37.0   2\n",
       "Ack      A  57.0  60   NaN   3\n",
       "Eorge    C  93.0   4  71.0   4\n",
       "Oah      D  93.0  49   NaN   5"
      ]
     },
     "execution_count": 2,
     "metadata": {},
     "output_type": "execute_result"
    }
   ],
   "source": [
    "df = pd.read_excel('team.xlsx',index_col='name')\n",
    "df.head()"
   ]
  },
  {
   "cell_type": "markdown",
   "id": "8f39add2",
   "metadata": {},
   "source": [
    "# 4.3.1 描述统计"
   ]
  },
  {
   "cell_type": "code",
   "execution_count": 3,
   "id": "2021183d",
   "metadata": {},
   "outputs": [
    {
     "data": {
      "text/html": [
       "<div>\n",
       "<style scoped>\n",
       "    .dataframe tbody tr th:only-of-type {\n",
       "        vertical-align: middle;\n",
       "    }\n",
       "\n",
       "    .dataframe tbody tr th {\n",
       "        vertical-align: top;\n",
       "    }\n",
       "\n",
       "    .dataframe thead th {\n",
       "        text-align: right;\n",
       "    }\n",
       "</style>\n",
       "<table border=\"1\" class=\"dataframe\">\n",
       "  <thead>\n",
       "    <tr style=\"text-align: right;\">\n",
       "      <th></th>\n",
       "      <th>Q1</th>\n",
       "      <th>Q2</th>\n",
       "      <th>Q3</th>\n",
       "      <th>Q4</th>\n",
       "    </tr>\n",
       "  </thead>\n",
       "  <tbody>\n",
       "    <tr>\n",
       "      <th>count</th>\n",
       "      <td>99.000000</td>\n",
       "      <td>100.000000</td>\n",
       "      <td>98.000000</td>\n",
       "      <td>100.000000</td>\n",
       "    </tr>\n",
       "    <tr>\n",
       "      <th>mean</th>\n",
       "      <td>49.686869</td>\n",
       "      <td>51.630000</td>\n",
       "      <td>52.938776</td>\n",
       "      <td>50.500000</td>\n",
       "    </tr>\n",
       "    <tr>\n",
       "      <th>std</th>\n",
       "      <td>30.274474</td>\n",
       "      <td>29.910187</td>\n",
       "      <td>26.569037</td>\n",
       "      <td>29.011492</td>\n",
       "    </tr>\n",
       "    <tr>\n",
       "      <th>min</th>\n",
       "      <td>1.000000</td>\n",
       "      <td>1.000000</td>\n",
       "      <td>1.000000</td>\n",
       "      <td>1.000000</td>\n",
       "    </tr>\n",
       "    <tr>\n",
       "      <th>25%</th>\n",
       "      <td>19.000000</td>\n",
       "      <td>25.750000</td>\n",
       "      <td>30.000000</td>\n",
       "      <td>25.750000</td>\n",
       "    </tr>\n",
       "    <tr>\n",
       "      <th>50%</th>\n",
       "      <td>52.000000</td>\n",
       "      <td>48.500000</td>\n",
       "      <td>55.000000</td>\n",
       "      <td>50.500000</td>\n",
       "    </tr>\n",
       "    <tr>\n",
       "      <th>75%</th>\n",
       "      <td>76.000000</td>\n",
       "      <td>77.000000</td>\n",
       "      <td>76.750000</td>\n",
       "      <td>75.250000</td>\n",
       "    </tr>\n",
       "    <tr>\n",
       "      <th>max</th>\n",
       "      <td>98.000000</td>\n",
       "      <td>99.000000</td>\n",
       "      <td>99.000000</td>\n",
       "      <td>100.000000</td>\n",
       "    </tr>\n",
       "  </tbody>\n",
       "</table>\n",
       "</div>"
      ],
      "text/plain": [
       "              Q1          Q2         Q3          Q4\n",
       "count  99.000000  100.000000  98.000000  100.000000\n",
       "mean   49.686869   51.630000  52.938776   50.500000\n",
       "std    30.274474   29.910187  26.569037   29.011492\n",
       "min     1.000000    1.000000   1.000000    1.000000\n",
       "25%    19.000000   25.750000  30.000000   25.750000\n",
       "50%    52.000000   48.500000  55.000000   50.500000\n",
       "75%    76.000000   77.000000  76.750000   75.250000\n",
       "max    98.000000   99.000000  99.000000  100.000000"
      ]
     },
     "execution_count": 3,
     "metadata": {},
     "output_type": "execute_result"
    }
   ],
   "source": [
    "# 1，描述统计（对所有数字列的统计表）\n",
    "# 总数、平均数、方差、最小值、四分位数、最大值。\n",
    "df.describe()"
   ]
  },
  {
   "cell_type": "code",
   "execution_count": 4,
   "id": "2a0ddeac",
   "metadata": {},
   "outputs": [
    {
     "data": {
      "text/plain": [
       "count     8\n",
       "unique    3\n",
       "top       c\n",
       "freq      4\n",
       "dtype: object"
      ]
     },
     "execution_count": 4,
     "metadata": {},
     "output_type": "execute_result"
    }
   ],
   "source": [
    "# 2，描述统计（对非数字列的统计）\n",
    "# 数量、不重复值的数量、最大值（按首字母顺序）、重复字符最多的数量\n",
    "pd.Series(['a','b','c','c','b','c','c','a']).describe()"
   ]
  },
  {
   "cell_type": "code",
   "execution_count": 5,
   "id": "36740bab",
   "metadata": {},
   "outputs": [
    {
     "data": {
      "text/plain": [
       "array([8, 3, 'c', 4], dtype=object)"
      ]
     },
     "execution_count": 5,
     "metadata": {},
     "output_type": "execute_result"
    }
   ],
   "source": [
    "pd.Series(['a','b','c','c','b','c','c','a']).describe().unique()"
   ]
  },
  {
   "cell_type": "code",
   "execution_count": 6,
   "id": "cea176c4-b477-42f1-b440-789093943413",
   "metadata": {},
   "outputs": [
    {
     "data": {
      "text/plain": [
       "'c'"
      ]
     },
     "execution_count": 6,
     "metadata": {},
     "output_type": "execute_result"
    }
   ],
   "source": [
    "pd.Series(['a','b','c','c','b','c','c','a']).describe().unique()[2]"
   ]
  },
  {
   "cell_type": "code",
   "execution_count": 7,
   "id": "6ba91514",
   "metadata": {},
   "outputs": [
    {
     "name": "stderr",
     "output_type": "stream",
     "text": [
      "/var/folders/f7/4z7jtb213fs0mtgbw_0vs2600000gn/T/ipykernel_7522/1209817977.py:2: FutureWarning: Treating datetime data as categorical rather than numeric in `.describe` is deprecated and will be removed in a future version of pandas. Specify `datetime_is_numeric=True` to silence this warning and adopt the future behavior now.\n",
      "  pd.Series(pd.date_range('2000-01-01','2000-05-01')).describe()\n"
     ]
    },
    {
     "data": {
      "text/plain": [
       "count                     122\n",
       "unique                    122\n",
       "top       2000-01-01 00:00:00\n",
       "freq                        1\n",
       "first     2000-01-01 00:00:00\n",
       "last      2000-05-01 00:00:00\n",
       "dtype: object"
      ]
     },
     "execution_count": 7,
     "metadata": {},
     "output_type": "execute_result"
    }
   ],
   "source": [
    "# 3,时间数据的描述\n",
    "pd.Series(pd.date_range('2000-01-01','2000-05-01')).describe()"
   ]
  },
  {
   "cell_type": "code",
   "execution_count": 8,
   "id": "31796507",
   "metadata": {},
   "outputs": [
    {
     "data": {
      "text/html": [
       "<div>\n",
       "<style scoped>\n",
       "    .dataframe tbody tr th:only-of-type {\n",
       "        vertical-align: middle;\n",
       "    }\n",
       "\n",
       "    .dataframe tbody tr th {\n",
       "        vertical-align: top;\n",
       "    }\n",
       "\n",
       "    .dataframe thead th {\n",
       "        text-align: right;\n",
       "    }\n",
       "</style>\n",
       "<table border=\"1\" class=\"dataframe\">\n",
       "  <thead>\n",
       "    <tr style=\"text-align: right;\">\n",
       "      <th></th>\n",
       "      <th>Q1</th>\n",
       "      <th>Q2</th>\n",
       "      <th>Q3</th>\n",
       "      <th>Q4</th>\n",
       "    </tr>\n",
       "  </thead>\n",
       "  <tbody>\n",
       "    <tr>\n",
       "      <th>count</th>\n",
       "      <td>99.000000</td>\n",
       "      <td>100.000000</td>\n",
       "      <td>98.000000</td>\n",
       "      <td>100.000000</td>\n",
       "    </tr>\n",
       "    <tr>\n",
       "      <th>mean</th>\n",
       "      <td>49.686869</td>\n",
       "      <td>51.630000</td>\n",
       "      <td>52.938776</td>\n",
       "      <td>50.500000</td>\n",
       "    </tr>\n",
       "    <tr>\n",
       "      <th>std</th>\n",
       "      <td>30.274474</td>\n",
       "      <td>29.910187</td>\n",
       "      <td>26.569037</td>\n",
       "      <td>29.011492</td>\n",
       "    </tr>\n",
       "    <tr>\n",
       "      <th>min</th>\n",
       "      <td>1.000000</td>\n",
       "      <td>1.000000</td>\n",
       "      <td>1.000000</td>\n",
       "      <td>1.000000</td>\n",
       "    </tr>\n",
       "    <tr>\n",
       "      <th>5%</th>\n",
       "      <td>4.900000</td>\n",
       "      <td>6.850000</td>\n",
       "      <td>12.850000</td>\n",
       "      <td>5.950000</td>\n",
       "    </tr>\n",
       "    <tr>\n",
       "      <th>25%</th>\n",
       "      <td>19.000000</td>\n",
       "      <td>25.750000</td>\n",
       "      <td>30.000000</td>\n",
       "      <td>25.750000</td>\n",
       "    </tr>\n",
       "    <tr>\n",
       "      <th>50%</th>\n",
       "      <td>52.000000</td>\n",
       "      <td>48.500000</td>\n",
       "      <td>55.000000</td>\n",
       "      <td>50.500000</td>\n",
       "    </tr>\n",
       "    <tr>\n",
       "      <th>75%</th>\n",
       "      <td>76.000000</td>\n",
       "      <td>77.000000</td>\n",
       "      <td>76.750000</td>\n",
       "      <td>75.250000</td>\n",
       "    </tr>\n",
       "    <tr>\n",
       "      <th>95%</th>\n",
       "      <td>93.000000</td>\n",
       "      <td>95.050000</td>\n",
       "      <td>91.300000</td>\n",
       "      <td>95.050000</td>\n",
       "    </tr>\n",
       "    <tr>\n",
       "      <th>max</th>\n",
       "      <td>98.000000</td>\n",
       "      <td>99.000000</td>\n",
       "      <td>99.000000</td>\n",
       "      <td>100.000000</td>\n",
       "    </tr>\n",
       "  </tbody>\n",
       "</table>\n",
       "</div>"
      ],
      "text/plain": [
       "              Q1          Q2         Q3          Q4\n",
       "count  99.000000  100.000000  98.000000  100.000000\n",
       "mean   49.686869   51.630000  52.938776   50.500000\n",
       "std    30.274474   29.910187  26.569037   29.011492\n",
       "min     1.000000    1.000000   1.000000    1.000000\n",
       "5%      4.900000    6.850000  12.850000    5.950000\n",
       "25%    19.000000   25.750000  30.000000   25.750000\n",
       "50%    52.000000   48.500000  55.000000   50.500000\n",
       "75%    76.000000   77.000000  76.750000   75.250000\n",
       "95%    93.000000   95.050000  91.300000   95.050000\n",
       "max    98.000000   99.000000  99.000000  100.000000"
      ]
     },
     "execution_count": 8,
     "metadata": {},
     "output_type": "execute_result"
    }
   ],
   "source": [
    "# 4,重新设置四分位数\n",
    "df.describe(percentiles=[.05,.25,.75,.95])"
   ]
  },
  {
   "cell_type": "code",
   "execution_count": 9,
   "id": "7ec793ec",
   "metadata": {},
   "outputs": [],
   "source": [
    "import numpy as np\n",
    "\n",
    "# 报错\n",
    "# df.describe(include=[np.object,np.number]) 指定类型\n",
    "# df.describe(exclude=[np.object]) 排除类型"
   ]
  },
  {
   "cell_type": "markdown",
   "id": "3b1c6f18",
   "metadata": {},
   "source": [
    "# 4.3.2 数学统计"
   ]
  },
  {
   "cell_type": "code",
   "execution_count": 10,
   "id": "0c6ff251",
   "metadata": {},
   "outputs": [
    {
     "data": {
      "text/plain": [
       "49.686868686868685"
      ]
     },
     "execution_count": 10,
     "metadata": {},
     "output_type": "execute_result"
    }
   ],
   "source": [
    "# 1，对单个数字列的描述计算\n",
    "df.Q1.mean()"
   ]
  },
  {
   "cell_type": "code",
   "execution_count": 11,
   "id": "e172f65e",
   "metadata": {},
   "outputs": [],
   "source": [
    "# 报错，因为统计的列中有非数字列，如 name和team，所以必须先对name和team索引\n",
    "# df.Q1.mean(axis='columns')\n",
    "# df.mean(1)"
   ]
  },
  {
   "cell_type": "code",
   "execution_count": 13,
   "id": "e4d43192",
   "metadata": {},
   "outputs": [
    {
     "data": {
      "text/plain": [
       "team  name \n",
       "E     Liver    33.750000\n",
       "C     Arry     25.333333\n",
       "A     Ack      40.000000\n",
       "C     Eorge    43.000000\n",
       "D     Oah      49.000000\n",
       "dtype: float64"
      ]
     },
     "execution_count": 13,
     "metadata": {},
     "output_type": "execute_result"
    }
   ],
   "source": [
    "# 统计前五行Q1-Q4平均值\n",
    "df2 = pd.read_excel('team.xlsx')\n",
    "df2.set_index(['team','name']).mean(1).head()\n",
    "df2.set_index(['team','name']).mean(axis='columns').head() #同上\n",
    "df2.set_index(['team','name']).mean(axis=1).head() #同上"
   ]
  },
  {
   "cell_type": "markdown",
   "id": "30c8cd19",
   "metadata": {},
   "source": [
    "# 4.3.3 统计函数"
   ]
  },
  {
   "cell_type": "code",
   "execution_count": 14,
   "id": "71cbee05",
   "metadata": {},
   "outputs": [],
   "source": [
    "df3 = pd.read_excel('team.xlsx', index_col=[0,1])"
   ]
  },
  {
   "cell_type": "code",
   "execution_count": 15,
   "id": "23b0009b",
   "metadata": {},
   "outputs": [
    {
     "data": {
      "text/plain": [
       "name   team\n",
       "Liver  E       33.750000\n",
       "Arry   C       25.333333\n",
       "Ack    A       40.000000\n",
       "Eorge  C       43.000000\n",
       "Oah    D       49.000000\n",
       "dtype: float64"
      ]
     },
     "execution_count": 15,
     "metadata": {},
     "output_type": "execute_result"
    }
   ],
   "source": [
    "# 1,返回所有行的均值\n",
    "df3.mean(1).head()"
   ]
  },
  {
   "cell_type": "code",
   "execution_count": 16,
   "id": "9c56dbd9",
   "metadata": {},
   "outputs": [
    {
     "data": {
      "text/plain": [
       "Q1    49.686869\n",
       "Q2    51.630000\n",
       "Q3    52.938776\n",
       "Q4    50.500000\n",
       "dtype: float64"
      ]
     },
     "execution_count": 16,
     "metadata": {},
     "output_type": "execute_result"
    }
   ],
   "source": [
    "# 2，返回所有列的均值\n",
    "df3.mean(0).head()"
   ]
  },
  {
   "cell_type": "code",
   "execution_count": 17,
   "id": "085bccf9",
   "metadata": {},
   "outputs": [
    {
     "data": {
      "text/html": [
       "<div>\n",
       "<style scoped>\n",
       "    .dataframe tbody tr th:only-of-type {\n",
       "        vertical-align: middle;\n",
       "    }\n",
       "\n",
       "    .dataframe tbody tr th {\n",
       "        vertical-align: top;\n",
       "    }\n",
       "\n",
       "    .dataframe thead th {\n",
       "        text-align: right;\n",
       "    }\n",
       "</style>\n",
       "<table border=\"1\" class=\"dataframe\">\n",
       "  <thead>\n",
       "    <tr style=\"text-align: right;\">\n",
       "      <th></th>\n",
       "      <th>Q1</th>\n",
       "      <th>Q2</th>\n",
       "      <th>Q3</th>\n",
       "      <th>Q4</th>\n",
       "    </tr>\n",
       "  </thead>\n",
       "  <tbody>\n",
       "    <tr>\n",
       "      <th>Q1</th>\n",
       "      <td>1.000000</td>\n",
       "      <td>0.089783</td>\n",
       "      <td>-0.127946</td>\n",
       "      <td>-0.235339</td>\n",
       "    </tr>\n",
       "    <tr>\n",
       "      <th>Q2</th>\n",
       "      <td>0.089783</td>\n",
       "      <td>1.000000</td>\n",
       "      <td>0.039059</td>\n",
       "      <td>0.089871</td>\n",
       "    </tr>\n",
       "    <tr>\n",
       "      <th>Q3</th>\n",
       "      <td>-0.127946</td>\n",
       "      <td>0.039059</td>\n",
       "      <td>1.000000</td>\n",
       "      <td>-0.018234</td>\n",
       "    </tr>\n",
       "    <tr>\n",
       "      <th>Q4</th>\n",
       "      <td>-0.235339</td>\n",
       "      <td>0.089871</td>\n",
       "      <td>-0.018234</td>\n",
       "      <td>1.000000</td>\n",
       "    </tr>\n",
       "  </tbody>\n",
       "</table>\n",
       "</div>"
      ],
      "text/plain": [
       "          Q1        Q2        Q3        Q4\n",
       "Q1  1.000000  0.089783 -0.127946 -0.235339\n",
       "Q2  0.089783  1.000000  0.039059  0.089871\n",
       "Q3 -0.127946  0.039059  1.000000 -0.018234\n",
       "Q4 -0.235339  0.089871 -0.018234  1.000000"
      ]
     },
     "execution_count": 17,
     "metadata": {},
     "output_type": "execute_result"
    }
   ],
   "source": [
    "# 3, 返回列与列之间的相关系数\n",
    "df3.corr()"
   ]
  },
  {
   "cell_type": "code",
   "execution_count": 19,
   "id": "3cfb768f",
   "metadata": {},
   "outputs": [
    {
     "data": {
      "text/plain": [
       "Q1     99\n",
       "Q2    100\n",
       "Q3     98\n",
       "Q4    100\n",
       "dtype: int64"
      ]
     },
     "execution_count": 19,
     "metadata": {},
     "output_type": "execute_result"
    }
   ],
   "source": [
    "# 统计每列的数量\n",
    "df3.count()"
   ]
  },
  {
   "cell_type": "code",
   "execution_count": 20,
   "id": "54f9c750",
   "metadata": {},
   "outputs": [
    {
     "data": {
      "text/plain": [
       "99"
      ]
     },
     "execution_count": 20,
     "metadata": {},
     "output_type": "execute_result"
    }
   ],
   "source": [
    "df3.count().Q1"
   ]
  },
  {
   "cell_type": "code",
   "execution_count": 22,
   "id": "86052943",
   "metadata": {},
   "outputs": [
    {
     "data": {
      "text/plain": [
       "Q1     98.0\n",
       "Q2     99.0\n",
       "Q3     99.0\n",
       "Q4    100.0\n",
       "dtype: float64"
      ]
     },
     "execution_count": 22,
     "metadata": {},
     "output_type": "execute_result"
    }
   ],
   "source": [
    "# 统计每列最大值\n",
    "df3.max()"
   ]
  },
  {
   "cell_type": "code",
   "execution_count": 23,
   "id": "2f8d63ad",
   "metadata": {},
   "outputs": [
    {
     "data": {
      "text/plain": [
       "Q1    1.0\n",
       "Q2    1.0\n",
       "Q3    1.0\n",
       "Q4    1.0\n",
       "dtype: float64"
      ]
     },
     "execution_count": 23,
     "metadata": {},
     "output_type": "execute_result"
    }
   ],
   "source": [
    "df3.min()"
   ]
  },
  {
   "cell_type": "code",
   "execution_count": 24,
   "id": "572f7efd",
   "metadata": {},
   "outputs": [
    {
     "data": {
      "text/html": [
       "<div>\n",
       "<style scoped>\n",
       "    .dataframe tbody tr th:only-of-type {\n",
       "        vertical-align: middle;\n",
       "    }\n",
       "\n",
       "    .dataframe tbody tr th {\n",
       "        vertical-align: top;\n",
       "    }\n",
       "\n",
       "    .dataframe thead th {\n",
       "        text-align: right;\n",
       "    }\n",
       "</style>\n",
       "<table border=\"1\" class=\"dataframe\">\n",
       "  <thead>\n",
       "    <tr style=\"text-align: right;\">\n",
       "      <th></th>\n",
       "      <th></th>\n",
       "      <th>Q1</th>\n",
       "      <th>Q2</th>\n",
       "      <th>Q3</th>\n",
       "      <th>Q4</th>\n",
       "    </tr>\n",
       "    <tr>\n",
       "      <th>name</th>\n",
       "      <th>team</th>\n",
       "      <th></th>\n",
       "      <th></th>\n",
       "      <th></th>\n",
       "      <th></th>\n",
       "    </tr>\n",
       "  </thead>\n",
       "  <tbody>\n",
       "    <tr>\n",
       "      <th>Liver</th>\n",
       "      <th>E</th>\n",
       "      <td>89.0</td>\n",
       "      <td>21</td>\n",
       "      <td>24.0</td>\n",
       "      <td>1</td>\n",
       "    </tr>\n",
       "    <tr>\n",
       "      <th>Arry</th>\n",
       "      <th>C</th>\n",
       "      <td>NaN</td>\n",
       "      <td>37</td>\n",
       "      <td>37.0</td>\n",
       "      <td>2</td>\n",
       "    </tr>\n",
       "    <tr>\n",
       "      <th>Ack</th>\n",
       "      <th>A</th>\n",
       "      <td>57.0</td>\n",
       "      <td>60</td>\n",
       "      <td>NaN</td>\n",
       "      <td>3</td>\n",
       "    </tr>\n",
       "    <tr>\n",
       "      <th>Eorge</th>\n",
       "      <th>C</th>\n",
       "      <td>93.0</td>\n",
       "      <td>4</td>\n",
       "      <td>71.0</td>\n",
       "      <td>4</td>\n",
       "    </tr>\n",
       "    <tr>\n",
       "      <th>Oah</th>\n",
       "      <th>D</th>\n",
       "      <td>93.0</td>\n",
       "      <td>49</td>\n",
       "      <td>NaN</td>\n",
       "      <td>5</td>\n",
       "    </tr>\n",
       "  </tbody>\n",
       "</table>\n",
       "</div>"
      ],
      "text/plain": [
       "              Q1  Q2    Q3  Q4\n",
       "name  team                    \n",
       "Liver E     89.0  21  24.0   1\n",
       "Arry  C      NaN  37  37.0   2\n",
       "Ack   A     57.0  60   NaN   3\n",
       "Eorge C     93.0   4  71.0   4\n",
       "Oah   D     93.0  49   NaN   5"
      ]
     },
     "execution_count": 24,
     "metadata": {},
     "output_type": "execute_result"
    }
   ],
   "source": [
    "# 绝对值\n",
    "df3.abs().head()"
   ]
  },
  {
   "cell_type": "code",
   "execution_count": 21,
   "id": "021f6cbe",
   "metadata": {},
   "outputs": [
    {
     "data": {
      "text/plain": [
       "Q1    52.0\n",
       "Q2    48.5\n",
       "Q3    55.0\n",
       "Q4    50.5\n",
       "dtype: float64"
      ]
     },
     "execution_count": 21,
     "metadata": {},
     "output_type": "execute_result"
    }
   ],
   "source": [
    "df3.median()"
   ]
  },
  {
   "cell_type": "code",
   "execution_count": 22,
   "id": "f2fadf3f",
   "metadata": {},
   "outputs": [
    {
     "data": {
      "text/plain": [
       "Q1    30.274474\n",
       "Q2    29.910187\n",
       "Q3    26.569037\n",
       "Q4    29.011492\n",
       "dtype: float64"
      ]
     },
     "execution_count": 22,
     "metadata": {},
     "output_type": "execute_result"
    }
   ],
   "source": [
    "df3.std()"
   ]
  },
  {
   "cell_type": "code",
   "execution_count": 23,
   "id": "ff9c1168",
   "metadata": {},
   "outputs": [
    {
     "data": {
      "text/plain": [
       "Q1    916.543805\n",
       "Q2    894.619293\n",
       "Q3    705.913739\n",
       "Q4    841.666667\n",
       "dtype: float64"
      ]
     },
     "execution_count": 23,
     "metadata": {},
     "output_type": "execute_result"
    }
   ],
   "source": [
    "df3.var()"
   ]
  },
  {
   "cell_type": "code",
   "execution_count": 24,
   "id": "ecc141e4",
   "metadata": {},
   "outputs": [
    {
     "data": {
      "text/plain": [
       "Q1    3.042699\n",
       "Q2    2.991019\n",
       "Q3    2.683878\n",
       "Q4    2.901149\n",
       "dtype: float64"
      ]
     },
     "execution_count": 24,
     "metadata": {},
     "output_type": "execute_result"
    }
   ],
   "source": [
    "df3.sem()"
   ]
  },
  {
   "cell_type": "code",
   "execution_count": 25,
   "id": "dc1143d7",
   "metadata": {},
   "outputs": [
    {
     "data": {
      "text/html": [
       "<div>\n",
       "<style scoped>\n",
       "    .dataframe tbody tr th:only-of-type {\n",
       "        vertical-align: middle;\n",
       "    }\n",
       "\n",
       "    .dataframe tbody tr th {\n",
       "        vertical-align: top;\n",
       "    }\n",
       "\n",
       "    .dataframe thead th {\n",
       "        text-align: right;\n",
       "    }\n",
       "</style>\n",
       "<table border=\"1\" class=\"dataframe\">\n",
       "  <thead>\n",
       "    <tr style=\"text-align: right;\">\n",
       "      <th></th>\n",
       "      <th>Q1</th>\n",
       "      <th>Q2</th>\n",
       "      <th>Q3</th>\n",
       "      <th>Q4</th>\n",
       "    </tr>\n",
       "  </thead>\n",
       "  <tbody>\n",
       "    <tr>\n",
       "      <th>0</th>\n",
       "      <td>9.0</td>\n",
       "      <td>34.0</td>\n",
       "      <td>87.0</td>\n",
       "      <td>1</td>\n",
       "    </tr>\n",
       "    <tr>\n",
       "      <th>1</th>\n",
       "      <td>15.0</td>\n",
       "      <td>38.0</td>\n",
       "      <td>NaN</td>\n",
       "      <td>2</td>\n",
       "    </tr>\n",
       "    <tr>\n",
       "      <th>2</th>\n",
       "      <td>NaN</td>\n",
       "      <td>NaN</td>\n",
       "      <td>NaN</td>\n",
       "      <td>3</td>\n",
       "    </tr>\n",
       "    <tr>\n",
       "      <th>3</th>\n",
       "      <td>NaN</td>\n",
       "      <td>NaN</td>\n",
       "      <td>NaN</td>\n",
       "      <td>4</td>\n",
       "    </tr>\n",
       "    <tr>\n",
       "      <th>4</th>\n",
       "      <td>NaN</td>\n",
       "      <td>NaN</td>\n",
       "      <td>NaN</td>\n",
       "      <td>5</td>\n",
       "    </tr>\n",
       "  </tbody>\n",
       "</table>\n",
       "</div>"
      ],
      "text/plain": [
       "     Q1    Q2    Q3  Q4\n",
       "0   9.0  34.0  87.0   1\n",
       "1  15.0  38.0   NaN   2\n",
       "2   NaN   NaN   NaN   3\n",
       "3   NaN   NaN   NaN   4\n",
       "4   NaN   NaN   NaN   5"
      ]
     },
     "execution_count": 25,
     "metadata": {},
     "output_type": "execute_result"
    }
   ],
   "source": [
    "df3.mode().head()"
   ]
  },
  {
   "cell_type": "code",
   "execution_count": 26,
   "id": "e8e28a7a",
   "metadata": {},
   "outputs": [
    {
     "data": {
      "text/plain": [
       "15.0"
      ]
     },
     "execution_count": 26,
     "metadata": {},
     "output_type": "execute_result"
    }
   ],
   "source": [
    "df3.mode().Q1[1]"
   ]
  },
  {
   "cell_type": "code",
   "execution_count": 27,
   "id": "edf08422",
   "metadata": {},
   "outputs": [
    {
     "data": {
      "text/plain": [
       "Q1    3.482066e+153\n",
       "Q2     0.000000e+00\n",
       "Q3    2.894091e+160\n",
       "Q4     0.000000e+00\n",
       "dtype: float64"
      ]
     },
     "execution_count": 27,
     "metadata": {},
     "output_type": "execute_result"
    }
   ],
   "source": [
    "df3.prod()"
   ]
  },
  {
   "cell_type": "code",
   "execution_count": 28,
   "id": "6a85f2f7",
   "metadata": {},
   "outputs": [
    {
     "data": {
      "text/html": [
       "<div>\n",
       "<style scoped>\n",
       "    .dataframe tbody tr th:only-of-type {\n",
       "        vertical-align: middle;\n",
       "    }\n",
       "\n",
       "    .dataframe tbody tr th {\n",
       "        vertical-align: top;\n",
       "    }\n",
       "\n",
       "    .dataframe thead th {\n",
       "        text-align: right;\n",
       "    }\n",
       "</style>\n",
       "<table border=\"1\" class=\"dataframe\">\n",
       "  <thead>\n",
       "    <tr style=\"text-align: right;\">\n",
       "      <th></th>\n",
       "      <th></th>\n",
       "      <th>Q1</th>\n",
       "      <th>Q2</th>\n",
       "      <th>Q3</th>\n",
       "      <th>Q4</th>\n",
       "    </tr>\n",
       "    <tr>\n",
       "      <th>name</th>\n",
       "      <th>team</th>\n",
       "      <th></th>\n",
       "      <th></th>\n",
       "      <th></th>\n",
       "      <th></th>\n",
       "    </tr>\n",
       "  </thead>\n",
       "  <tbody>\n",
       "    <tr>\n",
       "      <th>Liver</th>\n",
       "      <th>E</th>\n",
       "      <td>89.0</td>\n",
       "      <td>21</td>\n",
       "      <td>24.0</td>\n",
       "      <td>1</td>\n",
       "    </tr>\n",
       "    <tr>\n",
       "      <th>Arry</th>\n",
       "      <th>C</th>\n",
       "      <td>NaN</td>\n",
       "      <td>777</td>\n",
       "      <td>888.0</td>\n",
       "      <td>2</td>\n",
       "    </tr>\n",
       "    <tr>\n",
       "      <th>Ack</th>\n",
       "      <th>A</th>\n",
       "      <td>5073.0</td>\n",
       "      <td>46620</td>\n",
       "      <td>NaN</td>\n",
       "      <td>6</td>\n",
       "    </tr>\n",
       "    <tr>\n",
       "      <th>Eorge</th>\n",
       "      <th>C</th>\n",
       "      <td>471789.0</td>\n",
       "      <td>186480</td>\n",
       "      <td>63048.0</td>\n",
       "      <td>24</td>\n",
       "    </tr>\n",
       "    <tr>\n",
       "      <th>Oah</th>\n",
       "      <th>D</th>\n",
       "      <td>43876377.0</td>\n",
       "      <td>9137520</td>\n",
       "      <td>NaN</td>\n",
       "      <td>120</td>\n",
       "    </tr>\n",
       "  </tbody>\n",
       "</table>\n",
       "</div>"
      ],
      "text/plain": [
       "                    Q1       Q2       Q3   Q4\n",
       "name  team                                   \n",
       "Liver E           89.0       21     24.0    1\n",
       "Arry  C            NaN      777    888.0    2\n",
       "Ack   A         5073.0    46620      NaN    6\n",
       "Eorge C       471789.0   186480  63048.0   24\n",
       "Oah   D     43876377.0  9137520      NaN  120"
      ]
     },
     "execution_count": 28,
     "metadata": {},
     "output_type": "execute_result"
    }
   ],
   "source": [
    "df3.cumprod().head()"
   ]
  },
  {
   "cell_type": "code",
   "execution_count": 29,
   "id": "d75cd684",
   "metadata": {},
   "outputs": [
    {
     "data": {
      "text/html": [
       "<div>\n",
       "<style scoped>\n",
       "    .dataframe tbody tr th:only-of-type {\n",
       "        vertical-align: middle;\n",
       "    }\n",
       "\n",
       "    .dataframe tbody tr th {\n",
       "        vertical-align: top;\n",
       "    }\n",
       "\n",
       "    .dataframe thead th {\n",
       "        text-align: right;\n",
       "    }\n",
       "</style>\n",
       "<table border=\"1\" class=\"dataframe\">\n",
       "  <thead>\n",
       "    <tr style=\"text-align: right;\">\n",
       "      <th></th>\n",
       "      <th></th>\n",
       "      <th>Q1</th>\n",
       "      <th>Q2</th>\n",
       "      <th>Q3</th>\n",
       "      <th>Q4</th>\n",
       "    </tr>\n",
       "    <tr>\n",
       "      <th>name</th>\n",
       "      <th>team</th>\n",
       "      <th></th>\n",
       "      <th></th>\n",
       "      <th></th>\n",
       "      <th></th>\n",
       "    </tr>\n",
       "  </thead>\n",
       "  <tbody>\n",
       "    <tr>\n",
       "      <th>Liver</th>\n",
       "      <th>E</th>\n",
       "      <td>89.0</td>\n",
       "      <td>21</td>\n",
       "      <td>24.0</td>\n",
       "      <td>1</td>\n",
       "    </tr>\n",
       "    <tr>\n",
       "      <th>Arry</th>\n",
       "      <th>C</th>\n",
       "      <td>NaN</td>\n",
       "      <td>58</td>\n",
       "      <td>61.0</td>\n",
       "      <td>3</td>\n",
       "    </tr>\n",
       "    <tr>\n",
       "      <th>Ack</th>\n",
       "      <th>A</th>\n",
       "      <td>146.0</td>\n",
       "      <td>118</td>\n",
       "      <td>NaN</td>\n",
       "      <td>6</td>\n",
       "    </tr>\n",
       "    <tr>\n",
       "      <th>Eorge</th>\n",
       "      <th>C</th>\n",
       "      <td>239.0</td>\n",
       "      <td>122</td>\n",
       "      <td>132.0</td>\n",
       "      <td>10</td>\n",
       "    </tr>\n",
       "    <tr>\n",
       "      <th>Oah</th>\n",
       "      <th>D</th>\n",
       "      <td>332.0</td>\n",
       "      <td>171</td>\n",
       "      <td>NaN</td>\n",
       "      <td>15</td>\n",
       "    </tr>\n",
       "  </tbody>\n",
       "</table>\n",
       "</div>"
      ],
      "text/plain": [
       "               Q1   Q2     Q3  Q4\n",
       "name  team                       \n",
       "Liver E      89.0   21   24.0   1\n",
       "Arry  C       NaN   58   61.0   3\n",
       "Ack   A     146.0  118    NaN   6\n",
       "Eorge C     239.0  122  132.0  10\n",
       "Oah   D     332.0  171    NaN  15"
      ]
     },
     "execution_count": 29,
     "metadata": {},
     "output_type": "execute_result"
    }
   ],
   "source": [
    "df3.cumsum(axis=0).head()"
   ]
  },
  {
   "cell_type": "code",
   "execution_count": 30,
   "id": "49180c4f",
   "metadata": {},
   "outputs": [
    {
     "data": {
      "text/plain": [
       "Q1     65\n",
       "Q2     62\n",
       "Q3     64\n",
       "Q4    100\n",
       "dtype: int64"
      ]
     },
     "execution_count": 30,
     "metadata": {},
     "output_type": "execute_result"
    }
   ],
   "source": [
    "df3.nunique()"
   ]
  },
  {
   "cell_type": "code",
   "execution_count": 31,
   "id": "a3e5c045",
   "metadata": {},
   "outputs": [
    {
     "data": {
      "text/plain": [
       "Q1    (Lincoln4, C)\n",
       "Q2      (Harley, B)\n",
       "Q3        (Lfie, A)\n",
       "Q4         (Ben, E)\n",
       "dtype: object"
      ]
     },
     "execution_count": 31,
     "metadata": {},
     "output_type": "execute_result"
    }
   ],
   "source": [
    "df3.idxmax()"
   ]
  },
  {
   "cell_type": "code",
   "execution_count": 32,
   "id": "62077bc5",
   "metadata": {},
   "outputs": [
    {
     "data": {
      "text/plain": [
       "Q1    (Sebastian, C)\n",
       "Q2        (Roman, E)\n",
       "Q3     (Lincoln4, C)\n",
       "Q4        (Liver, E)\n",
       "dtype: object"
      ]
     },
     "execution_count": 32,
     "metadata": {},
     "output_type": "execute_result"
    }
   ],
   "source": [
    "df3.idxmin()"
   ]
  },
  {
   "cell_type": "code",
   "execution_count": 33,
   "id": "1589db7e",
   "metadata": {},
   "outputs": [
    {
     "data": {
      "text/html": [
       "<div>\n",
       "<style scoped>\n",
       "    .dataframe tbody tr th:only-of-type {\n",
       "        vertical-align: middle;\n",
       "    }\n",
       "\n",
       "    .dataframe tbody tr th {\n",
       "        vertical-align: top;\n",
       "    }\n",
       "\n",
       "    .dataframe thead th {\n",
       "        text-align: right;\n",
       "    }\n",
       "</style>\n",
       "<table border=\"1\" class=\"dataframe\">\n",
       "  <thead>\n",
       "    <tr style=\"text-align: right;\">\n",
       "      <th></th>\n",
       "      <th></th>\n",
       "      <th>Q1</th>\n",
       "      <th>Q2</th>\n",
       "      <th>Q3</th>\n",
       "      <th>Q4</th>\n",
       "    </tr>\n",
       "    <tr>\n",
       "      <th>name</th>\n",
       "      <th>team</th>\n",
       "      <th></th>\n",
       "      <th></th>\n",
       "      <th></th>\n",
       "      <th></th>\n",
       "    </tr>\n",
       "  </thead>\n",
       "  <tbody>\n",
       "    <tr>\n",
       "      <th>Liver</th>\n",
       "      <th>E</th>\n",
       "      <td>89.0</td>\n",
       "      <td>21</td>\n",
       "      <td>24.0</td>\n",
       "      <td>1</td>\n",
       "    </tr>\n",
       "    <tr>\n",
       "      <th>Arry</th>\n",
       "      <th>C</th>\n",
       "      <td>NaN</td>\n",
       "      <td>37</td>\n",
       "      <td>37.0</td>\n",
       "      <td>2</td>\n",
       "    </tr>\n",
       "    <tr>\n",
       "      <th>Ack</th>\n",
       "      <th>A</th>\n",
       "      <td>89.0</td>\n",
       "      <td>60</td>\n",
       "      <td>NaN</td>\n",
       "      <td>3</td>\n",
       "    </tr>\n",
       "    <tr>\n",
       "      <th>Eorge</th>\n",
       "      <th>C</th>\n",
       "      <td>93.0</td>\n",
       "      <td>60</td>\n",
       "      <td>71.0</td>\n",
       "      <td>4</td>\n",
       "    </tr>\n",
       "    <tr>\n",
       "      <th>Oah</th>\n",
       "      <th>D</th>\n",
       "      <td>93.0</td>\n",
       "      <td>60</td>\n",
       "      <td>NaN</td>\n",
       "      <td>5</td>\n",
       "    </tr>\n",
       "  </tbody>\n",
       "</table>\n",
       "</div>"
      ],
      "text/plain": [
       "              Q1  Q2    Q3  Q4\n",
       "name  team                    \n",
       "Liver E     89.0  21  24.0   1\n",
       "Arry  C      NaN  37  37.0   2\n",
       "Ack   A     89.0  60   NaN   3\n",
       "Eorge C     93.0  60  71.0   4\n",
       "Oah   D     93.0  60   NaN   5"
      ]
     },
     "execution_count": 33,
     "metadata": {},
     "output_type": "execute_result"
    }
   ],
   "source": [
    "df3.cummax().head()"
   ]
  },
  {
   "cell_type": "code",
   "execution_count": 34,
   "id": "29562428",
   "metadata": {},
   "outputs": [
    {
     "data": {
      "text/html": [
       "<div>\n",
       "<style scoped>\n",
       "    .dataframe tbody tr th:only-of-type {\n",
       "        vertical-align: middle;\n",
       "    }\n",
       "\n",
       "    .dataframe tbody tr th {\n",
       "        vertical-align: top;\n",
       "    }\n",
       "\n",
       "    .dataframe thead th {\n",
       "        text-align: right;\n",
       "    }\n",
       "</style>\n",
       "<table border=\"1\" class=\"dataframe\">\n",
       "  <thead>\n",
       "    <tr style=\"text-align: right;\">\n",
       "      <th></th>\n",
       "      <th></th>\n",
       "      <th>Q1</th>\n",
       "      <th>Q2</th>\n",
       "      <th>Q3</th>\n",
       "      <th>Q4</th>\n",
       "    </tr>\n",
       "    <tr>\n",
       "      <th>name</th>\n",
       "      <th>team</th>\n",
       "      <th></th>\n",
       "      <th></th>\n",
       "      <th></th>\n",
       "      <th></th>\n",
       "    </tr>\n",
       "  </thead>\n",
       "  <tbody>\n",
       "    <tr>\n",
       "      <th>Liver</th>\n",
       "      <th>E</th>\n",
       "      <td>89.0</td>\n",
       "      <td>21</td>\n",
       "      <td>24.0</td>\n",
       "      <td>1</td>\n",
       "    </tr>\n",
       "    <tr>\n",
       "      <th>Arry</th>\n",
       "      <th>C</th>\n",
       "      <td>NaN</td>\n",
       "      <td>21</td>\n",
       "      <td>24.0</td>\n",
       "      <td>1</td>\n",
       "    </tr>\n",
       "    <tr>\n",
       "      <th>Ack</th>\n",
       "      <th>A</th>\n",
       "      <td>57.0</td>\n",
       "      <td>21</td>\n",
       "      <td>NaN</td>\n",
       "      <td>1</td>\n",
       "    </tr>\n",
       "    <tr>\n",
       "      <th>Eorge</th>\n",
       "      <th>C</th>\n",
       "      <td>57.0</td>\n",
       "      <td>4</td>\n",
       "      <td>24.0</td>\n",
       "      <td>1</td>\n",
       "    </tr>\n",
       "    <tr>\n",
       "      <th>Oah</th>\n",
       "      <th>D</th>\n",
       "      <td>57.0</td>\n",
       "      <td>4</td>\n",
       "      <td>NaN</td>\n",
       "      <td>1</td>\n",
       "    </tr>\n",
       "  </tbody>\n",
       "</table>\n",
       "</div>"
      ],
      "text/plain": [
       "              Q1  Q2    Q3  Q4\n",
       "name  team                    \n",
       "Liver E     89.0  21  24.0   1\n",
       "Arry  C      NaN  21  24.0   1\n",
       "Ack   A     57.0  21   NaN   1\n",
       "Eorge C     57.0   4  24.0   1\n",
       "Oah   D     57.0   4   NaN   1"
      ]
     },
     "execution_count": 34,
     "metadata": {},
     "output_type": "execute_result"
    }
   ],
   "source": [
    "df3.cummin().head()"
   ]
  },
  {
   "cell_type": "code",
   "execution_count": 35,
   "id": "c876cfd0",
   "metadata": {},
   "outputs": [
    {
     "data": {
      "text/plain": [
       "Q1   -0.077595\n",
       "Q2   -0.013285\n",
       "Q3   -0.074795\n",
       "Q4    0.000000\n",
       "dtype: float64"
      ]
     },
     "execution_count": 35,
     "metadata": {},
     "output_type": "execute_result"
    }
   ],
   "source": [
    "df3.skew()"
   ]
  },
  {
   "cell_type": "code",
   "execution_count": 36,
   "id": "8dfadf2b",
   "metadata": {},
   "outputs": [
    {
     "data": {
      "text/plain": [
       "Q1   -1.364042\n",
       "Q2   -1.336805\n",
       "Q3   -1.140104\n",
       "Q4   -1.200000\n",
       "dtype: float64"
      ]
     },
     "execution_count": 36,
     "metadata": {},
     "output_type": "execute_result"
    }
   ],
   "source": [
    "df3.kurt()"
   ]
  },
  {
   "cell_type": "code",
   "execution_count": 37,
   "id": "b4883949",
   "metadata": {},
   "outputs": [
    {
     "data": {
      "text/plain": [
       "Q1    52.0\n",
       "Q2    48.5\n",
       "Q3    55.0\n",
       "Q4    50.5\n",
       "Name: 0.5, dtype: float64"
      ]
     },
     "execution_count": 37,
     "metadata": {},
     "output_type": "execute_result"
    }
   ],
   "source": [
    "df3.quantile()"
   ]
  },
  {
   "cell_type": "code",
   "execution_count": 38,
   "id": "81a466e6",
   "metadata": {},
   "outputs": [
    {
     "data": {
      "text/plain": [
       "name   team\n",
       "Liver  E       135.0\n",
       "Arry   C        76.0\n",
       "Ack    A       120.0\n",
       "Eorge  C       172.0\n",
       "Oah    D       147.0\n",
       "dtype: float64"
      ]
     },
     "execution_count": 38,
     "metadata": {},
     "output_type": "execute_result"
    }
   ],
   "source": [
    "df3.sum(1).head()"
   ]
  },
  {
   "cell_type": "code",
   "execution_count": 39,
   "id": "1b958672",
   "metadata": {},
   "outputs": [
    {
     "data": {
      "text/plain": [
       "name   team\n",
       "Liver  E       135.0\n",
       "Arry   C         NaN\n",
       "Ack    A         NaN\n",
       "Eorge  C       172.0\n",
       "Oah    D         NaN\n",
       "dtype: float64"
      ]
     },
     "execution_count": 39,
     "metadata": {},
     "output_type": "execute_result"
    }
   ],
   "source": [
    "df3.sum(1, skipna=False).head()"
   ]
  },
  {
   "cell_type": "code",
   "execution_count": 40,
   "id": "80017042",
   "metadata": {},
   "outputs": [
    {
     "data": {
      "text/plain": [
       "135.0"
      ]
     },
     "execution_count": 40,
     "metadata": {},
     "output_type": "execute_result"
    }
   ],
   "source": [
    "# df3.sum(level=1)\n",
    "df3.sum(1).Liver.E"
   ]
  },
  {
   "cell_type": "code",
   "execution_count": 41,
   "id": "064e300d",
   "metadata": {},
   "outputs": [
    {
     "data": {
      "text/plain": [
       "name      team\n",
       "Liver     E       135.0\n",
       "Arry      C        76.0\n",
       "Ack       A       120.0\n",
       "Eorge     C       172.0\n",
       "Oah       D       147.0\n",
       "                  ...  \n",
       "Gabriel   C       290.0\n",
       "Austin7   C       179.0\n",
       "Lincoln4  C       290.0\n",
       "Eli       E       242.0\n",
       "Ben       E       205.0\n",
       "Length: 100, dtype: float64"
      ]
     },
     "execution_count": 41,
     "metadata": {},
     "output_type": "execute_result"
    }
   ],
   "source": [
    "df3.sum(1,min_count=1)"
   ]
  },
  {
   "cell_type": "markdown",
   "id": "53498996",
   "metadata": {},
   "source": [
    "# 4.3.4 非统计计算"
   ]
  },
  {
   "cell_type": "code",
   "execution_count": 88,
   "id": "fb60c23d",
   "metadata": {},
   "outputs": [
    {
     "data": {
      "text/plain": [
       "False"
      ]
     },
     "execution_count": 88,
     "metadata": {},
     "output_type": "execute_result"
    }
   ],
   "source": [
    "# any()一个序列中满足一个True，则返回True；\n",
    "# DataFrame.any(self, axis=0, bool_only=None, skipna=True, level=None, **kwargs)\n",
    "# bool_only:用于是否只利用序列中的Boolean值进行判断\n",
    "# skipna，是否跳过NA/null值，False表示跳过，True表示不跳过\n",
    "pd.Series([False,False]).any()"
   ]
  },
  {
   "cell_type": "code",
   "execution_count": 43,
   "id": "b8d2fd5b",
   "metadata": {},
   "outputs": [
    {
     "data": {
      "text/plain": [
       "True"
      ]
     },
     "execution_count": 43,
     "metadata": {},
     "output_type": "execute_result"
    }
   ],
   "source": [
    "pd.Series([True,False]).any()"
   ]
  },
  {
   "cell_type": "code",
   "execution_count": 44,
   "id": "8951fbf0",
   "metadata": {},
   "outputs": [
    {
     "data": {
      "text/plain": [
       "False"
      ]
     },
     "execution_count": 44,
     "metadata": {},
     "output_type": "execute_result"
    }
   ],
   "source": [
    "pd.Series([]).any()"
   ]
  },
  {
   "cell_type": "code",
   "execution_count": 45,
   "id": "6f96d0ab",
   "metadata": {},
   "outputs": [
    {
     "data": {
      "text/plain": [
       "False"
      ]
     },
     "execution_count": 45,
     "metadata": {},
     "output_type": "execute_result"
    }
   ],
   "source": [
    "pd.Series([np.nan]).any()"
   ]
  },
  {
   "cell_type": "code",
   "execution_count": 46,
   "id": "c75e1201",
   "metadata": {},
   "outputs": [
    {
     "data": {
      "text/plain": [
       "True"
      ]
     },
     "execution_count": 46,
     "metadata": {},
     "output_type": "execute_result"
    }
   ],
   "source": [
    "# skipna=False ，如有有nan（缺失值）则不计算结果，即忽略。\n",
    "# 因此这里指忽略np.nan\n",
    "pd.Series([np.nan]).any(skipna=False)"
   ]
  },
  {
   "cell_type": "code",
   "execution_count": 47,
   "id": "469c4f02",
   "metadata": {},
   "outputs": [
    {
     "data": {
      "text/plain": [
       "False"
      ]
     },
     "execution_count": 47,
     "metadata": {},
     "output_type": "execute_result"
    }
   ],
   "source": [
    "# 反之，skipna=True，有nan时则计算结果，不忽略nan\n",
    "pd.Series([np.nan]).any(skipna=True)"
   ]
  },
  {
   "cell_type": "code",
   "execution_count": 48,
   "id": "3e8bb527",
   "metadata": {},
   "outputs": [
    {
     "data": {
      "text/plain": [
       "float"
      ]
     },
     "execution_count": 48,
     "metadata": {},
     "output_type": "execute_result"
    }
   ],
   "source": [
    "# nan(NAN，Nan):not a number 表示不是一个数字\n",
    "# np.nan是一个float类型的数据, 因为nan不是一个数，所以相关计算都无法得到数字。\n",
    "a = np.nan\n",
    "type(a)"
   ]
  },
  {
   "cell_type": "code",
   "execution_count": 49,
   "id": "438c445d",
   "metadata": {},
   "outputs": [
    {
     "data": {
      "text/plain": [
       "nan"
      ]
     },
     "execution_count": 49,
     "metadata": {},
     "output_type": "execute_result"
    }
   ],
   "source": [
    "# 所有涉及nan的操作，返回的都是nan\n",
    "np.nan + 1"
   ]
  },
  {
   "cell_type": "code",
   "execution_count": 50,
   "id": "4bc5d2e0",
   "metadata": {},
   "outputs": [
    {
     "data": {
      "text/plain": [
       "True"
      ]
     },
     "execution_count": 50,
     "metadata": {},
     "output_type": "execute_result"
    }
   ],
   "source": [
    "np.nan != np.nan"
   ]
  },
  {
   "cell_type": "code",
   "execution_count": 51,
   "id": "02e86ff6",
   "metadata": {},
   "outputs": [],
   "source": [
    "# 何时会出现nan？\n",
    "# 当我们读取本地文件为float时，如果有缺失或者做了不合适的计算，比如无穷大(inf)减去无穷大，一个数除以0等，就会显示 nan"
   ]
  },
  {
   "cell_type": "code",
   "execution_count": 52,
   "id": "6e703c69",
   "metadata": {},
   "outputs": [
    {
     "data": {
      "text/plain": [
       "True"
      ]
     },
     "execution_count": 52,
     "metadata": {},
     "output_type": "execute_result"
    }
   ],
   "source": [
    "# all()一个序列中所有值为True时，返回True，否则为False。\n",
    "\n",
    "pd.Series([True,True]).all()"
   ]
  },
  {
   "cell_type": "code",
   "execution_count": 53,
   "id": "8d460c4a",
   "metadata": {},
   "outputs": [
    {
     "data": {
      "text/plain": [
       "False"
      ]
     },
     "execution_count": 53,
     "metadata": {},
     "output_type": "execute_result"
    }
   ],
   "source": [
    "pd.Series([True,False]).all()"
   ]
  },
  {
   "cell_type": "code",
   "execution_count": 54,
   "id": "3f2d0707",
   "metadata": {},
   "outputs": [
    {
     "data": {
      "text/plain": [
       "True"
      ]
     },
     "execution_count": 54,
     "metadata": {},
     "output_type": "execute_result"
    }
   ],
   "source": [
    "pd.Series([]).all()"
   ]
  },
  {
   "cell_type": "code",
   "execution_count": 55,
   "id": "d259ed70",
   "metadata": {},
   "outputs": [
    {
     "data": {
      "text/plain": [
       "True"
      ]
     },
     "execution_count": 55,
     "metadata": {},
     "output_type": "execute_result"
    }
   ],
   "source": [
    "pd.Series([np.nan]).all()"
   ]
  },
  {
   "cell_type": "code",
   "execution_count": 56,
   "id": "968d92d5",
   "metadata": {},
   "outputs": [
    {
     "data": {
      "text/plain": [
       "True"
      ]
     },
     "execution_count": 56,
     "metadata": {},
     "output_type": "execute_result"
    }
   ],
   "source": [
    "pd.Series([np.nan]).all(skipna=False)"
   ]
  },
  {
   "cell_type": "code",
   "execution_count": 57,
   "id": "9d386389",
   "metadata": {},
   "outputs": [
    {
     "data": {
      "text/html": [
       "<div>\n",
       "<style scoped>\n",
       "    .dataframe tbody tr th:only-of-type {\n",
       "        vertical-align: middle;\n",
       "    }\n",
       "\n",
       "    .dataframe tbody tr th {\n",
       "        vertical-align: top;\n",
       "    }\n",
       "\n",
       "    .dataframe thead th {\n",
       "        text-align: right;\n",
       "    }\n",
       "</style>\n",
       "<table border=\"1\" class=\"dataframe\">\n",
       "  <thead>\n",
       "    <tr style=\"text-align: right;\">\n",
       "      <th></th>\n",
       "      <th>col1</th>\n",
       "      <th>col2</th>\n",
       "      <th>col3</th>\n",
       "    </tr>\n",
       "  </thead>\n",
       "  <tbody>\n",
       "    <tr>\n",
       "      <th>0</th>\n",
       "      <td>True</td>\n",
       "      <td>True</td>\n",
       "      <td>False</td>\n",
       "    </tr>\n",
       "    <tr>\n",
       "      <th>1</th>\n",
       "      <td>True</td>\n",
       "      <td>False</td>\n",
       "      <td>False</td>\n",
       "    </tr>\n",
       "  </tbody>\n",
       "</table>\n",
       "</div>"
      ],
      "text/plain": [
       "   col1   col2   col3\n",
       "0  True   True  False\n",
       "1  True  False  False"
      ]
     },
     "execution_count": 57,
     "metadata": {},
     "output_type": "execute_result"
    }
   ],
   "source": [
    "df = pd.DataFrame({'col1':[True,True], 'col2':[True,False], 'col3':[False,False]})\n",
    "df"
   ]
  },
  {
   "cell_type": "code",
   "execution_count": 58,
   "id": "2e7e8ddd",
   "metadata": {},
   "outputs": [
    {
     "data": {
      "text/plain": [
       "col1     True\n",
       "col2    False\n",
       "col3    False\n",
       "dtype: bool"
      ]
     },
     "execution_count": 58,
     "metadata": {},
     "output_type": "execute_result"
    }
   ],
   "source": [
    "# 列项统计\n",
    "df.all(axis =0)"
   ]
  },
  {
   "cell_type": "code",
   "execution_count": 59,
   "id": "d8c9ce34",
   "metadata": {},
   "outputs": [
    {
     "data": {
      "text/plain": [
       "0    False\n",
       "1    False\n",
       "dtype: bool"
      ]
     },
     "execution_count": 59,
     "metadata": {},
     "output_type": "execute_result"
    }
   ],
   "source": [
    "# 横项统计\n",
    "df.all(1)"
   ]
  },
  {
   "cell_type": "code",
   "execution_count": 60,
   "id": "9c7cca88",
   "metadata": {},
   "outputs": [
    {
     "data": {
      "text/plain": [
       "False"
      ]
     },
     "execution_count": 60,
     "metadata": {},
     "output_type": "execute_result"
    }
   ],
   "source": [
    "df.all(axis=None)"
   ]
  },
  {
   "cell_type": "code",
   "execution_count": 61,
   "id": "b9c0adea",
   "metadata": {},
   "outputs": [
    {
     "data": {
      "text/html": [
       "<div>\n",
       "<style scoped>\n",
       "    .dataframe tbody tr th:only-of-type {\n",
       "        vertical-align: middle;\n",
       "    }\n",
       "\n",
       "    .dataframe tbody tr th {\n",
       "        vertical-align: top;\n",
       "    }\n",
       "\n",
       "    .dataframe thead th {\n",
       "        text-align: right;\n",
       "    }\n",
       "</style>\n",
       "<table border=\"1\" class=\"dataframe\">\n",
       "  <thead>\n",
       "    <tr style=\"text-align: right;\">\n",
       "      <th></th>\n",
       "      <th></th>\n",
       "      <th>Q1</th>\n",
       "      <th>Q2</th>\n",
       "      <th>Q3</th>\n",
       "      <th>Q4</th>\n",
       "    </tr>\n",
       "    <tr>\n",
       "      <th>name</th>\n",
       "      <th>team</th>\n",
       "      <th></th>\n",
       "      <th></th>\n",
       "      <th></th>\n",
       "      <th></th>\n",
       "    </tr>\n",
       "  </thead>\n",
       "  <tbody>\n",
       "    <tr>\n",
       "      <th>Liver</th>\n",
       "      <th>E</th>\n",
       "      <td>False</td>\n",
       "      <td>False</td>\n",
       "      <td>False</td>\n",
       "      <td>False</td>\n",
       "    </tr>\n",
       "    <tr>\n",
       "      <th>Arry</th>\n",
       "      <th>C</th>\n",
       "      <td>True</td>\n",
       "      <td>False</td>\n",
       "      <td>False</td>\n",
       "      <td>False</td>\n",
       "    </tr>\n",
       "    <tr>\n",
       "      <th>Ack</th>\n",
       "      <th>A</th>\n",
       "      <td>False</td>\n",
       "      <td>False</td>\n",
       "      <td>True</td>\n",
       "      <td>False</td>\n",
       "    </tr>\n",
       "    <tr>\n",
       "      <th>Eorge</th>\n",
       "      <th>C</th>\n",
       "      <td>False</td>\n",
       "      <td>False</td>\n",
       "      <td>False</td>\n",
       "      <td>False</td>\n",
       "    </tr>\n",
       "    <tr>\n",
       "      <th>Oah</th>\n",
       "      <th>D</th>\n",
       "      <td>False</td>\n",
       "      <td>False</td>\n",
       "      <td>True</td>\n",
       "      <td>False</td>\n",
       "    </tr>\n",
       "  </tbody>\n",
       "</table>\n",
       "</div>"
      ],
      "text/plain": [
       "               Q1     Q2     Q3     Q4\n",
       "name  team                            \n",
       "Liver E     False  False  False  False\n",
       "Arry  C      True  False  False  False\n",
       "Ack   A     False  False   True  False\n",
       "Eorge C     False  False  False  False\n",
       "Oah   D     False  False   True  False"
      ]
     },
     "execution_count": 61,
     "metadata": {},
     "output_type": "execute_result"
    }
   ],
   "source": [
    "# 空值的显示True\n",
    "df3.isnull().head()"
   ]
  },
  {
   "cell_type": "code",
   "execution_count": 62,
   "id": "873760e6",
   "metadata": {},
   "outputs": [
    {
     "data": {
      "text/plain": [
       "Q1     True\n",
       "Q2    False\n",
       "Q3     True\n",
       "Q4    False\n",
       "dtype: bool"
      ]
     },
     "execution_count": 62,
     "metadata": {},
     "output_type": "execute_result"
    }
   ],
   "source": [
    "# 显示所有列中哪个列有空值，有空值的显示True\n",
    "# Q1和Q3列有空值\n",
    "df3.isnull().any(axis=0)"
   ]
  },
  {
   "cell_type": "code",
   "execution_count": 63,
   "id": "047d0e15",
   "metadata": {},
   "outputs": [
    {
     "data": {
      "text/plain": [
       "2"
      ]
     },
     "execution_count": 63,
     "metadata": {},
     "output_type": "execute_result"
    }
   ],
   "source": [
    "# 含有空值的列数\n",
    "# 2列，分别是Q1和Q3\n",
    "df3.isnull().any(axis=0).sum()"
   ]
  },
  {
   "cell_type": "code",
   "execution_count": 64,
   "id": "628aa19b",
   "metadata": {},
   "outputs": [
    {
     "data": {
      "text/plain": [
       "name   team\n",
       "Liver  E       False\n",
       "Arry   C        True\n",
       "Ack    A        True\n",
       "Eorge  C       False\n",
       "Oah    D        True\n",
       "dtype: bool"
      ]
     },
     "execution_count": 64,
     "metadata": {},
     "output_type": "execute_result"
    }
   ],
   "source": [
    "# 查看各行是否有空值，有空值显示True\n",
    "# Arry,Ack,Oah有空值\n",
    "df3.isnull().any(axis=1).head()"
   ]
  },
  {
   "cell_type": "code",
   "execution_count": 65,
   "id": "28408fd8",
   "metadata": {},
   "outputs": [
    {
     "data": {
      "text/plain": [
       "0"
      ]
     },
     "execution_count": 65,
     "metadata": {},
     "output_type": "execute_result"
    }
   ],
   "source": [
    "# 含有空值的行数\n",
    "df.isnull().any(axis=1).sum()"
   ]
  },
  {
   "cell_type": "code",
   "execution_count": 66,
   "id": "35726aab",
   "metadata": {},
   "outputs": [
    {
     "data": {
      "text/html": [
       "<div>\n",
       "<style scoped>\n",
       "    .dataframe tbody tr th:only-of-type {\n",
       "        vertical-align: middle;\n",
       "    }\n",
       "\n",
       "    .dataframe tbody tr th {\n",
       "        vertical-align: top;\n",
       "    }\n",
       "\n",
       "    .dataframe thead th {\n",
       "        text-align: right;\n",
       "    }\n",
       "</style>\n",
       "<table border=\"1\" class=\"dataframe\">\n",
       "  <thead>\n",
       "    <tr style=\"text-align: right;\">\n",
       "      <th></th>\n",
       "      <th></th>\n",
       "      <th>Q1</th>\n",
       "      <th>Q2</th>\n",
       "      <th>Q3</th>\n",
       "      <th>Q4</th>\n",
       "    </tr>\n",
       "    <tr>\n",
       "      <th>name</th>\n",
       "      <th>team</th>\n",
       "      <th></th>\n",
       "      <th></th>\n",
       "      <th></th>\n",
       "      <th></th>\n",
       "    </tr>\n",
       "  </thead>\n",
       "  <tbody>\n",
       "    <tr>\n",
       "      <th>Liver</th>\n",
       "      <th>E</th>\n",
       "      <td>89.0</td>\n",
       "      <td>21</td>\n",
       "      <td>24.0</td>\n",
       "      <td>1</td>\n",
       "    </tr>\n",
       "    <tr>\n",
       "      <th>Arry</th>\n",
       "      <th>C</th>\n",
       "      <td>NaN</td>\n",
       "      <td>37</td>\n",
       "      <td>37.0</td>\n",
       "      <td>2</td>\n",
       "    </tr>\n",
       "    <tr>\n",
       "      <th>Ack</th>\n",
       "      <th>A</th>\n",
       "      <td>57.0</td>\n",
       "      <td>60</td>\n",
       "      <td>NaN</td>\n",
       "      <td>3</td>\n",
       "    </tr>\n",
       "    <tr>\n",
       "      <th>Eorge</th>\n",
       "      <th>C</th>\n",
       "      <td>93.0</td>\n",
       "      <td>4</td>\n",
       "      <td>71.0</td>\n",
       "      <td>4</td>\n",
       "    </tr>\n",
       "    <tr>\n",
       "      <th>Oah</th>\n",
       "      <th>D</th>\n",
       "      <td>93.0</td>\n",
       "      <td>49</td>\n",
       "      <td>NaN</td>\n",
       "      <td>5</td>\n",
       "    </tr>\n",
       "    <tr>\n",
       "      <th>...</th>\n",
       "      <th>...</th>\n",
       "      <td>...</td>\n",
       "      <td>...</td>\n",
       "      <td>...</td>\n",
       "      <td>...</td>\n",
       "    </tr>\n",
       "    <tr>\n",
       "      <th>Gabriel</th>\n",
       "      <th>C</th>\n",
       "      <td>48.0</td>\n",
       "      <td>59</td>\n",
       "      <td>87.0</td>\n",
       "      <td>96</td>\n",
       "    </tr>\n",
       "    <tr>\n",
       "      <th>Austin7</th>\n",
       "      <th>C</th>\n",
       "      <td>21.0</td>\n",
       "      <td>31</td>\n",
       "      <td>30.0</td>\n",
       "      <td>97</td>\n",
       "    </tr>\n",
       "    <tr>\n",
       "      <th>Lincoln4</th>\n",
       "      <th>C</th>\n",
       "      <td>98.0</td>\n",
       "      <td>93</td>\n",
       "      <td>1.0</td>\n",
       "      <td>98</td>\n",
       "    </tr>\n",
       "    <tr>\n",
       "      <th>Eli</th>\n",
       "      <th>E</th>\n",
       "      <td>11.0</td>\n",
       "      <td>74</td>\n",
       "      <td>58.0</td>\n",
       "      <td>99</td>\n",
       "    </tr>\n",
       "    <tr>\n",
       "      <th>Ben</th>\n",
       "      <th>E</th>\n",
       "      <td>21.0</td>\n",
       "      <td>43</td>\n",
       "      <td>41.0</td>\n",
       "      <td>100</td>\n",
       "    </tr>\n",
       "  </tbody>\n",
       "</table>\n",
       "<p>100 rows × 4 columns</p>\n",
       "</div>"
      ],
      "text/plain": [
       "                 Q1  Q2    Q3   Q4\n",
       "name     team                     \n",
       "Liver    E     89.0  21  24.0    1\n",
       "Arry     C      NaN  37  37.0    2\n",
       "Ack      A     57.0  60   NaN    3\n",
       "Eorge    C     93.0   4  71.0    4\n",
       "Oah      D     93.0  49   NaN    5\n",
       "...             ...  ..   ...  ...\n",
       "Gabriel  C     48.0  59  87.0   96\n",
       "Austin7  C     21.0  31  30.0   97\n",
       "Lincoln4 C     98.0  93   1.0   98\n",
       "Eli      E     11.0  74  58.0   99\n",
       "Ben      E     21.0  43  41.0  100\n",
       "\n",
       "[100 rows x 4 columns]"
      ]
     },
     "execution_count": 66,
     "metadata": {},
     "output_type": "execute_result"
    }
   ],
   "source": [
    "df3"
   ]
  },
  {
   "cell_type": "code",
   "execution_count": 67,
   "id": "bdd019b7",
   "metadata": {},
   "outputs": [],
   "source": [
    "import numpy as np\n",
    "df3.replace(np.nan, 100,inplace=True)"
   ]
  },
  {
   "cell_type": "code",
   "execution_count": 68,
   "id": "6b97d080",
   "metadata": {},
   "outputs": [
    {
     "data": {
      "text/html": [
       "<div>\n",
       "<style scoped>\n",
       "    .dataframe tbody tr th:only-of-type {\n",
       "        vertical-align: middle;\n",
       "    }\n",
       "\n",
       "    .dataframe tbody tr th {\n",
       "        vertical-align: top;\n",
       "    }\n",
       "\n",
       "    .dataframe thead th {\n",
       "        text-align: right;\n",
       "    }\n",
       "</style>\n",
       "<table border=\"1\" class=\"dataframe\">\n",
       "  <thead>\n",
       "    <tr style=\"text-align: right;\">\n",
       "      <th></th>\n",
       "      <th></th>\n",
       "      <th>Q1</th>\n",
       "      <th>Q2</th>\n",
       "      <th>Q3</th>\n",
       "      <th>Q4</th>\n",
       "    </tr>\n",
       "    <tr>\n",
       "      <th>name</th>\n",
       "      <th>team</th>\n",
       "      <th></th>\n",
       "      <th></th>\n",
       "      <th></th>\n",
       "      <th></th>\n",
       "    </tr>\n",
       "  </thead>\n",
       "  <tbody>\n",
       "    <tr>\n",
       "      <th>Liver</th>\n",
       "      <th>E</th>\n",
       "      <td>89.0</td>\n",
       "      <td>21</td>\n",
       "      <td>24.0</td>\n",
       "      <td>1</td>\n",
       "    </tr>\n",
       "    <tr>\n",
       "      <th>Arry</th>\n",
       "      <th>C</th>\n",
       "      <td>100.0</td>\n",
       "      <td>37</td>\n",
       "      <td>37.0</td>\n",
       "      <td>2</td>\n",
       "    </tr>\n",
       "    <tr>\n",
       "      <th>Ack</th>\n",
       "      <th>A</th>\n",
       "      <td>57.0</td>\n",
       "      <td>60</td>\n",
       "      <td>100.0</td>\n",
       "      <td>3</td>\n",
       "    </tr>\n",
       "    <tr>\n",
       "      <th>Eorge</th>\n",
       "      <th>C</th>\n",
       "      <td>93.0</td>\n",
       "      <td>4</td>\n",
       "      <td>71.0</td>\n",
       "      <td>4</td>\n",
       "    </tr>\n",
       "    <tr>\n",
       "      <th>Oah</th>\n",
       "      <th>D</th>\n",
       "      <td>93.0</td>\n",
       "      <td>49</td>\n",
       "      <td>100.0</td>\n",
       "      <td>5</td>\n",
       "    </tr>\n",
       "  </tbody>\n",
       "</table>\n",
       "</div>"
      ],
      "text/plain": [
       "               Q1  Q2     Q3  Q4\n",
       "name  team                      \n",
       "Liver E      89.0  21   24.0   1\n",
       "Arry  C     100.0  37   37.0   2\n",
       "Ack   A      57.0  60  100.0   3\n",
       "Eorge C      93.0   4   71.0   4\n",
       "Oah   D      93.0  49  100.0   5"
      ]
     },
     "execution_count": 68,
     "metadata": {},
     "output_type": "execute_result"
    }
   ],
   "source": [
    "df3.head()"
   ]
  },
  {
   "cell_type": "code",
   "execution_count": 69,
   "id": "63c5878d",
   "metadata": {},
   "outputs": [
    {
     "data": {
      "text/html": [
       "<div>\n",
       "<style scoped>\n",
       "    .dataframe tbody tr th:only-of-type {\n",
       "        vertical-align: middle;\n",
       "    }\n",
       "\n",
       "    .dataframe tbody tr th {\n",
       "        vertical-align: top;\n",
       "    }\n",
       "\n",
       "    .dataframe thead th {\n",
       "        text-align: right;\n",
       "    }\n",
       "</style>\n",
       "<table border=\"1\" class=\"dataframe\">\n",
       "  <thead>\n",
       "    <tr style=\"text-align: right;\">\n",
       "      <th></th>\n",
       "      <th>col1</th>\n",
       "      <th>col2</th>\n",
       "      <th>col3</th>\n",
       "    </tr>\n",
       "  </thead>\n",
       "  <tbody>\n",
       "    <tr>\n",
       "      <th>0</th>\n",
       "      <td>True</td>\n",
       "      <td>True</td>\n",
       "      <td>False</td>\n",
       "    </tr>\n",
       "    <tr>\n",
       "      <th>1</th>\n",
       "      <td>True</td>\n",
       "      <td>False</td>\n",
       "      <td>False</td>\n",
       "    </tr>\n",
       "  </tbody>\n",
       "</table>\n",
       "</div>"
      ],
      "text/plain": [
       "   col1   col2   col3\n",
       "0  True   True  False\n",
       "1  True  False  False"
      ]
     },
     "execution_count": 69,
     "metadata": {},
     "output_type": "execute_result"
    }
   ],
   "source": [
    "# 四舍五入\n",
    "df.round(2).head()"
   ]
  },
  {
   "cell_type": "code",
   "execution_count": 86,
   "id": "81174466",
   "metadata": {},
   "outputs": [],
   "source": [
    "df3['排名']=df3['Q1'].rank(method='dense').astype(\"int\")"
   ]
  },
  {
   "cell_type": "code",
   "execution_count": 71,
   "id": "49700041",
   "metadata": {
    "scrolled": true
   },
   "outputs": [
    {
     "data": {
      "text/html": [
       "<div>\n",
       "<style scoped>\n",
       "    .dataframe tbody tr th:only-of-type {\n",
       "        vertical-align: middle;\n",
       "    }\n",
       "\n",
       "    .dataframe tbody tr th {\n",
       "        vertical-align: top;\n",
       "    }\n",
       "\n",
       "    .dataframe thead th {\n",
       "        text-align: right;\n",
       "    }\n",
       "</style>\n",
       "<table border=\"1\" class=\"dataframe\">\n",
       "  <thead>\n",
       "    <tr style=\"text-align: right;\">\n",
       "      <th></th>\n",
       "      <th></th>\n",
       "      <th>Q1</th>\n",
       "      <th>Q2</th>\n",
       "      <th>Q3</th>\n",
       "      <th>Q4</th>\n",
       "      <th>排名</th>\n",
       "    </tr>\n",
       "    <tr>\n",
       "      <th>name</th>\n",
       "      <th>team</th>\n",
       "      <th></th>\n",
       "      <th></th>\n",
       "      <th></th>\n",
       "      <th></th>\n",
       "      <th></th>\n",
       "    </tr>\n",
       "  </thead>\n",
       "  <tbody>\n",
       "    <tr>\n",
       "      <th>Liver</th>\n",
       "      <th>E</th>\n",
       "      <td>89.0</td>\n",
       "      <td>21</td>\n",
       "      <td>24.0</td>\n",
       "      <td>1</td>\n",
       "      <td>58</td>\n",
       "    </tr>\n",
       "    <tr>\n",
       "      <th>Arry</th>\n",
       "      <th>C</th>\n",
       "      <td>100.0</td>\n",
       "      <td>37</td>\n",
       "      <td>37.0</td>\n",
       "      <td>2</td>\n",
       "      <td>66</td>\n",
       "    </tr>\n",
       "    <tr>\n",
       "      <th>Ack</th>\n",
       "      <th>A</th>\n",
       "      <td>57.0</td>\n",
       "      <td>60</td>\n",
       "      <td>100.0</td>\n",
       "      <td>3</td>\n",
       "      <td>34</td>\n",
       "    </tr>\n",
       "    <tr>\n",
       "      <th>Eorge</th>\n",
       "      <th>C</th>\n",
       "      <td>93.0</td>\n",
       "      <td>4</td>\n",
       "      <td>71.0</td>\n",
       "      <td>4</td>\n",
       "      <td>62</td>\n",
       "    </tr>\n",
       "    <tr>\n",
       "      <th>Oah</th>\n",
       "      <th>D</th>\n",
       "      <td>93.0</td>\n",
       "      <td>49</td>\n",
       "      <td>100.0</td>\n",
       "      <td>5</td>\n",
       "      <td>62</td>\n",
       "    </tr>\n",
       "    <tr>\n",
       "      <th>...</th>\n",
       "      <th>...</th>\n",
       "      <td>...</td>\n",
       "      <td>...</td>\n",
       "      <td>...</td>\n",
       "      <td>...</td>\n",
       "      <td>...</td>\n",
       "    </tr>\n",
       "    <tr>\n",
       "      <th>Gabriel</th>\n",
       "      <th>C</th>\n",
       "      <td>48.0</td>\n",
       "      <td>59</td>\n",
       "      <td>87.0</td>\n",
       "      <td>96</td>\n",
       "      <td>29</td>\n",
       "    </tr>\n",
       "    <tr>\n",
       "      <th>Austin7</th>\n",
       "      <th>C</th>\n",
       "      <td>21.0</td>\n",
       "      <td>31</td>\n",
       "      <td>30.0</td>\n",
       "      <td>97</td>\n",
       "      <td>18</td>\n",
       "    </tr>\n",
       "    <tr>\n",
       "      <th>Lincoln4</th>\n",
       "      <th>C</th>\n",
       "      <td>98.0</td>\n",
       "      <td>93</td>\n",
       "      <td>1.0</td>\n",
       "      <td>98</td>\n",
       "      <td>65</td>\n",
       "    </tr>\n",
       "    <tr>\n",
       "      <th>Eli</th>\n",
       "      <th>E</th>\n",
       "      <td>11.0</td>\n",
       "      <td>74</td>\n",
       "      <td>58.0</td>\n",
       "      <td>99</td>\n",
       "      <td>9</td>\n",
       "    </tr>\n",
       "    <tr>\n",
       "      <th>Ben</th>\n",
       "      <th>E</th>\n",
       "      <td>21.0</td>\n",
       "      <td>43</td>\n",
       "      <td>41.0</td>\n",
       "      <td>100</td>\n",
       "      <td>18</td>\n",
       "    </tr>\n",
       "  </tbody>\n",
       "</table>\n",
       "<p>100 rows × 5 columns</p>\n",
       "</div>"
      ],
      "text/plain": [
       "                  Q1  Q2     Q3   Q4  排名\n",
       "name     team                           \n",
       "Liver    E      89.0  21   24.0    1  58\n",
       "Arry     C     100.0  37   37.0    2  66\n",
       "Ack      A      57.0  60  100.0    3  34\n",
       "Eorge    C      93.0   4   71.0    4  62\n",
       "Oah      D      93.0  49  100.0    5  62\n",
       "...              ...  ..    ...  ...  ..\n",
       "Gabriel  C      48.0  59   87.0   96  29\n",
       "Austin7  C      21.0  31   30.0   97  18\n",
       "Lincoln4 C      98.0  93    1.0   98  65\n",
       "Eli      E      11.0  74   58.0   99   9\n",
       "Ben      E      21.0  43   41.0  100  18\n",
       "\n",
       "[100 rows x 5 columns]"
      ]
     },
     "execution_count": 71,
     "metadata": {},
     "output_type": "execute_result"
    }
   ],
   "source": [
    "df3"
   ]
  },
  {
   "cell_type": "code",
   "execution_count": 72,
   "id": "f50e5f67",
   "metadata": {},
   "outputs": [],
   "source": [
    "df3['Q1'] = df3['Q1'].clip(0,50)"
   ]
  },
  {
   "cell_type": "code",
   "execution_count": 73,
   "id": "165d753c",
   "metadata": {},
   "outputs": [
    {
     "data": {
      "text/html": [
       "<div>\n",
       "<style scoped>\n",
       "    .dataframe tbody tr th:only-of-type {\n",
       "        vertical-align: middle;\n",
       "    }\n",
       "\n",
       "    .dataframe tbody tr th {\n",
       "        vertical-align: top;\n",
       "    }\n",
       "\n",
       "    .dataframe thead th {\n",
       "        text-align: right;\n",
       "    }\n",
       "</style>\n",
       "<table border=\"1\" class=\"dataframe\">\n",
       "  <thead>\n",
       "    <tr style=\"text-align: right;\">\n",
       "      <th></th>\n",
       "      <th></th>\n",
       "      <th>Q1</th>\n",
       "      <th>Q2</th>\n",
       "      <th>Q3</th>\n",
       "      <th>Q4</th>\n",
       "      <th>排名</th>\n",
       "    </tr>\n",
       "    <tr>\n",
       "      <th>name</th>\n",
       "      <th>team</th>\n",
       "      <th></th>\n",
       "      <th></th>\n",
       "      <th></th>\n",
       "      <th></th>\n",
       "      <th></th>\n",
       "    </tr>\n",
       "  </thead>\n",
       "  <tbody>\n",
       "    <tr>\n",
       "      <th>Liver</th>\n",
       "      <th>E</th>\n",
       "      <td>50.0</td>\n",
       "      <td>21</td>\n",
       "      <td>24.0</td>\n",
       "      <td>1</td>\n",
       "      <td>58</td>\n",
       "    </tr>\n",
       "    <tr>\n",
       "      <th>Arry</th>\n",
       "      <th>C</th>\n",
       "      <td>50.0</td>\n",
       "      <td>37</td>\n",
       "      <td>37.0</td>\n",
       "      <td>2</td>\n",
       "      <td>66</td>\n",
       "    </tr>\n",
       "    <tr>\n",
       "      <th>Ack</th>\n",
       "      <th>A</th>\n",
       "      <td>50.0</td>\n",
       "      <td>60</td>\n",
       "      <td>100.0</td>\n",
       "      <td>3</td>\n",
       "      <td>34</td>\n",
       "    </tr>\n",
       "    <tr>\n",
       "      <th>Eorge</th>\n",
       "      <th>C</th>\n",
       "      <td>50.0</td>\n",
       "      <td>4</td>\n",
       "      <td>71.0</td>\n",
       "      <td>4</td>\n",
       "      <td>62</td>\n",
       "    </tr>\n",
       "    <tr>\n",
       "      <th>Oah</th>\n",
       "      <th>D</th>\n",
       "      <td>50.0</td>\n",
       "      <td>49</td>\n",
       "      <td>100.0</td>\n",
       "      <td>5</td>\n",
       "      <td>62</td>\n",
       "    </tr>\n",
       "  </tbody>\n",
       "</table>\n",
       "</div>"
      ],
      "text/plain": [
       "              Q1  Q2     Q3  Q4  排名\n",
       "name  team                         \n",
       "Liver E     50.0  21   24.0   1  58\n",
       "Arry  C     50.0  37   37.0   2  66\n",
       "Ack   A     50.0  60  100.0   3  34\n",
       "Eorge C     50.0   4   71.0   4  62\n",
       "Oah   D     50.0  49  100.0   5  62"
      ]
     },
     "execution_count": 73,
     "metadata": {},
     "output_type": "execute_result"
    }
   ],
   "source": [
    "df3.head()"
   ]
  },
  {
   "cell_type": "markdown",
   "id": "7d2514a4",
   "metadata": {},
   "source": []
  },
  {
   "cell_type": "code",
   "execution_count": 74,
   "id": "9c3606e6",
   "metadata": {},
   "outputs": [
    {
     "data": {
      "text/html": [
       "<div>\n",
       "<style scoped>\n",
       "    .dataframe tbody tr th:only-of-type {\n",
       "        vertical-align: middle;\n",
       "    }\n",
       "\n",
       "    .dataframe tbody tr th {\n",
       "        vertical-align: top;\n",
       "    }\n",
       "\n",
       "    .dataframe thead th {\n",
       "        text-align: right;\n",
       "    }\n",
       "</style>\n",
       "<table border=\"1\" class=\"dataframe\">\n",
       "  <thead>\n",
       "    <tr style=\"text-align: right;\">\n",
       "      <th></th>\n",
       "      <th>col1</th>\n",
       "      <th>col2</th>\n",
       "      <th>col3</th>\n",
       "    </tr>\n",
       "  </thead>\n",
       "  <tbody>\n",
       "    <tr>\n",
       "      <th>0</th>\n",
       "      <td>True</td>\n",
       "      <td>True</td>\n",
       "      <td>False</td>\n",
       "    </tr>\n",
       "    <tr>\n",
       "      <th>1</th>\n",
       "      <td>True</td>\n",
       "      <td>False</td>\n",
       "      <td>False</td>\n",
       "    </tr>\n",
       "  </tbody>\n",
       "</table>\n",
       "</div>"
      ],
      "text/plain": [
       "   col1   col2   col3\n",
       "0  True   True  False\n",
       "1  True  False  False"
      ]
     },
     "execution_count": 74,
     "metadata": {},
     "output_type": "execute_result"
    }
   ],
   "source": [
    "# Q1保留2位，Q2保留1位，没看到效果\n",
    "df.round({'Q1':2,'Q2':1}).head()"
   ]
  },
  {
   "cell_type": "code",
   "execution_count": 85,
   "id": "67712511",
   "metadata": {},
   "outputs": [
    {
     "data": {
      "text/plain": [
       "team      5\n",
       "Q1       65\n",
       "Q2       62\n",
       "Q3       64\n",
       "Q4      100\n",
       "dtype: int64"
      ]
     },
     "execution_count": 85,
     "metadata": {},
     "output_type": "execute_result"
    }
   ],
   "source": [
    "df = pd.read_excel('team.xlsx',index_col='name')\n",
    "# 统计每列不同值得个数\n",
    "df.nunique()"
   ]
  },
  {
   "cell_type": "code",
   "execution_count": null,
   "id": "78421f9b",
   "metadata": {},
   "outputs": [],
   "source": []
  },
  {
   "cell_type": "markdown",
   "id": "23019e08",
   "metadata": {},
   "source": []
  },
  {
   "cell_type": "code",
   "execution_count": 76,
   "id": "6fa547a8",
   "metadata": {},
   "outputs": [
    {
     "data": {
      "text/plain": [
       "array([1, 3, 4, 2])"
      ]
     },
     "execution_count": 76,
     "metadata": {},
     "output_type": "execute_result"
    }
   ],
   "source": [
    "# unique()方法返回的是去重之后的不同值\n",
    "s = pd.Series([1,3,3,4,2,1])\n",
    "s.unique()"
   ]
  },
  {
   "cell_type": "code",
   "execution_count": 77,
   "id": "8097ffd1",
   "metadata": {},
   "outputs": [
    {
     "data": {
      "text/plain": [
       "4"
      ]
     },
     "execution_count": 77,
     "metadata": {},
     "output_type": "execute_result"
    }
   ],
   "source": [
    "# nunique()方法返回不同值的个数\n",
    "s.nunique()"
   ]
  },
  {
   "cell_type": "code",
   "execution_count": 83,
   "id": "c6bf78eb",
   "metadata": {},
   "outputs": [
    {
     "data": {
      "text/plain": [
       "array([ 1.,  3., nan,  4.,  2.])"
      ]
     },
     "execution_count": 83,
     "metadata": {},
     "output_type": "execute_result"
    }
   ],
   "source": [
    "# 如果Series中有None时，\n",
    "s = pd.Series([1,3,3,None,4,2,1])\n",
    "s.unique()"
   ]
  },
  {
   "cell_type": "code",
   "execution_count": 84,
   "id": "cce7d6a3",
   "metadata": {},
   "outputs": [
    {
     "data": {
      "text/plain": [
       "4"
      ]
     },
     "execution_count": 84,
     "metadata": {},
     "output_type": "execute_result"
    }
   ],
   "source": [
    "# 如果Series中有None时，排除None\n",
    "s.nunique()"
   ]
  },
  {
   "cell_type": "code",
   "execution_count": 80,
   "id": "82f3cec7",
   "metadata": {},
   "outputs": [
    {
     "data": {
      "text/plain": [
       "5"
      ]
     },
     "execution_count": 80,
     "metadata": {},
     "output_type": "execute_result"
    }
   ],
   "source": [
    "# 如果Series中有None时，包含None\n",
    "s.nunique(dropna=False)"
   ]
  },
  {
   "cell_type": "code",
   "execution_count": 81,
   "id": "a2aec4b1",
   "metadata": {},
   "outputs": [
    {
     "data": {
      "text/plain": [
       "0    False\n",
       "1    False\n",
       "2    False\n",
       "3     True\n",
       "4    False\n",
       "5    False\n",
       "6    False\n",
       "dtype: bool"
      ]
     },
     "execution_count": 81,
     "metadata": {},
     "output_type": "execute_result"
    }
   ],
   "source": [
    "# 判断值是否是nan ， 是None返回True，其他返回False\n",
    "s.isna()"
   ]
  },
  {
   "cell_type": "code",
   "execution_count": 82,
   "id": "2d8e8a80",
   "metadata": {},
   "outputs": [
    {
     "data": {
      "text/plain": [
       "0     True\n",
       "1     True\n",
       "2     True\n",
       "3    False\n",
       "4     True\n",
       "5     True\n",
       "6     True\n",
       "dtype: bool"
      ]
     },
     "execution_count": 82,
     "metadata": {},
     "output_type": "execute_result"
    }
   ],
   "source": [
    "# 判断值是否是nan ， 是None返回False，其他返回True\n",
    "s.notna()"
   ]
  },
  {
   "cell_type": "code",
   "execution_count": null,
   "id": "56308905",
   "metadata": {},
   "outputs": [],
   "source": []
  },
  {
   "cell_type": "code",
   "execution_count": null,
   "id": "7a044777",
   "metadata": {},
   "outputs": [],
   "source": []
  },
  {
   "cell_type": "code",
   "execution_count": null,
   "id": "38e79617",
   "metadata": {},
   "outputs": [],
   "source": []
  },
  {
   "cell_type": "code",
   "execution_count": null,
   "id": "7f76e3eb",
   "metadata": {},
   "outputs": [],
   "source": []
  },
  {
   "cell_type": "code",
   "execution_count": null,
   "id": "c8cf61c5",
   "metadata": {},
   "outputs": [],
   "source": []
  },
  {
   "cell_type": "code",
   "execution_count": null,
   "id": "666b029d",
   "metadata": {},
   "outputs": [],
   "source": []
  },
  {
   "cell_type": "code",
   "execution_count": null,
   "id": "b71e08cd",
   "metadata": {},
   "outputs": [],
   "source": []
  },
  {
   "cell_type": "code",
   "execution_count": null,
   "id": "b0c1c212",
   "metadata": {},
   "outputs": [],
   "source": []
  }
 ],
 "metadata": {
  "kernelspec": {
   "display_name": "Python 3 (ipykernel)",
   "language": "python",
   "name": "python3"
  },
  "language_info": {
   "codemirror_mode": {
    "name": "ipython",
    "version": 3
   },
   "file_extension": ".py",
   "mimetype": "text/x-python",
   "name": "python",
   "nbconvert_exporter": "python",
   "pygments_lexer": "ipython3",
   "version": "3.8.16"
  }
 },
 "nbformat": 4,
 "nbformat_minor": 5
}
