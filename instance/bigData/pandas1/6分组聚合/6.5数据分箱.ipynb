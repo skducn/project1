{
 "cells": [
  {
   "cell_type": "code",
   "execution_count": 2,
   "id": "32bf3352-1af7-435a-b292-ed9c2a947d25",
   "metadata": {},
   "outputs": [],
   "source": [
    "import pandas as pd, numpy as np"
   ]
  },
  {
   "cell_type": "code",
   "execution_count": 3,
   "id": "39f9fcaf-841e-4935-a678-779d6c31e145",
   "metadata": {},
   "outputs": [
    {
     "data": {
      "text/html": [
       "<div>\n",
       "<style scoped>\n",
       "    .dataframe tbody tr th:only-of-type {\n",
       "        vertical-align: middle;\n",
       "    }\n",
       "\n",
       "    .dataframe tbody tr th {\n",
       "        vertical-align: top;\n",
       "    }\n",
       "\n",
       "    .dataframe thead th {\n",
       "        text-align: right;\n",
       "    }\n",
       "</style>\n",
       "<table border=\"1\" class=\"dataframe\">\n",
       "  <thead>\n",
       "    <tr style=\"text-align: right;\">\n",
       "      <th></th>\n",
       "      <th>name</th>\n",
       "      <th>team</th>\n",
       "      <th>Q1</th>\n",
       "      <th>Q2</th>\n",
       "      <th>Q3</th>\n",
       "      <th>Q4</th>\n",
       "      <th>1city</th>\n",
       "      <th>what color</th>\n",
       "    </tr>\n",
       "  </thead>\n",
       "  <tbody>\n",
       "    <tr>\n",
       "      <th>0</th>\n",
       "      <td>Liver</td>\n",
       "      <td>E</td>\n",
       "      <td>89</td>\n",
       "      <td>21</td>\n",
       "      <td>24</td>\n",
       "      <td>1</td>\n",
       "      <td>shanghai</td>\n",
       "      <td>yellew</td>\n",
       "    </tr>\n",
       "    <tr>\n",
       "      <th>1</th>\n",
       "      <td>Arry</td>\n",
       "      <td>C</td>\n",
       "      <td>55</td>\n",
       "      <td>37</td>\n",
       "      <td>37</td>\n",
       "      <td>2</td>\n",
       "      <td>nanjin</td>\n",
       "      <td>red</td>\n",
       "    </tr>\n",
       "    <tr>\n",
       "      <th>2</th>\n",
       "      <td>Ack</td>\n",
       "      <td>A</td>\n",
       "      <td>57</td>\n",
       "      <td>60</td>\n",
       "      <td>33</td>\n",
       "      <td>3</td>\n",
       "      <td>beijin</td>\n",
       "      <td>purple</td>\n",
       "    </tr>\n",
       "    <tr>\n",
       "      <th>3</th>\n",
       "      <td>Eorge</td>\n",
       "      <td>C</td>\n",
       "      <td>93</td>\n",
       "      <td>4</td>\n",
       "      <td>71</td>\n",
       "      <td>4</td>\n",
       "      <td>tianjin</td>\n",
       "      <td>blue</td>\n",
       "    </tr>\n",
       "    <tr>\n",
       "      <th>4</th>\n",
       "      <td>Oah</td>\n",
       "      <td>D</td>\n",
       "      <td>93</td>\n",
       "      <td>49</td>\n",
       "      <td>44</td>\n",
       "      <td>5</td>\n",
       "      <td>henan</td>\n",
       "      <td>black</td>\n",
       "    </tr>\n",
       "    <tr>\n",
       "      <th>5</th>\n",
       "      <td>Harlie</td>\n",
       "      <td>C</td>\n",
       "      <td>24</td>\n",
       "      <td>13</td>\n",
       "      <td>87</td>\n",
       "      <td>6</td>\n",
       "      <td>hebei</td>\n",
       "      <td>pink</td>\n",
       "    </tr>\n",
       "  </tbody>\n",
       "</table>\n",
       "</div>"
      ],
      "text/plain": [
       "     name team  Q1  Q2  Q3  Q4     1city what color\n",
       "0   Liver    E  89  21  24   1  shanghai     yellew\n",
       "1    Arry    C  55  37  37   2    nanjin        red\n",
       "2     Ack    A  57  60  33   3    beijin     purple\n",
       "3   Eorge    C  93   4  71   4   tianjin       blue\n",
       "4     Oah    D  93  49  44   5     henan      black\n",
       "5  Harlie    C  24  13  87   6     hebei       pink"
      ]
     },
     "execution_count": 3,
     "metadata": {},
     "output_type": "execute_result"
    }
   ],
   "source": [
    "df=pd.read_excel('../team2.xlsx')\n",
    "df"
   ]
  },
  {
   "cell_type": "code",
   "execution_count": 4,
   "id": "cbfc2edc-b1e8-4436-8c31-128c8754f621",
   "metadata": {},
   "outputs": [
    {
     "data": {
      "text/plain": [
       "0    (60, 100]\n",
       "1      (0, 60]\n",
       "2      (0, 60]\n",
       "3    (60, 100]\n",
       "4    (60, 100]\n",
       "5      (0, 60]\n",
       "Name: Q1, dtype: category\n",
       "Categories (2, interval[int64, right]): [(0, 60] < (60, 100]]"
      ]
     },
     "execution_count": 4,
     "metadata": {},
     "output_type": "execute_result"
    }
   ],
   "source": [
    "# 将Q1成绩按照60分以上和以下分类\n",
    "pd.cut(df.Q1, bins=[0,60,100])"
   ]
  },
  {
   "cell_type": "code",
   "execution_count": 5,
   "id": "b6361fce-2842-4840-b416-a13170a9c75c",
   "metadata": {},
   "outputs": [
    {
     "data": {
      "text/plain": [
       "Q1\n",
       "(0, 60]      3\n",
       "(60, 100]    3\n",
       "Name: Q1, dtype: int64"
      ]
     },
     "execution_count": 5,
     "metadata": {},
     "output_type": "execute_result"
    }
   ],
   "source": [
    "df.Q1.groupby(pd.cut(df.Q1, bins=[0,60,100])).count()"
   ]
  },
  {
   "cell_type": "code",
   "execution_count": 6,
   "id": "b7fec9e0-5fb8-43d8-8992-92d9cec06b95",
   "metadata": {},
   "outputs": [
    {
     "data": {
      "text/html": [
       "<div>\n",
       "<style scoped>\n",
       "    .dataframe tbody tr th:only-of-type {\n",
       "        vertical-align: middle;\n",
       "    }\n",
       "\n",
       "    .dataframe tbody tr th {\n",
       "        vertical-align: top;\n",
       "    }\n",
       "\n",
       "    .dataframe thead th {\n",
       "        text-align: right;\n",
       "    }\n",
       "</style>\n",
       "<table border=\"1\" class=\"dataframe\">\n",
       "  <thead>\n",
       "    <tr style=\"text-align: right;\">\n",
       "      <th></th>\n",
       "      <th>name</th>\n",
       "      <th>team</th>\n",
       "      <th>Q1</th>\n",
       "      <th>Q2</th>\n",
       "      <th>Q3</th>\n",
       "      <th>Q4</th>\n",
       "      <th>1city</th>\n",
       "      <th>what color</th>\n",
       "    </tr>\n",
       "    <tr>\n",
       "      <th>Q1</th>\n",
       "      <th></th>\n",
       "      <th></th>\n",
       "      <th></th>\n",
       "      <th></th>\n",
       "      <th></th>\n",
       "      <th></th>\n",
       "      <th></th>\n",
       "      <th></th>\n",
       "    </tr>\n",
       "  </thead>\n",
       "  <tbody>\n",
       "    <tr>\n",
       "      <th>(0, 60]</th>\n",
       "      <td>3</td>\n",
       "      <td>3</td>\n",
       "      <td>3</td>\n",
       "      <td>3</td>\n",
       "      <td>3</td>\n",
       "      <td>3</td>\n",
       "      <td>3</td>\n",
       "      <td>3</td>\n",
       "    </tr>\n",
       "    <tr>\n",
       "      <th>(60, 100]</th>\n",
       "      <td>3</td>\n",
       "      <td>3</td>\n",
       "      <td>3</td>\n",
       "      <td>3</td>\n",
       "      <td>3</td>\n",
       "      <td>3</td>\n",
       "      <td>3</td>\n",
       "      <td>3</td>\n",
       "    </tr>\n",
       "  </tbody>\n",
       "</table>\n",
       "</div>"
      ],
      "text/plain": [
       "           name  team  Q1  Q2  Q3  Q4  1city  what color\n",
       "Q1                                                      \n",
       "(0, 60]       3     3   3   3   3   3      3           3\n",
       "(60, 100]     3     3   3   3   3   3      3           3"
      ]
     },
     "execution_count": 6,
     "metadata": {},
     "output_type": "execute_result"
    }
   ],
   "source": [
    "df.groupby(pd.cut(df.Q1, bins=[0,60,100])).count()"
   ]
  },
  {
   "cell_type": "code",
   "execution_count": 7,
   "id": "9bd71f5f-d124-45e7-9889-42c223595683",
   "metadata": {},
   "outputs": [
    {
     "data": {
      "text/plain": [
       "3"
      ]
     },
     "execution_count": 7,
     "metadata": {},
     "output_type": "execute_result"
    }
   ],
   "source": [
    "df.Q1.groupby(pd.cut(df.Q1, bins=[0,60,100])).count()[1]"
   ]
  },
  {
   "cell_type": "code",
   "execution_count": 8,
   "id": "296dde2a-f514-4e92-88a5-2a263f9dd570",
   "metadata": {},
   "outputs": [
    {
     "data": {
      "text/plain": [
       "0    1\n",
       "1    0\n",
       "2    0\n",
       "3    1\n",
       "4    1\n",
       "5    0\n",
       "Name: Q1, dtype: int64"
      ]
     },
     "execution_count": 8,
     "metadata": {},
     "output_type": "execute_result"
    }
   ],
   "source": [
    "# 不使用标签，换成0，1，2，N形式\n",
    "pd.cut(df.Q1, bins=[0,60,100], labels=False)"
   ]
  },
  {
   "cell_type": "code",
   "execution_count": 9,
   "id": "bfff8887-d338-40ba-a605-9989b7afb05d",
   "metadata": {},
   "outputs": [
    {
     "data": {
      "text/plain": [
       "0     及格\n",
       "1    不及格\n",
       "2    不及格\n",
       "3     及格\n",
       "4     及格\n",
       "5    不及格\n",
       "Name: Q1, dtype: category\n",
       "Categories (2, object): ['不及格' < '及格']"
      ]
     },
     "execution_count": 9,
     "metadata": {},
     "output_type": "execute_result"
    }
   ],
   "source": [
    "# 指定标签名\n",
    "pd.cut(df.Q1, bins=[0,60,100], labels=['不及格','及格'])"
   ]
  },
  {
   "cell_type": "code",
   "execution_count": 10,
   "id": "ccfbbc1f-baef-49ed-8724-0c2148982ba6",
   "metadata": {},
   "outputs": [
    {
     "data": {
      "text/plain": [
       "0     (60.0, 100.0]\n",
       "1    (-0.001, 60.0]\n",
       "2    (-0.001, 60.0]\n",
       "3     (60.0, 100.0]\n",
       "4     (60.0, 100.0]\n",
       "5    (-0.001, 60.0]\n",
       "Name: Q1, dtype: category\n",
       "Categories (2, interval[float64, right]): [(-0.001, 60.0] < (60.0, 100.0]]"
      ]
     },
     "execution_count": 10,
     "metadata": {},
     "output_type": "execute_result"
    }
   ],
   "source": [
    "# 包含最低部分\n",
    "pd.cut(df.Q1, bins=[0,60,100], include_lowest=True)"
   ]
  },
  {
   "cell_type": "code",
   "execution_count": 11,
   "id": "524671b5-3d2b-4aab-b940-b63ab78d0315",
   "metadata": {},
   "outputs": [
    {
     "data": {
      "text/plain": [
       "0    [60, 100)\n",
       "1      [0, 60)\n",
       "2      [0, 60)\n",
       "3    [60, 100)\n",
       "4    [60, 100)\n",
       "5      [0, 60)\n",
       "Name: Q1, dtype: category\n",
       "Categories (2, interval[int64, left]): [[0, 60) < [60, 100)]"
      ]
     },
     "execution_count": 11,
     "metadata": {},
     "output_type": "execute_result"
    }
   ],
   "source": [
    "# 关闭右包区间\n",
    "pd.cut(df.Q1, bins=[0,60,100], right=False)"
   ]
  },
  {
   "cell_type": "markdown",
   "id": "1e0e761f-af6a-4fc0-b961-d1c0d0688176",
   "metadata": {},
   "source": [
    "# 6.5.2 等宽分箱 pd.qcut()"
   ]
  },
  {
   "cell_type": "code",
   "execution_count": 12,
   "id": "8ffe7ed2-dbb0-47d6-b0f1-a3039e174b97",
   "metadata": {},
   "outputs": [
    {
     "data": {
      "text/plain": [
       "0      (73.0, 93.0]\n",
       "1    (23.999, 73.0]\n",
       "2    (23.999, 73.0]\n",
       "3      (73.0, 93.0]\n",
       "4      (73.0, 93.0]\n",
       "5    (23.999, 73.0]\n",
       "Name: Q1, dtype: category\n",
       "Categories (2, interval[float64, right]): [(23.999, 73.0] < (73.0, 93.0]]"
      ]
     },
     "execution_count": 12,
     "metadata": {},
     "output_type": "execute_result"
    }
   ],
   "source": [
    "# 按Q1成绩分成2组\n",
    "pd.qcut(df.Q1,q=2)"
   ]
  },
  {
   "cell_type": "code",
   "execution_count": 13,
   "id": "d995131d-b564-4aba-bf9e-addcfe826c06",
   "metadata": {},
   "outputs": [
    {
     "data": {
      "text/html": [
       "<div>\n",
       "<style scoped>\n",
       "    .dataframe tbody tr th:only-of-type {\n",
       "        vertical-align: middle;\n",
       "    }\n",
       "\n",
       "    .dataframe tbody tr th {\n",
       "        vertical-align: top;\n",
       "    }\n",
       "\n",
       "    .dataframe thead th {\n",
       "        text-align: right;\n",
       "    }\n",
       "</style>\n",
       "<table border=\"1\" class=\"dataframe\">\n",
       "  <thead>\n",
       "    <tr style=\"text-align: right;\">\n",
       "      <th></th>\n",
       "      <th>name</th>\n",
       "      <th>team</th>\n",
       "      <th>Q1</th>\n",
       "      <th>Q2</th>\n",
       "      <th>Q3</th>\n",
       "      <th>Q4</th>\n",
       "      <th>1city</th>\n",
       "      <th>what color</th>\n",
       "    </tr>\n",
       "  </thead>\n",
       "  <tbody>\n",
       "    <tr>\n",
       "      <th>0</th>\n",
       "      <td>Liver</td>\n",
       "      <td>E</td>\n",
       "      <td>89</td>\n",
       "      <td>21</td>\n",
       "      <td>24</td>\n",
       "      <td>1</td>\n",
       "      <td>shanghai</td>\n",
       "      <td>yellew</td>\n",
       "    </tr>\n",
       "    <tr>\n",
       "      <th>1</th>\n",
       "      <td>Arry</td>\n",
       "      <td>C</td>\n",
       "      <td>55</td>\n",
       "      <td>37</td>\n",
       "      <td>37</td>\n",
       "      <td>2</td>\n",
       "      <td>nanjin</td>\n",
       "      <td>red</td>\n",
       "    </tr>\n",
       "    <tr>\n",
       "      <th>2</th>\n",
       "      <td>Ack</td>\n",
       "      <td>A</td>\n",
       "      <td>57</td>\n",
       "      <td>60</td>\n",
       "      <td>33</td>\n",
       "      <td>3</td>\n",
       "      <td>beijin</td>\n",
       "      <td>purple</td>\n",
       "    </tr>\n",
       "    <tr>\n",
       "      <th>3</th>\n",
       "      <td>Eorge</td>\n",
       "      <td>C</td>\n",
       "      <td>93</td>\n",
       "      <td>4</td>\n",
       "      <td>71</td>\n",
       "      <td>4</td>\n",
       "      <td>tianjin</td>\n",
       "      <td>blue</td>\n",
       "    </tr>\n",
       "    <tr>\n",
       "      <th>4</th>\n",
       "      <td>Oah</td>\n",
       "      <td>D</td>\n",
       "      <td>93</td>\n",
       "      <td>49</td>\n",
       "      <td>44</td>\n",
       "      <td>5</td>\n",
       "      <td>henan</td>\n",
       "      <td>black</td>\n",
       "    </tr>\n",
       "    <tr>\n",
       "      <th>5</th>\n",
       "      <td>Harlie</td>\n",
       "      <td>C</td>\n",
       "      <td>24</td>\n",
       "      <td>13</td>\n",
       "      <td>87</td>\n",
       "      <td>6</td>\n",
       "      <td>hebei</td>\n",
       "      <td>pink</td>\n",
       "    </tr>\n",
       "  </tbody>\n",
       "</table>\n",
       "</div>"
      ],
      "text/plain": [
       "     name team  Q1  Q2  Q3  Q4     1city what color\n",
       "0   Liver    E  89  21  24   1  shanghai     yellew\n",
       "1    Arry    C  55  37  37   2    nanjin        red\n",
       "2     Ack    A  57  60  33   3    beijin     purple\n",
       "3   Eorge    C  93   4  71   4   tianjin       blue\n",
       "4     Oah    D  93  49  44   5     henan      black\n",
       "5  Harlie    C  24  13  87   6     hebei       pink"
      ]
     },
     "execution_count": 13,
     "metadata": {},
     "output_type": "execute_result"
    }
   ],
   "source": [
    "df"
   ]
  },
  {
   "cell_type": "code",
   "execution_count": 14,
   "id": "f3f2020c-c914-4b7b-8a32-bc384750b300",
   "metadata": {},
   "outputs": [
    {
     "data": {
      "text/plain": [
       "[(73.0, 93.0], (23.999, 73.0]]\n",
       "Categories (2, interval[float64, right]): [(23.999, 73.0] < (73.0, 93.0]]"
      ]
     },
     "execution_count": 14,
     "metadata": {},
     "output_type": "execute_result"
    }
   ],
   "source": [
    "# 查看分组区间\n",
    "pd.qcut(df.Q1,q=2).unique()"
   ]
  },
  {
   "cell_type": "code",
   "execution_count": 15,
   "id": "20972f59-cdbc-4251-ac09-dcf7c37fad81",
   "metadata": {},
   "outputs": [
    {
     "data": {
      "text/plain": [
       "Interval(23.999, 73.0, closed='right')"
      ]
     },
     "execution_count": 15,
     "metadata": {},
     "output_type": "execute_result"
    }
   ],
   "source": [
    "pd.qcut(df.Q1,q=2).unique()[1]"
   ]
  },
  {
   "cell_type": "code",
   "execution_count": 16,
   "id": "704da679-0301-4022-91c7-b0ce81cd22f2",
   "metadata": {},
   "outputs": [
    {
     "ename": "TypeError",
     "evalue": "'pandas._libs.interval.Interval' object is not subscriptable",
     "output_type": "error",
     "traceback": [
      "\u001b[0;31m---------------------------------------------------------------------------\u001b[0m",
      "\u001b[0;31mTypeError\u001b[0m                                 Traceback (most recent call last)",
      "Cell \u001b[0;32mIn[16], line 1\u001b[0m\n\u001b[0;32m----> 1\u001b[0m \u001b[43mpd\u001b[49m\u001b[38;5;241;43m.\u001b[39;49m\u001b[43mqcut\u001b[49m\u001b[43m(\u001b[49m\u001b[43mdf\u001b[49m\u001b[38;5;241;43m.\u001b[39;49m\u001b[43mQ1\u001b[49m\u001b[43m,\u001b[49m\u001b[43mq\u001b[49m\u001b[38;5;241;43m=\u001b[39;49m\u001b[38;5;241;43m2\u001b[39;49m\u001b[43m)\u001b[49m\u001b[38;5;241;43m.\u001b[39;49m\u001b[43munique\u001b[49m\u001b[43m(\u001b[49m\u001b[43m)\u001b[49m\u001b[43m[\u001b[49m\u001b[38;5;241;43m1\u001b[39;49m\u001b[43m]\u001b[49m\u001b[43m[\u001b[49m\u001b[38;5;241;43m1\u001b[39;49m\u001b[43m]\u001b[49m\n",
      "\u001b[0;31mTypeError\u001b[0m: 'pandas._libs.interval.Interval' object is not subscriptable"
     ]
    }
   ],
   "source": []
  },
  {
   "cell_type": "code",
   "execution_count": null,
   "id": "df9c6511-b4b6-4b74-b5ad-04dadba100df",
   "metadata": {},
   "outputs": [],
   "source": []
  }
 ],
 "metadata": {
  "kernelspec": {
   "display_name": "Python 3 (ipykernel)",
   "language": "python",
   "name": "python3"
  },
  "language_info": {
   "codemirror_mode": {
    "name": "ipython",
    "version": 3
   },
   "file_extension": ".py",
   "mimetype": "text/x-python",
   "name": "python",
   "nbconvert_exporter": "python",
   "pygments_lexer": "ipython3",
   "version": "3.8.16"
  }
 },
 "nbformat": 4,
 "nbformat_minor": 5
}
