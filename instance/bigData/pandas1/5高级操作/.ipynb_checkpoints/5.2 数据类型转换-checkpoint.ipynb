{
 "cells": [
  {
   "cell_type": "code",
   "execution_count": 1,
   "id": "1fefd234-2f90-4416-8fa6-6c4ee53c6706",
   "metadata": {},
   "outputs": [],
   "source": [
    "import pandas as pd"
   ]
  },
  {
   "cell_type": "markdown",
   "id": "ff6f3100-5ba0-40fa-91c0-ac0df3df87e2",
   "metadata": {},
   "source": [
    "# 5.2.1 推断类型"
   ]
  },
  {
   "cell_type": "code",
   "execution_count": 14,
   "id": "a3364346-3381-457a-9bae-41295bca4e2f",
   "metadata": {},
   "outputs": [
    {
     "data": {
      "text/html": [
       "<div>\n",
       "<style scoped>\n",
       "    .dataframe tbody tr th:only-of-type {\n",
       "        vertical-align: middle;\n",
       "    }\n",
       "\n",
       "    .dataframe tbody tr th {\n",
       "        vertical-align: top;\n",
       "    }\n",
       "\n",
       "    .dataframe thead th {\n",
       "        text-align: right;\n",
       "    }\n",
       "</style>\n",
       "<table border=\"1\" class=\"dataframe\">\n",
       "  <thead>\n",
       "    <tr style=\"text-align: right;\">\n",
       "      <th></th>\n",
       "      <th>name</th>\n",
       "      <th>team</th>\n",
       "      <th>Q1</th>\n",
       "      <th>Q2</th>\n",
       "      <th>Q3</th>\n",
       "      <th>Q4</th>\n",
       "      <th>1city</th>\n",
       "      <th>what color</th>\n",
       "    </tr>\n",
       "  </thead>\n",
       "  <tbody>\n",
       "    <tr>\n",
       "      <th>0</th>\n",
       "      <td>Liver</td>\n",
       "      <td>E</td>\n",
       "      <td>89</td>\n",
       "      <td>21</td>\n",
       "      <td>24</td>\n",
       "      <td>1</td>\n",
       "      <td>shanghai</td>\n",
       "      <td>yellew</td>\n",
       "    </tr>\n",
       "    <tr>\n",
       "      <th>1</th>\n",
       "      <td>Arry</td>\n",
       "      <td>C</td>\n",
       "      <td>55</td>\n",
       "      <td>37</td>\n",
       "      <td>37</td>\n",
       "      <td>2</td>\n",
       "      <td>nanjin</td>\n",
       "      <td>red</td>\n",
       "    </tr>\n",
       "    <tr>\n",
       "      <th>2</th>\n",
       "      <td>Ack</td>\n",
       "      <td>A</td>\n",
       "      <td>57</td>\n",
       "      <td>60</td>\n",
       "      <td>33</td>\n",
       "      <td>3</td>\n",
       "      <td>beijin</td>\n",
       "      <td>purple</td>\n",
       "    </tr>\n",
       "    <tr>\n",
       "      <th>3</th>\n",
       "      <td>Eorge</td>\n",
       "      <td>C</td>\n",
       "      <td>93</td>\n",
       "      <td>4</td>\n",
       "      <td>71</td>\n",
       "      <td>4</td>\n",
       "      <td>tianjin</td>\n",
       "      <td>blue</td>\n",
       "    </tr>\n",
       "    <tr>\n",
       "      <th>4</th>\n",
       "      <td>Oah</td>\n",
       "      <td>D</td>\n",
       "      <td>93</td>\n",
       "      <td>49</td>\n",
       "      <td>44</td>\n",
       "      <td>5</td>\n",
       "      <td>henan</td>\n",
       "      <td>black</td>\n",
       "    </tr>\n",
       "    <tr>\n",
       "      <th>5</th>\n",
       "      <td>Harlie</td>\n",
       "      <td>C</td>\n",
       "      <td>24</td>\n",
       "      <td>13</td>\n",
       "      <td>87</td>\n",
       "      <td>6</td>\n",
       "      <td>hebei</td>\n",
       "      <td>pink</td>\n",
       "    </tr>\n",
       "  </tbody>\n",
       "</table>\n",
       "</div>"
      ],
      "text/plain": [
       "     name team  Q1  Q2  Q3  Q4     1city what color\n",
       "0   Liver    E  89  21  24   1  shanghai     yellew\n",
       "1    Arry    C  55  37  37   2    nanjin        red\n",
       "2     Ack    A  57  60  33   3    beijin     purple\n",
       "3   Eorge    C  93   4  71   4   tianjin       blue\n",
       "4     Oah    D  93  49  44   5     henan      black\n",
       "5  Harlie    C  24  13  87   6     hebei       pink"
      ]
     },
     "execution_count": 14,
     "metadata": {},
     "output_type": "execute_result"
    }
   ],
   "source": [
    "df = pd.read_excel('team2.xlsx')\n",
    "df"
   ]
  },
  {
   "cell_type": "code",
   "execution_count": 15,
   "id": "8fd40222-7828-417e-a954-78434260b6a9",
   "metadata": {},
   "outputs": [
    {
     "data": {
      "text/plain": [
       "name          object\n",
       "team          object\n",
       "Q1             int64\n",
       "Q2             int64\n",
       "Q3             int64\n",
       "Q4             int64\n",
       "1city         object\n",
       "what color    object\n",
       "dtype: object"
      ]
     },
     "execution_count": 15,
     "metadata": {},
     "output_type": "execute_result"
    }
   ],
   "source": [
    "# 自动转换合适的数据类型\n",
    "df.infer_objects().dtypes"
   ]
  },
  {
   "cell_type": "code",
   "execution_count": 16,
   "id": "d5b66c5c-f069-45e2-b15a-ad74a3ee9842",
   "metadata": {},
   "outputs": [
    {
     "data": {
      "text/plain": [
       "name          string\n",
       "team          string\n",
       "Q1             Int64\n",
       "Q2             Int64\n",
       "Q3             Int64\n",
       "Q4             Int64\n",
       "1city         string\n",
       "what color    string\n",
       "dtype: object"
      ]
     },
     "execution_count": 16,
     "metadata": {},
     "output_type": "execute_result"
    }
   ],
   "source": [
    "# 推断后的Df\n",
    "df.convert_dtypes().dtypes"
   ]
  },
  {
   "cell_type": "markdown",
   "id": "a641e1b9-dcff-4b84-bb2e-bce750aeca60",
   "metadata": {},
   "source": [
    "# 5.2.2 指定类型"
   ]
  },
  {
   "cell_type": "markdown",
   "id": "0f426e13-93ca-4624-8e98-1c4c99bab200",
   "metadata": {},
   "source": [
    "# 5.2.3 类型转换astype()"
   ]
  },
  {
   "cell_type": "code",
   "execution_count": 17,
   "id": "984b0a45-a078-490b-b53e-0793f9abf6ff",
   "metadata": {},
   "outputs": [
    {
     "data": {
      "text/plain": [
       "dtype('int64')"
      ]
     },
     "execution_count": 17,
     "metadata": {},
     "output_type": "execute_result"
    }
   ],
   "source": [
    "df.Q1.dtypes"
   ]
  },
  {
   "cell_type": "code",
   "execution_count": 35,
   "id": "eefa6f07-9281-4bc4-9fd9-b8a55454de87",
   "metadata": {},
   "outputs": [],
   "source": [
    "df.Q1= df.Q1.astype('float64')"
   ]
  },
  {
   "cell_type": "code",
   "execution_count": 36,
   "id": "ee2fa52e-3d35-4960-bf19-51fea2227fd5",
   "metadata": {},
   "outputs": [
    {
     "data": {
      "text/plain": [
       "name           object\n",
       "team           object\n",
       "Q1            float64\n",
       "Q2              int64\n",
       "Q3              int64\n",
       "Q4              int64\n",
       "1city          object\n",
       "what color     object\n",
       "dtype: object"
      ]
     },
     "execution_count": 36,
     "metadata": {},
     "output_type": "execute_result"
    }
   ],
   "source": [
    "df.dtypes"
   ]
  },
  {
   "cell_type": "markdown",
   "id": "3f73b38f-c348-4a83-b29e-20bd82a98bde",
   "metadata": {},
   "source": [
    "# 5.2.4 转为时间类型"
   ]
  },
  {
   "cell_type": "code",
   "execution_count": 31,
   "id": "857806b9-5faa-422c-a569-9cfb1262c994",
   "metadata": {},
   "outputs": [
    {
     "data": {
      "text/plain": [
       "0    20200801\n",
       "1    20200802\n",
       "dtype: object"
      ]
     },
     "execution_count": 31,
     "metadata": {},
     "output_type": "execute_result"
    }
   ],
   "source": [
    "t = pd.Series(['20200801','20200802'])\n",
    "t"
   ]
  },
  {
   "cell_type": "code",
   "execution_count": 32,
   "id": "c54ea6bf-0bf8-4004-86d9-4db247fd0590",
   "metadata": {},
   "outputs": [
    {
     "data": {
      "text/plain": [
       "0   2020-08-01\n",
       "1   2020-08-02\n",
       "dtype: datetime64[ns]"
      ]
     },
     "execution_count": 32,
     "metadata": {},
     "output_type": "execute_result"
    }
   ],
   "source": [
    "pd.to_datetime(t)"
   ]
  },
  {
   "cell_type": "code",
   "execution_count": 33,
   "id": "0651ea6a-1cd0-43fd-907f-f781705665d6",
   "metadata": {},
   "outputs": [
    {
     "data": {
      "text/plain": [
       "0   2020-08-01\n",
       "1   2020-08-02\n",
       "dtype: datetime64[ns]"
      ]
     },
     "execution_count": 33,
     "metadata": {},
     "output_type": "execute_result"
    }
   ],
   "source": [
    "t.astype('datetime64[ns]')"
   ]
  },
  {
   "cell_type": "code",
   "execution_count": null,
   "id": "05647c14-8339-4dbb-9dd0-20b44cf33e96",
   "metadata": {},
   "outputs": [],
   "source": []
  }
 ],
 "metadata": {
  "kernelspec": {
   "display_name": "Python 3 (ipykernel)",
   "language": "python",
   "name": "python3"
  },
  "language_info": {
   "codemirror_mode": {
    "name": "ipython",
    "version": 3
   },
   "file_extension": ".py",
   "mimetype": "text/x-python",
   "name": "python",
   "nbconvert_exporter": "python",
   "pygments_lexer": "ipython3",
   "version": "3.8.16"
  }
 },
 "nbformat": 4,
 "nbformat_minor": 5
}
