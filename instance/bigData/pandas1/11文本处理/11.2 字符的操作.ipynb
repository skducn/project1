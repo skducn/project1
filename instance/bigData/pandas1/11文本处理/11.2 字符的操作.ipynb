{
 "cells": [
  {
   "cell_type": "code",
   "execution_count": 1,
   "id": "8e6f9d1c-f749-4118-8384-629a03510124",
   "metadata": {},
   "outputs": [],
   "source": [
    "import numpy as np, pandas as pd"
   ]
  },
  {
   "cell_type": "markdown",
   "id": "8be17654-b5f6-4c4c-b004-38aca673ad14",
   "metadata": {},
   "source": [
    "# 11.2.1 .str访问器"
   ]
  },
  {
   "cell_type": "code",
   "execution_count": 4,
   "id": "f2d93584-f6f7-4a43-a150-c7e27b3c6a15",
   "metadata": {},
   "outputs": [
    {
     "data": {
      "text/plain": [
       "0       A\n",
       "1     Boy\n",
       "2       2\n",
       "3    <NA>\n",
       "dtype: string"
      ]
     },
     "execution_count": 4,
     "metadata": {},
     "output_type": "execute_result"
    }
   ],
   "source": [
    "# 对内容进行字符操作\n",
    "s = pd.Series(['A','Boy','2',np.nan], dtype=\"string\")\n",
    "s"
   ]
  },
  {
   "cell_type": "code",
   "execution_count": 5,
   "id": "e9b81695-e8a9-45f6-9dfd-fe8085a5951c",
   "metadata": {},
   "outputs": [
    {
     "data": {
      "text/plain": [
       "0       a\n",
       "1     boy\n",
       "2       2\n",
       "3    <NA>\n",
       "dtype: string"
      ]
     },
     "execution_count": 5,
     "metadata": {},
     "output_type": "execute_result"
    }
   ],
   "source": [
    "# 对字符转换小写，忽略数字和NaN\n",
    "s.str.lower()"
   ]
  },
  {
   "cell_type": "code",
   "execution_count": 6,
   "id": "56bdfc7d-6229-427d-af07-b5de78bbe3d1",
   "metadata": {},
   "outputs": [
    {
     "data": {
      "text/html": [
       "<div>\n",
       "<style scoped>\n",
       "    .dataframe tbody tr th:only-of-type {\n",
       "        vertical-align: middle;\n",
       "    }\n",
       "\n",
       "    .dataframe tbody tr th {\n",
       "        vertical-align: top;\n",
       "    }\n",
       "\n",
       "    .dataframe thead th {\n",
       "        text-align: right;\n",
       "    }\n",
       "</style>\n",
       "<table border=\"1\" class=\"dataframe\">\n",
       "  <thead>\n",
       "    <tr style=\"text-align: right;\">\n",
       "      <th></th>\n",
       "      <th>name</th>\n",
       "      <th>team</th>\n",
       "      <th>Q1</th>\n",
       "      <th>Q2</th>\n",
       "      <th>Q3</th>\n",
       "      <th>Q4</th>\n",
       "      <th>1city</th>\n",
       "      <th>what color</th>\n",
       "    </tr>\n",
       "  </thead>\n",
       "  <tbody>\n",
       "    <tr>\n",
       "      <th>0</th>\n",
       "      <td>Liver</td>\n",
       "      <td>E</td>\n",
       "      <td>89</td>\n",
       "      <td>21</td>\n",
       "      <td>24</td>\n",
       "      <td>1</td>\n",
       "      <td>shanghai</td>\n",
       "      <td>yellew</td>\n",
       "    </tr>\n",
       "    <tr>\n",
       "      <th>1</th>\n",
       "      <td>Arry</td>\n",
       "      <td>C</td>\n",
       "      <td>55</td>\n",
       "      <td>37</td>\n",
       "      <td>37</td>\n",
       "      <td>2</td>\n",
       "      <td>nanjin</td>\n",
       "      <td>red</td>\n",
       "    </tr>\n",
       "    <tr>\n",
       "      <th>2</th>\n",
       "      <td>Ack</td>\n",
       "      <td>A</td>\n",
       "      <td>57</td>\n",
       "      <td>60</td>\n",
       "      <td>33</td>\n",
       "      <td>3</td>\n",
       "      <td>beijin</td>\n",
       "      <td>purple</td>\n",
       "    </tr>\n",
       "    <tr>\n",
       "      <th>3</th>\n",
       "      <td>Eorge</td>\n",
       "      <td>C</td>\n",
       "      <td>93</td>\n",
       "      <td>4</td>\n",
       "      <td>71</td>\n",
       "      <td>4</td>\n",
       "      <td>tianjin</td>\n",
       "      <td>blue</td>\n",
       "    </tr>\n",
       "    <tr>\n",
       "      <th>4</th>\n",
       "      <td>Oah</td>\n",
       "      <td>D</td>\n",
       "      <td>93</td>\n",
       "      <td>49</td>\n",
       "      <td>44</td>\n",
       "      <td>5</td>\n",
       "      <td>henan</td>\n",
       "      <td>black</td>\n",
       "    </tr>\n",
       "    <tr>\n",
       "      <th>5</th>\n",
       "      <td>Harlie</td>\n",
       "      <td>C</td>\n",
       "      <td>24</td>\n",
       "      <td>13</td>\n",
       "      <td>87</td>\n",
       "      <td>6</td>\n",
       "      <td>hebei</td>\n",
       "      <td>pink</td>\n",
       "    </tr>\n",
       "  </tbody>\n",
       "</table>\n",
       "</div>"
      ],
      "text/plain": [
       "     name team  Q1  Q2  Q3  Q4     1city what color\n",
       "0   Liver    E  89  21  24   1  shanghai     yellew\n",
       "1    Arry    C  55  37  37   2    nanjin        red\n",
       "2     Ack    A  57  60  33   3    beijin     purple\n",
       "3   Eorge    C  93   4  71   4   tianjin       blue\n",
       "4     Oah    D  93  49  44   5     henan      black\n",
       "5  Harlie    C  24  13  87   6     hebei       pink"
      ]
     },
     "execution_count": 6,
     "metadata": {},
     "output_type": "execute_result"
    }
   ],
   "source": [
    "df = pd.read_excel(\"../team2.xlsx\")\n",
    "df"
   ]
  },
  {
   "cell_type": "code",
   "execution_count": 8,
   "id": "f4af406e-6044-49d6-9002-df311b789341",
   "metadata": {},
   "outputs": [
    {
     "data": {
      "text/plain": [
       "0    89\n",
       "1    55\n",
       "2    57\n",
       "3    93\n",
       "4    93\n",
       "5    24\n",
       "Name: Q1, dtype: object"
      ]
     },
     "execution_count": 8,
     "metadata": {},
     "output_type": "execute_result"
    }
   ],
   "source": [
    "# 对于非字符类型，可以先转换再使用\n",
    "\n",
    "# 将Q1转为object对象\n",
    "df.Q1.astype(str)"
   ]
  },
  {
   "cell_type": "code",
   "execution_count": 10,
   "id": "124e18f2-0a47-4a05-ae21-7d190a4a051d",
   "metadata": {},
   "outputs": [
    {
     "data": {
      "text/plain": [
       "dtype('O')"
      ]
     },
     "execution_count": 10,
     "metadata": {},
     "output_type": "execute_result"
    }
   ],
   "source": [
    "df.team.dtype"
   ]
  },
  {
   "cell_type": "code",
   "execution_count": 11,
   "id": "780c5447-4e2f-4c84-9a49-e1a1c83b9a7d",
   "metadata": {},
   "outputs": [
    {
     "data": {
      "text/plain": [
       "0    E\n",
       "1    C\n",
       "2    A\n",
       "3    C\n",
       "4    D\n",
       "5    C\n",
       "Name: team, dtype: string"
      ]
     },
     "execution_count": 11,
     "metadata": {},
     "output_type": "execute_result"
    }
   ],
   "source": [
    "# 将object转为string\n",
    "df.team.astype('string')"
   ]
  },
  {
   "cell_type": "code",
   "execution_count": 19,
   "id": "f6743c1b-239b-4ec3-85f7-796a09868aef",
   "metadata": {},
   "outputs": [
    {
     "data": {
      "text/plain": [
       "Index(['name', 'team', 'q1', 'q2', 'q3', 'q4', '1city', 'what color'], dtype='object')"
      ]
     },
     "execution_count": 19,
     "metadata": {},
     "output_type": "execute_result"
    }
   ],
   "source": [
    "# 对表头操作，转换成小写\n",
    "df.columns.str.lower()"
   ]
  },
  {
   "cell_type": "code",
   "execution_count": 17,
   "id": "6b904eba-ab0e-49f9-8cbd-c9bb87f657fd",
   "metadata": {},
   "outputs": [
    {
     "data": {
      "text/plain": [
       "Index(['name', 'team', 'Q1', 'Q2', 'Q3', 'Q4', '1city', 'what color'], dtype='object')"
      ]
     },
     "execution_count": 17,
     "metadata": {},
     "output_type": "execute_result"
    }
   ],
   "source": [
    "df.columns"
   ]
  },
  {
   "cell_type": "code",
   "execution_count": 23,
   "id": "76aeb91d-3fd8-479c-b17f-60fa206da14d",
   "metadata": {},
   "outputs": [
    {
     "data": {
      "text/plain": [
       "Index(['name', 'team', '_1', '_2', '_3', '_4', '1city', 'what color'], dtype='object')"
      ]
     },
     "execution_count": 23,
     "metadata": {},
     "output_type": "execute_result"
    }
   ],
   "source": [
    "# str连续操作字符串\n",
    "df.columns.str.lower().str.replace('q','_')"
   ]
  },
  {
   "cell_type": "code",
   "execution_count": 24,
   "id": "f16bc748-017d-4a0d-abf4-52659ae44a56",
   "metadata": {},
   "outputs": [
    {
     "data": {
      "text/plain": [
       "'_3'"
      ]
     },
     "execution_count": 24,
     "metadata": {},
     "output_type": "execute_result"
    }
   ],
   "source": [
    "df.columns.str.lower().str.replace('q','_')[4]"
   ]
  },
  {
   "cell_type": "markdown",
   "id": "726c823f-c5cb-4561-8354-7125f9e17cfb",
   "metadata": {},
   "source": [
    "# 11.2.2 文本格式"
   ]
  },
  {
   "cell_type": "code",
   "execution_count": 25,
   "id": "b6373aad-a1fd-4263-a68c-cc194a20304e",
   "metadata": {},
   "outputs": [
    {
     "data": {
      "text/plain": [
       "0                 lower\n",
       "1              CAPITALS\n",
       "2    this is a sentence\n",
       "3              SeApCaSe\n",
       "dtype: object"
      ]
     },
     "execution_count": 25,
     "metadata": {},
     "output_type": "execute_result"
    }
   ],
   "source": [
    "s = pd.Series(['lower','CAPITALS','this is a sentence','SeApCaSe'])\n",
    "s"
   ]
  },
  {
   "cell_type": "code",
   "execution_count": 26,
   "id": "27033faf-3fdb-4575-b683-f3bbcf2a991e",
   "metadata": {},
   "outputs": [
    {
     "data": {
      "text/plain": [
       "0                 lower\n",
       "1              capitals\n",
       "2    this is a sentence\n",
       "3              seapcase\n",
       "dtype: object"
      ]
     },
     "execution_count": 26,
     "metadata": {},
     "output_type": "execute_result"
    }
   ],
   "source": [
    "s.str.lower()"
   ]
  },
  {
   "cell_type": "code",
   "execution_count": 27,
   "id": "dcdeafbf-ce73-4ed4-a399-694103b90990",
   "metadata": {},
   "outputs": [
    {
     "data": {
      "text/plain": [
       "0                 LOWER\n",
       "1              CAPITALS\n",
       "2    THIS IS A SENTENCE\n",
       "3              SEAPCASE\n",
       "dtype: object"
      ]
     },
     "execution_count": 27,
     "metadata": {},
     "output_type": "execute_result"
    }
   ],
   "source": [
    "s.str.upper()"
   ]
  },
  {
   "cell_type": "code",
   "execution_count": 28,
   "id": "fb5ffaab-5ba9-4cfe-ad79-d7740079258c",
   "metadata": {},
   "outputs": [
    {
     "data": {
      "text/plain": [
       "0                 Lower\n",
       "1              Capitals\n",
       "2    This Is A Sentence\n",
       "3              Seapcase\n",
       "dtype: object"
      ]
     },
     "execution_count": 28,
     "metadata": {},
     "output_type": "execute_result"
    }
   ],
   "source": [
    "# 标题格式，每个单词大写\n",
    "s.str.title()"
   ]
  },
  {
   "cell_type": "code",
   "execution_count": 29,
   "id": "3375bd85-9dd7-4775-9923-f725327e1a62",
   "metadata": {},
   "outputs": [
    {
     "data": {
      "text/plain": [
       "0                 Lower\n",
       "1              Capitals\n",
       "2    This is a sentence\n",
       "3              Seapcase\n",
       "dtype: object"
      ]
     },
     "execution_count": 29,
     "metadata": {},
     "output_type": "execute_result"
    }
   ],
   "source": [
    "# 首字母大写\n",
    "s.str.capitalize()"
   ]
  },
  {
   "cell_type": "code",
   "execution_count": 30,
   "id": "800d944c-e867-4083-9598-17810b96bc00",
   "metadata": {},
   "outputs": [
    {
     "data": {
      "text/plain": [
       "0                 LOWER\n",
       "1              capitals\n",
       "2    THIS IS A SENTENCE\n",
       "3              sEaPcAsE\n",
       "dtype: object"
      ]
     },
     "execution_count": 30,
     "metadata": {},
     "output_type": "execute_result"
    }
   ],
   "source": [
    "# 大小写互换\n",
    "s.str.swapcase()"
   ]
  },
  {
   "cell_type": "code",
   "execution_count": 31,
   "id": "87f11195-3100-4a87-9752-d272d84f66d5",
   "metadata": {},
   "outputs": [
    {
     "data": {
      "text/plain": [
       "0                 lower\n",
       "1              capitals\n",
       "2    this is a sentence\n",
       "3              seapcase\n",
       "dtype: object"
      ]
     },
     "execution_count": 31,
     "metadata": {},
     "output_type": "execute_result"
    }
   ],
   "source": [
    "# 转小写，支持其他语言\n",
    "s.str.casefold()"
   ]
  },
  {
   "cell_type": "markdown",
   "id": "2385a1ad-0fb5-411d-9dde-965ba7355d37",
   "metadata": {},
   "source": [
    "# 11.2.3 文本对齐"
   ]
  },
  {
   "cell_type": "code",
   "execution_count": 32,
   "id": "0c1907d5-10e1-41e6-aa0a-f9cdc36a6e5d",
   "metadata": {},
   "outputs": [
    {
     "data": {
      "text/plain": [
       "0                 lower\n",
       "1              CAPITALS\n",
       "2    this is a sentence\n",
       "3              SeApCaSe\n",
       "dtype: object"
      ]
     },
     "execution_count": 32,
     "metadata": {},
     "output_type": "execute_result"
    }
   ],
   "source": [
    "s"
   ]
  },
  {
   "cell_type": "code",
   "execution_count": 34,
   "id": "9619d70f-c45b-4582-ac2e-86d25dea2f06",
   "metadata": {},
   "outputs": [
    {
     "data": {
      "text/plain": [
       "0    ----------------------lower-------------------...\n",
       "1    ---------------------CAPITALS-----------------...\n",
       "2    ----------------this is a sentence------------...\n",
       "3    ---------------------SeApCaSe-----------------...\n",
       "dtype: object"
      ]
     },
     "execution_count": 34,
     "metadata": {},
     "output_type": "execute_result"
    }
   ],
   "source": [
    "# 居中对齐，宽度50，用‘-’左右填充\n",
    "s.str.center(50, fillchar='-')"
   ]
  },
  {
   "cell_type": "code",
   "execution_count": 35,
   "id": "9d62aa52-3470-4cd0-959e-4598d1ed7792",
   "metadata": {},
   "outputs": [
    {
     "data": {
      "text/plain": [
       "0    lower-----------------------------------------...\n",
       "1    CAPITALS--------------------------------------...\n",
       "2    this is a sentence----------------------------...\n",
       "3    SeApCaSe--------------------------------------...\n",
       "dtype: object"
      ]
     },
     "execution_count": 35,
     "metadata": {},
     "output_type": "execute_result"
    }
   ],
   "source": [
    "# 左对齐\n",
    "s.str.ljust(50, fillchar='-')"
   ]
  },
  {
   "cell_type": "code",
   "execution_count": 36,
   "id": "517a5fc4-d013-4370-8f3d-423cb0a9c936",
   "metadata": {},
   "outputs": [
    {
     "data": {
      "text/plain": [
       "0    ---------------------------------------------l...\n",
       "1    ------------------------------------------CAPI...\n",
       "2    --------------------------------this is a sent...\n",
       "3    ------------------------------------------SeAp...\n",
       "dtype: object"
      ]
     },
     "execution_count": 36,
     "metadata": {},
     "output_type": "execute_result"
    }
   ],
   "source": [
    "# 右对齐\n",
    "s.str.rjust(50, fillchar='-')"
   ]
  },
  {
   "cell_type": "code",
   "execution_count": 39,
   "id": "4e0c6a6b-adb6-408e-9484-08ffd15a3126",
   "metadata": {},
   "outputs": [
    {
     "data": {
      "text/plain": [
       "0    ---------------------------------------------l...\n",
       "1    ------------------------------------------CAPI...\n",
       "2    --------------------------------this is a sent...\n",
       "3    ------------------------------------------SeAp...\n",
       "dtype: object"
      ]
     },
     "execution_count": 39,
     "metadata": {},
     "output_type": "execute_result"
    }
   ],
   "source": [
    "s.str.pad(width=50, side='left', fillchar='-')\n",
    "# 等同于右对齐"
   ]
  },
  {
   "cell_type": "code",
   "execution_count": 41,
   "id": "01077162-f721-471c-91a2-dd871a5061a9",
   "metadata": {},
   "outputs": [
    {
     "data": {
      "text/plain": [
       "0         00000000lower\n",
       "1         00000CAPITALS\n",
       "2    this is a sentence\n",
       "3         00000SeApCaSe\n",
       "dtype: object"
      ]
     },
     "execution_count": 41,
     "metadata": {},
     "output_type": "execute_result"
    }
   ],
   "source": [
    "# 不足13位的前面加0\n",
    "s.str.zfill(13)"
   ]
  },
  {
   "cell_type": "markdown",
   "id": "5c25f573-7964-4b13-9f33-214bad4bec9a",
   "metadata": {},
   "source": [
    "# 11.2.4 计数和编码"
   ]
  },
  {
   "cell_type": "code",
   "execution_count": 44,
   "id": "6779db3f-f934-428d-9771-7698838dc852",
   "metadata": {},
   "outputs": [
    {
     "data": {
      "text/plain": [
       "0                 lower\n",
       "1              CAPITALS\n",
       "2    this is a sentence\n",
       "3              SeApCaSe\n",
       "dtype: object"
      ]
     },
     "execution_count": 44,
     "metadata": {},
     "output_type": "execute_result"
    }
   ],
   "source": [
    "s"
   ]
  },
  {
   "cell_type": "code",
   "execution_count": 45,
   "id": "780ec539-bfb2-4d43-b3ce-034f818afba7",
   "metadata": {},
   "outputs": [
    {
     "data": {
      "text/plain": [
       "0    0\n",
       "1    0\n",
       "2    1\n",
       "3    1\n",
       "dtype: int64"
      ]
     },
     "execution_count": 45,
     "metadata": {},
     "output_type": "execute_result"
    }
   ],
   "source": [
    "# 统计字符串中字母a的数量，注意大小写有区别\n",
    "s.str.count('a')"
   ]
  },
  {
   "cell_type": "code",
   "execution_count": 46,
   "id": "a9246c8f-9900-4d04-828f-69b25284be89",
   "metadata": {},
   "outputs": [
    {
     "data": {
      "text/plain": [
       "0     5\n",
       "1     8\n",
       "2    18\n",
       "3     8\n",
       "dtype: int64"
      ]
     },
     "execution_count": 46,
     "metadata": {},
     "output_type": "execute_result"
    }
   ],
   "source": [
    "# 统计字符的长度\n",
    "s.str.len()"
   ]
  },
  {
   "cell_type": "code",
   "execution_count": 47,
   "id": "ec27f6cc-7e64-48d6-a7d6-dec7765ce29a",
   "metadata": {},
   "outputs": [
    {
     "data": {
      "text/plain": [
       "0                 b'lower'\n",
       "1              b'CAPITALS'\n",
       "2    b'this is a sentence'\n",
       "3              b'SeApCaSe'\n",
       "dtype: object"
      ]
     },
     "execution_count": 47,
     "metadata": {},
     "output_type": "execute_result"
    }
   ],
   "source": [
    "# 编码\n",
    "s.str.encode('utf-8')"
   ]
  },
  {
   "cell_type": "code",
   "execution_count": 48,
   "id": "235b5c27-067b-4978-8f67-45e4ee59ece6",
   "metadata": {},
   "outputs": [
    {
     "data": {
      "text/plain": [
       "0   NaN\n",
       "1   NaN\n",
       "2   NaN\n",
       "3   NaN\n",
       "dtype: float64"
      ]
     },
     "execution_count": 48,
     "metadata": {},
     "output_type": "execute_result"
    }
   ],
   "source": [
    "# 解码\n",
    "s.str.decode('utf-8')"
   ]
  },
  {
   "cell_type": "markdown",
   "id": "342e0462-873e-4b04-ad84-7ac28ab25002",
   "metadata": {},
   "source": [
    "# 11.2.5 格式判定"
   ]
  },
  {
   "cell_type": "code",
   "execution_count": 50,
   "id": "5c086bc2-c7fa-4c3b-9267-1e1a7272f306",
   "metadata": {},
   "outputs": [
    {
     "data": {
      "text/plain": [
       "0     True\n",
       "1     True\n",
       "2    False\n",
       "3     True\n",
       "dtype: bool"
      ]
     },
     "execution_count": 50,
     "metadata": {},
     "output_type": "execute_result"
    }
   ],
   "source": [
    "# 是否为字母\n",
    "s.str.isalpha()"
   ]
  },
  {
   "cell_type": "code",
   "execution_count": 51,
   "id": "34275f95-6d31-418a-8e77-3f8492230046",
   "metadata": {},
   "outputs": [
    {
     "data": {
      "text/plain": [
       "0    False\n",
       "1    False\n",
       "2    False\n",
       "3    False\n",
       "dtype: bool"
      ]
     },
     "execution_count": 51,
     "metadata": {},
     "output_type": "execute_result"
    }
   ],
   "source": [
    "# 是否为数字\n",
    "s.str.isnumeric()"
   ]
  },
  {
   "cell_type": "code",
   "execution_count": 52,
   "id": "f5f15d0a-3415-43aa-a57b-3c54d9ff5f7b",
   "metadata": {},
   "outputs": [
    {
     "data": {
      "text/plain": [
       "0     True\n",
       "1     True\n",
       "2    False\n",
       "3     True\n",
       "dtype: bool"
      ]
     },
     "execution_count": 52,
     "metadata": {},
     "output_type": "execute_result"
    }
   ],
   "source": [
    "# 是否有数字和字母组成\n",
    "s.str.isalnum()"
   ]
  },
  {
   "cell_type": "code",
   "execution_count": 53,
   "id": "4fb9f87b-bc2a-4128-a747-dfc010b5b02e",
   "metadata": {},
   "outputs": [
    {
     "data": {
      "text/plain": [
       "0    False\n",
       "1    False\n",
       "2    False\n",
       "3    False\n",
       "dtype: bool"
      ]
     },
     "execution_count": 53,
     "metadata": {},
     "output_type": "execute_result"
    }
   ],
   "source": [
    "# 是否为数字\n",
    "s.str.isdigit()"
   ]
  },
  {
   "cell_type": "code",
   "execution_count": 54,
   "id": "69eedd77-5288-4cfe-a384-d7dbcd193450",
   "metadata": {},
   "outputs": [
    {
     "data": {
      "text/plain": [
       "0    False\n",
       "1    False\n",
       "2    False\n",
       "3    False\n",
       "dtype: bool"
      ]
     },
     "execution_count": 54,
     "metadata": {},
     "output_type": "execute_result"
    }
   ],
   "source": [
    "# 是否为小数\n",
    "s.str.isdecimal()"
   ]
  },
  {
   "cell_type": "code",
   "execution_count": 55,
   "id": "7205b946-d8bf-4d7f-b1a6-8989b95c0e5f",
   "metadata": {},
   "outputs": [
    {
     "data": {
      "text/plain": [
       "0    False\n",
       "1    False\n",
       "2    False\n",
       "3    False\n",
       "dtype: bool"
      ]
     },
     "execution_count": 55,
     "metadata": {},
     "output_type": "execute_result"
    }
   ],
   "source": [
    "# 是否为空格\n",
    "s.str.isspace()"
   ]
  },
  {
   "cell_type": "code",
   "execution_count": 56,
   "id": "f0cf2a2f-9ea1-4ed5-9601-7e6ab728c241",
   "metadata": {},
   "outputs": [
    {
     "data": {
      "text/plain": [
       "0     True\n",
       "1    False\n",
       "2     True\n",
       "3    False\n",
       "dtype: bool"
      ]
     },
     "execution_count": 56,
     "metadata": {},
     "output_type": "execute_result"
    }
   ],
   "source": [
    "s.str.islower()"
   ]
  },
  {
   "cell_type": "code",
   "execution_count": 57,
   "id": "a70e7aab-d952-4bb4-a11d-6bfe7845a223",
   "metadata": {},
   "outputs": [
    {
     "data": {
      "text/plain": [
       "0    False\n",
       "1     True\n",
       "2    False\n",
       "3    False\n",
       "dtype: bool"
      ]
     },
     "execution_count": 57,
     "metadata": {},
     "output_type": "execute_result"
    }
   ],
   "source": [
    "s.str.isupper()"
   ]
  },
  {
   "cell_type": "code",
   "execution_count": 58,
   "id": "2d2fc45d-66e4-4863-a93a-40303d0624ec",
   "metadata": {},
   "outputs": [
    {
     "data": {
      "text/plain": [
       "0    False\n",
       "1    False\n",
       "2    False\n",
       "3    False\n",
       "dtype: bool"
      ]
     },
     "execution_count": 58,
     "metadata": {},
     "output_type": "execute_result"
    }
   ],
   "source": [
    "# 是否标题格式\n",
    "s.str.istitle()"
   ]
  },
  {
   "cell_type": "code",
   "execution_count": null,
   "id": "fbf3fbd7-44a1-4821-a874-b5d6e903ee16",
   "metadata": {},
   "outputs": [],
   "source": []
  }
 ],
 "metadata": {
  "kernelspec": {
   "display_name": "Python 3 (ipykernel)",
   "language": "python",
   "name": "python3"
  },
  "language_info": {
   "codemirror_mode": {
    "name": "ipython",
    "version": 3
   },
   "file_extension": ".py",
   "mimetype": "text/x-python",
   "name": "python",
   "nbconvert_exporter": "python",
   "pygments_lexer": "ipython3",
   "version": "3.8.16"
  }
 },
 "nbformat": 4,
 "nbformat_minor": 5
}
