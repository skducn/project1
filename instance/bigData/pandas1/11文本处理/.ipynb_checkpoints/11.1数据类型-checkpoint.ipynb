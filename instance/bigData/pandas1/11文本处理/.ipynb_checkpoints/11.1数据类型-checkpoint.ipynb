{
 "cells": [
  {
   "cell_type": "code",
   "execution_count": 2,
   "id": "f51c6fa1-162a-46f0-b535-2c6800c0f595",
   "metadata": {},
   "outputs": [],
   "source": [
    "import numpy as np, pandas as pd"
   ]
  },
  {
   "cell_type": "markdown",
   "id": "c54ed518-92e2-448e-a8c2-9c60b5345c6e",
   "metadata": {},
   "source": [
    "# 11.1.1 文本数据类型"
   ]
  },
  {
   "cell_type": "code",
   "execution_count": 3,
   "id": "9a65d14a-d31a-4a46-9b5a-71082288841c",
   "metadata": {},
   "outputs": [
    {
     "data": {
      "text/html": [
       "<div>\n",
       "<style scoped>\n",
       "    .dataframe tbody tr th:only-of-type {\n",
       "        vertical-align: middle;\n",
       "    }\n",
       "\n",
       "    .dataframe tbody tr th {\n",
       "        vertical-align: top;\n",
       "    }\n",
       "\n",
       "    .dataframe thead th {\n",
       "        text-align: right;\n",
       "    }\n",
       "</style>\n",
       "<table border=\"1\" class=\"dataframe\">\n",
       "  <thead>\n",
       "    <tr style=\"text-align: right;\">\n",
       "      <th></th>\n",
       "      <th>A</th>\n",
       "      <th>B</th>\n",
       "      <th>C</th>\n",
       "      <th>D</th>\n",
       "      <th>E</th>\n",
       "    </tr>\n",
       "  </thead>\n",
       "  <tbody>\n",
       "    <tr>\n",
       "      <th>0</th>\n",
       "      <td>a1</td>\n",
       "      <td>b1</td>\n",
       "      <td>1</td>\n",
       "      <td>5.0</td>\n",
       "      <td>5.0</td>\n",
       "    </tr>\n",
       "    <tr>\n",
       "      <th>1</th>\n",
       "      <td>a1</td>\n",
       "      <td>b2</td>\n",
       "      <td>2</td>\n",
       "      <td>6.0</td>\n",
       "      <td>NaN</td>\n",
       "    </tr>\n",
       "    <tr>\n",
       "      <th>2</th>\n",
       "      <td>a2</td>\n",
       "      <td>None</td>\n",
       "      <td>3</td>\n",
       "      <td>NaN</td>\n",
       "      <td>7.0</td>\n",
       "    </tr>\n",
       "    <tr>\n",
       "      <th>3</th>\n",
       "      <td>a2</td>\n",
       "      <td>b2</td>\n",
       "      <td>4</td>\n",
       "      <td>8.0</td>\n",
       "      <td>8.0</td>\n",
       "    </tr>\n",
       "  </tbody>\n",
       "</table>\n",
       "</div>"
      ],
      "text/plain": [
       "    A     B  C    D    E\n",
       "0  a1    b1  1  5.0  5.0\n",
       "1  a1    b2  2  6.0  NaN\n",
       "2  a2  None  3  NaN  7.0\n",
       "3  a2    b2  4  8.0  8.0"
      ]
     },
     "execution_count": 3,
     "metadata": {},
     "output_type": "execute_result"
    }
   ],
   "source": [
    "\n",
    "df = pd.DataFrame({\n",
    "    'A':['a1','a1','a2','a2'],\n",
    "    'B':['b1','b2',None,'b2'],\n",
    "    'C':[1,2,3,4],\n",
    "    'D':[5,6,None,8],\n",
    "    'E':[5,None,7,8]\n",
    "})\n",
    "df"
   ]
  },
  {
   "cell_type": "code",
   "execution_count": 4,
   "id": "dd7b9aa6-2cd3-4fc2-950d-3b89880a0397",
   "metadata": {},
   "outputs": [
    {
     "data": {
      "text/plain": [
       "A     object\n",
       "B     object\n",
       "C      int64\n",
       "D    float64\n",
       "E    float64\n",
       "dtype: object"
      ]
     },
     "execution_count": 4,
     "metadata": {},
     "output_type": "execute_result"
    }
   ],
   "source": [
    "# 默认文本数据为object类型\n",
    "# 如果数字数据集中有None，则为float64\n",
    "df.dtypes"
   ]
  },
  {
   "cell_type": "code",
   "execution_count": 5,
   "id": "cea2004b-ec7a-4ac3-a1c0-c07b9c1feca4",
   "metadata": {},
   "outputs": [
    {
     "data": {
      "text/plain": [
       "0    a\n",
       "1    b\n",
       "2    c\n",
       "dtype: string"
      ]
     },
     "execution_count": 5,
     "metadata": {},
     "output_type": "execute_result"
    }
   ],
   "source": [
    "pd.Series(['a','b','c'],dtype='string')\n",
    "# pd.Series(['a','b','c'],dtype=pd.StringDtype())  # 同上"
   ]
  },
  {
   "cell_type": "markdown",
   "id": "20b23edb-e62f-4d48-ad64-ccc6a8418f27",
   "metadata": {},
   "source": [
    "# 11.1.2 类型转换"
   ]
  },
  {
   "cell_type": "code",
   "execution_count": 8,
   "id": "77c5c304-2076-4e96-8502-24f50d508c29",
   "metadata": {},
   "outputs": [
    {
     "data": {
      "text/plain": [
       "A    string\n",
       "B    string\n",
       "C     Int64\n",
       "D     Int64\n",
       "E     Int64\n",
       "dtype: object"
      ]
     },
     "execution_count": 8,
     "metadata": {},
     "output_type": "execute_result"
    }
   ],
   "source": [
    "# 智能转换为最新支持的合适类型, object转为string，数字类型转换int64\n",
    "df.convert_dtypes().dtypes"
   ]
  },
  {
   "cell_type": "code",
   "execution_count": 14,
   "id": "e869acbd-11b8-4da1-92da-ffb05795c144",
   "metadata": {},
   "outputs": [
    {
     "data": {
      "text/plain": [
       "numpy.dtype[object_]"
      ]
     },
     "execution_count": 14,
     "metadata": {},
     "output_type": "execute_result"
    }
   ],
   "source": [
    "s= pd.Series(['a','c'])\n",
    "type(s.dtype)"
   ]
  },
  {
   "cell_type": "code",
   "execution_count": 16,
   "id": "bc351cf1-77e9-4966-8348-b695bcf802c5",
   "metadata": {},
   "outputs": [
    {
     "data": {
      "text/plain": [
       "dtype('O')"
      ]
     },
     "execution_count": 16,
     "metadata": {},
     "output_type": "execute_result"
    }
   ],
   "source": [
    "s.dtype"
   ]
  },
  {
   "cell_type": "code",
   "execution_count": 12,
   "id": "462c21c6-5847-4b31-a826-200051510ac1",
   "metadata": {},
   "outputs": [
    {
     "data": {
      "text/plain": [
       "0    a\n",
       "1    c\n",
       "dtype: string"
      ]
     },
     "execution_count": 12,
     "metadata": {},
     "output_type": "execute_result"
    }
   ],
   "source": [
    "# 使用astype转换数据类型\n",
    "s.astype('string')"
   ]
  },
  {
   "cell_type": "markdown",
   "id": "47100461-8c31-4bf1-b93d-73d92a270ca4",
   "metadata": {},
   "source": [
    "# 11.1.3 类型异同"
   ]
  },
  {
   "cell_type": "code",
   "execution_count": 17,
   "id": "e03ed11a-4a6b-478f-949c-b8d9b85c3eb8",
   "metadata": {},
   "outputs": [
    {
     "data": {
      "text/plain": [
       "0    1.0\n",
       "1    NaN\n",
       "2    0.0\n",
       "dtype: float64"
      ]
     },
     "execution_count": 17,
     "metadata": {},
     "output_type": "execute_result"
    }
   ],
   "source": [
    "# 默认object，str后返回float64\n",
    "pd.Series(['a',None,'b']).str.count('a')"
   ]
  },
  {
   "cell_type": "code",
   "execution_count": 18,
   "id": "2f1ec9f8-d187-432d-befb-5fbf8de9b6c5",
   "metadata": {},
   "outputs": [
    {
     "data": {
      "text/plain": [
       "0       1\n",
       "1    <NA>\n",
       "2       0\n",
       "dtype: Int64"
      ]
     },
     "execution_count": 18,
     "metadata": {},
     "output_type": "execute_result"
    }
   ],
   "source": [
    "# StringDtype，str后返回Int64\n",
    "pd.Series(['a',None,'b'], dtype='string').str.count('a')"
   ]
  },
  {
   "cell_type": "code",
   "execution_count": null,
   "id": "d5eb0cae-8a38-4dc9-ae9b-9b5b31a5d2b6",
   "metadata": {},
   "outputs": [],
   "source": []
  }
 ],
 "metadata": {
  "kernelspec": {
   "display_name": "Python 3 (ipykernel)",
   "language": "python",
   "name": "python3"
  },
  "language_info": {
   "codemirror_mode": {
    "name": "ipython",
    "version": 3
   },
   "file_extension": ".py",
   "mimetype": "text/x-python",
   "name": "python",
   "nbconvert_exporter": "python",
   "pygments_lexer": "ipython3",
   "version": "3.8.16"
  }
 },
 "nbformat": 4,
 "nbformat_minor": 5
}
