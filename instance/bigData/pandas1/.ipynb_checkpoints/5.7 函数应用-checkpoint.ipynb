{
 "cells": [
  {
   "cell_type": "code",
   "execution_count": 6,
   "id": "9681f547-d612-4238-8873-343009b633e2",
   "metadata": {},
   "outputs": [
    {
     "data": {
      "text/html": [
       "<div>\n",
       "<style scoped>\n",
       "    .dataframe tbody tr th:only-of-type {\n",
       "        vertical-align: middle;\n",
       "    }\n",
       "\n",
       "    .dataframe tbody tr th {\n",
       "        vertical-align: top;\n",
       "    }\n",
       "\n",
       "    .dataframe thead th {\n",
       "        text-align: right;\n",
       "    }\n",
       "</style>\n",
       "<table border=\"1\" class=\"dataframe\">\n",
       "  <thead>\n",
       "    <tr style=\"text-align: right;\">\n",
       "      <th></th>\n",
       "      <th>name</th>\n",
       "      <th>team</th>\n",
       "      <th>Q1</th>\n",
       "      <th>Q2</th>\n",
       "      <th>Q3</th>\n",
       "      <th>Q4</th>\n",
       "      <th>1city</th>\n",
       "      <th>what color</th>\n",
       "    </tr>\n",
       "  </thead>\n",
       "  <tbody>\n",
       "    <tr>\n",
       "      <th>0</th>\n",
       "      <td>Liver</td>\n",
       "      <td>E</td>\n",
       "      <td>89</td>\n",
       "      <td>21</td>\n",
       "      <td>24</td>\n",
       "      <td>1</td>\n",
       "      <td>shanghai</td>\n",
       "      <td>yellew</td>\n",
       "    </tr>\n",
       "    <tr>\n",
       "      <th>1</th>\n",
       "      <td>Arry</td>\n",
       "      <td>C</td>\n",
       "      <td>55</td>\n",
       "      <td>37</td>\n",
       "      <td>37</td>\n",
       "      <td>2</td>\n",
       "      <td>nanjin</td>\n",
       "      <td>red</td>\n",
       "    </tr>\n",
       "    <tr>\n",
       "      <th>2</th>\n",
       "      <td>Ack</td>\n",
       "      <td>A</td>\n",
       "      <td>57</td>\n",
       "      <td>60</td>\n",
       "      <td>33</td>\n",
       "      <td>3</td>\n",
       "      <td>beijin</td>\n",
       "      <td>purple</td>\n",
       "    </tr>\n",
       "    <tr>\n",
       "      <th>3</th>\n",
       "      <td>Eorge</td>\n",
       "      <td>C</td>\n",
       "      <td>93</td>\n",
       "      <td>4</td>\n",
       "      <td>71</td>\n",
       "      <td>4</td>\n",
       "      <td>tianjin</td>\n",
       "      <td>blue</td>\n",
       "    </tr>\n",
       "    <tr>\n",
       "      <th>4</th>\n",
       "      <td>Oah</td>\n",
       "      <td>D</td>\n",
       "      <td>93</td>\n",
       "      <td>49</td>\n",
       "      <td>44</td>\n",
       "      <td>5</td>\n",
       "      <td>henan</td>\n",
       "      <td>black</td>\n",
       "    </tr>\n",
       "    <tr>\n",
       "      <th>5</th>\n",
       "      <td>Harlie</td>\n",
       "      <td>C</td>\n",
       "      <td>24</td>\n",
       "      <td>13</td>\n",
       "      <td>87</td>\n",
       "      <td>6</td>\n",
       "      <td>hebei</td>\n",
       "      <td>pink</td>\n",
       "    </tr>\n",
       "  </tbody>\n",
       "</table>\n",
       "</div>"
      ],
      "text/plain": [
       "     name team  Q1  Q2  Q3  Q4     1city what color\n",
       "0   Liver    E  89  21  24   1  shanghai     yellew\n",
       "1    Arry    C  55  37  37   2    nanjin        red\n",
       "2     Ack    A  57  60  33   3    beijin     purple\n",
       "3   Eorge    C  93   4  71   4   tianjin       blue\n",
       "4     Oah    D  93  49  44   5     henan      black\n",
       "5  Harlie    C  24  13  87   6     hebei       pink"
      ]
     },
     "execution_count": 6,
     "metadata": {},
     "output_type": "execute_result"
    }
   ],
   "source": [
    "import pandas as pd\n",
    "df =pd.read_excel(\"team2.xlsx\")\n",
    "df"
   ]
  },
  {
   "cell_type": "code",
   "execution_count": null,
   "id": "29bc5149-26b1-4504-8e57-ebb13a9478d0",
   "metadata": {},
   "outputs": [],
   "source": [
    "# pipe() 应用于DF和Series\n",
    "# apply() 应用在DF的行或列，默认为列\n",
    "# applymap() 应用在DF的每个元素\n",
    "# map() 应用在Series或DF的一列的每个元素"
   ]
  },
  {
   "cell_type": "markdown",
   "id": "7518d937-fe32-41e3-8c01-c279cc13d317",
   "metadata": {},
   "source": [
    "# 5.7.1 pipe()"
   ]
  },
  {
   "cell_type": "code",
   "execution_count": 10,
   "id": "bd257a73-7e9c-4359-ade1-d564079a4fde",
   "metadata": {},
   "outputs": [],
   "source": [
    "def add_mean(rdf, n):\n",
    "    df = rdf.copy()\n",
    "    df = df.loc[:,'Q1':'Q4'].applymap(lambda x: x+n)\n",
    "    df['avg'] = df.loc[:,'Q1':'Q4'].mean(1)\n",
    "    return df"
   ]
  },
  {
   "cell_type": "code",
   "execution_count": 11,
   "id": "51e494f8-8e68-4caa-b3c5-dcdb0e6bfc79",
   "metadata": {},
   "outputs": [
    {
     "data": {
      "text/html": [
       "<div>\n",
       "<style scoped>\n",
       "    .dataframe tbody tr th:only-of-type {\n",
       "        vertical-align: middle;\n",
       "    }\n",
       "\n",
       "    .dataframe tbody tr th {\n",
       "        vertical-align: top;\n",
       "    }\n",
       "\n",
       "    .dataframe thead th {\n",
       "        text-align: right;\n",
       "    }\n",
       "</style>\n",
       "<table border=\"1\" class=\"dataframe\">\n",
       "  <thead>\n",
       "    <tr style=\"text-align: right;\">\n",
       "      <th></th>\n",
       "      <th>Q1</th>\n",
       "      <th>Q2</th>\n",
       "      <th>Q3</th>\n",
       "      <th>Q4</th>\n",
       "      <th>avg</th>\n",
       "    </tr>\n",
       "  </thead>\n",
       "  <tbody>\n",
       "    <tr>\n",
       "      <th>0</th>\n",
       "      <td>189</td>\n",
       "      <td>121</td>\n",
       "      <td>124</td>\n",
       "      <td>101</td>\n",
       "      <td>133.75</td>\n",
       "    </tr>\n",
       "    <tr>\n",
       "      <th>1</th>\n",
       "      <td>155</td>\n",
       "      <td>137</td>\n",
       "      <td>137</td>\n",
       "      <td>102</td>\n",
       "      <td>132.75</td>\n",
       "    </tr>\n",
       "    <tr>\n",
       "      <th>2</th>\n",
       "      <td>157</td>\n",
       "      <td>160</td>\n",
       "      <td>133</td>\n",
       "      <td>103</td>\n",
       "      <td>138.25</td>\n",
       "    </tr>\n",
       "    <tr>\n",
       "      <th>3</th>\n",
       "      <td>193</td>\n",
       "      <td>104</td>\n",
       "      <td>171</td>\n",
       "      <td>104</td>\n",
       "      <td>143.00</td>\n",
       "    </tr>\n",
       "    <tr>\n",
       "      <th>4</th>\n",
       "      <td>193</td>\n",
       "      <td>149</td>\n",
       "      <td>144</td>\n",
       "      <td>105</td>\n",
       "      <td>147.75</td>\n",
       "    </tr>\n",
       "    <tr>\n",
       "      <th>5</th>\n",
       "      <td>124</td>\n",
       "      <td>113</td>\n",
       "      <td>187</td>\n",
       "      <td>106</td>\n",
       "      <td>132.50</td>\n",
       "    </tr>\n",
       "  </tbody>\n",
       "</table>\n",
       "</div>"
      ],
      "text/plain": [
       "    Q1   Q2   Q3   Q4     avg\n",
       "0  189  121  124  101  133.75\n",
       "1  155  137  137  102  132.75\n",
       "2  157  160  133  103  138.25\n",
       "3  193  104  171  104  143.00\n",
       "4  193  149  144  105  147.75\n",
       "5  124  113  187  106  132.50"
      ]
     },
     "execution_count": 11,
     "metadata": {},
     "output_type": "execute_result"
    }
   ],
   "source": [
    "# 所有季度成绩加100，然后增加平均值\n",
    "df.pipe(add_mean, 100)"
   ]
  },
  {
   "cell_type": "code",
   "execution_count": 16,
   "id": "8da7de0c-c01f-4249-9ad8-966e64110899",
   "metadata": {},
   "outputs": [
    {
     "data": {
      "text/html": [
       "<div>\n",
       "<style scoped>\n",
       "    .dataframe tbody tr th:only-of-type {\n",
       "        vertical-align: middle;\n",
       "    }\n",
       "\n",
       "    .dataframe tbody tr th {\n",
       "        vertical-align: top;\n",
       "    }\n",
       "\n",
       "    .dataframe thead th {\n",
       "        text-align: right;\n",
       "    }\n",
       "</style>\n",
       "<table border=\"1\" class=\"dataframe\">\n",
       "  <thead>\n",
       "    <tr style=\"text-align: right;\">\n",
       "      <th></th>\n",
       "      <th>name</th>\n",
       "      <th>team</th>\n",
       "      <th>Q1</th>\n",
       "      <th>Q2</th>\n",
       "      <th>Q3</th>\n",
       "      <th>Q4</th>\n",
       "      <th>1city</th>\n",
       "      <th>what color</th>\n",
       "    </tr>\n",
       "  </thead>\n",
       "  <tbody>\n",
       "    <tr>\n",
       "      <th>0</th>\n",
       "      <td>Liver</td>\n",
       "      <td>E</td>\n",
       "      <td>89</td>\n",
       "      <td>21</td>\n",
       "      <td>24</td>\n",
       "      <td>1</td>\n",
       "      <td>shanghai</td>\n",
       "      <td>yellew</td>\n",
       "    </tr>\n",
       "    <tr>\n",
       "      <th>4</th>\n",
       "      <td>Oah</td>\n",
       "      <td>D</td>\n",
       "      <td>93</td>\n",
       "      <td>49</td>\n",
       "      <td>44</td>\n",
       "      <td>5</td>\n",
       "      <td>henan</td>\n",
       "      <td>black</td>\n",
       "    </tr>\n",
       "  </tbody>\n",
       "</table>\n",
       "</div>"
      ],
      "text/plain": [
       "    name team  Q1  Q2  Q3  Q4     1city what color\n",
       "0  Liver    E  89  21  24   1  shanghai     yellew\n",
       "4    Oah    D  93  49  44   5     henan      black"
      ]
     },
     "execution_count": 16,
     "metadata": {},
     "output_type": "execute_result"
    }
   ],
   "source": [
    "# 筛选出Q1大于等于80且Q2大于等于20\n",
    "df.pipe(lambda df_,x,y : df_[(df_.Q1>=x) & (df_.Q2>=y)], 80,20 )"
   ]
  },
  {
   "cell_type": "markdown",
   "id": "fa1a0b2a-0ec2-402e-8fc8-06f0d09c482c",
   "metadata": {},
   "source": [
    "# 5.7.2 apply()"
   ]
  },
  {
   "cell_type": "code",
   "execution_count": 23,
   "id": "8cc2a989-591b-4ae5-8813-87a798532df0",
   "metadata": {},
   "outputs": [
    {
     "data": {
      "text/plain": [
       "0    other\n",
       "1    other\n",
       "2    other\n",
       "3     good\n",
       "4    other\n",
       "5    other\n",
       "dtype: object"
      ]
     },
     "execution_count": 23,
     "metadata": {},
     "output_type": "execute_result"
    }
   ],
   "source": [
    "import numpy as np\n",
    "# 将team为C，Q1大于90的输出good，不满足输出other\n",
    "fun = lambda x: np.where(x.team=='C' and x.Q1>90, 'good','other')\n",
    "df.apply(fun,axis=1)"
   ]
  },
  {
   "cell_type": "code",
   "execution_count": 20,
   "id": "28653c4f-1a7b-49ce-a854-7f12f28ca285",
   "metadata": {},
   "outputs": [
    {
     "data": {
      "text/html": [
       "<div>\n",
       "<style scoped>\n",
       "    .dataframe tbody tr th:only-of-type {\n",
       "        vertical-align: middle;\n",
       "    }\n",
       "\n",
       "    .dataframe tbody tr th {\n",
       "        vertical-align: top;\n",
       "    }\n",
       "\n",
       "    .dataframe thead th {\n",
       "        text-align: right;\n",
       "    }\n",
       "</style>\n",
       "<table border=\"1\" class=\"dataframe\">\n",
       "  <thead>\n",
       "    <tr style=\"text-align: right;\">\n",
       "      <th></th>\n",
       "      <th>name</th>\n",
       "      <th>team</th>\n",
       "      <th>Q1</th>\n",
       "      <th>Q2</th>\n",
       "      <th>Q3</th>\n",
       "      <th>Q4</th>\n",
       "      <th>1city</th>\n",
       "      <th>what color</th>\n",
       "    </tr>\n",
       "  </thead>\n",
       "  <tbody>\n",
       "    <tr>\n",
       "      <th>0</th>\n",
       "      <td>Liver</td>\n",
       "      <td>E</td>\n",
       "      <td>89</td>\n",
       "      <td>21</td>\n",
       "      <td>24</td>\n",
       "      <td>1</td>\n",
       "      <td>shanghai</td>\n",
       "      <td>yellew</td>\n",
       "    </tr>\n",
       "    <tr>\n",
       "      <th>1</th>\n",
       "      <td>Arry</td>\n",
       "      <td>C</td>\n",
       "      <td>55</td>\n",
       "      <td>37</td>\n",
       "      <td>37</td>\n",
       "      <td>2</td>\n",
       "      <td>nanjin</td>\n",
       "      <td>red</td>\n",
       "    </tr>\n",
       "    <tr>\n",
       "      <th>2</th>\n",
       "      <td>Ack</td>\n",
       "      <td>A</td>\n",
       "      <td>57</td>\n",
       "      <td>60</td>\n",
       "      <td>33</td>\n",
       "      <td>3</td>\n",
       "      <td>beijin</td>\n",
       "      <td>purple</td>\n",
       "    </tr>\n",
       "    <tr>\n",
       "      <th>3</th>\n",
       "      <td>Eorge</td>\n",
       "      <td>C</td>\n",
       "      <td>93</td>\n",
       "      <td>4</td>\n",
       "      <td>71</td>\n",
       "      <td>4</td>\n",
       "      <td>tianjin</td>\n",
       "      <td>blue</td>\n",
       "    </tr>\n",
       "    <tr>\n",
       "      <th>4</th>\n",
       "      <td>Oah</td>\n",
       "      <td>D</td>\n",
       "      <td>93</td>\n",
       "      <td>49</td>\n",
       "      <td>44</td>\n",
       "      <td>5</td>\n",
       "      <td>henan</td>\n",
       "      <td>black</td>\n",
       "    </tr>\n",
       "    <tr>\n",
       "      <th>5</th>\n",
       "      <td>Harlie</td>\n",
       "      <td>C</td>\n",
       "      <td>24</td>\n",
       "      <td>13</td>\n",
       "      <td>87</td>\n",
       "      <td>6</td>\n",
       "      <td>hebei</td>\n",
       "      <td>pink</td>\n",
       "    </tr>\n",
       "  </tbody>\n",
       "</table>\n",
       "</div>"
      ],
      "text/plain": [
       "     name team  Q1  Q2  Q3  Q4     1city what color\n",
       "0   Liver    E  89  21  24   1  shanghai     yellew\n",
       "1    Arry    C  55  37  37   2    nanjin        red\n",
       "2     Ack    A  57  60  33   3    beijin     purple\n",
       "3   Eorge    C  93   4  71   4   tianjin       blue\n",
       "4     Oah    D  93  49  44   5     henan      black\n",
       "5  Harlie    C  24  13  87   6     hebei       pink"
      ]
     },
     "execution_count": 20,
     "metadata": {},
     "output_type": "execute_result"
    }
   ],
   "source": [
    "df"
   ]
  },
  {
   "cell_type": "markdown",
   "id": "940b2f21-0d56-4433-a3a9-7a508dfb12f2",
   "metadata": {},
   "source": [
    "# 5.7.4 map()"
   ]
  },
  {
   "cell_type": "code",
   "execution_count": 24,
   "id": "59a64617-d41a-4beb-bfde-8ef751493436",
   "metadata": {},
   "outputs": [
    {
     "data": {
      "text/plain": [
       "0    NaN\n",
       "1     3班\n",
       "2     一班\n",
       "3     3班\n",
       "4     4班\n",
       "5     3班\n",
       "Name: team, dtype: object"
      ]
     },
     "execution_count": 24,
     "metadata": {},
     "output_type": "execute_result"
    }
   ],
   "source": [
    "# map()根据输入对应关系映射值返回最终数据\n",
    "\n",
    "df.team.map({'A':'一班', 'B':'2班', 'C':'3班', 'D':'4班'})"
   ]
  },
  {
   "cell_type": "code",
   "execution_count": 25,
   "id": "6d23e5fa-a303-47b2-bef7-39519331b819",
   "metadata": {},
   "outputs": [
    {
     "data": {
      "text/plain": [
       "0    I am a E\n",
       "1    I am a C\n",
       "2    I am a A\n",
       "3    I am a C\n",
       "4    I am a D\n",
       "5    I am a C\n",
       "Name: team, dtype: object"
      ]
     },
     "execution_count": 25,
     "metadata": {},
     "output_type": "execute_result"
    }
   ],
   "source": [
    "df.team.map('I am a {}'.format)"
   ]
  },
  {
   "cell_type": "code",
   "execution_count": 26,
   "id": "f032f329-ca2d-4544-bcbf-552c2945c594",
   "metadata": {},
   "outputs": [
    {
     "data": {
      "text/plain": [
       "0    I am a E\n",
       "1    I am a C\n",
       "2    I am a A\n",
       "3    I am a C\n",
       "4    I am a D\n",
       "5    I am a C\n",
       "Name: team, dtype: object"
      ]
     },
     "execution_count": 26,
     "metadata": {},
     "output_type": "execute_result"
    }
   ],
   "source": [
    "df.team.map('I am a {}'.format, na_action='ignore')"
   ]
  },
  {
   "cell_type": "code",
   "execution_count": 29,
   "id": "02f32a8e-0774-407d-8228-ac70ca904164",
   "metadata": {},
   "outputs": [
    {
     "data": {
      "text/plain": [
       "0    5\n",
       "1    4\n",
       "2    3\n",
       "3    5\n",
       "4    3\n",
       "5    6\n",
       "Name: name, dtype: int64"
      ]
     },
     "execution_count": 29,
     "metadata": {},
     "output_type": "execute_result"
    }
   ],
   "source": [
    "# 获取name列名称的字符数量\n",
    "def f(x):\n",
    "    return len(str(x))\n",
    "df['name'].map(f)"
   ]
  },
  {
   "cell_type": "markdown",
   "id": "d973e7a7-50cc-4569-bfe9-77a300780e5e",
   "metadata": {},
   "source": [
    "# 5.7.5 agg()"
   ]
  },
  {
   "cell_type": "code",
   "execution_count": 30,
   "id": "3fc50165-f361-4f7f-9984-b69efe890350",
   "metadata": {},
   "outputs": [
    {
     "data": {
      "text/plain": [
       "name              Oah\n",
       "team                E\n",
       "Q1                 93\n",
       "Q2                 60\n",
       "Q3                 87\n",
       "Q4                  6\n",
       "1city         tianjin\n",
       "what color     yellew\n",
       "dtype: object"
      ]
     },
     "execution_count": 30,
     "metadata": {},
     "output_type": "execute_result"
    }
   ],
   "source": [
    "# 每列的最大值\n",
    "df.agg('max')"
   ]
  },
  {
   "cell_type": "code",
   "execution_count": 31,
   "id": "58aedf93-58e4-4cd0-ae29-cf8f5f83429f",
   "metadata": {},
   "outputs": [
    {
     "data": {
      "text/html": [
       "<div>\n",
       "<style scoped>\n",
       "    .dataframe tbody tr th:only-of-type {\n",
       "        vertical-align: middle;\n",
       "    }\n",
       "\n",
       "    .dataframe tbody tr th {\n",
       "        vertical-align: top;\n",
       "    }\n",
       "\n",
       "    .dataframe thead th {\n",
       "        text-align: right;\n",
       "    }\n",
       "</style>\n",
       "<table border=\"1\" class=\"dataframe\">\n",
       "  <thead>\n",
       "    <tr style=\"text-align: right;\">\n",
       "      <th></th>\n",
       "      <th>name</th>\n",
       "      <th>team</th>\n",
       "      <th>Q1</th>\n",
       "      <th>Q2</th>\n",
       "      <th>Q3</th>\n",
       "      <th>Q4</th>\n",
       "      <th>1city</th>\n",
       "      <th>what color</th>\n",
       "    </tr>\n",
       "  </thead>\n",
       "  <tbody>\n",
       "    <tr>\n",
       "      <th>sum</th>\n",
       "      <td>LiverArryAckEorgeOahHarlie</td>\n",
       "      <td>ECACDC</td>\n",
       "      <td>411</td>\n",
       "      <td>184</td>\n",
       "      <td>296</td>\n",
       "      <td>21</td>\n",
       "      <td>shanghainanjinbeijintianjinhenanhebei</td>\n",
       "      <td>yellewredpurpleblueblackpink</td>\n",
       "    </tr>\n",
       "    <tr>\n",
       "      <th>min</th>\n",
       "      <td>Ack</td>\n",
       "      <td>A</td>\n",
       "      <td>24</td>\n",
       "      <td>4</td>\n",
       "      <td>24</td>\n",
       "      <td>1</td>\n",
       "      <td>beijin</td>\n",
       "      <td>black</td>\n",
       "    </tr>\n",
       "  </tbody>\n",
       "</table>\n",
       "</div>"
      ],
      "text/plain": [
       "                           name    team   Q1   Q2   Q3  Q4  \\\n",
       "sum  LiverArryAckEorgeOahHarlie  ECACDC  411  184  296  21   \n",
       "min                         Ack       A   24    4   24   1   \n",
       "\n",
       "                                     1city                    what color  \n",
       "sum  shanghainanjinbeijintianjinhenanhebei  yellewredpurpleblueblackpink  \n",
       "min                                 beijin                         black  "
      ]
     },
     "execution_count": 31,
     "metadata": {},
     "output_type": "execute_result"
    }
   ],
   "source": [
    "# 将所有列聚合产生sum和min\n",
    "df.agg(['sum', 'min'])"
   ]
  },
  {
   "cell_type": "code",
   "execution_count": 33,
   "id": "90dfb248-4f46-4bcd-b242-8e39f3570731",
   "metadata": {},
   "outputs": [
    {
     "data": {
      "text/html": [
       "<div>\n",
       "<style scoped>\n",
       "    .dataframe tbody tr th:only-of-type {\n",
       "        vertical-align: middle;\n",
       "    }\n",
       "\n",
       "    .dataframe tbody tr th {\n",
       "        vertical-align: top;\n",
       "    }\n",
       "\n",
       "    .dataframe thead th {\n",
       "        text-align: right;\n",
       "    }\n",
       "</style>\n",
       "<table border=\"1\" class=\"dataframe\">\n",
       "  <thead>\n",
       "    <tr style=\"text-align: right;\">\n",
       "      <th></th>\n",
       "      <th>Q1</th>\n",
       "      <th>Q2</th>\n",
       "    </tr>\n",
       "  </thead>\n",
       "  <tbody>\n",
       "    <tr>\n",
       "      <th>sum</th>\n",
       "      <td>411.0</td>\n",
       "      <td>NaN</td>\n",
       "    </tr>\n",
       "    <tr>\n",
       "      <th>min</th>\n",
       "      <td>24.0</td>\n",
       "      <td>4.0</td>\n",
       "    </tr>\n",
       "    <tr>\n",
       "      <th>max</th>\n",
       "      <td>NaN</td>\n",
       "      <td>60.0</td>\n",
       "    </tr>\n",
       "  </tbody>\n",
       "</table>\n",
       "</div>"
      ],
      "text/plain": [
       "        Q1    Q2\n",
       "sum  411.0   NaN\n",
       "min   24.0   4.0\n",
       "max    NaN  60.0"
      ]
     },
     "execution_count": 33,
     "metadata": {},
     "output_type": "execute_result"
    }
   ],
   "source": [
    "# 序列多个聚合\n",
    "df.agg({'Q1':['sum', 'min'], 'Q2':['max', 'min']})"
   ]
  },
  {
   "cell_type": "code",
   "execution_count": 34,
   "id": "f5bd18b2-c359-4819-9089-da5ac460cb8e",
   "metadata": {},
   "outputs": [
    {
     "data": {
      "text/html": [
       "<div>\n",
       "<style scoped>\n",
       "    .dataframe tbody tr th:only-of-type {\n",
       "        vertical-align: middle;\n",
       "    }\n",
       "\n",
       "    .dataframe tbody tr th {\n",
       "        vertical-align: top;\n",
       "    }\n",
       "\n",
       "    .dataframe thead th {\n",
       "        text-align: right;\n",
       "    }\n",
       "</style>\n",
       "<table border=\"1\" class=\"dataframe\">\n",
       "  <thead>\n",
       "    <tr style=\"text-align: right;\">\n",
       "      <th></th>\n",
       "      <th>name</th>\n",
       "      <th>Q1</th>\n",
       "      <th>Q2</th>\n",
       "      <th>Q3</th>\n",
       "      <th>Q4</th>\n",
       "      <th>1city</th>\n",
       "      <th>what color</th>\n",
       "    </tr>\n",
       "    <tr>\n",
       "      <th>team</th>\n",
       "      <th></th>\n",
       "      <th></th>\n",
       "      <th></th>\n",
       "      <th></th>\n",
       "      <th></th>\n",
       "      <th></th>\n",
       "      <th></th>\n",
       "    </tr>\n",
       "  </thead>\n",
       "  <tbody>\n",
       "    <tr>\n",
       "      <th>A</th>\n",
       "      <td>Ack</td>\n",
       "      <td>57</td>\n",
       "      <td>60</td>\n",
       "      <td>33</td>\n",
       "      <td>3</td>\n",
       "      <td>beijin</td>\n",
       "      <td>purple</td>\n",
       "    </tr>\n",
       "    <tr>\n",
       "      <th>C</th>\n",
       "      <td>Harlie</td>\n",
       "      <td>93</td>\n",
       "      <td>37</td>\n",
       "      <td>87</td>\n",
       "      <td>6</td>\n",
       "      <td>tianjin</td>\n",
       "      <td>red</td>\n",
       "    </tr>\n",
       "    <tr>\n",
       "      <th>D</th>\n",
       "      <td>Oah</td>\n",
       "      <td>93</td>\n",
       "      <td>49</td>\n",
       "      <td>44</td>\n",
       "      <td>5</td>\n",
       "      <td>henan</td>\n",
       "      <td>black</td>\n",
       "    </tr>\n",
       "    <tr>\n",
       "      <th>E</th>\n",
       "      <td>Liver</td>\n",
       "      <td>89</td>\n",
       "      <td>21</td>\n",
       "      <td>24</td>\n",
       "      <td>1</td>\n",
       "      <td>shanghai</td>\n",
       "      <td>yellew</td>\n",
       "    </tr>\n",
       "  </tbody>\n",
       "</table>\n",
       "</div>"
      ],
      "text/plain": [
       "        name  Q1  Q2  Q3  Q4     1city what color\n",
       "team                                             \n",
       "A        Ack  57  60  33   3    beijin     purple\n",
       "C     Harlie  93  37  87   6   tianjin        red\n",
       "D        Oah  93  49  44   5     henan      black\n",
       "E      Liver  89  21  24   1  shanghai     yellew"
      ]
     },
     "execution_count": 34,
     "metadata": {},
     "output_type": "execute_result"
    }
   ],
   "source": [
    "# 对team进行分组，输出第一个数字类型（Q1）最大值\n",
    "df.groupby('team').agg('max')"
   ]
  },
  {
   "cell_type": "code",
   "execution_count": 35,
   "id": "42887af3-bea8-403e-aea3-948f2e48ce09",
   "metadata": {},
   "outputs": [
    {
     "data": {
      "text/html": [
       "<div>\n",
       "<style scoped>\n",
       "    .dataframe tbody tr th:only-of-type {\n",
       "        vertical-align: middle;\n",
       "    }\n",
       "\n",
       "    .dataframe tbody tr th {\n",
       "        vertical-align: top;\n",
       "    }\n",
       "\n",
       "    .dataframe thead th {\n",
       "        text-align: right;\n",
       "    }\n",
       "</style>\n",
       "<table border=\"1\" class=\"dataframe\">\n",
       "  <thead>\n",
       "    <tr style=\"text-align: right;\">\n",
       "      <th></th>\n",
       "      <th>name</th>\n",
       "      <th>team</th>\n",
       "      <th>Q1</th>\n",
       "      <th>Q2</th>\n",
       "      <th>Q3</th>\n",
       "      <th>Q4</th>\n",
       "      <th>1city</th>\n",
       "      <th>what color</th>\n",
       "    </tr>\n",
       "  </thead>\n",
       "  <tbody>\n",
       "    <tr>\n",
       "      <th>0</th>\n",
       "      <td>Liver</td>\n",
       "      <td>E</td>\n",
       "      <td>89</td>\n",
       "      <td>21</td>\n",
       "      <td>24</td>\n",
       "      <td>1</td>\n",
       "      <td>shanghai</td>\n",
       "      <td>yellew</td>\n",
       "    </tr>\n",
       "    <tr>\n",
       "      <th>1</th>\n",
       "      <td>Arry</td>\n",
       "      <td>C</td>\n",
       "      <td>55</td>\n",
       "      <td>37</td>\n",
       "      <td>37</td>\n",
       "      <td>2</td>\n",
       "      <td>nanjin</td>\n",
       "      <td>red</td>\n",
       "    </tr>\n",
       "    <tr>\n",
       "      <th>2</th>\n",
       "      <td>Ack</td>\n",
       "      <td>A</td>\n",
       "      <td>57</td>\n",
       "      <td>60</td>\n",
       "      <td>33</td>\n",
       "      <td>3</td>\n",
       "      <td>beijin</td>\n",
       "      <td>purple</td>\n",
       "    </tr>\n",
       "    <tr>\n",
       "      <th>3</th>\n",
       "      <td>Eorge</td>\n",
       "      <td>C</td>\n",
       "      <td>93</td>\n",
       "      <td>4</td>\n",
       "      <td>71</td>\n",
       "      <td>4</td>\n",
       "      <td>tianjin</td>\n",
       "      <td>blue</td>\n",
       "    </tr>\n",
       "    <tr>\n",
       "      <th>4</th>\n",
       "      <td>Oah</td>\n",
       "      <td>D</td>\n",
       "      <td>93</td>\n",
       "      <td>49</td>\n",
       "      <td>44</td>\n",
       "      <td>5</td>\n",
       "      <td>henan</td>\n",
       "      <td>black</td>\n",
       "    </tr>\n",
       "    <tr>\n",
       "      <th>5</th>\n",
       "      <td>Harlie</td>\n",
       "      <td>C</td>\n",
       "      <td>24</td>\n",
       "      <td>13</td>\n",
       "      <td>87</td>\n",
       "      <td>6</td>\n",
       "      <td>hebei</td>\n",
       "      <td>pink</td>\n",
       "    </tr>\n",
       "  </tbody>\n",
       "</table>\n",
       "</div>"
      ],
      "text/plain": [
       "     name team  Q1  Q2  Q3  Q4     1city what color\n",
       "0   Liver    E  89  21  24   1  shanghai     yellew\n",
       "1    Arry    C  55  37  37   2    nanjin        red\n",
       "2     Ack    A  57  60  33   3    beijin     purple\n",
       "3   Eorge    C  93   4  71   4   tianjin       blue\n",
       "4     Oah    D  93  49  44   5     henan      black\n",
       "5  Harlie    C  24  13  87   6     hebei       pink"
      ]
     },
     "execution_count": 35,
     "metadata": {},
     "output_type": "execute_result"
    }
   ],
   "source": [
    "df\n"
   ]
  },
  {
   "cell_type": "code",
   "execution_count": 36,
   "id": "17ff688e-1502-4a59-8b73-9f43327517f2",
   "metadata": {},
   "outputs": [
    {
     "data": {
      "text/plain": [
       "sum     411.0\n",
       "mean     68.5\n",
       "Name: Q1, dtype: float64"
      ]
     },
     "execution_count": 36,
     "metadata": {},
     "output_type": "execute_result"
    }
   ],
   "source": [
    "# 汇总Q1的合计与平均值\n",
    "df.Q1.agg(['sum','mean'])"
   ]
  },
  {
   "cell_type": "code",
   "execution_count": 37,
   "id": "12ea3b15-cc44-427a-88ee-0f7be1453ec5",
   "metadata": {},
   "outputs": [
    {
     "data": {
      "text/plain": [
       "sum       184.000000\n",
       "mymean     30.666667\n",
       "Name: Q2, dtype: float64"
      ]
     },
     "execution_count": 37,
     "metadata": {},
     "output_type": "execute_result"
    }
   ],
   "source": [
    "def mymean(x):\n",
    "    return x.mean()\n",
    "df.Q2.agg(['sum',mymean])"
   ]
  },
  {
   "cell_type": "code",
   "execution_count": 38,
   "id": "ba502cad-cd3e-4a01-ab16-3f0022736e5c",
   "metadata": {},
   "outputs": [
    {
     "data": {
      "text/html": [
       "<div>\n",
       "<style scoped>\n",
       "    .dataframe tbody tr th:only-of-type {\n",
       "        vertical-align: middle;\n",
       "    }\n",
       "\n",
       "    .dataframe tbody tr th {\n",
       "        vertical-align: top;\n",
       "    }\n",
       "\n",
       "    .dataframe thead th {\n",
       "        text-align: right;\n",
       "    }\n",
       "</style>\n",
       "<table border=\"1\" class=\"dataframe\">\n",
       "  <thead>\n",
       "    <tr style=\"text-align: right;\">\n",
       "      <th></th>\n",
       "      <th>Q1</th>\n",
       "      <th>Q2</th>\n",
       "      <th>Q3</th>\n",
       "      <th>Q4</th>\n",
       "    </tr>\n",
       "  </thead>\n",
       "  <tbody>\n",
       "    <tr>\n",
       "      <th>a</th>\n",
       "      <td>93.0</td>\n",
       "      <td>NaN</td>\n",
       "      <td>NaN</td>\n",
       "      <td>NaN</td>\n",
       "    </tr>\n",
       "    <tr>\n",
       "      <th>b</th>\n",
       "      <td>NaN</td>\n",
       "      <td>4.0</td>\n",
       "      <td>NaN</td>\n",
       "      <td>NaN</td>\n",
       "    </tr>\n",
       "    <tr>\n",
       "      <th>c</th>\n",
       "      <td>NaN</td>\n",
       "      <td>NaN</td>\n",
       "      <td>49.333333</td>\n",
       "      <td>NaN</td>\n",
       "    </tr>\n",
       "    <tr>\n",
       "      <th>d</th>\n",
       "      <td>NaN</td>\n",
       "      <td>NaN</td>\n",
       "      <td>NaN</td>\n",
       "      <td>22.0</td>\n",
       "    </tr>\n",
       "  </tbody>\n",
       "</table>\n",
       "</div>"
      ],
      "text/plain": [
       "     Q1   Q2         Q3    Q4\n",
       "a  93.0  NaN        NaN   NaN\n",
       "b   NaN  4.0        NaN   NaN\n",
       "c   NaN  NaN  49.333333   NaN\n",
       "d   NaN  NaN        NaN  22.0"
      ]
     },
     "execution_count": 38,
     "metadata": {},
     "output_type": "execute_result"
    }
   ],
   "source": [
    "# 每列使用不同的方法进行聚合\n",
    "df.agg(a=('Q1',max),b=('Q2',min),c=('Q3',np.mean),d=('Q4',lambda s:s.sum()+1))"
   ]
  },
  {
   "cell_type": "code",
   "execution_count": 41,
   "id": "50e49039-21c8-4b94-966f-87fad0529ce1",
   "metadata": {},
   "outputs": [
    {
     "data": {
      "text/plain": [
       "0    33.75\n",
       "1    32.75\n",
       "2    38.25\n",
       "3    43.00\n",
       "4    47.75\n",
       "5    32.50\n",
       "dtype: float64"
      ]
     },
     "execution_count": 41,
     "metadata": {},
     "output_type": "execute_result"
    }
   ],
   "source": [
    "# 汇总Q1-Q4的平均值（按行聚合）\n",
    "df.loc[:, 'Q1':'Q4'].agg(\"mean\", axis=\"columns\")"
   ]
  },
  {
   "cell_type": "code",
   "execution_count": 42,
   "id": "44e613dc-36a3-4d90-8dc2-5a5559e7e70c",
   "metadata": {},
   "outputs": [
    {
     "data": {
      "text/html": [
       "<div>\n",
       "<style scoped>\n",
       "    .dataframe tbody tr th:only-of-type {\n",
       "        vertical-align: middle;\n",
       "    }\n",
       "\n",
       "    .dataframe tbody tr th {\n",
       "        vertical-align: top;\n",
       "    }\n",
       "\n",
       "    .dataframe thead th {\n",
       "        text-align: right;\n",
       "    }\n",
       "</style>\n",
       "<table border=\"1\" class=\"dataframe\">\n",
       "  <thead>\n",
       "    <tr style=\"text-align: right;\">\n",
       "      <th></th>\n",
       "      <th>Q1</th>\n",
       "      <th>Q2</th>\n",
       "      <th>Q3</th>\n",
       "      <th>Q4</th>\n",
       "    </tr>\n",
       "  </thead>\n",
       "  <tbody>\n",
       "    <tr>\n",
       "      <th>0</th>\n",
       "      <td>99</td>\n",
       "      <td>31</td>\n",
       "      <td>34</td>\n",
       "      <td>11</td>\n",
       "    </tr>\n",
       "    <tr>\n",
       "      <th>1</th>\n",
       "      <td>65</td>\n",
       "      <td>47</td>\n",
       "      <td>47</td>\n",
       "      <td>12</td>\n",
       "    </tr>\n",
       "    <tr>\n",
       "      <th>2</th>\n",
       "      <td>67</td>\n",
       "      <td>70</td>\n",
       "      <td>43</td>\n",
       "      <td>13</td>\n",
       "    </tr>\n",
       "    <tr>\n",
       "      <th>3</th>\n",
       "      <td>103</td>\n",
       "      <td>14</td>\n",
       "      <td>81</td>\n",
       "      <td>14</td>\n",
       "    </tr>\n",
       "    <tr>\n",
       "      <th>4</th>\n",
       "      <td>103</td>\n",
       "      <td>59</td>\n",
       "      <td>54</td>\n",
       "      <td>15</td>\n",
       "    </tr>\n",
       "    <tr>\n",
       "      <th>5</th>\n",
       "      <td>34</td>\n",
       "      <td>23</td>\n",
       "      <td>97</td>\n",
       "      <td>16</td>\n",
       "    </tr>\n",
       "  </tbody>\n",
       "</table>\n",
       "</div>"
      ],
      "text/plain": [
       "    Q1  Q2  Q3  Q4\n",
       "0   99  31  34  11\n",
       "1   65  47  47  12\n",
       "2   67  70  43  13\n",
       "3  103  14  81  14\n",
       "4  103  59  54  15\n",
       "5   34  23  97  16"
      ]
     },
     "execution_count": 42,
     "metadata": {},
     "output_type": "execute_result"
    }
   ],
   "source": [
    "# 对所有数据加10\n",
    "df.loc[:, 'Q1':'Q4'].agg(pd.Series.add, other=10)"
   ]
  },
  {
   "cell_type": "markdown",
   "id": "b4a654f6-705d-40bd-8cf5-93070b577810",
   "metadata": {},
   "source": [
    "# 5.7.6 transform()"
   ]
  },
  {
   "cell_type": "code",
   "execution_count": 43,
   "id": "b4f0d226-d315-43f5-9176-112979add28e",
   "metadata": {},
   "outputs": [
    {
     "data": {
      "text/html": [
       "<div>\n",
       "<style scoped>\n",
       "    .dataframe tbody tr th:only-of-type {\n",
       "        vertical-align: middle;\n",
       "    }\n",
       "\n",
       "    .dataframe tbody tr th {\n",
       "        vertical-align: top;\n",
       "    }\n",
       "\n",
       "    .dataframe thead th {\n",
       "        text-align: right;\n",
       "    }\n",
       "</style>\n",
       "<table border=\"1\" class=\"dataframe\">\n",
       "  <thead>\n",
       "    <tr style=\"text-align: right;\">\n",
       "      <th></th>\n",
       "      <th>name</th>\n",
       "      <th>team</th>\n",
       "      <th>Q1</th>\n",
       "      <th>Q2</th>\n",
       "      <th>Q3</th>\n",
       "      <th>Q4</th>\n",
       "      <th>1city</th>\n",
       "      <th>what color</th>\n",
       "    </tr>\n",
       "  </thead>\n",
       "  <tbody>\n",
       "    <tr>\n",
       "      <th>0</th>\n",
       "      <td>LiverLiver</td>\n",
       "      <td>EE</td>\n",
       "      <td>178</td>\n",
       "      <td>42</td>\n",
       "      <td>48</td>\n",
       "      <td>2</td>\n",
       "      <td>shanghaishanghai</td>\n",
       "      <td>yellewyellew</td>\n",
       "    </tr>\n",
       "    <tr>\n",
       "      <th>1</th>\n",
       "      <td>ArryArry</td>\n",
       "      <td>CC</td>\n",
       "      <td>110</td>\n",
       "      <td>74</td>\n",
       "      <td>74</td>\n",
       "      <td>4</td>\n",
       "      <td>nanjinnanjin</td>\n",
       "      <td>redred</td>\n",
       "    </tr>\n",
       "    <tr>\n",
       "      <th>2</th>\n",
       "      <td>AckAck</td>\n",
       "      <td>AA</td>\n",
       "      <td>114</td>\n",
       "      <td>120</td>\n",
       "      <td>66</td>\n",
       "      <td>6</td>\n",
       "      <td>beijinbeijin</td>\n",
       "      <td>purplepurple</td>\n",
       "    </tr>\n",
       "    <tr>\n",
       "      <th>3</th>\n",
       "      <td>EorgeEorge</td>\n",
       "      <td>CC</td>\n",
       "      <td>186</td>\n",
       "      <td>8</td>\n",
       "      <td>142</td>\n",
       "      <td>8</td>\n",
       "      <td>tianjintianjin</td>\n",
       "      <td>blueblue</td>\n",
       "    </tr>\n",
       "    <tr>\n",
       "      <th>4</th>\n",
       "      <td>OahOah</td>\n",
       "      <td>DD</td>\n",
       "      <td>186</td>\n",
       "      <td>98</td>\n",
       "      <td>88</td>\n",
       "      <td>10</td>\n",
       "      <td>henanhenan</td>\n",
       "      <td>blackblack</td>\n",
       "    </tr>\n",
       "    <tr>\n",
       "      <th>5</th>\n",
       "      <td>HarlieHarlie</td>\n",
       "      <td>CC</td>\n",
       "      <td>48</td>\n",
       "      <td>26</td>\n",
       "      <td>174</td>\n",
       "      <td>12</td>\n",
       "      <td>hebeihebei</td>\n",
       "      <td>pinkpink</td>\n",
       "    </tr>\n",
       "  </tbody>\n",
       "</table>\n",
       "</div>"
      ],
      "text/plain": [
       "           name team   Q1   Q2   Q3  Q4             1city    what color\n",
       "0    LiverLiver   EE  178   42   48   2  shanghaishanghai  yellewyellew\n",
       "1      ArryArry   CC  110   74   74   4      nanjinnanjin        redred\n",
       "2        AckAck   AA  114  120   66   6      beijinbeijin  purplepurple\n",
       "3    EorgeEorge   CC  186    8  142   8    tianjintianjin      blueblue\n",
       "4        OahOah   DD  186   98   88  10        henanhenan    blackblack\n",
       "5  HarlieHarlie   CC   48   26  174  12        hebeihebei      pinkpink"
      ]
     },
     "execution_count": 43,
     "metadata": {},
     "output_type": "execute_result"
    }
   ],
   "source": [
    "# 所有内容重复2\n",
    "df.transform(lambda x: x*2)"
   ]
  },
  {
   "cell_type": "code",
   "execution_count": 44,
   "id": "d7aac17a-3927-40d3-b50b-4bdac27e7b6e",
   "metadata": {},
   "outputs": [
    {
     "name": "stderr",
     "output_type": "stream",
     "text": [
      "/var/folders/f7/4z7jtb213fs0mtgbw_0vs2600000gn/T/ipykernel_5694/2352240501.py:1: FutureWarning: ['name', 'team', '1city', 'what color'] did not transform successfully. If any error is raised, this will raise in a future version of pandas. Drop these columns/ops to avoid this warning.\n",
      "  df.transform([np.sqrt, np.exp])\n"
     ]
    },
    {
     "data": {
      "text/html": [
       "<div>\n",
       "<style scoped>\n",
       "    .dataframe tbody tr th:only-of-type {\n",
       "        vertical-align: middle;\n",
       "    }\n",
       "\n",
       "    .dataframe tbody tr th {\n",
       "        vertical-align: top;\n",
       "    }\n",
       "\n",
       "    .dataframe thead tr th {\n",
       "        text-align: left;\n",
       "    }\n",
       "</style>\n",
       "<table border=\"1\" class=\"dataframe\">\n",
       "  <thead>\n",
       "    <tr>\n",
       "      <th></th>\n",
       "      <th colspan=\"2\" halign=\"left\">Q1</th>\n",
       "      <th colspan=\"2\" halign=\"left\">Q2</th>\n",
       "      <th colspan=\"2\" halign=\"left\">Q3</th>\n",
       "      <th colspan=\"2\" halign=\"left\">Q4</th>\n",
       "    </tr>\n",
       "    <tr>\n",
       "      <th></th>\n",
       "      <th>sqrt</th>\n",
       "      <th>exp</th>\n",
       "      <th>sqrt</th>\n",
       "      <th>exp</th>\n",
       "      <th>sqrt</th>\n",
       "      <th>exp</th>\n",
       "      <th>sqrt</th>\n",
       "      <th>exp</th>\n",
       "    </tr>\n",
       "  </thead>\n",
       "  <tbody>\n",
       "    <tr>\n",
       "      <th>0</th>\n",
       "      <td>9.433981</td>\n",
       "      <td>4.489613e+38</td>\n",
       "      <td>4.582576</td>\n",
       "      <td>1.318816e+09</td>\n",
       "      <td>4.898979</td>\n",
       "      <td>2.648912e+10</td>\n",
       "      <td>1.000000</td>\n",
       "      <td>2.718282</td>\n",
       "    </tr>\n",
       "    <tr>\n",
       "      <th>1</th>\n",
       "      <td>7.416198</td>\n",
       "      <td>7.694785e+23</td>\n",
       "      <td>6.082763</td>\n",
       "      <td>1.171914e+16</td>\n",
       "      <td>6.082763</td>\n",
       "      <td>1.171914e+16</td>\n",
       "      <td>1.414214</td>\n",
       "      <td>7.389056</td>\n",
       "    </tr>\n",
       "    <tr>\n",
       "      <th>2</th>\n",
       "      <td>7.549834</td>\n",
       "      <td>5.685720e+24</td>\n",
       "      <td>7.745967</td>\n",
       "      <td>1.142007e+26</td>\n",
       "      <td>5.744563</td>\n",
       "      <td>2.146436e+14</td>\n",
       "      <td>1.732051</td>\n",
       "      <td>20.085537</td>\n",
       "    </tr>\n",
       "    <tr>\n",
       "      <th>3</th>\n",
       "      <td>9.643651</td>\n",
       "      <td>2.451246e+40</td>\n",
       "      <td>2.000000</td>\n",
       "      <td>5.459815e+01</td>\n",
       "      <td>8.426150</td>\n",
       "      <td>6.837671e+30</td>\n",
       "      <td>2.000000</td>\n",
       "      <td>54.598150</td>\n",
       "    </tr>\n",
       "    <tr>\n",
       "      <th>4</th>\n",
       "      <td>9.643651</td>\n",
       "      <td>2.451246e+40</td>\n",
       "      <td>7.000000</td>\n",
       "      <td>1.907347e+21</td>\n",
       "      <td>6.633250</td>\n",
       "      <td>1.285160e+19</td>\n",
       "      <td>2.236068</td>\n",
       "      <td>148.413159</td>\n",
       "    </tr>\n",
       "    <tr>\n",
       "      <th>5</th>\n",
       "      <td>4.898979</td>\n",
       "      <td>2.648912e+10</td>\n",
       "      <td>3.605551</td>\n",
       "      <td>4.424134e+05</td>\n",
       "      <td>9.327379</td>\n",
       "      <td>6.076030e+37</td>\n",
       "      <td>2.449490</td>\n",
       "      <td>403.428793</td>\n",
       "    </tr>\n",
       "  </tbody>\n",
       "</table>\n",
       "</div>"
      ],
      "text/plain": [
       "         Q1                      Q2                      Q3                \\\n",
       "       sqrt           exp      sqrt           exp      sqrt           exp   \n",
       "0  9.433981  4.489613e+38  4.582576  1.318816e+09  4.898979  2.648912e+10   \n",
       "1  7.416198  7.694785e+23  6.082763  1.171914e+16  6.082763  1.171914e+16   \n",
       "2  7.549834  5.685720e+24  7.745967  1.142007e+26  5.744563  2.146436e+14   \n",
       "3  9.643651  2.451246e+40  2.000000  5.459815e+01  8.426150  6.837671e+30   \n",
       "4  9.643651  2.451246e+40  7.000000  1.907347e+21  6.633250  1.285160e+19   \n",
       "5  4.898979  2.648912e+10  3.605551  4.424134e+05  9.327379  6.076030e+37   \n",
       "\n",
       "         Q4              \n",
       "       sqrt         exp  \n",
       "0  1.000000    2.718282  \n",
       "1  1.414214    7.389056  \n",
       "2  1.732051   20.085537  \n",
       "3  2.000000   54.598150  \n",
       "4  2.236068  148.413159  \n",
       "5  2.449490  403.428793  "
      ]
     },
     "execution_count": 44,
     "metadata": {},
     "output_type": "execute_result"
    }
   ],
   "source": [
    "# 对所有数字列进行平方和e操作\n",
    "df.transform([np.sqrt, np.exp])"
   ]
  },
  {
   "cell_type": "code",
   "execution_count": 45,
   "id": "3336176c-fde0-42d0-839f-52dd06a685e4",
   "metadata": {},
   "outputs": [
    {
     "name": "stderr",
     "output_type": "stream",
     "text": [
      "/var/folders/f7/4z7jtb213fs0mtgbw_0vs2600000gn/T/ipykernel_5694/2789089618.py:1: FutureWarning: ['name', 'team', '1city', 'what color'] did not transform successfully. If any error is raised, this will raise in a future version of pandas. Drop these columns/ops to avoid this warning.\n",
      "  df.transform([np.abs, lambda x:x+1])\n"
     ]
    },
    {
     "data": {
      "text/html": [
       "<div>\n",
       "<style scoped>\n",
       "    .dataframe tbody tr th:only-of-type {\n",
       "        vertical-align: middle;\n",
       "    }\n",
       "\n",
       "    .dataframe tbody tr th {\n",
       "        vertical-align: top;\n",
       "    }\n",
       "\n",
       "    .dataframe thead tr th {\n",
       "        text-align: left;\n",
       "    }\n",
       "</style>\n",
       "<table border=\"1\" class=\"dataframe\">\n",
       "  <thead>\n",
       "    <tr>\n",
       "      <th></th>\n",
       "      <th colspan=\"2\" halign=\"left\">Q1</th>\n",
       "      <th colspan=\"2\" halign=\"left\">Q2</th>\n",
       "      <th colspan=\"2\" halign=\"left\">Q3</th>\n",
       "      <th colspan=\"2\" halign=\"left\">Q4</th>\n",
       "    </tr>\n",
       "    <tr>\n",
       "      <th></th>\n",
       "      <th>absolute</th>\n",
       "      <th>&lt;lambda&gt;</th>\n",
       "      <th>absolute</th>\n",
       "      <th>&lt;lambda&gt;</th>\n",
       "      <th>absolute</th>\n",
       "      <th>&lt;lambda&gt;</th>\n",
       "      <th>absolute</th>\n",
       "      <th>&lt;lambda&gt;</th>\n",
       "    </tr>\n",
       "  </thead>\n",
       "  <tbody>\n",
       "    <tr>\n",
       "      <th>0</th>\n",
       "      <td>89</td>\n",
       "      <td>90</td>\n",
       "      <td>21</td>\n",
       "      <td>22</td>\n",
       "      <td>24</td>\n",
       "      <td>25</td>\n",
       "      <td>1</td>\n",
       "      <td>2</td>\n",
       "    </tr>\n",
       "    <tr>\n",
       "      <th>1</th>\n",
       "      <td>55</td>\n",
       "      <td>56</td>\n",
       "      <td>37</td>\n",
       "      <td>38</td>\n",
       "      <td>37</td>\n",
       "      <td>38</td>\n",
       "      <td>2</td>\n",
       "      <td>3</td>\n",
       "    </tr>\n",
       "    <tr>\n",
       "      <th>2</th>\n",
       "      <td>57</td>\n",
       "      <td>58</td>\n",
       "      <td>60</td>\n",
       "      <td>61</td>\n",
       "      <td>33</td>\n",
       "      <td>34</td>\n",
       "      <td>3</td>\n",
       "      <td>4</td>\n",
       "    </tr>\n",
       "    <tr>\n",
       "      <th>3</th>\n",
       "      <td>93</td>\n",
       "      <td>94</td>\n",
       "      <td>4</td>\n",
       "      <td>5</td>\n",
       "      <td>71</td>\n",
       "      <td>72</td>\n",
       "      <td>4</td>\n",
       "      <td>5</td>\n",
       "    </tr>\n",
       "    <tr>\n",
       "      <th>4</th>\n",
       "      <td>93</td>\n",
       "      <td>94</td>\n",
       "      <td>49</td>\n",
       "      <td>50</td>\n",
       "      <td>44</td>\n",
       "      <td>45</td>\n",
       "      <td>5</td>\n",
       "      <td>6</td>\n",
       "    </tr>\n",
       "    <tr>\n",
       "      <th>5</th>\n",
       "      <td>24</td>\n",
       "      <td>25</td>\n",
       "      <td>13</td>\n",
       "      <td>14</td>\n",
       "      <td>87</td>\n",
       "      <td>88</td>\n",
       "      <td>6</td>\n",
       "      <td>7</td>\n",
       "    </tr>\n",
       "  </tbody>\n",
       "</table>\n",
       "</div>"
      ],
      "text/plain": [
       "        Q1                Q2                Q3                Q4         \n",
       "  absolute <lambda> absolute <lambda> absolute <lambda> absolute <lambda>\n",
       "0       89       90       21       22       24       25        1        2\n",
       "1       55       56       37       38       37       38        2        3\n",
       "2       57       58       60       61       33       34        3        4\n",
       "3       93       94        4        5       71       72        4        5\n",
       "4       93       94       49       50       44       45        5        6\n",
       "5       24       25       13       14       87       88        6        7"
      ]
     },
     "execution_count": 45,
     "metadata": {},
     "output_type": "execute_result"
    }
   ],
   "source": [
    "df.transform([np.abs, lambda x:x+1])"
   ]
  },
  {
   "cell_type": "code",
   "execution_count": 48,
   "id": "c8a2b152-375e-4b22-8683-3ffa2c2283a5",
   "metadata": {},
   "outputs": [
    {
     "data": {
      "text/html": [
       "<div>\n",
       "<style scoped>\n",
       "    .dataframe tbody tr th:only-of-type {\n",
       "        vertical-align: middle;\n",
       "    }\n",
       "\n",
       "    .dataframe tbody tr th {\n",
       "        vertical-align: top;\n",
       "    }\n",
       "\n",
       "    .dataframe thead th {\n",
       "        text-align: right;\n",
       "    }\n",
       "</style>\n",
       "<table border=\"1\" class=\"dataframe\">\n",
       "  <thead>\n",
       "    <tr style=\"text-align: right;\">\n",
       "      <th></th>\n",
       "      <th>Q1</th>\n",
       "      <th>Q2</th>\n",
       "    </tr>\n",
       "  </thead>\n",
       "  <tbody>\n",
       "    <tr>\n",
       "      <th>0</th>\n",
       "      <td>89</td>\n",
       "      <td>22</td>\n",
       "    </tr>\n",
       "    <tr>\n",
       "      <th>1</th>\n",
       "      <td>55</td>\n",
       "      <td>38</td>\n",
       "    </tr>\n",
       "    <tr>\n",
       "      <th>2</th>\n",
       "      <td>57</td>\n",
       "      <td>61</td>\n",
       "    </tr>\n",
       "    <tr>\n",
       "      <th>3</th>\n",
       "      <td>93</td>\n",
       "      <td>5</td>\n",
       "    </tr>\n",
       "    <tr>\n",
       "      <th>4</th>\n",
       "      <td>93</td>\n",
       "      <td>50</td>\n",
       "    </tr>\n",
       "    <tr>\n",
       "      <th>5</th>\n",
       "      <td>24</td>\n",
       "      <td>14</td>\n",
       "    </tr>\n",
       "  </tbody>\n",
       "</table>\n",
       "</div>"
      ],
      "text/plain": [
       "   Q1  Q2\n",
       "0  89  22\n",
       "1  55  38\n",
       "2  57  61\n",
       "3  93   5\n",
       "4  93  50\n",
       "5  24  14"
      ]
     },
     "execution_count": 48,
     "metadata": {},
     "output_type": "execute_result"
    }
   ],
   "source": [
    "df.transform({'Q1':np.abs, 'Q2':lambda x:x+1})"
   ]
  },
  {
   "cell_type": "code",
   "execution_count": 51,
   "id": "65214c29-e8e3-4c05-a17d-bc4f72e43587",
   "metadata": {},
   "outputs": [
    {
     "name": "stderr",
     "output_type": "stream",
     "text": [
      "/var/folders/f7/4z7jtb213fs0mtgbw_0vs2600000gn/T/ipykernel_5694/208903793.py:1: FutureWarning: The default value of numeric_only in DataFrameGroupBy.sum is deprecated. In a future version, numeric_only will default to False. Either specify numeric_only or select only columns which should be valid for the function.\n",
      "  df.groupby('team').sum()\n"
     ]
    },
    {
     "data": {
      "text/html": [
       "<div>\n",
       "<style scoped>\n",
       "    .dataframe tbody tr th:only-of-type {\n",
       "        vertical-align: middle;\n",
       "    }\n",
       "\n",
       "    .dataframe tbody tr th {\n",
       "        vertical-align: top;\n",
       "    }\n",
       "\n",
       "    .dataframe thead th {\n",
       "        text-align: right;\n",
       "    }\n",
       "</style>\n",
       "<table border=\"1\" class=\"dataframe\">\n",
       "  <thead>\n",
       "    <tr style=\"text-align: right;\">\n",
       "      <th></th>\n",
       "      <th>Q1</th>\n",
       "      <th>Q2</th>\n",
       "      <th>Q3</th>\n",
       "      <th>Q4</th>\n",
       "    </tr>\n",
       "    <tr>\n",
       "      <th>team</th>\n",
       "      <th></th>\n",
       "      <th></th>\n",
       "      <th></th>\n",
       "      <th></th>\n",
       "    </tr>\n",
       "  </thead>\n",
       "  <tbody>\n",
       "    <tr>\n",
       "      <th>A</th>\n",
       "      <td>57</td>\n",
       "      <td>60</td>\n",
       "      <td>33</td>\n",
       "      <td>3</td>\n",
       "    </tr>\n",
       "    <tr>\n",
       "      <th>C</th>\n",
       "      <td>172</td>\n",
       "      <td>54</td>\n",
       "      <td>195</td>\n",
       "      <td>12</td>\n",
       "    </tr>\n",
       "    <tr>\n",
       "      <th>D</th>\n",
       "      <td>93</td>\n",
       "      <td>49</td>\n",
       "      <td>44</td>\n",
       "      <td>5</td>\n",
       "    </tr>\n",
       "    <tr>\n",
       "      <th>E</th>\n",
       "      <td>89</td>\n",
       "      <td>21</td>\n",
       "      <td>24</td>\n",
       "      <td>1</td>\n",
       "    </tr>\n",
       "  </tbody>\n",
       "</table>\n",
       "</div>"
      ],
      "text/plain": [
       "       Q1  Q2   Q3  Q4\n",
       "team                  \n",
       "A      57  60   33   3\n",
       "C     172  54  195  12\n",
       "D      93  49   44   5\n",
       "E      89  21   24   1"
      ]
     },
     "execution_count": 51,
     "metadata": {},
     "output_type": "execute_result"
    }
   ],
   "source": [
    "# 先分组，再计算sum\n",
    "df.groupby('team').sum()"
   ]
  },
  {
   "cell_type": "code",
   "execution_count": 53,
   "id": "f0d139eb-d973-429b-863f-5ed8f1d136a4",
   "metadata": {},
   "outputs": [
    {
     "name": "stderr",
     "output_type": "stream",
     "text": [
      "/var/folders/f7/4z7jtb213fs0mtgbw_0vs2600000gn/T/ipykernel_5694/2995104122.py:1: FutureWarning: The default value of numeric_only in DataFrameGroupBy.sum is deprecated. In a future version, numeric_only will default to False. Either specify numeric_only or select only columns which should be valid for the function.\n",
      "  df.groupby('team').transform(sum)\n"
     ]
    },
    {
     "data": {
      "text/html": [
       "<div>\n",
       "<style scoped>\n",
       "    .dataframe tbody tr th:only-of-type {\n",
       "        vertical-align: middle;\n",
       "    }\n",
       "\n",
       "    .dataframe tbody tr th {\n",
       "        vertical-align: top;\n",
       "    }\n",
       "\n",
       "    .dataframe thead th {\n",
       "        text-align: right;\n",
       "    }\n",
       "</style>\n",
       "<table border=\"1\" class=\"dataframe\">\n",
       "  <thead>\n",
       "    <tr style=\"text-align: right;\">\n",
       "      <th></th>\n",
       "      <th>Q1</th>\n",
       "      <th>Q2</th>\n",
       "      <th>Q3</th>\n",
       "      <th>Q4</th>\n",
       "    </tr>\n",
       "  </thead>\n",
       "  <tbody>\n",
       "    <tr>\n",
       "      <th>0</th>\n",
       "      <td>89</td>\n",
       "      <td>21</td>\n",
       "      <td>24</td>\n",
       "      <td>1</td>\n",
       "    </tr>\n",
       "    <tr>\n",
       "      <th>1</th>\n",
       "      <td>172</td>\n",
       "      <td>54</td>\n",
       "      <td>195</td>\n",
       "      <td>12</td>\n",
       "    </tr>\n",
       "    <tr>\n",
       "      <th>2</th>\n",
       "      <td>57</td>\n",
       "      <td>60</td>\n",
       "      <td>33</td>\n",
       "      <td>3</td>\n",
       "    </tr>\n",
       "    <tr>\n",
       "      <th>3</th>\n",
       "      <td>172</td>\n",
       "      <td>54</td>\n",
       "      <td>195</td>\n",
       "      <td>12</td>\n",
       "    </tr>\n",
       "    <tr>\n",
       "      <th>4</th>\n",
       "      <td>93</td>\n",
       "      <td>49</td>\n",
       "      <td>44</td>\n",
       "      <td>5</td>\n",
       "    </tr>\n",
       "    <tr>\n",
       "      <th>5</th>\n",
       "      <td>172</td>\n",
       "      <td>54</td>\n",
       "      <td>195</td>\n",
       "      <td>12</td>\n",
       "    </tr>\n",
       "  </tbody>\n",
       "</table>\n",
       "</div>"
      ],
      "text/plain": [
       "    Q1  Q2   Q3  Q4\n",
       "0   89  21   24   1\n",
       "1  172  54  195  12\n",
       "2   57  60   33   3\n",
       "3  172  54  195  12\n",
       "4   93  49   44   5\n",
       "5  172  54  195  12"
      ]
     },
     "execution_count": 53,
     "metadata": {},
     "output_type": "execute_result"
    }
   ],
   "source": [
    "# 先transform计算sum，返回的是原数据结构，在指定位置上显示聚合计算后的结果。\n",
    "df.groupby('team').transform(sum)"
   ]
  },
  {
   "cell_type": "markdown",
   "id": "d2e738ad-6347-4f9b-b2f9-ff97b7be2982",
   "metadata": {},
   "source": [
    "# 5.7.7 copy()"
   ]
  },
  {
   "cell_type": "code",
   "execution_count": 54,
   "id": "44aaf703-48f8-4d49-bdcc-d25be5b5bfc2",
   "metadata": {},
   "outputs": [],
   "source": [
    "# deep=True 深copy，不影响副本\n",
    "# deep=False 浅copy，影响副本"
   ]
  },
  {
   "cell_type": "code",
   "execution_count": 82,
   "id": "5cd9c4f5-8662-44aa-bf2e-740abbc5077a",
   "metadata": {},
   "outputs": [
    {
     "data": {
      "text/plain": [
       "a    1\n",
       "b    2\n",
       "dtype: int64"
      ]
     },
     "execution_count": 82,
     "metadata": {},
     "output_type": "execute_result"
    }
   ],
   "source": [
    "s = pd.Series([1,2], index=['a','b'])\n",
    "s"
   ]
  },
  {
   "cell_type": "code",
   "execution_count": 83,
   "id": "559bdaee-a66e-4b9c-a624-524110edbfae",
   "metadata": {},
   "outputs": [],
   "source": [
    "s1 = s\n",
    "scopy = s.copy(deep=True)"
   ]
  },
  {
   "cell_type": "code",
   "execution_count": 84,
   "id": "45b763fe-ddf8-4f8c-9e84-4ed53f0203c5",
   "metadata": {},
   "outputs": [
    {
     "data": {
      "text/plain": [
       "True"
      ]
     },
     "execution_count": 84,
     "metadata": {},
     "output_type": "execute_result"
    }
   ],
   "source": [
    "s1 is s"
   ]
  },
  {
   "cell_type": "code",
   "execution_count": 85,
   "id": "6daced63-48d4-4361-8475-af784c12f058",
   "metadata": {},
   "outputs": [
    {
     "data": {
      "text/plain": [
       "False"
      ]
     },
     "execution_count": 85,
     "metadata": {},
     "output_type": "execute_result"
    }
   ],
   "source": [
    "scopy is s "
   ]
  },
  {
   "cell_type": "code",
   "execution_count": 86,
   "id": "1bd08a2e-0415-4c78-aab5-fefe9ec6ab71",
   "metadata": {},
   "outputs": [],
   "source": [
    "scopy['a'] = 5"
   ]
  },
  {
   "cell_type": "code",
   "execution_count": 87,
   "id": "30e39b32-d163-4d82-b295-e08a1edbb77b",
   "metadata": {},
   "outputs": [
    {
     "data": {
      "text/plain": [
       "a    1\n",
       "b    2\n",
       "dtype: int64"
      ]
     },
     "execution_count": 87,
     "metadata": {},
     "output_type": "execute_result"
    }
   ],
   "source": [
    "s"
   ]
  },
  {
   "cell_type": "code",
   "execution_count": null,
   "id": "70482144-eaa0-4fcf-bed5-360ed573aebb",
   "metadata": {},
   "outputs": [],
   "source": []
  }
 ],
 "metadata": {
  "kernelspec": {
   "display_name": "Python 3 (ipykernel)",
   "language": "python",
   "name": "python3"
  },
  "language_info": {
   "codemirror_mode": {
    "name": "ipython",
    "version": 3
   },
   "file_extension": ".py",
   "mimetype": "text/x-python",
   "name": "python",
   "nbconvert_exporter": "python",
   "pygments_lexer": "ipython3",
   "version": "3.8.16"
  }
 },
 "nbformat": 4,
 "nbformat_minor": 5
}
