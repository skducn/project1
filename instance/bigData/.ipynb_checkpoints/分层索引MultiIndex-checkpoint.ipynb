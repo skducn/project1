{
 "cells": [
  {
   "cell_type": "code",
   "execution_count": 1,
   "id": "5f5e551b-6473-423b-b1da-44479578e737",
   "metadata": {},
   "outputs": [],
   "source": [
    "import pandas as pd\n",
    "import numpy as np"
   ]
  },
  {
   "cell_type": "code",
   "execution_count": 5,
   "id": "eae4e0f4-9925-4dd9-8e4d-29b21bc20768",
   "metadata": {},
   "outputs": [
    {
     "data": {
      "text/plain": [
       "a    1\n",
       "b    2\n",
       "c    3\n",
       "dtype: int64"
      ]
     },
     "execution_count": 5,
     "metadata": {},
     "output_type": "execute_result"
    }
   ],
   "source": [
    "# serial 单层索引\n",
    "sa =  pd.Series([1,2,3], index=list('abc'))\n",
    "sa"
   ]
  },
  {
   "cell_type": "code",
   "execution_count": 6,
   "id": "253c8183-6ecd-4fbb-90a1-7402a54de8ff",
   "metadata": {},
   "outputs": [
    {
     "data": {
      "text/plain": [
       "张三  期中    1\n",
       "    期末    2\n",
       "李四  期中    3\n",
       "    期末    4\n",
       "王五  期中    5\n",
       "    期末    6\n",
       "dtype: int64"
      ]
     },
     "execution_count": 6,
     "metadata": {},
     "output_type": "execute_result"
    }
   ],
   "source": [
    "# serial 多层索引\n",
    "# 第一层索引：张三、李四、王五\n",
    "# 第二层索引：期中，期末\n",
    "\n",
    "import pandas as pd\n",
    "s = pd.Series([1,2,3,4,5,6],index=[['张三','张三','李四','李四','王五','王五'],\n",
    "                                   ['期中','期末','期中','期末','期中','期末']])\n",
    "s"
   ]
  },
  {
   "cell_type": "code",
   "execution_count": 7,
   "id": "76ceb5fd-a2ad-48f0-80cf-6c7a03b79c8e",
   "metadata": {},
   "outputs": [
    {
     "data": {
      "text/html": [
       "<div>\n",
       "<style scoped>\n",
       "    .dataframe tbody tr th:only-of-type {\n",
       "        vertical-align: middle;\n",
       "    }\n",
       "\n",
       "    .dataframe tbody tr th {\n",
       "        vertical-align: top;\n",
       "    }\n",
       "\n",
       "    .dataframe thead th {\n",
       "        text-align: right;\n",
       "    }\n",
       "</style>\n",
       "<table border=\"1\" class=\"dataframe\">\n",
       "  <thead>\n",
       "    <tr style=\"text-align: right;\">\n",
       "      <th></th>\n",
       "      <th></th>\n",
       "      <th>语文</th>\n",
       "      <th>英语</th>\n",
       "      <th>数学</th>\n",
       "    </tr>\n",
       "  </thead>\n",
       "  <tbody>\n",
       "    <tr>\n",
       "      <th rowspan=\"2\" valign=\"top\">a</th>\n",
       "      <th>期末</th>\n",
       "      <td>26</td>\n",
       "      <td>87</td>\n",
       "      <td>6</td>\n",
       "    </tr>\n",
       "    <tr>\n",
       "      <th>期中</th>\n",
       "      <td>48</td>\n",
       "      <td>36</td>\n",
       "      <td>13</td>\n",
       "    </tr>\n",
       "    <tr>\n",
       "      <th rowspan=\"2\" valign=\"top\">b</th>\n",
       "      <th>期末</th>\n",
       "      <td>99</td>\n",
       "      <td>8</td>\n",
       "      <td>76</td>\n",
       "    </tr>\n",
       "    <tr>\n",
       "      <th>期中</th>\n",
       "      <td>84</td>\n",
       "      <td>25</td>\n",
       "      <td>88</td>\n",
       "    </tr>\n",
       "    <tr>\n",
       "      <th rowspan=\"2\" valign=\"top\">c</th>\n",
       "      <th>期末</th>\n",
       "      <td>1</td>\n",
       "      <td>92</td>\n",
       "      <td>55</td>\n",
       "    </tr>\n",
       "    <tr>\n",
       "      <th>期中</th>\n",
       "      <td>22</td>\n",
       "      <td>53</td>\n",
       "      <td>63</td>\n",
       "    </tr>\n",
       "  </tbody>\n",
       "</table>\n",
       "</div>"
      ],
      "text/plain": [
       "      语文  英语  数学\n",
       "a 期末  26  87   6\n",
       "  期中  48  36  13\n",
       "b 期末  99   8  76\n",
       "  期中  84  25  88\n",
       "c 期末   1  92  55\n",
       "  期中  22  53  63"
      ]
     },
     "execution_count": 7,
     "metadata": {},
     "output_type": "execute_result"
    }
   ],
   "source": [
    "# Dataframe 多层索引\n",
    "# np.random.randint(0,100,size=(6,3)) 随机生成随机整数方法randint，size是指定生成6行3列的数据，并且每个数字的范围在0到100之间。\n",
    " \n",
    "da = np.random.randint(100,size=(6,3))\n",
    "df1 = pd.DataFrame(da,index=[[\"a\",\"a\",\"b\",\"b\",\"c\",\"c\"],\n",
    "                            [\"期末\",\"期中\",\"期末\",\"期中\",\"期末\",\"期中\"]],\n",
    "                   columns=[\"语文\",\"英语\",\"数学\"])\n",
    "df1"
   ]
  },
  {
   "cell_type": "markdown",
   "id": "8310ffc0-efb5-4228-8d99-4078e34a86bb",
   "metadata": {},
   "source": [
    "MultiIndex可以从\n",
    "\n",
    "数组列表（使用 MultiIndex.from_arrays()）、\n",
    "\n",
    "元组数组（使用 MultiIndex.from_tuples()）、\n",
    "\n",
    "可迭代的交叉集（使用 MultiIndex.from_product()）\n",
    "\n",
    "DataFrame（使用 MultiIndex.from_frame()） 创建。\n"
   ]
  },
  {
   "cell_type": "code",
   "execution_count": 8,
   "id": "71584db3-5ba9-4cd0-ac3c-74565bc8677d",
   "metadata": {},
   "outputs": [
    {
     "data": {
      "text/plain": [
       "a  期中    127\n",
       "   期末     17\n",
       "b  期中    111\n",
       "   期末     63\n",
       "c  期中    118\n",
       "   期末     12\n",
       "dtype: int64"
      ]
     },
     "execution_count": 8,
     "metadata": {},
     "output_type": "execute_result"
    }
   ],
   "source": [
    "# 多层索引构建方法 pd.MultiIndex\n",
    "# Series\n",
    "names=[\"a\",\"b\",\"c\"]\n",
    "exems=[\"期中\",\"期末\"]\n",
    "index=pd.MultiIndex.from_product([names,exems])\n",
    "df = pd.Series(np.random.randint(0,150,size=6),index=index)\n",
    "df"
   ]
  },
  {
   "cell_type": "code",
   "execution_count": 13,
   "id": "8c8747c6-f55c-4d90-9017-ff7e600f9592",
   "metadata": {},
   "outputs": [
    {
     "data": {
      "text/html": [
       "<div>\n",
       "<style scoped>\n",
       "    .dataframe tbody tr th:only-of-type {\n",
       "        vertical-align: middle;\n",
       "    }\n",
       "\n",
       "    .dataframe tbody tr th {\n",
       "        vertical-align: top;\n",
       "    }\n",
       "\n",
       "    .dataframe thead th {\n",
       "        text-align: right;\n",
       "    }\n",
       "</style>\n",
       "<table border=\"1\" class=\"dataframe\">\n",
       "  <thead>\n",
       "    <tr style=\"text-align: right;\">\n",
       "      <th></th>\n",
       "      <th></th>\n",
       "      <th>语文</th>\n",
       "      <th>英语</th>\n",
       "      <th>数学</th>\n",
       "    </tr>\n",
       "  </thead>\n",
       "  <tbody>\n",
       "    <tr>\n",
       "      <th rowspan=\"2\" valign=\"top\">a</th>\n",
       "      <th>期中</th>\n",
       "      <td>81</td>\n",
       "      <td>5</td>\n",
       "      <td>0</td>\n",
       "    </tr>\n",
       "    <tr>\n",
       "      <th>期末</th>\n",
       "      <td>98</td>\n",
       "      <td>91</td>\n",
       "      <td>29</td>\n",
       "    </tr>\n",
       "    <tr>\n",
       "      <th rowspan=\"2\" valign=\"top\">b</th>\n",
       "      <th>期中</th>\n",
       "      <td>25</td>\n",
       "      <td>15</td>\n",
       "      <td>49</td>\n",
       "    </tr>\n",
       "    <tr>\n",
       "      <th>期末</th>\n",
       "      <td>33</td>\n",
       "      <td>0</td>\n",
       "      <td>26</td>\n",
       "    </tr>\n",
       "    <tr>\n",
       "      <th rowspan=\"2\" valign=\"top\">c</th>\n",
       "      <th>期中</th>\n",
       "      <td>68</td>\n",
       "      <td>28</td>\n",
       "      <td>89</td>\n",
       "    </tr>\n",
       "    <tr>\n",
       "      <th>期末</th>\n",
       "      <td>58</td>\n",
       "      <td>11</td>\n",
       "      <td>49</td>\n",
       "    </tr>\n",
       "  </tbody>\n",
       "</table>\n",
       "</div>"
      ],
      "text/plain": [
       "      语文  英语  数学\n",
       "a 期中  81   5   0\n",
       "  期末  98  91  29\n",
       "b 期中  25  15  49\n",
       "  期末  33   0  26\n",
       "c 期中  68  28  89\n",
       "  期末  58  11  49"
      ]
     },
     "execution_count": 13,
     "metadata": {},
     "output_type": "execute_result"
    }
   ],
   "source": [
    "# DataFrame\n",
    "names=[\"a\",\"b\",\"c\"]\n",
    "exems=[\"期中\",\"期末\"]\n",
    "columns = [\"语文\",\"英语\",\"数学\"]\n",
    "index=pd.MultiIndex.from_product([names,exems])\n",
    "df2 = pd.DataFrame(da,index=index,columns=columns)\n",
    "df2"
   ]
  },
  {
   "cell_type": "code",
   "execution_count": 14,
   "id": "7e732ce4-70c7-4afd-8684-2d0f4aa3540a",
   "metadata": {},
   "outputs": [
    {
     "data": {
      "text/html": [
       "<div>\n",
       "<style scoped>\n",
       "    .dataframe tbody tr th:only-of-type {\n",
       "        vertical-align: middle;\n",
       "    }\n",
       "\n",
       "    .dataframe tbody tr th {\n",
       "        vertical-align: top;\n",
       "    }\n",
       "\n",
       "    .dataframe thead th {\n",
       "        text-align: right;\n",
       "    }\n",
       "</style>\n",
       "<table border=\"1\" class=\"dataframe\">\n",
       "  <thead>\n",
       "    <tr style=\"text-align: right;\">\n",
       "      <th></th>\n",
       "      <th>class</th>\n",
       "      <th>name</th>\n",
       "      <th>score</th>\n",
       "    </tr>\n",
       "  </thead>\n",
       "  <tbody>\n",
       "    <tr>\n",
       "      <th>0</th>\n",
       "      <td>class1</td>\n",
       "      <td>linda</td>\n",
       "      <td>100</td>\n",
       "    </tr>\n",
       "    <tr>\n",
       "      <th>1</th>\n",
       "      <td>class1</td>\n",
       "      <td>mark</td>\n",
       "      <td>123</td>\n",
       "    </tr>\n",
       "    <tr>\n",
       "      <th>2</th>\n",
       "      <td>class2</td>\n",
       "      <td>lily</td>\n",
       "      <td>120</td>\n",
       "    </tr>\n",
       "    <tr>\n",
       "      <th>3</th>\n",
       "      <td>class3</td>\n",
       "      <td>cherich</td>\n",
       "      <td>116</td>\n",
       "    </tr>\n",
       "  </tbody>\n",
       "</table>\n",
       "</div>"
      ],
      "text/plain": [
       "    class     name  score\n",
       "0  class1    linda    100\n",
       "1  class1     mark    123\n",
       "2  class2     lily    120\n",
       "3  class3  cherich    116"
      ]
     },
     "execution_count": 14,
     "metadata": {},
     "output_type": "execute_result"
    }
   ],
   "source": [
    "# 方法将普通列转成多层级索引\n",
    "da = np.random.randint(100,size=(6,3))\n",
    "dic = {\"class\":[\"class1\",\"class1\",\"class2\",\"class3\"],\n",
    "      \"name\":[\"linda\",\"mark\",\"lily\",\"cherich\"],\n",
    "      \"score\":[100,123,120,116]}\n",
    "df3 = pd.DataFrame(dic)\n",
    "df3.set_index([\"class\",\"name\"])\n",
    "df3"
   ]
  },
  {
   "cell_type": "code",
   "execution_count": 15,
   "id": "8695e9db-b3ad-4a82-b12c-4ce42f4964c2",
   "metadata": {},
   "outputs": [
    {
     "data": {
      "text/html": [
       "<div>\n",
       "<style scoped>\n",
       "    .dataframe tbody tr th:only-of-type {\n",
       "        vertical-align: middle;\n",
       "    }\n",
       "\n",
       "    .dataframe tbody tr th {\n",
       "        vertical-align: top;\n",
       "    }\n",
       "\n",
       "    .dataframe thead th {\n",
       "        text-align: right;\n",
       "    }\n",
       "</style>\n",
       "<table border=\"1\" class=\"dataframe\">\n",
       "  <thead>\n",
       "    <tr style=\"text-align: right;\">\n",
       "      <th></th>\n",
       "      <th></th>\n",
       "      <th>score</th>\n",
       "    </tr>\n",
       "    <tr>\n",
       "      <th>class</th>\n",
       "      <th>name</th>\n",
       "      <th></th>\n",
       "    </tr>\n",
       "  </thead>\n",
       "  <tbody>\n",
       "    <tr>\n",
       "      <th rowspan=\"2\" valign=\"top\">class1</th>\n",
       "      <th>linda</th>\n",
       "      <td>100.0</td>\n",
       "    </tr>\n",
       "    <tr>\n",
       "      <th>mark</th>\n",
       "      <td>123.0</td>\n",
       "    </tr>\n",
       "    <tr>\n",
       "      <th>class2</th>\n",
       "      <th>lily</th>\n",
       "      <td>120.0</td>\n",
       "    </tr>\n",
       "    <tr>\n",
       "      <th>class3</th>\n",
       "      <th>cherich</th>\n",
       "      <td>116.0</td>\n",
       "    </tr>\n",
       "  </tbody>\n",
       "</table>\n",
       "</div>"
      ],
      "text/plain": [
       "                score\n",
       "class  name          \n",
       "class1 linda    100.0\n",
       "       mark     123.0\n",
       "class2 lily     120.0\n",
       "class3 cherich  116.0"
      ]
     },
     "execution_count": 15,
     "metadata": {},
     "output_type": "execute_result"
    }
   ],
   "source": [
    "# 用来聚合计算，比如mean\n",
    "df3.groupby(['class','name']).mean()"
   ]
  },
  {
   "cell_type": "code",
   "execution_count": 16,
   "id": "643d99c1-a901-4448-bb73-3f9f1f74d6f4",
   "metadata": {},
   "outputs": [
    {
     "data": {
      "text/html": [
       "<div>\n",
       "<style scoped>\n",
       "    .dataframe tbody tr th:only-of-type {\n",
       "        vertical-align: middle;\n",
       "    }\n",
       "\n",
       "    .dataframe tbody tr th {\n",
       "        vertical-align: top;\n",
       "    }\n",
       "\n",
       "    .dataframe thead th {\n",
       "        text-align: right;\n",
       "    }\n",
       "</style>\n",
       "<table border=\"1\" class=\"dataframe\">\n",
       "  <thead>\n",
       "    <tr style=\"text-align: right;\">\n",
       "      <th></th>\n",
       "      <th></th>\n",
       "      <th>score</th>\n",
       "    </tr>\n",
       "    <tr>\n",
       "      <th>class</th>\n",
       "      <th>name</th>\n",
       "      <th></th>\n",
       "    </tr>\n",
       "  </thead>\n",
       "  <tbody>\n",
       "    <tr>\n",
       "      <th rowspan=\"2\" valign=\"top\">class1</th>\n",
       "      <th>linda</th>\n",
       "      <td>100</td>\n",
       "    </tr>\n",
       "    <tr>\n",
       "      <th>mark</th>\n",
       "      <td>123</td>\n",
       "    </tr>\n",
       "    <tr>\n",
       "      <th>class2</th>\n",
       "      <th>lily</th>\n",
       "      <td>120</td>\n",
       "    </tr>\n",
       "    <tr>\n",
       "      <th>class3</th>\n",
       "      <th>cherich</th>\n",
       "      <td>116</td>\n",
       "    </tr>\n",
       "  </tbody>\n",
       "</table>\n",
       "</div>"
      ],
      "text/plain": [
       "                score\n",
       "class  name          \n",
       "class1 linda      100\n",
       "       mark       123\n",
       "class2 lily       120\n",
       "class3 cherich    116"
      ]
     },
     "execution_count": 16,
     "metadata": {},
     "output_type": "execute_result"
    }
   ],
   "source": [
    "# 数据动态排布，分类汇总\n",
    "df3.pivot_table(index=[\"class\",\"name\"])\n"
   ]
  },
  {
   "cell_type": "code",
   "execution_count": 22,
   "id": "26d48f0f-385e-41a9-8e66-09b1f543ce26",
   "metadata": {},
   "outputs": [
    {
     "data": {
      "text/plain": [
       "a  期中    103\n",
       "   期末    148\n",
       "b  期中     78\n",
       "   期末     54\n",
       "c  期中     50\n",
       "   期末     58\n",
       "dtype: int64"
      ]
     },
     "execution_count": 22,
     "metadata": {},
     "output_type": "execute_result"
    }
   ],
   "source": [
    "# 多层索引构建方法 pd.MultiIndex\n",
    "# Series\n",
    "names=[\"a\",\"b\",\"c\"]\n",
    "exems=[\"期中\",\"期末\"]\n",
    "index=pd.MultiIndex.from_product([names,exems])\n",
    "df = pd.Series(np.random.randint(0,150,size=6),index=index)\n",
    "df"
   ]
  },
  {
   "cell_type": "code",
   "execution_count": 23,
   "id": "51f8b357-6357-46af-a25f-7034db865ca3",
   "metadata": {},
   "outputs": [
    {
     "data": {
      "text/plain": [
       "期中    103\n",
       "期末    148\n",
       "dtype: int64"
      ]
     },
     "execution_count": 23,
     "metadata": {},
     "output_type": "execute_result"
    }
   ],
   "source": [
    "# 取a的值\n",
    "df[\"a\"]\n",
    "# df.loc[:\"a\"] 同上"
   ]
  },
  {
   "cell_type": "code",
   "execution_count": 24,
   "id": "339ea1da-33ac-43b5-a34d-e4687a4d72b5",
   "metadata": {},
   "outputs": [
    {
     "data": {
      "text/plain": [
       "148"
      ]
     },
     "execution_count": 24,
     "metadata": {},
     "output_type": "execute_result"
    }
   ],
   "source": [
    "df[\"a\"]['期末']"
   ]
  },
  {
   "cell_type": "code",
   "execution_count": 26,
   "id": "0945627b-2d14-4eea-b935-a75d8d85bb3c",
   "metadata": {},
   "outputs": [
    {
     "data": {
      "text/plain": [
       "a  期中    103\n",
       "   期末    148\n",
       "c  期中     50\n",
       "   期末     58\n",
       "dtype: int64"
      ]
     },
     "execution_count": 26,
     "metadata": {},
     "output_type": "execute_result"
    }
   ],
   "source": [
    "# 取a、c的值\n",
    "df[['a','c']]\n",
    "# df.loc[[\"a\",\"c\"]]"
   ]
  },
  {
   "cell_type": "code",
   "execution_count": 27,
   "id": "1d12a62d-a645-45dd-a21a-3b079f8dc280",
   "metadata": {},
   "outputs": [
    {
     "data": {
      "text/plain": [
       "a  期中    103\n",
       "   期末    148\n",
       "b  期中     78\n",
       "   期末     54\n",
       "dtype: int64"
      ]
     },
     "execution_count": 27,
     "metadata": {},
     "output_type": "execute_result"
    }
   ],
   "source": [
    "# 取a、b的值\n",
    "df[:\"b\"]\n",
    "# df.loc[:\"b\"]"
   ]
  },
  {
   "cell_type": "code",
   "execution_count": 31,
   "id": "097be086-31b1-4a8b-a192-181f6046e774",
   "metadata": {},
   "outputs": [],
   "source": [
    "# 按照索引排序，sort_index()"
   ]
  },
  {
   "cell_type": "code",
   "execution_count": 40,
   "id": "0afd9b24-b218-4071-a6af-90d6570cda92",
   "metadata": {},
   "outputs": [
    {
     "data": {
      "text/plain": [
       "3  b    90\n",
       "   a    78\n",
       "2  b    89\n",
       "   a    56\n",
       "1  b    53\n",
       "   a    89\n",
       "dtype: int64"
      ]
     },
     "execution_count": 40,
     "metadata": {},
     "output_type": "execute_result"
    }
   ],
   "source": [
    "names=[1,2,3]\n",
    "exems=[\"a\",\"b\"]\n",
    "index=pd.MultiIndex.from_product([names,exems])\n",
    "data1 = pd.Series([89,53,56,89,78,90],index=index)\n",
    "# level = 0 则按照第一层索引排序  1 按照第二层\n",
    "# ascending=False 降序 大到小  True 从小到大\n",
    "# data1.sort_index(level=0)\n",
    "data1.sort_index(level=0,ascending=False)"
   ]
  },
  {
   "cell_type": "code",
   "execution_count": 42,
   "id": "c0fb33ad-d95e-4d82-a6c0-5721976fa98f",
   "metadata": {},
   "outputs": [
    {
     "data": {
      "text/html": [
       "<div>\n",
       "<style scoped>\n",
       "    .dataframe tbody tr th:only-of-type {\n",
       "        vertical-align: middle;\n",
       "    }\n",
       "\n",
       "    .dataframe tbody tr th {\n",
       "        vertical-align: top;\n",
       "    }\n",
       "\n",
       "    .dataframe thead th {\n",
       "        text-align: right;\n",
       "    }\n",
       "</style>\n",
       "<table border=\"1\" class=\"dataframe\">\n",
       "  <thead>\n",
       "    <tr style=\"text-align: right;\">\n",
       "      <th></th>\n",
       "      <th></th>\n",
       "      <th>语文</th>\n",
       "      <th>英语</th>\n",
       "      <th>数学</th>\n",
       "    </tr>\n",
       "  </thead>\n",
       "  <tbody>\n",
       "    <tr>\n",
       "      <th rowspan=\"2\" valign=\"top\">a</th>\n",
       "      <th>期末</th>\n",
       "      <td>26</td>\n",
       "      <td>87</td>\n",
       "      <td>6</td>\n",
       "    </tr>\n",
       "    <tr>\n",
       "      <th>期中</th>\n",
       "      <td>48</td>\n",
       "      <td>36</td>\n",
       "      <td>13</td>\n",
       "    </tr>\n",
       "    <tr>\n",
       "      <th rowspan=\"2\" valign=\"top\">b</th>\n",
       "      <th>期末</th>\n",
       "      <td>99</td>\n",
       "      <td>8</td>\n",
       "      <td>76</td>\n",
       "    </tr>\n",
       "    <tr>\n",
       "      <th>期中</th>\n",
       "      <td>84</td>\n",
       "      <td>25</td>\n",
       "      <td>88</td>\n",
       "    </tr>\n",
       "    <tr>\n",
       "      <th rowspan=\"2\" valign=\"top\">c</th>\n",
       "      <th>期末</th>\n",
       "      <td>1</td>\n",
       "      <td>92</td>\n",
       "      <td>55</td>\n",
       "    </tr>\n",
       "    <tr>\n",
       "      <th>期中</th>\n",
       "      <td>22</td>\n",
       "      <td>53</td>\n",
       "      <td>63</td>\n",
       "    </tr>\n",
       "  </tbody>\n",
       "</table>\n",
       "</div>"
      ],
      "text/plain": [
       "      语文  英语  数学\n",
       "a 期末  26  87   6\n",
       "  期中  48  36  13\n",
       "b 期末  99   8  76\n",
       "  期中  84  25  88\n",
       "c 期末   1  92  55\n",
       "  期中  22  53  63"
      ]
     },
     "execution_count": 42,
     "metadata": {},
     "output_type": "execute_result"
    }
   ],
   "source": [
    "df1"
   ]
  },
  {
   "cell_type": "code",
   "execution_count": 43,
   "id": "b3906f2f-d527-4c4b-8c7d-8ace69f6f49b",
   "metadata": {},
   "outputs": [
    {
     "data": {
      "text/html": [
       "<div>\n",
       "<style scoped>\n",
       "    .dataframe tbody tr th:only-of-type {\n",
       "        vertical-align: middle;\n",
       "    }\n",
       "\n",
       "    .dataframe tbody tr th {\n",
       "        vertical-align: top;\n",
       "    }\n",
       "\n",
       "    .dataframe thead th {\n",
       "        text-align: right;\n",
       "    }\n",
       "</style>\n",
       "<table border=\"1\" class=\"dataframe\">\n",
       "  <thead>\n",
       "    <tr style=\"text-align: right;\">\n",
       "      <th></th>\n",
       "      <th></th>\n",
       "      <th>语文</th>\n",
       "      <th>英语</th>\n",
       "      <th>数学</th>\n",
       "    </tr>\n",
       "  </thead>\n",
       "  <tbody>\n",
       "    <tr>\n",
       "      <th rowspan=\"2\" valign=\"top\">b</th>\n",
       "      <th>期末</th>\n",
       "      <td>99</td>\n",
       "      <td>8</td>\n",
       "      <td>76</td>\n",
       "    </tr>\n",
       "    <tr>\n",
       "      <th>期中</th>\n",
       "      <td>84</td>\n",
       "      <td>25</td>\n",
       "      <td>88</td>\n",
       "    </tr>\n",
       "    <tr>\n",
       "      <th rowspan=\"2\" valign=\"top\">a</th>\n",
       "      <th>期中</th>\n",
       "      <td>48</td>\n",
       "      <td>36</td>\n",
       "      <td>13</td>\n",
       "    </tr>\n",
       "    <tr>\n",
       "      <th>期末</th>\n",
       "      <td>26</td>\n",
       "      <td>87</td>\n",
       "      <td>6</td>\n",
       "    </tr>\n",
       "    <tr>\n",
       "      <th rowspan=\"2\" valign=\"top\">c</th>\n",
       "      <th>期中</th>\n",
       "      <td>22</td>\n",
       "      <td>53</td>\n",
       "      <td>63</td>\n",
       "    </tr>\n",
       "    <tr>\n",
       "      <th>期末</th>\n",
       "      <td>1</td>\n",
       "      <td>92</td>\n",
       "      <td>55</td>\n",
       "    </tr>\n",
       "  </tbody>\n",
       "</table>\n",
       "</div>"
      ],
      "text/plain": [
       "      语文  英语  数学\n",
       "b 期末  99   8  76\n",
       "  期中  84  25  88\n",
       "a 期中  48  36  13\n",
       "  期末  26  87   6\n",
       "c 期中  22  53  63\n",
       "  期末   1  92  55"
      ]
     },
     "execution_count": 43,
     "metadata": {},
     "output_type": "execute_result"
    }
   ],
   "source": [
    "# 按照具体值（列名）排序，sort_value()\n",
    "# # series\n",
    "# data1.sort_values(ascending=False)\n",
    "# dataFrame\n",
    "df1.sort_values(by=\"语文\",ascending=False)"
   ]
  },
  {
   "cell_type": "code",
   "execution_count": null,
   "id": "94c56c6c-4417-488b-a6e8-ceda5e5211b9",
   "metadata": {},
   "outputs": [],
   "source": []
  }
 ],
 "metadata": {
  "kernelspec": {
   "display_name": "Python 3 (ipykernel)",
   "language": "python",
   "name": "python3"
  },
  "language_info": {
   "codemirror_mode": {
    "name": "ipython",
    "version": 3
   },
   "file_extension": ".py",
   "mimetype": "text/x-python",
   "name": "python",
   "nbconvert_exporter": "python",
   "pygments_lexer": "ipython3",
   "version": "3.8.16"
  }
 },
 "nbformat": 4,
 "nbformat_minor": 5
}
