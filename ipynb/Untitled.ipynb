{
 "cells": [
  {
   "cell_type": "code",
   "execution_count": 1,
   "id": "0fe4c50d",
   "metadata": {},
   "outputs": [],
   "source": [
    "import numpy as np"
   ]
  },
  {
   "cell_type": "code",
   "execution_count": 2,
   "id": "d884f930",
   "metadata": {},
   "outputs": [],
   "source": [
    "n = np.array([[5, 10, 15],\n",
    "              [20, 125, 30],\n",
    "              [35, 40, 45]])"
   ]
  },
  {
   "cell_type": "code",
   "execution_count": 3,
   "id": "d0952962",
   "metadata": {},
   "outputs": [
    {
     "data": {
      "text/plain": [
       "5"
      ]
     },
     "execution_count": 3,
     "metadata": {},
     "output_type": "execute_result"
    }
   ],
   "source": [
    "n.min()"
   ]
  },
  {
   "cell_type": "code",
   "execution_count": 4,
   "id": "e714a842",
   "metadata": {},
   "outputs": [
    {
     "data": {
      "text/plain": [
       "125"
      ]
     },
     "execution_count": 4,
     "metadata": {},
     "output_type": "execute_result"
    }
   ],
   "source": [
    "n.max()"
   ]
  },
  {
   "cell_type": "code",
   "execution_count": 5,
   "id": "9a7674dc",
   "metadata": {},
   "outputs": [
    {
     "data": {
      "text/plain": [
       "array([ 35, 125,  45])"
      ]
     },
     "execution_count": 5,
     "metadata": {},
     "output_type": "execute_result"
    }
   ],
   "source": [
    "# 某一行中最大值组成数组\n",
    "n.max(axis=0)"
   ]
  },
  {
   "cell_type": "code",
   "execution_count": 6,
   "id": "4d9eea68",
   "metadata": {},
   "outputs": [
    {
     "data": {
      "text/plain": [
       "array([ 15, 125,  45])"
      ]
     },
     "execution_count": 6,
     "metadata": {},
     "output_type": "execute_result"
    }
   ],
   "source": [
    "# 某一列中最大值组成数组\n",
    "n.max(1)"
   ]
  },
  {
   "cell_type": "code",
   "execution_count": 7,
   "id": "d5276e50",
   "metadata": {},
   "outputs": [
    {
     "data": {
      "text/plain": [
       "36.11"
      ]
     },
     "execution_count": 7,
     "metadata": {},
     "output_type": "execute_result"
    }
   ],
   "source": [
    "n.mean().round(2)"
   ]
  },
  {
   "cell_type": "code",
   "execution_count": 8,
   "id": "0d5eaeb5",
   "metadata": {},
   "outputs": [
    {
     "data": {
      "text/plain": [
       "array([ 60, 175,  90])"
      ]
     },
     "execution_count": 8,
     "metadata": {},
     "output_type": "execute_result"
    }
   ],
   "source": [
    "# 列求和组成数组  \n",
    "n.sum(axis=0)"
   ]
  },
  {
   "cell_type": "code",
   "execution_count": 9,
   "id": "88856959",
   "metadata": {},
   "outputs": [
    {
     "data": {
      "text/plain": [
       "array([ 30, 175, 120])"
      ]
     },
     "execution_count": 9,
     "metadata": {},
     "output_type": "execute_result"
    }
   ],
   "source": [
    "# 行求和组成数组\n",
    "n.sum(1)"
   ]
  },
  {
   "cell_type": "code",
   "execution_count": 10,
   "id": "86c5e934",
   "metadata": {},
   "outputs": [
    {
     "data": {
      "text/plain": [
       "325"
      ]
     },
     "execution_count": 10,
     "metadata": {},
     "output_type": "execute_result"
    }
   ],
   "source": [
    "n.sum()"
   ]
  },
  {
   "cell_type": "code",
   "execution_count": 11,
   "id": "808879ca",
   "metadata": {},
   "outputs": [
    {
     "data": {
      "text/plain": [
       "array([20.        , 58.33333333, 30.        ])"
      ]
     },
     "execution_count": 11,
     "metadata": {},
     "output_type": "execute_result"
    }
   ],
   "source": [
    "# 列求平均值组成数组\n",
    "n.mean(0)"
   ]
  },
  {
   "cell_type": "code",
   "execution_count": 12,
   "id": "15fe7934",
   "metadata": {},
   "outputs": [
    {
     "data": {
      "text/plain": [
       "array([10.        , 58.33333333, 40.        ])"
      ]
     },
     "execution_count": 12,
     "metadata": {},
     "output_type": "execute_result"
    }
   ],
   "source": [
    "# 行求平均值组成数组\n",
    "n.mean(1)"
   ]
  },
  {
   "cell_type": "code",
   "execution_count": 13,
   "id": "0e5b9215",
   "metadata": {},
   "outputs": [],
   "source": [
    "n1 = np.arange(5)"
   ]
  },
  {
   "cell_type": "code",
   "execution_count": 14,
   "id": "61222f80",
   "metadata": {},
   "outputs": [
    {
     "data": {
      "text/plain": [
       "array([0, 1, 2, 3, 4])"
      ]
     },
     "execution_count": 14,
     "metadata": {},
     "output_type": "execute_result"
    }
   ],
   "source": [
    "n1"
   ]
  },
  {
   "cell_type": "code",
   "execution_count": 15,
   "id": "45f1d580",
   "metadata": {},
   "outputs": [
    {
     "data": {
      "text/plain": [
       "array([ 1.        ,  2.71828183,  7.3890561 , 20.08553692, 54.59815003])"
      ]
     },
     "execution_count": 15,
     "metadata": {},
     "output_type": "execute_result"
    }
   ],
   "source": [
    "# np. exp(x)   e的x幂次方\n",
    "np.exp(n1)"
   ]
  },
  {
   "cell_type": "code",
   "execution_count": 16,
   "id": "0a583e8f",
   "metadata": {},
   "outputs": [
    {
     "data": {
      "text/plain": [
       "array([0.        , 1.        , 1.41421356, 1.73205081, 2.        ])"
      ]
     },
     "execution_count": 16,
     "metadata": {},
     "output_type": "execute_result"
    }
   ],
   "source": [
    "# 开根号\n",
    "np.sqrt(n1)"
   ]
  },
  {
   "cell_type": "code",
   "execution_count": 17,
   "id": "8edbab72",
   "metadata": {},
   "outputs": [],
   "source": [
    "# np.floor() 向下取整\n",
    "a = np.array([-1.7, -1.5, -0.2, 0.2, 1.5, 1.7, 2.0])"
   ]
  },
  {
   "cell_type": "code",
   "execution_count": 18,
   "id": "848d765b",
   "metadata": {},
   "outputs": [
    {
     "data": {
      "text/plain": [
       "array([-2., -2., -1.,  0.,  1.,  1.,  2.])"
      ]
     },
     "execution_count": 18,
     "metadata": {},
     "output_type": "execute_result"
    }
   ],
   "source": [
    "np.floor(a)"
   ]
  },
  {
   "cell_type": "code",
   "execution_count": 19,
   "id": "470aa4ec",
   "metadata": {},
   "outputs": [
    {
     "data": {
      "text/plain": [
       "array([[4, 3, 5],\n",
       "       [1, 6, 1]])"
      ]
     },
     "execution_count": 19,
     "metadata": {},
     "output_type": "execute_result"
    }
   ],
   "source": [
    "# 排序\n",
    "a = np.array([[4, 3, 5], [1, 6, 1]])\n",
    "a"
   ]
  },
  {
   "cell_type": "code",
   "execution_count": 20,
   "id": "29641e62",
   "metadata": {},
   "outputs": [
    {
     "data": {
      "text/plain": [
       "array([[3, 4, 5],\n",
       "       [1, 1, 6]])"
      ]
     },
     "execution_count": 20,
     "metadata": {},
     "output_type": "execute_result"
    }
   ],
   "source": [
    "# 行排序\n",
    "np.sort(a)  # 等同于 np.sort(a,1)   或 np.sort(a,axis=1)"
   ]
  },
  {
   "cell_type": "code",
   "execution_count": 21,
   "id": "75da307b",
   "metadata": {},
   "outputs": [
    {
     "data": {
      "text/plain": [
       "array([[3, 4, 5],\n",
       "       [1, 1, 6]])"
      ]
     },
     "execution_count": 21,
     "metadata": {},
     "output_type": "execute_result"
    }
   ],
   "source": [
    "# 列排序\n",
    "np.sort(a)"
   ]
  },
  {
   "cell_type": "code",
   "execution_count": 22,
   "id": "eacf25c5",
   "metadata": {},
   "outputs": [
    {
     "data": {
      "text/plain": [
       "array([2, 1, 3, 0], dtype=int64)"
      ]
     },
     "execution_count": 22,
     "metadata": {},
     "output_type": "execute_result"
    }
   ],
   "source": [
    "# np.argsort() 返回元素位置的排序索引\n",
    "x = np.array([44, 23, 10, 24])\n",
    "arg = np.argsort(x)\n",
    "arg"
   ]
  },
  {
   "cell_type": "code",
   "execution_count": 23,
   "id": "240a846b",
   "metadata": {},
   "outputs": [
    {
     "data": {
      "text/plain": [
       "array([10, 23, 24, 44])"
      ]
     },
     "execution_count": 23,
     "metadata": {},
     "output_type": "execute_result"
    }
   ],
   "source": [
    "x[arg]"
   ]
  },
  {
   "cell_type": "code",
   "execution_count": 24,
   "id": "99157654",
   "metadata": {},
   "outputs": [
    {
     "data": {
      "text/plain": [
       "array([3, 1, 0, 2], dtype=int64)"
      ]
     },
     "execution_count": 24,
     "metadata": {},
     "output_type": "execute_result"
    }
   ],
   "source": [
    "np.argsort(arg)  # 对 array([2, 1, 3, 0], dtype=int64) 进行再索引排序"
   ]
  },
  {
   "cell_type": "code",
   "execution_count": 25,
   "id": "a47e79e2",
   "metadata": {},
   "outputs": [
    {
     "data": {
      "text/plain": [
       "0"
      ]
     },
     "execution_count": 25,
     "metadata": {},
     "output_type": "execute_result"
    }
   ],
   "source": [
    "# 返回数组[44, 23, 10, 24]中最大值的索引号\n",
    "arg[-1]"
   ]
  },
  {
   "cell_type": "code",
   "execution_count": 26,
   "id": "87e02fa8",
   "metadata": {},
   "outputs": [
    {
     "data": {
      "text/plain": [
       "2"
      ]
     },
     "execution_count": 26,
     "metadata": {},
     "output_type": "execute_result"
    }
   ],
   "source": [
    "# 返回数组中最小值的索引号\n",
    "arg[0]"
   ]
  },
  {
   "cell_type": "code",
   "execution_count": 27,
   "id": "4c63f003",
   "metadata": {},
   "outputs": [
    {
     "data": {
      "text/plain": [
       "2"
      ]
     },
     "execution_count": 27,
     "metadata": {},
     "output_type": "execute_result"
    }
   ],
   "source": [
    "# 返回数组中最大元素的索引\n",
    "a = np.array([44, 23, 3310, 124])\n",
    "a.argmax()"
   ]
  },
  {
   "cell_type": "code",
   "execution_count": 28,
   "id": "f14b9cf1",
   "metadata": {},
   "outputs": [
    {
     "data": {
      "text/plain": [
       "1"
      ]
     },
     "execution_count": 28,
     "metadata": {},
     "output_type": "execute_result"
    }
   ],
   "source": [
    "a.argmin()"
   ]
  },
  {
   "cell_type": "code",
   "execution_count": 29,
   "id": "e99a2b72",
   "metadata": {},
   "outputs": [],
   "source": [
    "n1 = np.array([[11, 1],\n",
    "               [0, 5]])\n",
    "n2 = np.array([[2, 0],\n",
    "               [3, 4]])"
   ]
  },
  {
   "cell_type": "code",
   "execution_count": 30,
   "id": "d876367f",
   "metadata": {},
   "outputs": [
    {
     "data": {
      "text/plain": [
       "array([[11,  1],\n",
       "       [ 0,  5]])"
      ]
     },
     "execution_count": 30,
     "metadata": {},
     "output_type": "execute_result"
    }
   ],
   "source": [
    "n1"
   ]
  },
  {
   "cell_type": "code",
   "execution_count": 31,
   "id": "24824158",
   "metadata": {},
   "outputs": [
    {
     "data": {
      "text/plain": [
       "array([[2, 0],\n",
       "       [3, 4]])"
      ]
     },
     "execution_count": 31,
     "metadata": {},
     "output_type": "execute_result"
    }
   ],
   "source": [
    "n2"
   ]
  },
  {
   "cell_type": "code",
   "execution_count": 32,
   "id": "891eb107",
   "metadata": {},
   "outputs": [
    {
     "data": {
      "text/plain": [
       "array([[22,  0],\n",
       "       [ 0, 20]])"
      ]
     },
     "execution_count": 32,
     "metadata": {},
     "output_type": "execute_result"
    }
   ],
   "source": [
    "# [11*2,1*0],[0*3,5*4]\n",
    "n1*n2"
   ]
  },
  {
   "cell_type": "code",
   "execution_count": 33,
   "id": "70b74f97",
   "metadata": {},
   "outputs": [
    {
     "data": {
      "text/plain": [
       "array([[22,  0],\n",
       "       [ 0, 20]])"
      ]
     },
     "execution_count": 33,
     "metadata": {},
     "output_type": "execute_result"
    }
   ],
   "source": [
    "np.multiply(n1,n2)"
   ]
  },
  {
   "cell_type": "code",
   "execution_count": 34,
   "id": "d612604b",
   "metadata": {},
   "outputs": [
    {
     "data": {
      "text/plain": [
       "6"
      ]
     },
     "execution_count": 34,
     "metadata": {},
     "output_type": "execute_result"
    }
   ],
   "source": [
    "np.multiply(2, 3)"
   ]
  },
  {
   "cell_type": "code",
   "execution_count": 35,
   "id": "e231d5a9",
   "metadata": {},
   "outputs": [
    {
     "data": {
      "text/plain": [
       "array([[33,  3],\n",
       "       [ 0, 15]])"
      ]
     },
     "execution_count": 35,
     "metadata": {},
     "output_type": "execute_result"
    }
   ],
   "source": [
    "np.multiply(n1, 3)"
   ]
  },
  {
   "cell_type": "code",
   "execution_count": 36,
   "id": "423d3ff2",
   "metadata": {},
   "outputs": [],
   "source": [
    "A = np.array( [[1,2],\n",
    "               [3,4]] )\n",
    "B = np.array( [[5,6],\n",
    "               [7,8]] )"
   ]
  },
  {
   "cell_type": "code",
   "execution_count": 37,
   "id": "32069722",
   "metadata": {},
   "outputs": [
    {
     "data": {
      "text/plain": [
       "array([[19, 22],\n",
       "       [43, 50]])"
      ]
     },
     "execution_count": 37,
     "metadata": {},
     "output_type": "execute_result"
    }
   ],
   "source": [
    "A.dot(B)"
   ]
  },
  {
   "cell_type": "code",
   "execution_count": 38,
   "id": "805d4c71",
   "metadata": {},
   "outputs": [
    {
     "data": {
      "text/plain": [
       "array([[19, 22],\n",
       "       [43, 50]])"
      ]
     },
     "execution_count": 38,
     "metadata": {},
     "output_type": "execute_result"
    }
   ],
   "source": [
    "np.dot(A,B)"
   ]
  },
  {
   "cell_type": "code",
   "execution_count": 39,
   "id": "11665ebf",
   "metadata": {},
   "outputs": [],
   "source": [
    "a= np.ones((3,7))"
   ]
  },
  {
   "cell_type": "code",
   "execution_count": 40,
   "id": "67d8b0ef",
   "metadata": {},
   "outputs": [
    {
     "data": {
      "text/plain": [
       "array([[1., 1., 1., 1., 1., 1., 1.],\n",
       "       [1., 1., 1., 1., 1., 1., 1.],\n",
       "       [1., 1., 1., 1., 1., 1., 1.]])"
      ]
     },
     "execution_count": 40,
     "metadata": {},
     "output_type": "execute_result"
    }
   ],
   "source": [
    "a"
   ]
  },
  {
   "cell_type": "code",
   "execution_count": 41,
   "id": "5bc6473d",
   "metadata": {},
   "outputs": [],
   "source": [
    "b= np.ones((7,3))*4"
   ]
  },
  {
   "cell_type": "code",
   "execution_count": 42,
   "id": "2a0068d0",
   "metadata": {},
   "outputs": [
    {
     "data": {
      "text/plain": [
       "array([[4., 4., 4.],\n",
       "       [4., 4., 4.],\n",
       "       [4., 4., 4.],\n",
       "       [4., 4., 4.],\n",
       "       [4., 4., 4.],\n",
       "       [4., 4., 4.],\n",
       "       [4., 4., 4.]])"
      ]
     },
     "execution_count": 42,
     "metadata": {},
     "output_type": "execute_result"
    }
   ],
   "source": [
    "b"
   ]
  },
  {
   "cell_type": "code",
   "execution_count": 43,
   "id": "90551e9d",
   "metadata": {},
   "outputs": [
    {
     "data": {
      "text/plain": [
       "array([[28., 28., 28.],\n",
       "       [28., 28., 28.],\n",
       "       [28., 28., 28.]])"
      ]
     },
     "execution_count": 43,
     "metadata": {},
     "output_type": "execute_result"
    }
   ],
   "source": [
    "a.dot(b)"
   ]
  },
  {
   "cell_type": "code",
   "execution_count": 44,
   "id": "93e914ee",
   "metadata": {},
   "outputs": [],
   "source": [
    "A=[1,2,3,4,5]\n",
    "B=[5,4,3,2,1]"
   ]
  },
  {
   "cell_type": "code",
   "execution_count": 45,
   "id": "f8bef38b",
   "metadata": {},
   "outputs": [
    {
     "data": {
      "text/plain": [
       "35"
      ]
     },
     "execution_count": 45,
     "metadata": {},
     "output_type": "execute_result"
    }
   ],
   "source": [
    "np.dot(A,B)"
   ]
  },
  {
   "cell_type": "code",
   "execution_count": 46,
   "id": "99be0224",
   "metadata": {},
   "outputs": [],
   "source": [
    "A=np.array([1,2,3,4]).reshape(4,1)\n",
    "B=np.array([1,2,3,4,5,6,7,8]).reshape(2,4)"
   ]
  },
  {
   "cell_type": "code",
   "execution_count": 47,
   "id": "3ee1bf2f",
   "metadata": {},
   "outputs": [
    {
     "data": {
      "text/plain": [
       "array([[1],\n",
       "       [2],\n",
       "       [3],\n",
       "       [4]])"
      ]
     },
     "execution_count": 47,
     "metadata": {},
     "output_type": "execute_result"
    }
   ],
   "source": [
    "A"
   ]
  },
  {
   "cell_type": "code",
   "execution_count": 48,
   "id": "7e59b357",
   "metadata": {},
   "outputs": [
    {
     "data": {
      "text/plain": [
       "array([[1, 2, 3, 4],\n",
       "       [5, 6, 7, 8]])"
      ]
     },
     "execution_count": 48,
     "metadata": {},
     "output_type": "execute_result"
    }
   ],
   "source": [
    "B"
   ]
  },
  {
   "cell_type": "code",
   "execution_count": 49,
   "id": "ab2f838a",
   "metadata": {},
   "outputs": [
    {
     "ename": "ValueError",
     "evalue": "shapes (4,1) and (2,4) not aligned: 1 (dim 1) != 2 (dim 0)",
     "output_type": "error",
     "traceback": [
      "\u001b[1;31m---------------------------------------------------------------------------\u001b[0m",
      "\u001b[1;31mValueError\u001b[0m                                Traceback (most recent call last)",
      "\u001b[1;32m<ipython-input-49-9ad6c1600889>\u001b[0m in \u001b[0;36m<module>\u001b[1;34m\u001b[0m\n\u001b[0;32m      1\u001b[0m \u001b[1;31m# 报错了，A·B中, 因为A的x方向为1个元素，而B的y方向为2个元素。无法进行点积运算。\u001b[0m\u001b[1;33m\u001b[0m\u001b[1;33m\u001b[0m\u001b[1;33m\u001b[0m\u001b[0m\n\u001b[1;32m----> 2\u001b[1;33m \u001b[0mnp\u001b[0m\u001b[1;33m.\u001b[0m\u001b[0mdot\u001b[0m\u001b[1;33m(\u001b[0m\u001b[0mA\u001b[0m\u001b[1;33m,\u001b[0m\u001b[0mB\u001b[0m\u001b[1;33m)\u001b[0m\u001b[1;33m\u001b[0m\u001b[1;33m\u001b[0m\u001b[0m\n\u001b[0m",
      "\u001b[1;32m<__array_function__ internals>\u001b[0m in \u001b[0;36mdot\u001b[1;34m(*args, **kwargs)\u001b[0m\n",
      "\u001b[1;31mValueError\u001b[0m: shapes (4,1) and (2,4) not aligned: 1 (dim 1) != 2 (dim 0)"
     ]
    }
   ],
   "source": [
    "# 报错了，A·B中, 因为A的x方向为1个元素，而B的y方向为2个元素。无法进行点积运算。\n",
    "np.dot(A,B)"
   ]
  },
  {
   "cell_type": "code",
   "execution_count": null,
   "id": "2ba0ce77",
   "metadata": {},
   "outputs": [],
   "source": [
    "# B·A中，B的x方向有4个元素，A的y方向有四个元素。\n",
    "# 最终的结果，C在y方向上跟随B，有两个元素；在x方向上跟随A，有一个元素。C：(2,1)。\n",
    "np.dot(B,A)"
   ]
  },
  {
   "cell_type": "code",
   "execution_count": null,
   "id": "e875d80f",
   "metadata": {},
   "outputs": [],
   "source": [
    "A1=np.array([1,2]).reshape(2,1)\n",
    "W=np.array([1,2,3,4,5,6]).reshape(3,2)\n",
    "print('A2=W·A1:\\n',np.dot(W,A1))"
   ]
  },
  {
   "cell_type": "code",
   "execution_count": null,
   "id": "a7a838c0",
   "metadata": {},
   "outputs": [],
   "source": [
    "A1\n"
   ]
  },
  {
   "cell_type": "code",
   "execution_count": null,
   "id": "e1ab7663",
   "metadata": {},
   "outputs": [],
   "source": [
    "W"
   ]
  },
  {
   "cell_type": "code",
   "execution_count": null,
   "id": "4491e5a1",
   "metadata": {},
   "outputs": [],
   "source": [
    "np.matmul(W,A1)"
   ]
  },
  {
   "cell_type": "code",
   "execution_count": null,
   "id": "4b752c27",
   "metadata": {},
   "outputs": [],
   "source": [
    "n1 = np.array([[10, 11],\n",
    "               [12, 13]])\n",
    "n2 = np.array([[40, 51],\n",
    "               [62, 73]])"
   ]
  },
  {
   "cell_type": "code",
   "execution_count": null,
   "id": "7c691102",
   "metadata": {},
   "outputs": [],
   "source": [
    "# 横拼接\n",
    "np.hstack((n1,n2))"
   ]
  },
  {
   "cell_type": "code",
   "execution_count": null,
   "id": "db866bea",
   "metadata": {},
   "outputs": [],
   "source": [
    "# 竖拼接\n",
    "np.vstack((n1,n2))"
   ]
  },
  {
   "cell_type": "code",
   "execution_count": null,
   "id": "990ff2cd",
   "metadata": {},
   "outputs": [],
   "source": [
    "n3 = np.floor(10 * np.random.random((2, 12)))\n",
    "n3"
   ]
  },
  {
   "cell_type": "code",
   "execution_count": null,
   "id": "72f718ff",
   "metadata": {},
   "outputs": [],
   "source": [
    "np.hsplit(n3,3)"
   ]
  },
  {
   "cell_type": "code",
   "execution_count": null,
   "id": "eff29121",
   "metadata": {},
   "outputs": [],
   "source": [
    "np.hsplit(n3,(3,5))"
   ]
  },
  {
   "cell_type": "code",
   "execution_count": null,
   "id": "86b0a569",
   "metadata": {},
   "outputs": [],
   "source": [
    "n3.T"
   ]
  },
  {
   "cell_type": "code",
   "execution_count": null,
   "id": "27950016",
   "metadata": {},
   "outputs": [],
   "source": [
    "np.vsplit(n3.T,3)"
   ]
  },
  {
   "cell_type": "code",
   "execution_count": null,
   "id": "a3750639",
   "metadata": {},
   "outputs": [],
   "source": [
    "harr = np.floor(10 * np.random.random((2, 6)))\n",
    "harr\n"
   ]
  },
  {
   "cell_type": "code",
   "execution_count": null,
   "id": "38710be3",
   "metadata": {},
   "outputs": [],
   "source": [
    "np.hsplit(harr, 3)"
   ]
  },
  {
   "cell_type": "code",
   "execution_count": null,
   "id": "9914adb9",
   "metadata": {},
   "outputs": [],
   "source": [
    "np.hsplit(harr, (2, 4, 5))"
   ]
  },
  {
   "cell_type": "code",
   "execution_count": null,
   "id": "e1810205",
   "metadata": {},
   "outputs": [],
   "source": [
    "x = np.arange(16.0).reshape(2, 8)"
   ]
  },
  {
   "cell_type": "code",
   "execution_count": null,
   "id": "b249c5fb",
   "metadata": {},
   "outputs": [],
   "source": [
    "x"
   ]
  },
  {
   "cell_type": "code",
   "execution_count": null,
   "id": "297cff25",
   "metadata": {},
   "outputs": [],
   "source": [
    "np.hsplit(x, [1,2,6])"
   ]
  },
  {
   "cell_type": "code",
   "execution_count": null,
   "id": "50674110",
   "metadata": {},
   "outputs": [],
   "source": [
    "n = np.array([-0.746, 4.6, 9.4, 7.447, 10.455, 121.555])\n"
   ]
  },
  {
   "cell_type": "code",
   "execution_count": null,
   "id": "3036f0fe",
   "metadata": {},
   "outputs": [],
   "source": [
    "np.around(n, decimals=-1)\n"
   ]
  },
  {
   "cell_type": "code",
   "execution_count": null,
   "id": "9898cfa2",
   "metadata": {},
   "outputs": [],
   "source": []
  },
  {
   "cell_type": "code",
   "execution_count": null,
   "id": "c3e90bd9",
   "metadata": {},
   "outputs": [],
   "source": [
    "n = np.array([-1.7, -2.5, -0.2, 0.6, 1.2, 2.7, 11])\n"
   ]
  },
  {
   "cell_type": "code",
   "execution_count": null,
   "id": "8a8cf77b",
   "metadata": {},
   "outputs": [],
   "source": [
    "np.ceil(n)"
   ]
  },
  {
   "cell_type": "code",
   "execution_count": null,
   "id": "e293883d",
   "metadata": {},
   "outputs": [],
   "source": [
    "data = np.random.random([2, 3])\n",
    "data"
   ]
  },
  {
   "cell_type": "code",
   "execution_count": null,
   "id": "9688fd31",
   "metadata": {},
   "outputs": [],
   "source": [
    "np.where(data>0.5,data,0)"
   ]
  },
  {
   "cell_type": "code",
   "execution_count": null,
   "id": "b531acd5",
   "metadata": {},
   "outputs": [],
   "source": [
    "np.array([[i, i * i] for i in [5, 6, 7]])\n"
   ]
  },
  {
   "cell_type": "code",
   "execution_count": null,
   "id": "bfcbdcff",
   "metadata": {},
   "outputs": [],
   "source": [
    "np.arange(9.).reshape(3, 3)"
   ]
  },
  {
   "cell_type": "code",
   "execution_count": null,
   "id": "4e66988a",
   "metadata": {},
   "outputs": [],
   "source": [
    "np.arange(2, 10, 2)\n"
   ]
  },
  {
   "cell_type": "code",
   "execution_count": null,
   "id": "64b919a8",
   "metadata": {},
   "outputs": [],
   "source": [
    "np.arange(start=2, stop=10, step=2)\n"
   ]
  },
  {
   "cell_type": "code",
   "execution_count": null,
   "id": "464f0929",
   "metadata": {},
   "outputs": [],
   "source": [
    "np.empty(shape=3)"
   ]
  },
  {
   "cell_type": "code",
   "execution_count": null,
   "id": "f7248588",
   "metadata": {},
   "outputs": [],
   "source": [
    "np.empty(shape=(2,3))"
   ]
  },
  {
   "cell_type": "code",
   "execution_count": null,
   "id": "02860bc0",
   "metadata": {},
   "outputs": [],
   "source": [
    "np.empty(shape=(2,3),dtype=int)"
   ]
  },
  {
   "cell_type": "code",
   "execution_count": null,
   "id": "60662428",
   "metadata": {},
   "outputs": [],
   "source": [
    "np.ones(5)"
   ]
  },
  {
   "cell_type": "code",
   "execution_count": null,
   "id": "f60d9031",
   "metadata": {},
   "outputs": [],
   "source": [
    "np.ones(5).dtype"
   ]
  },
  {
   "cell_type": "code",
   "execution_count": null,
   "id": "1b520278",
   "metadata": {},
   "outputs": [],
   "source": [
    "np.full((2, 3), 7)"
   ]
  },
  {
   "cell_type": "code",
   "execution_count": null,
   "id": "ec6ec82b",
   "metadata": {},
   "outputs": [],
   "source": [
    "n1=np.arange(0,40,10)"
   ]
  },
  {
   "cell_type": "code",
   "execution_count": null,
   "id": "003636a2",
   "metadata": {},
   "outputs": [],
   "source": [
    "np.tile(n1,(3,5))"
   ]
  },
  {
   "cell_type": "code",
   "execution_count": null,
   "id": "2705d87c",
   "metadata": {},
   "outputs": [],
   "source": [
    "np.r_[[1,2,3],[4,5,6],[7,8,9]]\n"
   ]
  },
  {
   "cell_type": "code",
   "execution_count": null,
   "id": "8e3a4ef0",
   "metadata": {},
   "outputs": [],
   "source": [
    "a = np.array([[1, 2, 3],[7,8,9]])\n",
    "b=np.array([[4,5,6],[1,2,3]])"
   ]
  },
  {
   "cell_type": "code",
   "execution_count": null,
   "id": "1177973c",
   "metadata": {},
   "outputs": [],
   "source": [
    "np.r_[a,b]\n"
   ]
  },
  {
   "cell_type": "code",
   "execution_count": null,
   "id": "3549ff2d",
   "metadata": {},
   "outputs": [],
   "source": [
    " np.linspace(-5, 5, 5)"
   ]
  },
  {
   "cell_type": "code",
   "execution_count": null,
   "id": "bd65f91c",
   "metadata": {},
   "outputs": [],
   "source": [
    " np.linspace(-5, 5, 5, False)"
   ]
  },
  {
   "cell_type": "code",
   "execution_count": null,
   "id": "89343e5d",
   "metadata": {},
   "outputs": [],
   "source": [
    " np.linspace(-5, 5, 5, False,True)"
   ]
  },
  {
   "cell_type": "code",
   "execution_count": null,
   "id": "6bd1533d",
   "metadata": {},
   "outputs": [],
   "source": [
    " np.linspace(-5, 5, 5, False,True,int)"
   ]
  },
  {
   "cell_type": "code",
   "execution_count": null,
   "id": "dfb76163",
   "metadata": {},
   "outputs": [],
   "source": [
    "b = np.array([[[1,2.0],[1,2],[5,6]]])"
   ]
  },
  {
   "cell_type": "code",
   "execution_count": null,
   "id": "285b2867",
   "metadata": {},
   "outputs": [],
   "source": [
    "b.ndim"
   ]
  },
  {
   "cell_type": "code",
   "execution_count": null,
   "id": "b5a99b19",
   "metadata": {},
   "outputs": [],
   "source": [
    "b.shape\n"
   ]
  },
  {
   "cell_type": "code",
   "execution_count": null,
   "id": "e8156256",
   "metadata": {},
   "outputs": [],
   "source": [
    "b.dtype"
   ]
  },
  {
   "cell_type": "code",
   "execution_count": null,
   "id": "559c27cc",
   "metadata": {},
   "outputs": [],
   "source": [
    "a = np.array([5, 10, 15])\n"
   ]
  },
  {
   "cell_type": "code",
   "execution_count": null,
   "id": "384b4a1c",
   "metadata": {},
   "outputs": [],
   "source": [
    "a[1]"
   ]
  },
  {
   "cell_type": "code",
   "execution_count": null,
   "id": "d6e77ecc",
   "metadata": {},
   "outputs": [],
   "source": [
    "a[0:2]"
   ]
  },
  {
   "cell_type": "code",
   "execution_count": null,
   "id": "caf2ce90",
   "metadata": {},
   "outputs": [],
   "source": [
    "a[:2]"
   ]
  },
  {
   "cell_type": "code",
   "execution_count": null,
   "id": "e5286760",
   "metadata": {},
   "outputs": [],
   "source": [
    "a[2:]"
   ]
  },
  {
   "cell_type": "code",
   "execution_count": null,
   "id": "15676884",
   "metadata": {},
   "outputs": [],
   "source": [
    "b = np.array([[5, 10, 15], [20, 25, 30], [35, 40, 45]])\n"
   ]
  },
  {
   "cell_type": "code",
   "execution_count": null,
   "id": "60a4319a",
   "metadata": {},
   "outputs": [],
   "source": [
    "b[1,2]"
   ]
  },
  {
   "cell_type": "code",
   "execution_count": null,
   "id": "015dcd4e",
   "metadata": {},
   "outputs": [],
   "source": [
    "b[:,1]"
   ]
  },
  {
   "cell_type": "code",
   "execution_count": null,
   "id": "3292f005",
   "metadata": {},
   "outputs": [],
   "source": [
    "b[:,0:2]"
   ]
  },
  {
   "cell_type": "code",
   "execution_count": null,
   "id": "65d2e1ea",
   "metadata": {},
   "outputs": [],
   "source": [
    "b[1:3,0:2]"
   ]
  },
  {
   "cell_type": "code",
   "execution_count": null,
   "id": "9fa1d9e1",
   "metadata": {},
   "outputs": [],
   "source": [
    "n = np.array([[1, 2, 3, 4, 5], [2, 3, 4, 5, 6], [1, 3, 5, 7, 9]])"
   ]
  },
  {
   "cell_type": "code",
   "execution_count": null,
   "id": "603d99fb",
   "metadata": {},
   "outputs": [],
   "source": [
    "b = n[:, 4] > 6\n"
   ]
  },
  {
   "cell_type": "code",
   "execution_count": null,
   "id": "e911f8c0",
   "metadata": {},
   "outputs": [],
   "source": [
    "b"
   ]
  },
  {
   "cell_type": "code",
   "execution_count": null,
   "id": "cc735b02",
   "metadata": {},
   "outputs": [],
   "source": [
    "n[b] = 11"
   ]
  },
  {
   "cell_type": "code",
   "execution_count": null,
   "id": "a91b6283",
   "metadata": {},
   "outputs": [],
   "source": [
    "n"
   ]
  },
  {
   "cell_type": "code",
   "execution_count": null,
   "id": "ace846dc",
   "metadata": {},
   "outputs": [],
   "source": [
    "n[n>2]=11"
   ]
  },
  {
   "cell_type": "code",
   "execution_count": null,
   "id": "7cd23fff",
   "metadata": {},
   "outputs": [],
   "source": [
    "n"
   ]
  },
  {
   "cell_type": "code",
   "execution_count": null,
   "id": "5a45d9bb",
   "metadata": {},
   "outputs": [],
   "source": [
    "n.ravel()"
   ]
  },
  {
   "cell_type": "code",
   "execution_count": null,
   "id": "45405a85",
   "metadata": {},
   "outputs": [],
   "source": [
    "n.resize(3,5)"
   ]
  },
  {
   "cell_type": "code",
   "execution_count": null,
   "id": "338baa6c",
   "metadata": {},
   "outputs": [],
   "source": [
    "n"
   ]
  },
  {
   "cell_type": "code",
   "execution_count": null,
   "id": "d662ebed",
   "metadata": {},
   "outputs": [],
   "source": [
    "n.reshape(3,5)"
   ]
  },
  {
   "cell_type": "code",
   "execution_count": null,
   "id": "93bbf16d",
   "metadata": {},
   "outputs": [],
   "source": [
    "n1 = np.array([1, 2, 3, 4, 5, 6, 7, 8])\n"
   ]
  },
  {
   "cell_type": "code",
   "execution_count": null,
   "id": "bcd75de8",
   "metadata": {},
   "outputs": [],
   "source": [
    "n1.shape"
   ]
  },
  {
   "cell_type": "code",
   "execution_count": null,
   "id": "632ed7ea",
   "metadata": {},
   "outputs": [],
   "source": [
    "b = np.array([[[1,2.0],[1,2],[5,6]]])"
   ]
  },
  {
   "cell_type": "code",
   "execution_count": null,
   "id": "6fc504a9",
   "metadata": {},
   "outputs": [],
   "source": [
    "b.shape"
   ]
  },
  {
   "cell_type": "code",
   "execution_count": null,
   "id": "2aeee449",
   "metadata": {},
   "outputs": [],
   "source": [
    "n1 = np.array([1, 2, 3, 4, 5, 6, 7, 8])"
   ]
  },
  {
   "cell_type": "code",
   "execution_count": null,
   "id": "533c202b",
   "metadata": {},
   "outputs": [],
   "source": [
    "n1"
   ]
  },
  {
   "cell_type": "code",
   "execution_count": null,
   "id": "f806bede",
   "metadata": {},
   "outputs": [],
   "source": [
    "n2 = n1.reshape(2, 4)"
   ]
  },
  {
   "cell_type": "code",
   "execution_count": null,
   "id": "16d334e4",
   "metadata": {},
   "outputs": [],
   "source": [
    "n2"
   ]
  },
  {
   "cell_type": "code",
   "execution_count": null,
   "id": "ce3b33f0",
   "metadata": {},
   "outputs": [],
   "source": [
    "n1"
   ]
  },
  {
   "cell_type": "code",
   "execution_count": null,
   "id": "e6564d7e",
   "metadata": {},
   "outputs": [],
   "source": [
    "n2.shape = (8)"
   ]
  },
  {
   "cell_type": "code",
   "execution_count": null,
   "id": "9cd5c898",
   "metadata": {},
   "outputs": [],
   "source": [
    "n2"
   ]
  },
  {
   "cell_type": "code",
   "execution_count": null,
   "id": "cf93af74",
   "metadata": {},
   "outputs": [],
   "source": [
    "n3 = n1.reshape(2, 2, -1) "
   ]
  },
  {
   "cell_type": "code",
   "execution_count": null,
   "id": "96b6e9af",
   "metadata": {},
   "outputs": [],
   "source": [
    "n3"
   ]
  },
  {
   "cell_type": "code",
   "execution_count": null,
   "id": "b8174855",
   "metadata": {},
   "outputs": [],
   "source": [
    "n3.shape"
   ]
  },
  {
   "cell_type": "code",
   "execution_count": null,
   "id": "80e49497",
   "metadata": {},
   "outputs": [],
   "source": [
    "n4 = n3.ravel()"
   ]
  },
  {
   "cell_type": "code",
   "execution_count": null,
   "id": "e6135c91",
   "metadata": {},
   "outputs": [],
   "source": [
    "n4"
   ]
  },
  {
   "cell_type": "code",
   "execution_count": null,
   "id": "fa555a01",
   "metadata": {},
   "outputs": [],
   "source": [
    "n5 = n3.resize(2,4)"
   ]
  },
  {
   "cell_type": "code",
   "execution_count": null,
   "id": "d5d91091",
   "metadata": {},
   "outputs": [],
   "source": [
    "n3"
   ]
  },
  {
   "cell_type": "code",
   "execution_count": null,
   "id": "f0d6d2e4",
   "metadata": {},
   "outputs": [],
   "source": [
    "n5"
   ]
  },
  {
   "cell_type": "code",
   "execution_count": null,
   "id": "9e24ff66",
   "metadata": {},
   "outputs": [],
   "source": [
    "n3.T"
   ]
  },
  {
   "cell_type": "code",
   "execution_count": null,
   "id": "d16b243d",
   "metadata": {},
   "outputs": [],
   "source": [
    "n = np.array(['1', '2', '0', '4'])"
   ]
  },
  {
   "cell_type": "code",
   "execution_count": null,
   "id": "c7425e96",
   "metadata": {},
   "outputs": [],
   "source": [
    "n.dtype"
   ]
  },
  {
   "cell_type": "code",
   "execution_count": null,
   "id": "e484468b",
   "metadata": {},
   "outputs": [],
   "source": [
    "n2 = n.astype(float)"
   ]
  },
  {
   "cell_type": "code",
   "execution_count": null,
   "id": "385c9474",
   "metadata": {},
   "outputs": [],
   "source": [
    "n2.dtype"
   ]
  },
  {
   "cell_type": "code",
   "execution_count": null,
   "id": "73674b2f",
   "metadata": {},
   "outputs": [],
   "source": [
    "n3 = n.astype(bool)"
   ]
  },
  {
   "cell_type": "code",
   "execution_count": null,
   "id": "af43c640",
   "metadata": {},
   "outputs": [],
   "source": [
    "n3.dtype"
   ]
  },
  {
   "cell_type": "code",
   "execution_count": null,
   "id": "3d69da87",
   "metadata": {},
   "outputs": [],
   "source": [
    "arr = np.arange(6).reshape(2,3)\n",
    "print('原数组：')\n",
    "print(arr)\n",
    "print('查看原数组的ID:')\n",
    "print(id(arr))\n",
    "print('创建arr的视图brr，brr = arr.view()')\n",
    "brr = arr.view()\n",
    "print('brr的id与arr的不相同:')\n",
    "print(brr)\n",
    "print(id(brr))\n",
    "print('修改brr的形状arr的不会改变，但是更改brr里面的值arr的也会改变：')\n",
    "brr.shape = (3,2)\n",
    "brr[0,0] = 10\n",
    "print('brr:')\n",
    "print(brr)\n",
    "print('arr:')\n",
    "print(arr)\n",
    "print()\n"
   ]
  },
  {
   "cell_type": "code",
   "execution_count": null,
   "id": "153d3938",
   "metadata": {},
   "outputs": [],
   "source": [
    "arr = np.arange(12)"
   ]
  },
  {
   "cell_type": "code",
   "execution_count": null,
   "id": "3b11c608",
   "metadata": {},
   "outputs": [],
   "source": [
    "arr"
   ]
  },
  {
   "cell_type": "code",
   "execution_count": null,
   "id": "4b677ea1",
   "metadata": {},
   "outputs": [],
   "source": [
    "a=arr[3:]"
   ]
  },
  {
   "cell_type": "code",
   "execution_count": null,
   "id": "ae22e8b9",
   "metadata": {},
   "outputs": [],
   "source": [
    "a"
   ]
  },
  {
   "cell_type": "code",
   "execution_count": null,
   "id": "f2ab98d2",
   "metadata": {},
   "outputs": [],
   "source": [
    "b=arr[3:]"
   ]
  },
  {
   "cell_type": "code",
   "execution_count": null,
   "id": "aaa3410d",
   "metadata": {},
   "outputs": [],
   "source": [
    "b"
   ]
  },
  {
   "cell_type": "code",
   "execution_count": null,
   "id": "dafa9b07",
   "metadata": {},
   "outputs": [],
   "source": [
    "a[1]=123"
   ]
  },
  {
   "cell_type": "code",
   "execution_count": null,
   "id": "7510114b",
   "metadata": {},
   "outputs": [],
   "source": [
    "a"
   ]
  },
  {
   "cell_type": "code",
   "execution_count": null,
   "id": "e86482ee",
   "metadata": {},
   "outputs": [],
   "source": [
    "b[2]=555"
   ]
  },
  {
   "cell_type": "code",
   "execution_count": null,
   "id": "ad1e77d7",
   "metadata": {},
   "outputs": [],
   "source": [
    "b"
   ]
  },
  {
   "cell_type": "code",
   "execution_count": null,
   "id": "40bac4c2",
   "metadata": {},
   "outputs": [],
   "source": [
    "arr"
   ]
  },
  {
   "cell_type": "code",
   "execution_count": null,
   "id": "1023efc5",
   "metadata": {},
   "outputs": [],
   "source": [
    "id(a)"
   ]
  },
  {
   "cell_type": "code",
   "execution_count": null,
   "id": "c00803c1",
   "metadata": {},
   "outputs": [],
   "source": [
    "id(b)"
   ]
  },
  {
   "cell_type": "code",
   "execution_count": null,
   "id": "54e9b19e",
   "metadata": {},
   "outputs": [],
   "source": [
    "id(arr)"
   ]
  },
  {
   "cell_type": "code",
   "execution_count": null,
   "id": "9a727acb",
   "metadata": {},
   "outputs": [],
   "source": [
    "n2 = np.array([[5, 10, 15], [20, 25, 30], [35, 40, 45]])"
   ]
  },
  {
   "cell_type": "code",
   "execution_count": null,
   "id": "11bc9c6d",
   "metadata": {},
   "outputs": [],
   "source": [
    "n2"
   ]
  },
  {
   "cell_type": "code",
   "execution_count": null,
   "id": "aee74882",
   "metadata": {},
   "outputs": [],
   "source": [
    "n_bool = (n2 == 10) | (n2 == 25) | (n2 == 45)"
   ]
  },
  {
   "cell_type": "code",
   "execution_count": null,
   "id": "3edd8e38",
   "metadata": {},
   "outputs": [],
   "source": [
    "n_bool"
   ]
  },
  {
   "cell_type": "code",
   "execution_count": null,
   "id": "7a5109ba",
   "metadata": {},
   "outputs": [],
   "source": [
    "n2[n_bool]"
   ]
  },
  {
   "cell_type": "code",
   "execution_count": 51,
   "id": "8cc31f0f",
   "metadata": {},
   "outputs": [
    {
     "data": {
      "text/plain": [
       "array([[1, 2, 3]])"
      ]
     },
     "execution_count": 51,
     "metadata": {},
     "output_type": "execute_result"
    }
   ],
   "source": [
    "np.array([[1,2,3]])"
   ]
  },
  {
   "cell_type": "code",
   "execution_count": 65,
   "id": "5653c73a",
   "metadata": {},
   "outputs": [],
   "source": [
    "x = np.array([(1,2),(3,4),(5,6)],dtype=[('a','<i4'),('b','f4')])"
   ]
  },
  {
   "cell_type": "code",
   "execution_count": 66,
   "id": "c3714e64",
   "metadata": {},
   "outputs": [
    {
     "data": {
      "text/plain": [
       "array([1, 3, 5])"
      ]
     },
     "execution_count": 66,
     "metadata": {},
     "output_type": "execute_result"
    }
   ],
   "source": [
    "x['a']"
   ]
  },
  {
   "cell_type": "code",
   "execution_count": 71,
   "id": "9366d14d",
   "metadata": {},
   "outputs": [
    {
     "data": {
      "text/plain": [
       "array([2., 4., 6.], dtype=float32)"
      ]
     },
     "execution_count": 71,
     "metadata": {},
     "output_type": "execute_result"
    }
   ],
   "source": [
    "x[\"b\"]"
   ]
  },
  {
   "cell_type": "code",
   "execution_count": 68,
   "id": "8de8b4a5",
   "metadata": {},
   "outputs": [
    {
     "data": {
      "text/plain": [
       "array([(1, 2.), (3, 4.), (5, 6.)], dtype=[('a', '<i4'), ('b', '<f4')])"
      ]
     },
     "execution_count": 68,
     "metadata": {},
     "output_type": "execute_result"
    }
   ],
   "source": [
    "x"
   ]
  },
  {
   "cell_type": "code",
   "execution_count": 69,
   "id": "53eeaf21",
   "metadata": {},
   "outputs": [
    {
     "data": {
      "text/plain": [
       "(1, 2.)"
      ]
     },
     "execution_count": 69,
     "metadata": {},
     "output_type": "execute_result"
    }
   ],
   "source": [
    "x[0]"
   ]
  },
  {
   "cell_type": "code",
   "execution_count": 72,
   "id": "74de12ea",
   "metadata": {},
   "outputs": [],
   "source": [
    "x = np.array([[1, 2], [3, 4]])"
   ]
  },
  {
   "cell_type": "code",
   "execution_count": 73,
   "id": "9039c3b1",
   "metadata": {},
   "outputs": [],
   "source": [
    "m = np.asmatrix(x)"
   ]
  },
  {
   "cell_type": "code",
   "execution_count": 74,
   "id": "a4cdc661",
   "metadata": {},
   "outputs": [
    {
     "data": {
      "text/plain": [
       "matrix([[1, 2],\n",
       "        [3, 4]])"
      ]
     },
     "execution_count": 74,
     "metadata": {},
     "output_type": "execute_result"
    }
   ],
   "source": [
    "m"
   ]
  },
  {
   "cell_type": "code",
   "execution_count": 75,
   "id": "85677c7b",
   "metadata": {},
   "outputs": [],
   "source": [
    "x[0,0] = 5"
   ]
  },
  {
   "cell_type": "code",
   "execution_count": 76,
   "id": "1765a264",
   "metadata": {},
   "outputs": [
    {
     "data": {
      "text/plain": [
       "matrix([[5, 2],\n",
       "        [3, 4]])"
      ]
     },
     "execution_count": 76,
     "metadata": {},
     "output_type": "execute_result"
    }
   ],
   "source": [
    "m"
   ]
  },
  {
   "cell_type": "code",
   "execution_count": 77,
   "id": "7669d886",
   "metadata": {},
   "outputs": [
    {
     "data": {
      "text/plain": [
       "matrix([[5, 3],\n",
       "        [2, 4]])"
      ]
     },
     "execution_count": 77,
     "metadata": {},
     "output_type": "execute_result"
    }
   ],
   "source": [
    "m.T"
   ]
  },
  {
   "cell_type": "code",
   "execution_count": 78,
   "id": "75e4cd3a",
   "metadata": {},
   "outputs": [
    {
     "data": {
      "text/plain": [
       "matrix([[ 0.28571429, -0.14285714],\n",
       "        [-0.21428571,  0.35714286]])"
      ]
     },
     "execution_count": 78,
     "metadata": {},
     "output_type": "execute_result"
    }
   ],
   "source": [
    "m.I"
   ]
  },
  {
   "cell_type": "code",
   "execution_count": 79,
   "id": "762487c2",
   "metadata": {},
   "outputs": [
    {
     "data": {
      "text/plain": [
       "dtype('int32')"
      ]
     },
     "execution_count": 79,
     "metadata": {},
     "output_type": "execute_result"
    }
   ],
   "source": [
    "m.dtype"
   ]
  },
  {
   "cell_type": "code",
   "execution_count": 80,
   "id": "b58c663e",
   "metadata": {},
   "outputs": [
    {
     "data": {
      "text/plain": [
       "16"
      ]
     },
     "execution_count": 80,
     "metadata": {},
     "output_type": "execute_result"
    }
   ],
   "source": [
    "m.nbytes"
   ]
  },
  {
   "cell_type": "code",
   "execution_count": 81,
   "id": "7ae54101",
   "metadata": {},
   "outputs": [
    {
     "data": {
      "text/plain": [
       "2"
      ]
     },
     "execution_count": 81,
     "metadata": {},
     "output_type": "execute_result"
    }
   ],
   "source": [
    "m.ndim"
   ]
  },
  {
   "cell_type": "code",
   "execution_count": 82,
   "id": "861e1aa5",
   "metadata": {},
   "outputs": [
    {
     "data": {
      "text/plain": [
       "4"
      ]
     },
     "execution_count": 82,
     "metadata": {},
     "output_type": "execute_result"
    }
   ],
   "source": [
    "m.size"
   ]
  },
  {
   "cell_type": "code",
   "execution_count": 83,
   "id": "01a9b27f",
   "metadata": {},
   "outputs": [
    {
     "data": {
      "text/plain": [
       "matrix([[5, 2],\n",
       "        [3, 4]])"
      ]
     },
     "execution_count": 83,
     "metadata": {},
     "output_type": "execute_result"
    }
   ],
   "source": [
    "m.real"
   ]
  },
  {
   "cell_type": "code",
   "execution_count": 84,
   "id": "34551e17",
   "metadata": {},
   "outputs": [
    {
     "data": {
      "text/plain": [
       "matrix([[5, 2],\n",
       "        [3, 4]])"
      ]
     },
     "execution_count": 84,
     "metadata": {},
     "output_type": "execute_result"
    }
   ],
   "source": [
    "m"
   ]
  },
  {
   "cell_type": "code",
   "execution_count": 86,
   "id": "08c6cc54",
   "metadata": {},
   "outputs": [
    {
     "data": {
      "text/plain": [
       "matrix([[0, 0],\n",
       "        [0, 0]])"
      ]
     },
     "execution_count": 86,
     "metadata": {},
     "output_type": "execute_result"
    }
   ],
   "source": [
    "m.imag"
   ]
  },
  {
   "cell_type": "markdown",
   "id": "1f849d5b",
   "metadata": {},
   "source": [
    "m.shape"
   ]
  },
  {
   "cell_type": "code",
   "execution_count": 87,
   "id": "f4520be9",
   "metadata": {},
   "outputs": [
    {
     "data": {
      "text/plain": [
       "(2, 2)"
      ]
     },
     "execution_count": 87,
     "metadata": {},
     "output_type": "execute_result"
    }
   ],
   "source": [
    "m.shape"
   ]
  },
  {
   "cell_type": "code",
   "execution_count": 88,
   "id": "f758bb7d",
   "metadata": {},
   "outputs": [
    {
     "data": {
      "text/plain": [
       "(8, 4)"
      ]
     },
     "execution_count": 88,
     "metadata": {},
     "output_type": "execute_result"
    }
   ],
   "source": [
    "m.strides"
   ]
  },
  {
   "cell_type": "code",
   "execution_count": 89,
   "id": "ed07267a",
   "metadata": {},
   "outputs": [
    {
     "data": {
      "text/plain": [
       "matrix([[5, 3],\n",
       "        [2, 4]])"
      ]
     },
     "execution_count": 89,
     "metadata": {},
     "output_type": "execute_result"
    }
   ],
   "source": [
    "m.H"
   ]
  },
  {
   "cell_type": "code",
   "execution_count": 90,
   "id": "8ba43edf",
   "metadata": {},
   "outputs": [],
   "source": [
    "arr_a = np.mat(data=\"1,2;3,4\")\n"
   ]
  },
  {
   "cell_type": "code",
   "execution_count": 91,
   "id": "584ea80d",
   "metadata": {},
   "outputs": [
    {
     "data": {
      "text/plain": [
       "matrix([[1, 2],\n",
       "        [3, 4]])"
      ]
     },
     "execution_count": 91,
     "metadata": {},
     "output_type": "execute_result"
    }
   ],
   "source": [
    "arr_a"
   ]
  },
  {
   "cell_type": "code",
   "execution_count": 92,
   "id": "b1599c4d",
   "metadata": {},
   "outputs": [],
   "source": [
    "arr_b = np.asmatrix(data=\"1,2;3,4\")"
   ]
  },
  {
   "cell_type": "code",
   "execution_count": 93,
   "id": "495b26de",
   "metadata": {},
   "outputs": [
    {
     "data": {
      "text/plain": [
       "matrix([[1, 2],\n",
       "        [3, 4]])"
      ]
     },
     "execution_count": 93,
     "metadata": {},
     "output_type": "execute_result"
    }
   ],
   "source": [
    "arr_b"
   ]
  },
  {
   "cell_type": "code",
   "execution_count": 94,
   "id": "2490fadb",
   "metadata": {},
   "outputs": [
    {
     "data": {
      "text/plain": [
       "2"
      ]
     },
     "execution_count": 94,
     "metadata": {},
     "output_type": "execute_result"
    }
   ],
   "source": [
    "arr_a[0,1]"
   ]
  },
  {
   "cell_type": "code",
   "execution_count": 97,
   "id": "052722c3",
   "metadata": {},
   "outputs": [],
   "source": [
    "a = np.array([[1, 2, 3],[7,8,9]])\n",
    "b = np.array([[4,5,3],[1,2,3]])"
   ]
  },
  {
   "cell_type": "code",
   "execution_count": 98,
   "id": "50f1d139",
   "metadata": {},
   "outputs": [
    {
     "data": {
      "text/plain": [
       "array([[1, 2, 3, 4, 5, 3],\n",
       "       [7, 8, 9, 1, 2, 3]])"
      ]
     },
     "execution_count": 98,
     "metadata": {},
     "output_type": "execute_result"
    }
   ],
   "source": [
    "np.c_[a,b]"
   ]
  },
  {
   "cell_type": "code",
   "execution_count": 99,
   "id": "a8886b40",
   "metadata": {},
   "outputs": [],
   "source": [
    "n1 = np.array([1, 2, 3, 4, 5, 6, 7, 8])"
   ]
  },
  {
   "cell_type": "code",
   "execution_count": 100,
   "id": "0f4c25b2",
   "metadata": {},
   "outputs": [
    {
     "data": {
      "text/plain": [
       "array([[1, 2, 3, 4],\n",
       "       [5, 6, 7, 8]])"
      ]
     },
     "execution_count": 100,
     "metadata": {},
     "output_type": "execute_result"
    }
   ],
   "source": [
    " n1.reshape(2, 4)"
   ]
  },
  {
   "cell_type": "code",
   "execution_count": 101,
   "id": "45b7aea5",
   "metadata": {},
   "outputs": [
    {
     "data": {
      "text/plain": [
       "array([1, 2, 3, 4, 5, 6, 7, 8])"
      ]
     },
     "execution_count": 101,
     "metadata": {},
     "output_type": "execute_result"
    }
   ],
   "source": [
    "n1"
   ]
  },
  {
   "cell_type": "code",
   "execution_count": 102,
   "id": "42c21fa2",
   "metadata": {},
   "outputs": [
    {
     "data": {
      "text/plain": [
       "(8,)"
      ]
     },
     "execution_count": 102,
     "metadata": {},
     "output_type": "execute_result"
    }
   ],
   "source": [
    "n1.shape"
   ]
  },
  {
   "cell_type": "code",
   "execution_count": 103,
   "id": "fb7f7edd",
   "metadata": {},
   "outputs": [
    {
     "data": {
      "text/plain": [
       "array([1, 2, 3, 4, 5, 6, 7, 8])"
      ]
     },
     "execution_count": 103,
     "metadata": {},
     "output_type": "execute_result"
    }
   ],
   "source": [
    "n1"
   ]
  },
  {
   "cell_type": "code",
   "execution_count": 107,
   "id": "b52ef513",
   "metadata": {},
   "outputs": [],
   "source": [
    "n2 = n1.reshape(2,4)"
   ]
  },
  {
   "cell_type": "markdown",
   "id": "3da5d4b6",
   "metadata": {},
   "source": [
    "n2"
   ]
  },
  {
   "cell_type": "code",
   "execution_count": 108,
   "id": "95bd7b48",
   "metadata": {},
   "outputs": [
    {
     "data": {
      "text/plain": [
       "array([[1, 2, 3, 4],\n",
       "       [5, 6, 7, 8]])"
      ]
     },
     "execution_count": 108,
     "metadata": {},
     "output_type": "execute_result"
    }
   ],
   "source": [
    "n2"
   ]
  },
  {
   "cell_type": "code",
   "execution_count": 111,
   "id": "5576f825",
   "metadata": {},
   "outputs": [
    {
     "data": {
      "text/plain": [
       "(2, 4)"
      ]
     },
     "execution_count": 111,
     "metadata": {},
     "output_type": "execute_result"
    }
   ],
   "source": [
    "n2.shape"
   ]
  },
  {
   "cell_type": "code",
   "execution_count": 112,
   "id": "66aff705",
   "metadata": {},
   "outputs": [],
   "source": [
    "n2.shape = 8"
   ]
  },
  {
   "cell_type": "code",
   "execution_count": 113,
   "id": "71536eac",
   "metadata": {},
   "outputs": [
    {
     "data": {
      "text/plain": [
       "array([1, 2, 3, 4, 5, 6, 7, 8])"
      ]
     },
     "execution_count": 113,
     "metadata": {},
     "output_type": "execute_result"
    }
   ],
   "source": [
    "n2"
   ]
  },
  {
   "cell_type": "code",
   "execution_count": 145,
   "id": "e9f0bc69",
   "metadata": {},
   "outputs": [],
   "source": [
    "n3 = n1.reshape(2, 2, -1) "
   ]
  },
  {
   "cell_type": "code",
   "execution_count": 146,
   "id": "ac04bf58",
   "metadata": {},
   "outputs": [
    {
     "data": {
      "text/plain": [
       "array([[[1, 2],\n",
       "        [3, 4]],\n",
       "\n",
       "       [[5, 6],\n",
       "        [7, 8]]])"
      ]
     },
     "execution_count": 146,
     "metadata": {},
     "output_type": "execute_result"
    }
   ],
   "source": [
    "n3"
   ]
  },
  {
   "cell_type": "code",
   "execution_count": 147,
   "id": "2bfe64ee",
   "metadata": {},
   "outputs": [
    {
     "data": {
      "text/plain": [
       "array([1, 2, 3, 4, 5, 6, 7, 8])"
      ]
     },
     "execution_count": 147,
     "metadata": {},
     "output_type": "execute_result"
    }
   ],
   "source": [
    "n3.ravel()"
   ]
  },
  {
   "cell_type": "code",
   "execution_count": 148,
   "id": "68acd160",
   "metadata": {},
   "outputs": [
    {
     "data": {
      "text/plain": [
       "array([[[1, 2],\n",
       "        [3, 4]],\n",
       "\n",
       "       [[5, 6],\n",
       "        [7, 8]]])"
      ]
     },
     "execution_count": 148,
     "metadata": {},
     "output_type": "execute_result"
    }
   ],
   "source": [
    "n3"
   ]
  },
  {
   "cell_type": "code",
   "execution_count": 149,
   "id": "233002fd",
   "metadata": {},
   "outputs": [
    {
     "data": {
      "text/plain": [
       "array([[[1, 2],\n",
       "        [3, 4]],\n",
       "\n",
       "       [[5, 6],\n",
       "        [7, 8]]])"
      ]
     },
     "execution_count": 149,
     "metadata": {},
     "output_type": "execute_result"
    }
   ],
   "source": [
    "n3"
   ]
  },
  {
   "cell_type": "code",
   "execution_count": 150,
   "id": "b58ed0da",
   "metadata": {},
   "outputs": [
    {
     "data": {
      "text/plain": [
       "array([[[1, 5],\n",
       "        [3, 7]],\n",
       "\n",
       "       [[2, 6],\n",
       "        [4, 8]]])"
      ]
     },
     "execution_count": 150,
     "metadata": {},
     "output_type": "execute_result"
    }
   ],
   "source": [
    "n3.T"
   ]
  },
  {
   "cell_type": "markdown",
   "id": "ff760c70",
   "metadata": {},
   "source": [
    "n4"
   ]
  },
  {
   "cell_type": "code",
   "execution_count": 142,
   "id": "8869c766",
   "metadata": {},
   "outputs": [],
   "source": [
    "n3.resize(2,4)"
   ]
  },
  {
   "cell_type": "code",
   "execution_count": 143,
   "id": "7c872097",
   "metadata": {},
   "outputs": [
    {
     "data": {
      "text/plain": [
       "array([[1, 2, 3, 4],\n",
       "       [5, 6, 7, 8]])"
      ]
     },
     "execution_count": 143,
     "metadata": {},
     "output_type": "execute_result"
    }
   ],
   "source": [
    "n3"
   ]
  },
  {
   "cell_type": "code",
   "execution_count": 131,
   "id": "bd434d40",
   "metadata": {},
   "outputs": [],
   "source": [
    "n3.shape = 8"
   ]
  },
  {
   "cell_type": "code",
   "execution_count": 133,
   "id": "4b6da81a",
   "metadata": {},
   "outputs": [
    {
     "ename": "NameError",
     "evalue": "name 'array' is not defined",
     "output_type": "error",
     "traceback": [
      "\u001b[1;31m---------------------------------------------------------------------------\u001b[0m",
      "\u001b[1;31mNameError\u001b[0m                                 Traceback (most recent call last)",
      "\u001b[1;32m<ipython-input-133-84ae4430a68e>\u001b[0m in \u001b[0;36m<module>\u001b[1;34m\u001b[0m\n\u001b[1;32m----> 1\u001b[1;33m n3 = array([[[1, 2],\n\u001b[0m\u001b[0;32m      2\u001b[0m         [3, 4]],\n\u001b[0;32m      3\u001b[0m \u001b[1;33m\u001b[0m\u001b[0m\n\u001b[0;32m      4\u001b[0m        [[5, 6],\n\u001b[0;32m      5\u001b[0m         [7, 8]]])\n",
      "\u001b[1;31mNameError\u001b[0m: name 'array' is not defined"
     ]
    }
   ],
   "source": []
  },
  {
   "cell_type": "markdown",
   "id": "78b95348",
   "metadata": {},
   "source": [
    "### n5"
   ]
  },
  {
   "cell_type": "code",
   "execution_count": 157,
   "id": "06df2b40",
   "metadata": {},
   "outputs": [],
   "source": [
    "n = np.arange(18).reshape(2,3,3)"
   ]
  },
  {
   "cell_type": "code",
   "execution_count": 158,
   "id": "4c46df60",
   "metadata": {},
   "outputs": [
    {
     "data": {
      "text/plain": [
       "array([[[ 0,  1,  2],\n",
       "        [ 3,  4,  5],\n",
       "        [ 6,  7,  8]],\n",
       "\n",
       "       [[ 9, 10, 11],\n",
       "        [12, 13, 14],\n",
       "        [15, 16, 17]]])"
      ]
     },
     "execution_count": 158,
     "metadata": {},
     "output_type": "execute_result"
    }
   ],
   "source": [
    "n"
   ]
  },
  {
   "cell_type": "code",
   "execution_count": 159,
   "id": "89984e78",
   "metadata": {},
   "outputs": [
    {
     "data": {
      "text/plain": [
       "(2, 3, 3)"
      ]
     },
     "execution_count": 159,
     "metadata": {},
     "output_type": "execute_result"
    }
   ],
   "source": [
    "n.shape"
   ]
  },
  {
   "cell_type": "code",
   "execution_count": 162,
   "id": "c93c4ac6",
   "metadata": {},
   "outputs": [],
   "source": [
    "n = n.ravel()"
   ]
  },
  {
   "cell_type": "code",
   "execution_count": 163,
   "id": "2f4978b4",
   "metadata": {},
   "outputs": [
    {
     "data": {
      "text/plain": [
       "(18,)"
      ]
     },
     "execution_count": 163,
     "metadata": {},
     "output_type": "execute_result"
    }
   ],
   "source": [
    "n.shape"
   ]
  },
  {
   "cell_type": "code",
   "execution_count": 164,
   "id": "5bf424df",
   "metadata": {},
   "outputs": [],
   "source": [
    "dt = np.dtype([('age',np.float32)]) "
   ]
  },
  {
   "cell_type": "code",
   "execution_count": 165,
   "id": "0e40e092",
   "metadata": {},
   "outputs": [
    {
     "data": {
      "text/plain": [
       "dtype([('age', '<f4')])"
      ]
     },
     "execution_count": 165,
     "metadata": {},
     "output_type": "execute_result"
    }
   ],
   "source": [
    "dt"
   ]
  },
  {
   "cell_type": "code",
   "execution_count": 166,
   "id": "6ec34352",
   "metadata": {},
   "outputs": [],
   "source": [
    "a = np.array([(10,),(20,),(30,)], dtype = dt)"
   ]
  },
  {
   "cell_type": "code",
   "execution_count": 167,
   "id": "2bdc1d72",
   "metadata": {},
   "outputs": [
    {
     "data": {
      "text/plain": [
       "array([(10.,), (20.,), (30.,)], dtype=[('age', '<f4')])"
      ]
     },
     "execution_count": 167,
     "metadata": {},
     "output_type": "execute_result"
    }
   ],
   "source": [
    "a"
   ]
  },
  {
   "cell_type": "code",
   "execution_count": 169,
   "id": "329d1d49",
   "metadata": {},
   "outputs": [
    {
     "data": {
      "text/plain": [
       "20.0"
      ]
     },
     "execution_count": 169,
     "metadata": {},
     "output_type": "execute_result"
    }
   ],
   "source": [
    "a[\"age\"][1]"
   ]
  },
  {
   "cell_type": "code",
   "execution_count": 170,
   "id": "d6fd062c",
   "metadata": {},
   "outputs": [],
   "source": [
    "n = np.array(['1', '2', '0', '4'])"
   ]
  },
  {
   "cell_type": "code",
   "execution_count": 171,
   "id": "cbda176b",
   "metadata": {},
   "outputs": [
    {
     "data": {
      "text/plain": [
       "array(['1', '2', '0', '4'], dtype='<U1')"
      ]
     },
     "execution_count": 171,
     "metadata": {},
     "output_type": "execute_result"
    }
   ],
   "source": [
    "n"
   ]
  },
  {
   "cell_type": "code",
   "execution_count": 172,
   "id": "6e3b8a1e",
   "metadata": {},
   "outputs": [],
   "source": [
    "n2 = n.astype(float)"
   ]
  },
  {
   "cell_type": "code",
   "execution_count": 173,
   "id": "24eefb59",
   "metadata": {},
   "outputs": [
    {
     "data": {
      "text/plain": [
       "array([1., 2., 0., 4.])"
      ]
     },
     "execution_count": 173,
     "metadata": {},
     "output_type": "execute_result"
    }
   ],
   "source": [
    "n2"
   ]
  },
  {
   "cell_type": "code",
   "execution_count": 174,
   "id": "5496351c",
   "metadata": {},
   "outputs": [],
   "source": [
    "a = np.mat(data=\"1,2;3,4\")"
   ]
  },
  {
   "cell_type": "code",
   "execution_count": 175,
   "id": "4c7e86ea",
   "metadata": {},
   "outputs": [
    {
     "data": {
      "text/plain": [
       "matrix([[1, 2],\n",
       "        [3, 4]])"
      ]
     },
     "execution_count": 175,
     "metadata": {},
     "output_type": "execute_result"
    }
   ],
   "source": [
    "a"
   ]
  },
  {
   "cell_type": "code",
   "execution_count": 176,
   "id": "dc34ffc6",
   "metadata": {},
   "outputs": [],
   "source": [
    "b = np.asmatrix([[5,6],[7,8]])"
   ]
  },
  {
   "cell_type": "code",
   "execution_count": 177,
   "id": "481e5425",
   "metadata": {},
   "outputs": [
    {
     "data": {
      "text/plain": [
       "matrix([[5, 6],\n",
       "        [7, 8]])"
      ]
     },
     "execution_count": 177,
     "metadata": {},
     "output_type": "execute_result"
    }
   ],
   "source": [
    "b"
   ]
  },
  {
   "cell_type": "code",
   "execution_count": 180,
   "id": "1396f7e5",
   "metadata": {},
   "outputs": [],
   "source": [
    "a = np.mat([1,2,3,4,5])"
   ]
  },
  {
   "cell_type": "code",
   "execution_count": 181,
   "id": "5097f2bf",
   "metadata": {},
   "outputs": [
    {
     "data": {
      "text/plain": [
       "matrix([[1, 2, 3, 4, 5]])"
      ]
     },
     "execution_count": 181,
     "metadata": {},
     "output_type": "execute_result"
    }
   ],
   "source": [
    "a\n"
   ]
  },
  {
   "cell_type": "code",
   "execution_count": 182,
   "id": "c31300eb",
   "metadata": {},
   "outputs": [],
   "source": [
    "arr_a = np.array([[1, 2], [3, 4]])\n",
    "arr_b = np.array([[5, 6], [7, 8]])"
   ]
  },
  {
   "cell_type": "code",
   "execution_count": 183,
   "id": "b0e1e6b8",
   "metadata": {},
   "outputs": [
    {
     "data": {
      "text/plain": [
       "array([[19, 22],\n",
       "       [43, 50]])"
      ]
     },
     "execution_count": 183,
     "metadata": {},
     "output_type": "execute_result"
    }
   ],
   "source": [
    "np.dot(arr_a,arr_b)"
   ]
  },
  {
   "cell_type": "code",
   "execution_count": 184,
   "id": "9f7590ca",
   "metadata": {},
   "outputs": [
    {
     "data": {
      "text/plain": [
       "array([[ 5, 12],\n",
       "       [21, 32]])"
      ]
     },
     "execution_count": 184,
     "metadata": {},
     "output_type": "execute_result"
    }
   ],
   "source": [
    "np.multiply(arr_a,arr_b)"
   ]
  },
  {
   "cell_type": "code",
   "execution_count": 185,
   "id": "d4fec63c",
   "metadata": {},
   "outputs": [
    {
     "data": {
      "text/plain": [
       "array([[ 5, 12],\n",
       "       [21, 32]])"
      ]
     },
     "execution_count": 185,
     "metadata": {},
     "output_type": "execute_result"
    }
   ],
   "source": [
    "arr_a*arr_b"
   ]
  },
  {
   "cell_type": "code",
   "execution_count": 186,
   "id": "c15b4a28",
   "metadata": {},
   "outputs": [],
   "source": [
    "a = np.mat([[1, 2], [3, 4]])\n",
    "b = np.mat([[5, 6], [7, 8]])"
   ]
  },
  {
   "cell_type": "code",
   "execution_count": 187,
   "id": "68bcdb83",
   "metadata": {},
   "outputs": [
    {
     "data": {
      "text/plain": [
       "matrix([[19, 22],\n",
       "        [43, 50]])"
      ]
     },
     "execution_count": 187,
     "metadata": {},
     "output_type": "execute_result"
    }
   ],
   "source": [
    "np.dot(a,b)"
   ]
  },
  {
   "cell_type": "code",
   "execution_count": 189,
   "id": "23c710cf",
   "metadata": {},
   "outputs": [
    {
     "data": {
      "text/plain": [
       "matrix([[19, 22],\n",
       "        [43, 50]])"
      ]
     },
     "execution_count": 189,
     "metadata": {},
     "output_type": "execute_result"
    }
   ],
   "source": [
    "a*b"
   ]
  },
  {
   "cell_type": "code",
   "execution_count": 190,
   "id": "cc0b7890",
   "metadata": {},
   "outputs": [
    {
     "data": {
      "text/plain": [
       "matrix([[ 5, 12],\n",
       "        [21, 32]])"
      ]
     },
     "execution_count": 190,
     "metadata": {},
     "output_type": "execute_result"
    }
   ],
   "source": [
    "np.multiply(a,b)"
   ]
  },
  {
   "cell_type": "code",
   "execution_count": 209,
   "id": "5b84da3e",
   "metadata": {},
   "outputs": [],
   "source": [
    "x = np.array([[1, 2], [3, 4]])"
   ]
  },
  {
   "cell_type": "code",
   "execution_count": 210,
   "id": "a6a66167",
   "metadata": {},
   "outputs": [
    {
     "data": {
      "text/plain": [
       "array([[1, 2],\n",
       "       [3, 4]])"
      ]
     },
     "execution_count": 210,
     "metadata": {},
     "output_type": "execute_result"
    }
   ],
   "source": [
    "x"
   ]
  },
  {
   "cell_type": "code",
   "execution_count": 211,
   "id": "2fc48d15",
   "metadata": {},
   "outputs": [],
   "source": [
    "x[0][1]=15"
   ]
  },
  {
   "cell_type": "code",
   "execution_count": 194,
   "id": "a7c99ff0",
   "metadata": {},
   "outputs": [
    {
     "data": {
      "text/plain": [
       "matrix([[1, 2],\n",
       "        [3, 4]])"
      ]
     },
     "execution_count": 194,
     "metadata": {},
     "output_type": "execute_result"
    }
   ],
   "source": [
    "m"
   ]
  },
  {
   "cell_type": "code",
   "execution_count": 212,
   "id": "89a147b0",
   "metadata": {},
   "outputs": [
    {
     "data": {
      "text/plain": [
       "array([[ 1, 15],\n",
       "       [ 3,  4]])"
      ]
     },
     "execution_count": 212,
     "metadata": {},
     "output_type": "execute_result"
    }
   ],
   "source": [
    "x"
   ]
  },
  {
   "cell_type": "code",
   "execution_count": 214,
   "id": "56be514e",
   "metadata": {},
   "outputs": [],
   "source": [
    "y = np.mat(\"1,2;3,4\")"
   ]
  },
  {
   "cell_type": "code",
   "execution_count": 215,
   "id": "29d527cf",
   "metadata": {},
   "outputs": [
    {
     "data": {
      "text/plain": [
       "matrix([[1, 2],\n",
       "        [3, 4]])"
      ]
     },
     "execution_count": 215,
     "metadata": {},
     "output_type": "execute_result"
    }
   ],
   "source": [
    "y"
   ]
  },
  {
   "cell_type": "code",
   "execution_count": 217,
   "id": "d95d7687",
   "metadata": {},
   "outputs": [],
   "source": [
    "y[0,1] = 17"
   ]
  },
  {
   "cell_type": "code",
   "execution_count": 218,
   "id": "fee051b1",
   "metadata": {},
   "outputs": [
    {
     "data": {
      "text/plain": [
       "matrix([[ 1, 17],\n",
       "        [ 3,  4]])"
      ]
     },
     "execution_count": 218,
     "metadata": {},
     "output_type": "execute_result"
    }
   ],
   "source": [
    "y"
   ]
  },
  {
   "cell_type": "code",
   "execution_count": 227,
   "id": "f4785636",
   "metadata": {},
   "outputs": [
    {
     "data": {
      "text/plain": [
       "array([[1, 2],\n",
       "       [3, 4]])"
      ]
     },
     "execution_count": 227,
     "metadata": {},
     "output_type": "execute_result"
    }
   ],
   "source": [
    "x"
   ]
  },
  {
   "cell_type": "code",
   "execution_count": 228,
   "id": "84a92fe1",
   "metadata": {},
   "outputs": [],
   "source": [
    "x = np.array([[1, 2], [3, 4]])"
   ]
  },
  {
   "cell_type": "code",
   "execution_count": 229,
   "id": "a4beb142",
   "metadata": {},
   "outputs": [],
   "source": [
    "m = np.asmatrix(x)"
   ]
  },
  {
   "cell_type": "code",
   "execution_count": 230,
   "id": "8cd15c81",
   "metadata": {},
   "outputs": [
    {
     "data": {
      "text/plain": [
       "matrix([[1, 2],\n",
       "        [3, 4]])"
      ]
     },
     "execution_count": 230,
     "metadata": {},
     "output_type": "execute_result"
    }
   ],
   "source": [
    "m"
   ]
  },
  {
   "cell_type": "code",
   "execution_count": 231,
   "id": "36de4827",
   "metadata": {},
   "outputs": [],
   "source": [
    "y = np.array(m)"
   ]
  },
  {
   "cell_type": "code",
   "execution_count": 232,
   "id": "be902eb3",
   "metadata": {},
   "outputs": [
    {
     "data": {
      "text/plain": [
       "array([[1, 2],\n",
       "       [3, 4]])"
      ]
     },
     "execution_count": 232,
     "metadata": {},
     "output_type": "execute_result"
    }
   ],
   "source": [
    "y"
   ]
  },
  {
   "cell_type": "code",
   "execution_count": 233,
   "id": "f842f897",
   "metadata": {},
   "outputs": [
    {
     "ename": "ValueError",
     "evalue": "malformed node or string: <ast.Name object at 0x0000018F457CAEB0>",
     "output_type": "error",
     "traceback": [
      "\u001b[1;31m---------------------------------------------------------------------------\u001b[0m",
      "\u001b[1;31mValueError\u001b[0m                                Traceback (most recent call last)",
      "\u001b[1;32m<ipython-input-233-62ad342ab8bf>\u001b[0m in \u001b[0;36m<module>\u001b[1;34m\u001b[0m\n\u001b[1;32m----> 1\u001b[1;33m \u001b[0my\u001b[0m \u001b[1;33m=\u001b[0m \u001b[0mnp\u001b[0m\u001b[1;33m.\u001b[0m\u001b[0mmat\u001b[0m\u001b[1;33m(\u001b[0m\u001b[1;34m\"1,2;a,4\"\u001b[0m\u001b[1;33m)\u001b[0m\u001b[1;33m\u001b[0m\u001b[1;33m\u001b[0m\u001b[0m\n\u001b[0m",
      "\u001b[1;32mc:\\python39\\lib\\site-packages\\numpy\\matrixlib\\defmatrix.py\u001b[0m in \u001b[0;36masmatrix\u001b[1;34m(data, dtype)\u001b[0m\n\u001b[0;32m     67\u001b[0m \u001b[1;33m\u001b[0m\u001b[0m\n\u001b[0;32m     68\u001b[0m     \"\"\"\n\u001b[1;32m---> 69\u001b[1;33m     \u001b[1;32mreturn\u001b[0m \u001b[0mmatrix\u001b[0m\u001b[1;33m(\u001b[0m\u001b[0mdata\u001b[0m\u001b[1;33m,\u001b[0m \u001b[0mdtype\u001b[0m\u001b[1;33m=\u001b[0m\u001b[0mdtype\u001b[0m\u001b[1;33m,\u001b[0m \u001b[0mcopy\u001b[0m\u001b[1;33m=\u001b[0m\u001b[1;32mFalse\u001b[0m\u001b[1;33m)\u001b[0m\u001b[1;33m\u001b[0m\u001b[1;33m\u001b[0m\u001b[0m\n\u001b[0m\u001b[0;32m     70\u001b[0m \u001b[1;33m\u001b[0m\u001b[0m\n\u001b[0;32m     71\u001b[0m \u001b[1;33m\u001b[0m\u001b[0m\n",
      "\u001b[1;32mc:\\python39\\lib\\site-packages\\numpy\\matrixlib\\defmatrix.py\u001b[0m in \u001b[0;36m__new__\u001b[1;34m(subtype, data, dtype, copy)\u001b[0m\n\u001b[0;32m    140\u001b[0m \u001b[1;33m\u001b[0m\u001b[0m\n\u001b[0;32m    141\u001b[0m         \u001b[1;32mif\u001b[0m \u001b[0misinstance\u001b[0m\u001b[1;33m(\u001b[0m\u001b[0mdata\u001b[0m\u001b[1;33m,\u001b[0m \u001b[0mstr\u001b[0m\u001b[1;33m)\u001b[0m\u001b[1;33m:\u001b[0m\u001b[1;33m\u001b[0m\u001b[1;33m\u001b[0m\u001b[0m\n\u001b[1;32m--> 142\u001b[1;33m             \u001b[0mdata\u001b[0m \u001b[1;33m=\u001b[0m \u001b[0m_convert_from_string\u001b[0m\u001b[1;33m(\u001b[0m\u001b[0mdata\u001b[0m\u001b[1;33m)\u001b[0m\u001b[1;33m\u001b[0m\u001b[1;33m\u001b[0m\u001b[0m\n\u001b[0m\u001b[0;32m    143\u001b[0m \u001b[1;33m\u001b[0m\u001b[0m\n\u001b[0;32m    144\u001b[0m         \u001b[1;31m# now convert data to an array\u001b[0m\u001b[1;33m\u001b[0m\u001b[1;33m\u001b[0m\u001b[1;33m\u001b[0m\u001b[0m\n",
      "\u001b[1;32mc:\\python39\\lib\\site-packages\\numpy\\matrixlib\\defmatrix.py\u001b[0m in \u001b[0;36m_convert_from_string\u001b[1;34m(data)\u001b[0m\n\u001b[0;32m     24\u001b[0m         \u001b[1;32mfor\u001b[0m \u001b[0mcol\u001b[0m \u001b[1;32min\u001b[0m \u001b[0mtrow\u001b[0m\u001b[1;33m:\u001b[0m\u001b[1;33m\u001b[0m\u001b[1;33m\u001b[0m\u001b[0m\n\u001b[0;32m     25\u001b[0m             \u001b[0mtemp\u001b[0m \u001b[1;33m=\u001b[0m \u001b[0mcol\u001b[0m\u001b[1;33m.\u001b[0m\u001b[0msplit\u001b[0m\u001b[1;33m(\u001b[0m\u001b[1;33m)\u001b[0m\u001b[1;33m\u001b[0m\u001b[1;33m\u001b[0m\u001b[0m\n\u001b[1;32m---> 26\u001b[1;33m             \u001b[0mnewrow\u001b[0m\u001b[1;33m.\u001b[0m\u001b[0mextend\u001b[0m\u001b[1;33m(\u001b[0m\u001b[0mmap\u001b[0m\u001b[1;33m(\u001b[0m\u001b[0mast\u001b[0m\u001b[1;33m.\u001b[0m\u001b[0mliteral_eval\u001b[0m\u001b[1;33m,\u001b[0m \u001b[0mtemp\u001b[0m\u001b[1;33m)\u001b[0m\u001b[1;33m)\u001b[0m\u001b[1;33m\u001b[0m\u001b[1;33m\u001b[0m\u001b[0m\n\u001b[0m\u001b[0;32m     27\u001b[0m         \u001b[1;32mif\u001b[0m \u001b[0mcount\u001b[0m \u001b[1;33m==\u001b[0m \u001b[1;36m0\u001b[0m\u001b[1;33m:\u001b[0m\u001b[1;33m\u001b[0m\u001b[1;33m\u001b[0m\u001b[0m\n\u001b[0;32m     28\u001b[0m             \u001b[0mNcols\u001b[0m \u001b[1;33m=\u001b[0m \u001b[0mlen\u001b[0m\u001b[1;33m(\u001b[0m\u001b[0mnewrow\u001b[0m\u001b[1;33m)\u001b[0m\u001b[1;33m\u001b[0m\u001b[1;33m\u001b[0m\u001b[0m\n",
      "\u001b[1;32mc:\\python39\\lib\\ast.py\u001b[0m in \u001b[0;36mliteral_eval\u001b[1;34m(node_or_string)\u001b[0m\n\u001b[0;32m    103\u001b[0m                     \u001b[1;32mreturn\u001b[0m \u001b[0mleft\u001b[0m \u001b[1;33m-\u001b[0m \u001b[0mright\u001b[0m\u001b[1;33m\u001b[0m\u001b[1;33m\u001b[0m\u001b[0m\n\u001b[0;32m    104\u001b[0m         \u001b[1;32mreturn\u001b[0m \u001b[0m_convert_signed_num\u001b[0m\u001b[1;33m(\u001b[0m\u001b[0mnode\u001b[0m\u001b[1;33m)\u001b[0m\u001b[1;33m\u001b[0m\u001b[1;33m\u001b[0m\u001b[0m\n\u001b[1;32m--> 105\u001b[1;33m     \u001b[1;32mreturn\u001b[0m \u001b[0m_convert\u001b[0m\u001b[1;33m(\u001b[0m\u001b[0mnode_or_string\u001b[0m\u001b[1;33m)\u001b[0m\u001b[1;33m\u001b[0m\u001b[1;33m\u001b[0m\u001b[0m\n\u001b[0m\u001b[0;32m    106\u001b[0m \u001b[1;33m\u001b[0m\u001b[0m\n\u001b[0;32m    107\u001b[0m \u001b[1;33m\u001b[0m\u001b[0m\n",
      "\u001b[1;32mc:\\python39\\lib\\ast.py\u001b[0m in \u001b[0;36m_convert\u001b[1;34m(node)\u001b[0m\n\u001b[0;32m    102\u001b[0m                 \u001b[1;32melse\u001b[0m\u001b[1;33m:\u001b[0m\u001b[1;33m\u001b[0m\u001b[1;33m\u001b[0m\u001b[0m\n\u001b[0;32m    103\u001b[0m                     \u001b[1;32mreturn\u001b[0m \u001b[0mleft\u001b[0m \u001b[1;33m-\u001b[0m \u001b[0mright\u001b[0m\u001b[1;33m\u001b[0m\u001b[1;33m\u001b[0m\u001b[0m\n\u001b[1;32m--> 104\u001b[1;33m         \u001b[1;32mreturn\u001b[0m \u001b[0m_convert_signed_num\u001b[0m\u001b[1;33m(\u001b[0m\u001b[0mnode\u001b[0m\u001b[1;33m)\u001b[0m\u001b[1;33m\u001b[0m\u001b[1;33m\u001b[0m\u001b[0m\n\u001b[0m\u001b[0;32m    105\u001b[0m     \u001b[1;32mreturn\u001b[0m \u001b[0m_convert\u001b[0m\u001b[1;33m(\u001b[0m\u001b[0mnode_or_string\u001b[0m\u001b[1;33m)\u001b[0m\u001b[1;33m\u001b[0m\u001b[1;33m\u001b[0m\u001b[0m\n\u001b[0;32m    106\u001b[0m \u001b[1;33m\u001b[0m\u001b[0m\n",
      "\u001b[1;32mc:\\python39\\lib\\ast.py\u001b[0m in \u001b[0;36m_convert_signed_num\u001b[1;34m(node)\u001b[0m\n\u001b[0;32m     76\u001b[0m             \u001b[1;32melse\u001b[0m\u001b[1;33m:\u001b[0m\u001b[1;33m\u001b[0m\u001b[1;33m\u001b[0m\u001b[0m\n\u001b[0;32m     77\u001b[0m                 \u001b[1;32mreturn\u001b[0m \u001b[1;33m-\u001b[0m \u001b[0moperand\u001b[0m\u001b[1;33m\u001b[0m\u001b[1;33m\u001b[0m\u001b[0m\n\u001b[1;32m---> 78\u001b[1;33m         \u001b[1;32mreturn\u001b[0m \u001b[0m_convert_num\u001b[0m\u001b[1;33m(\u001b[0m\u001b[0mnode\u001b[0m\u001b[1;33m)\u001b[0m\u001b[1;33m\u001b[0m\u001b[1;33m\u001b[0m\u001b[0m\n\u001b[0m\u001b[0;32m     79\u001b[0m     \u001b[1;32mdef\u001b[0m \u001b[0m_convert\u001b[0m\u001b[1;33m(\u001b[0m\u001b[0mnode\u001b[0m\u001b[1;33m)\u001b[0m\u001b[1;33m:\u001b[0m\u001b[1;33m\u001b[0m\u001b[1;33m\u001b[0m\u001b[0m\n\u001b[0;32m     80\u001b[0m         \u001b[1;32mif\u001b[0m \u001b[0misinstance\u001b[0m\u001b[1;33m(\u001b[0m\u001b[0mnode\u001b[0m\u001b[1;33m,\u001b[0m \u001b[0mConstant\u001b[0m\u001b[1;33m)\u001b[0m\u001b[1;33m:\u001b[0m\u001b[1;33m\u001b[0m\u001b[1;33m\u001b[0m\u001b[0m\n",
      "\u001b[1;32mc:\\python39\\lib\\ast.py\u001b[0m in \u001b[0;36m_convert_num\u001b[1;34m(node)\u001b[0m\n\u001b[0;32m     67\u001b[0m     \u001b[1;32mdef\u001b[0m \u001b[0m_convert_num\u001b[0m\u001b[1;33m(\u001b[0m\u001b[0mnode\u001b[0m\u001b[1;33m)\u001b[0m\u001b[1;33m:\u001b[0m\u001b[1;33m\u001b[0m\u001b[1;33m\u001b[0m\u001b[0m\n\u001b[0;32m     68\u001b[0m         \u001b[1;32mif\u001b[0m \u001b[1;32mnot\u001b[0m \u001b[0misinstance\u001b[0m\u001b[1;33m(\u001b[0m\u001b[0mnode\u001b[0m\u001b[1;33m,\u001b[0m \u001b[0mConstant\u001b[0m\u001b[1;33m)\u001b[0m \u001b[1;32mor\u001b[0m \u001b[0mtype\u001b[0m\u001b[1;33m(\u001b[0m\u001b[0mnode\u001b[0m\u001b[1;33m.\u001b[0m\u001b[0mvalue\u001b[0m\u001b[1;33m)\u001b[0m \u001b[1;32mnot\u001b[0m \u001b[1;32min\u001b[0m \u001b[1;33m(\u001b[0m\u001b[0mint\u001b[0m\u001b[1;33m,\u001b[0m \u001b[0mfloat\u001b[0m\u001b[1;33m,\u001b[0m \u001b[0mcomplex\u001b[0m\u001b[1;33m)\u001b[0m\u001b[1;33m:\u001b[0m\u001b[1;33m\u001b[0m\u001b[1;33m\u001b[0m\u001b[0m\n\u001b[1;32m---> 69\u001b[1;33m             \u001b[0m_raise_malformed_node\u001b[0m\u001b[1;33m(\u001b[0m\u001b[0mnode\u001b[0m\u001b[1;33m)\u001b[0m\u001b[1;33m\u001b[0m\u001b[1;33m\u001b[0m\u001b[0m\n\u001b[0m\u001b[0;32m     70\u001b[0m         \u001b[1;32mreturn\u001b[0m \u001b[0mnode\u001b[0m\u001b[1;33m.\u001b[0m\u001b[0mvalue\u001b[0m\u001b[1;33m\u001b[0m\u001b[1;33m\u001b[0m\u001b[0m\n\u001b[0;32m     71\u001b[0m     \u001b[1;32mdef\u001b[0m \u001b[0m_convert_signed_num\u001b[0m\u001b[1;33m(\u001b[0m\u001b[0mnode\u001b[0m\u001b[1;33m)\u001b[0m\u001b[1;33m:\u001b[0m\u001b[1;33m\u001b[0m\u001b[1;33m\u001b[0m\u001b[0m\n",
      "\u001b[1;32mc:\\python39\\lib\\ast.py\u001b[0m in \u001b[0;36m_raise_malformed_node\u001b[1;34m(node)\u001b[0m\n\u001b[0;32m     64\u001b[0m         \u001b[0mnode_or_string\u001b[0m \u001b[1;33m=\u001b[0m \u001b[0mnode_or_string\u001b[0m\u001b[1;33m.\u001b[0m\u001b[0mbody\u001b[0m\u001b[1;33m\u001b[0m\u001b[1;33m\u001b[0m\u001b[0m\n\u001b[0;32m     65\u001b[0m     \u001b[1;32mdef\u001b[0m \u001b[0m_raise_malformed_node\u001b[0m\u001b[1;33m(\u001b[0m\u001b[0mnode\u001b[0m\u001b[1;33m)\u001b[0m\u001b[1;33m:\u001b[0m\u001b[1;33m\u001b[0m\u001b[1;33m\u001b[0m\u001b[0m\n\u001b[1;32m---> 66\u001b[1;33m         \u001b[1;32mraise\u001b[0m \u001b[0mValueError\u001b[0m\u001b[1;33m(\u001b[0m\u001b[1;34mf'malformed node or string: {node!r}'\u001b[0m\u001b[1;33m)\u001b[0m\u001b[1;33m\u001b[0m\u001b[1;33m\u001b[0m\u001b[0m\n\u001b[0m\u001b[0;32m     67\u001b[0m     \u001b[1;32mdef\u001b[0m \u001b[0m_convert_num\u001b[0m\u001b[1;33m(\u001b[0m\u001b[0mnode\u001b[0m\u001b[1;33m)\u001b[0m\u001b[1;33m:\u001b[0m\u001b[1;33m\u001b[0m\u001b[1;33m\u001b[0m\u001b[0m\n\u001b[0;32m     68\u001b[0m         \u001b[1;32mif\u001b[0m \u001b[1;32mnot\u001b[0m \u001b[0misinstance\u001b[0m\u001b[1;33m(\u001b[0m\u001b[0mnode\u001b[0m\u001b[1;33m,\u001b[0m \u001b[0mConstant\u001b[0m\u001b[1;33m)\u001b[0m \u001b[1;32mor\u001b[0m \u001b[0mtype\u001b[0m\u001b[1;33m(\u001b[0m\u001b[0mnode\u001b[0m\u001b[1;33m.\u001b[0m\u001b[0mvalue\u001b[0m\u001b[1;33m)\u001b[0m \u001b[1;32mnot\u001b[0m \u001b[1;32min\u001b[0m \u001b[1;33m(\u001b[0m\u001b[0mint\u001b[0m\u001b[1;33m,\u001b[0m \u001b[0mfloat\u001b[0m\u001b[1;33m,\u001b[0m \u001b[0mcomplex\u001b[0m\u001b[1;33m)\u001b[0m\u001b[1;33m:\u001b[0m\u001b[1;33m\u001b[0m\u001b[1;33m\u001b[0m\u001b[0m\n",
      "\u001b[1;31mValueError\u001b[0m: malformed node or string: <ast.Name object at 0x0000018F457CAEB0>"
     ]
    }
   ],
   "source": [
    "y = np.mat(\"1,2;a,4\")"
   ]
  },
  {
   "cell_type": "code",
   "execution_count": 237,
   "id": "59ead98b",
   "metadata": {},
   "outputs": [
    {
     "data": {
      "text/plain": [
       "array(['t', 'g'], dtype='<U1')"
      ]
     },
     "execution_count": 237,
     "metadata": {},
     "output_type": "execute_result"
    }
   ],
   "source": [
    "np.array(['t','g'])"
   ]
  },
  {
   "cell_type": "code",
   "execution_count": 238,
   "id": "aa439825",
   "metadata": {},
   "outputs": [
    {
     "data": {
      "text/plain": [
       "matrix([['t', 'g']], dtype='<U1')"
      ]
     },
     "execution_count": 238,
     "metadata": {},
     "output_type": "execute_result"
    }
   ],
   "source": [
    "np.mat(['t','g'])"
   ]
  },
  {
   "cell_type": "code",
   "execution_count": 243,
   "id": "82854bdb",
   "metadata": {},
   "outputs": [],
   "source": [
    "a = np.mat([1])"
   ]
  },
  {
   "cell_type": "code",
   "execution_count": 244,
   "id": "9ba6ba0a",
   "metadata": {},
   "outputs": [
    {
     "data": {
      "text/plain": [
       "matrix([[1]])"
      ]
     },
     "execution_count": 244,
     "metadata": {},
     "output_type": "execute_result"
    }
   ],
   "source": [
    "a"
   ]
  },
  {
   "cell_type": "code",
   "execution_count": 245,
   "id": "0cc3f169",
   "metadata": {},
   "outputs": [
    {
     "data": {
      "text/plain": [
       "2"
      ]
     },
     "execution_count": 245,
     "metadata": {},
     "output_type": "execute_result"
    }
   ],
   "source": [
    "a.ndim"
   ]
  },
  {
   "cell_type": "code",
   "execution_count": 246,
   "id": "f2f58fc3",
   "metadata": {},
   "outputs": [
    {
     "data": {
      "text/plain": [
       "1"
      ]
     },
     "execution_count": 246,
     "metadata": {},
     "output_type": "execute_result"
    }
   ],
   "source": [
    "a[0,0]"
   ]
  },
  {
   "cell_type": "code",
   "execution_count": 247,
   "id": "e5cbb9eb",
   "metadata": {},
   "outputs": [
    {
     "ename": "IndexError",
     "evalue": "index 1 is out of bounds for axis 1 with size 1",
     "output_type": "error",
     "traceback": [
      "\u001b[1;31m---------------------------------------------------------------------------\u001b[0m",
      "\u001b[1;31mIndexError\u001b[0m                                Traceback (most recent call last)",
      "\u001b[1;32m<ipython-input-247-2fc0526218b3>\u001b[0m in \u001b[0;36m<module>\u001b[1;34m\u001b[0m\n\u001b[1;32m----> 1\u001b[1;33m \u001b[0ma\u001b[0m\u001b[1;33m[\u001b[0m\u001b[1;36m0\u001b[0m\u001b[1;33m,\u001b[0m\u001b[1;36m1\u001b[0m\u001b[1;33m]\u001b[0m\u001b[1;33m\u001b[0m\u001b[1;33m\u001b[0m\u001b[0m\n\u001b[0m",
      "\u001b[1;32mc:\\python39\\lib\\site-packages\\numpy\\matrixlib\\defmatrix.py\u001b[0m in \u001b[0;36m__getitem__\u001b[1;34m(self, index)\u001b[0m\n\u001b[0;32m    191\u001b[0m \u001b[1;33m\u001b[0m\u001b[0m\n\u001b[0;32m    192\u001b[0m         \u001b[1;32mtry\u001b[0m\u001b[1;33m:\u001b[0m\u001b[1;33m\u001b[0m\u001b[1;33m\u001b[0m\u001b[0m\n\u001b[1;32m--> 193\u001b[1;33m             \u001b[0mout\u001b[0m \u001b[1;33m=\u001b[0m \u001b[0mN\u001b[0m\u001b[1;33m.\u001b[0m\u001b[0mndarray\u001b[0m\u001b[1;33m.\u001b[0m\u001b[0m__getitem__\u001b[0m\u001b[1;33m(\u001b[0m\u001b[0mself\u001b[0m\u001b[1;33m,\u001b[0m \u001b[0mindex\u001b[0m\u001b[1;33m)\u001b[0m\u001b[1;33m\u001b[0m\u001b[1;33m\u001b[0m\u001b[0m\n\u001b[0m\u001b[0;32m    194\u001b[0m         \u001b[1;32mfinally\u001b[0m\u001b[1;33m:\u001b[0m\u001b[1;33m\u001b[0m\u001b[1;33m\u001b[0m\u001b[0m\n\u001b[0;32m    195\u001b[0m             \u001b[0mself\u001b[0m\u001b[1;33m.\u001b[0m\u001b[0m_getitem\u001b[0m \u001b[1;33m=\u001b[0m \u001b[1;32mFalse\u001b[0m\u001b[1;33m\u001b[0m\u001b[1;33m\u001b[0m\u001b[0m\n",
      "\u001b[1;31mIndexError\u001b[0m: index 1 is out of bounds for axis 1 with size 1"
     ]
    }
   ],
   "source": [
    "a[0,1]"
   ]
  },
  {
   "cell_type": "code",
   "execution_count": 261,
   "id": "8b5961b8",
   "metadata": {},
   "outputs": [],
   "source": [
    "x= np.array([1,2,3,4,5])"
   ]
  },
  {
   "cell_type": "code",
   "execution_count": 262,
   "id": "2af9494b",
   "metadata": {},
   "outputs": [
    {
     "data": {
      "text/plain": [
       "array([1, 2, 3, 4, 5])"
      ]
     },
     "execution_count": 262,
     "metadata": {},
     "output_type": "execute_result"
    }
   ],
   "source": [
    "x"
   ]
  },
  {
   "cell_type": "code",
   "execution_count": 250,
   "id": "cb931874",
   "metadata": {},
   "outputs": [
    {
     "data": {
      "text/plain": [
       "1"
      ]
     },
     "execution_count": 250,
     "metadata": {},
     "output_type": "execute_result"
    }
   ],
   "source": [
    "x.ndim"
   ]
  },
  {
   "cell_type": "code",
   "execution_count": 263,
   "id": "dc6bee5c",
   "metadata": {},
   "outputs": [],
   "source": [
    "y = np.mat(x)"
   ]
  },
  {
   "cell_type": "code",
   "execution_count": 264,
   "id": "72ed521c",
   "metadata": {},
   "outputs": [
    {
     "data": {
      "text/plain": [
       "matrix([[1, 2, 3, 4, 5]])"
      ]
     },
     "execution_count": 264,
     "metadata": {},
     "output_type": "execute_result"
    }
   ],
   "source": [
    "y"
   ]
  },
  {
   "cell_type": "code",
   "execution_count": 253,
   "id": "d896d49c",
   "metadata": {},
   "outputs": [
    {
     "data": {
      "text/plain": [
       "2"
      ]
     },
     "execution_count": 253,
     "metadata": {},
     "output_type": "execute_result"
    }
   ],
   "source": [
    "y.ndim"
   ]
  },
  {
   "cell_type": "code",
   "execution_count": 257,
   "id": "1b91ad6b",
   "metadata": {},
   "outputs": [
    {
     "data": {
      "text/plain": [
       "matrix([[1, 2, 3, 4, 5]])"
      ]
     },
     "execution_count": 257,
     "metadata": {},
     "output_type": "execute_result"
    }
   ],
   "source": [
    "y"
   ]
  },
  {
   "cell_type": "code",
   "execution_count": 258,
   "id": "61f7ea0e",
   "metadata": {},
   "outputs": [],
   "source": [
    "b = np.array(y)"
   ]
  },
  {
   "cell_type": "code",
   "execution_count": 270,
   "id": "79a2e1f5",
   "metadata": {},
   "outputs": [
    {
     "data": {
      "text/plain": [
       "array([[1, 2, 3, 4, 5]])"
      ]
     },
     "execution_count": 270,
     "metadata": {},
     "output_type": "execute_result"
    }
   ],
   "source": [
    "b"
   ]
  },
  {
   "cell_type": "code",
   "execution_count": 271,
   "id": "e0f21455",
   "metadata": {},
   "outputs": [
    {
     "data": {
      "text/plain": [
       "2"
      ]
     },
     "execution_count": 271,
     "metadata": {},
     "output_type": "execute_result"
    }
   ],
   "source": [
    "b.ndim"
   ]
  },
  {
   "cell_type": "code",
   "execution_count": 275,
   "id": "1056a3d6",
   "metadata": {},
   "outputs": [
    {
     "data": {
      "text/plain": [
       "array([1, 2, 3, 4, 5])"
      ]
     },
     "execution_count": 275,
     "metadata": {},
     "output_type": "execute_result"
    }
   ],
   "source": [
    "b[0]"
   ]
  },
  {
   "cell_type": "code",
   "execution_count": 269,
   "id": "325b6ceb",
   "metadata": {},
   "outputs": [
    {
     "data": {
      "text/plain": [
       "array([1, 2, 3, 4, 5])"
      ]
     },
     "execution_count": 269,
     "metadata": {},
     "output_type": "execute_result"
    }
   ],
   "source": [
    "x"
   ]
  },
  {
   "cell_type": "code",
   "execution_count": 276,
   "id": "0ee781df",
   "metadata": {},
   "outputs": [],
   "source": [
    "m = np.mat([1,2,3])"
   ]
  },
  {
   "cell_type": "code",
   "execution_count": 277,
   "id": "ad0b68cf",
   "metadata": {},
   "outputs": [
    {
     "data": {
      "text/plain": [
       "matrix([[1, 2, 3]])"
      ]
     },
     "execution_count": 277,
     "metadata": {},
     "output_type": "execute_result"
    }
   ],
   "source": [
    "m"
   ]
  },
  {
   "cell_type": "code",
   "execution_count": 278,
   "id": "dd58e95b",
   "metadata": {},
   "outputs": [
    {
     "data": {
      "text/plain": [
       "matrix([[1, 2, 3]])"
      ]
     },
     "execution_count": 278,
     "metadata": {},
     "output_type": "execute_result"
    }
   ],
   "source": [
    "m[0]"
   ]
  },
  {
   "cell_type": "code",
   "execution_count": 279,
   "id": "a9bfbcce",
   "metadata": {},
   "outputs": [
    {
     "data": {
      "text/plain": [
       "matrix([[1]])"
      ]
     },
     "execution_count": 279,
     "metadata": {},
     "output_type": "execute_result"
    }
   ],
   "source": [
    "a\n"
   ]
  },
  {
   "cell_type": "code",
   "execution_count": 280,
   "id": "dbf8d055",
   "metadata": {},
   "outputs": [
    {
     "data": {
      "text/plain": [
       "array([1, 2, 3, 4, 5])"
      ]
     },
     "execution_count": 280,
     "metadata": {},
     "output_type": "execute_result"
    }
   ],
   "source": [
    "x"
   ]
  },
  {
   "cell_type": "code",
   "execution_count": 281,
   "id": "9fafd586",
   "metadata": {},
   "outputs": [
    {
     "data": {
      "text/plain": [
       "array([1, 2, 3, 4, 5])"
      ]
     },
     "execution_count": 281,
     "metadata": {},
     "output_type": "execute_result"
    }
   ],
   "source": [
    "x.T"
   ]
  },
  {
   "cell_type": "code",
   "execution_count": 287,
   "id": "f66fa203",
   "metadata": {},
   "outputs": [],
   "source": [
    "x = np.array([[1, 2], [3, 4],[5,6]])"
   ]
  },
  {
   "cell_type": "code",
   "execution_count": 288,
   "id": "1fb61cf8",
   "metadata": {},
   "outputs": [
    {
     "data": {
      "text/plain": [
       "array([[1, 2],\n",
       "       [3, 4],\n",
       "       [5, 6]])"
      ]
     },
     "execution_count": 288,
     "metadata": {},
     "output_type": "execute_result"
    }
   ],
   "source": [
    "x"
   ]
  },
  {
   "cell_type": "code",
   "execution_count": 289,
   "id": "a534832a",
   "metadata": {},
   "outputs": [
    {
     "data": {
      "text/plain": [
       "array([[1, 3, 5],\n",
       "       [2, 4, 6]])"
      ]
     },
     "execution_count": 289,
     "metadata": {},
     "output_type": "execute_result"
    }
   ],
   "source": [
    "x.T"
   ]
  },
  {
   "cell_type": "code",
   "execution_count": 290,
   "id": "0f5f5d81",
   "metadata": {},
   "outputs": [
    {
     "data": {
      "text/plain": [
       "array([[1, 3, 5],\n",
       "       [2, 4, 6]])"
      ]
     },
     "execution_count": 290,
     "metadata": {},
     "output_type": "execute_result"
    }
   ],
   "source": [
    "np.transpose(x)"
   ]
  },
  {
   "cell_type": "code",
   "execution_count": 291,
   "id": "15b1771d",
   "metadata": {},
   "outputs": [
    {
     "ename": "AttributeError",
     "evalue": "'numpy.ndarray' object has no attribute 'I'",
     "output_type": "error",
     "traceback": [
      "\u001b[1;31m---------------------------------------------------------------------------\u001b[0m",
      "\u001b[1;31mAttributeError\u001b[0m                            Traceback (most recent call last)",
      "\u001b[1;32m<ipython-input-291-f3257c3347e6>\u001b[0m in \u001b[0;36m<module>\u001b[1;34m\u001b[0m\n\u001b[1;32m----> 1\u001b[1;33m \u001b[0mx\u001b[0m\u001b[1;33m.\u001b[0m\u001b[0mI\u001b[0m\u001b[1;33m\u001b[0m\u001b[1;33m\u001b[0m\u001b[0m\n\u001b[0m",
      "\u001b[1;31mAttributeError\u001b[0m: 'numpy.ndarray' object has no attribute 'I'"
     ]
    }
   ],
   "source": [
    "x.I\n"
   ]
  },
  {
   "cell_type": "code",
   "execution_count": 294,
   "id": "d6594100",
   "metadata": {},
   "outputs": [],
   "source": [
    "x = np.mat([[1,2],[3,4]])"
   ]
  },
  {
   "cell_type": "code",
   "execution_count": 297,
   "id": "d56cf21a",
   "metadata": {},
   "outputs": [
    {
     "data": {
      "text/plain": [
       "matrix([[1, 2],\n",
       "        [3, 4]])"
      ]
     },
     "execution_count": 297,
     "metadata": {},
     "output_type": "execute_result"
    }
   ],
   "source": [
    "x"
   ]
  },
  {
   "cell_type": "code",
   "execution_count": 296,
   "id": "37032ca0",
   "metadata": {},
   "outputs": [
    {
     "data": {
      "text/plain": [
       "matrix([[-2. ,  1. ],\n",
       "        [ 1.5, -0.5]])"
      ]
     },
     "execution_count": 296,
     "metadata": {},
     "output_type": "execute_result"
    }
   ],
   "source": [
    "x.I"
   ]
  },
  {
   "cell_type": "code",
   "execution_count": 298,
   "id": "4de69a02",
   "metadata": {},
   "outputs": [],
   "source": [
    "A = np.array( [[1,2],\n",
    "               [3,4]] )\n",
    "B = np.array( [[5,6],\n",
    "               [7,8]] )"
   ]
  },
  {
   "cell_type": "code",
   "execution_count": 299,
   "id": "8b93afa1",
   "metadata": {},
   "outputs": [
    {
     "data": {
      "text/plain": [
       "array([[19, 22],\n",
       "       [43, 50]])"
      ]
     },
     "execution_count": 299,
     "metadata": {},
     "output_type": "execute_result"
    }
   ],
   "source": [
    "np.matmul(A,B)"
   ]
  },
  {
   "cell_type": "code",
   "execution_count": 300,
   "id": "ce867e4f",
   "metadata": {},
   "outputs": [
    {
     "data": {
      "text/plain": [
       "array([[ 5, 12],\n",
       "       [21, 32]])"
      ]
     },
     "execution_count": 300,
     "metadata": {},
     "output_type": "execute_result"
    }
   ],
   "source": [
    "A*B"
   ]
  },
  {
   "cell_type": "code",
   "execution_count": 301,
   "id": "c5820fcc",
   "metadata": {},
   "outputs": [],
   "source": [
    "A = np.mat( [[1,2],\n",
    "               [3,4]] )\n",
    "B = np.mat( [[5,6],\n",
    "               [7,8]] )"
   ]
  },
  {
   "cell_type": "code",
   "execution_count": 302,
   "id": "0ff9af37",
   "metadata": {},
   "outputs": [
    {
     "data": {
      "text/plain": [
       "matrix([[19, 22],\n",
       "        [43, 50]])"
      ]
     },
     "execution_count": 302,
     "metadata": {},
     "output_type": "execute_result"
    }
   ],
   "source": [
    "A*B"
   ]
  },
  {
   "cell_type": "code",
   "execution_count": 303,
   "id": "28f7ac34",
   "metadata": {},
   "outputs": [
    {
     "data": {
      "text/plain": [
       "matrix([[19, 22],\n",
       "        [43, 50]])"
      ]
     },
     "execution_count": 303,
     "metadata": {},
     "output_type": "execute_result"
    }
   ],
   "source": [
    "np.matmul(A,B)"
   ]
  },
  {
   "cell_type": "code",
   "execution_count": 304,
   "id": "342b6209",
   "metadata": {},
   "outputs": [
    {
     "data": {
      "text/plain": [
       "matrix([[19, 22],\n",
       "        [43, 50]])"
      ]
     },
     "execution_count": 304,
     "metadata": {},
     "output_type": "execute_result"
    }
   ],
   "source": [
    "A.dot(B)"
   ]
  },
  {
   "cell_type": "code",
   "execution_count": 305,
   "id": "774e6fdf",
   "metadata": {},
   "outputs": [
    {
     "data": {
      "text/plain": [
       "matrix([[23, 34],\n",
       "        [31, 46]])"
      ]
     },
     "execution_count": 305,
     "metadata": {},
     "output_type": "execute_result"
    }
   ],
   "source": [
    "B.dot(A)"
   ]
  },
  {
   "cell_type": "code",
   "execution_count": null,
   "id": "181dbd7f",
   "metadata": {},
   "outputs": [],
   "source": []
  }
 ],
 "metadata": {
  "kernelspec": {
   "display_name": "Python 3",
   "language": "python",
   "name": "python3"
  },
  "language_info": {
   "codemirror_mode": {
    "name": "ipython",
    "version": 3
   },
   "file_extension": ".py",
   "mimetype": "text/x-python",
   "name": "python",
   "nbconvert_exporter": "python",
   "pygments_lexer": "ipython3",
   "version": "3.9.1"
  }
 },
 "nbformat": 4,
 "nbformat_minor": 5
}
