{
 "cells": [
  {
   "cell_type": "code",
   "execution_count": 1,
   "id": "6c71b6e1-29af-46be-84ef-6ff6ac09113f",
   "metadata": {},
   "outputs": [
    {
     "name": "stdout",
     "output_type": "stream",
     "text": [
      "[{'id': 3, 'name': 'Mike T.', 'salesrep': 'Sarah H.'}]\n"
     ]
    }
   ],
   "source": [
    "from PO.SqlserverPO import *\n",
    "Sqlserver_PO = SqlServerPO(\"192.168.0.234\", \"sa\", \"Zy_123456789\", \"PHUSERS\", \"GBK\")\n",
    "a = Sqlserver_PO.selectParam(\"select * from a_test where id=%s\", 3)\n",
    "print(a)"
   ]
  },
  {
   "cell_type": "code",
   "execution_count": 7,
   "id": "5500d723-f5c4-42fb-8664-00670741daa2",
   "metadata": {},
   "outputs": [
    {
     "data": {
      "text/plain": [
       "[{'id': 1, 'name': 'John Smith2', 'salesrep': 'John Doe3'},\n",
       " {'id': 2, 'name': 'Jane Doe', 'salesrep': 'Joe Dog'},\n",
       " {'id': 3, 'name': 'Mike T.', 'salesrep': 'Sarah H.'},\n",
       " {'id': 4, 'name': 'John Smith6662', 'salesrep': 'John Doe3'}]"
      ]
     },
     "execution_count": 7,
     "metadata": {},
     "output_type": "execute_result"
    }
   ],
   "source": [
    "a = Sqlserver_PO.select(\"select * from a_test\")\n",
    "a\n"
   ]
  },
  {
   "cell_type": "code",
   "execution_count": 18,
   "id": "8b06e916-3eab-4659-9744-04822f476294",
   "metadata": {},
   "outputs": [
    {
     "data": {
      "text/html": [
       "<div>\n",
       "<style scoped>\n",
       "    .dataframe tbody tr th:only-of-type {\n",
       "        vertical-align: middle;\n",
       "    }\n",
       "\n",
       "    .dataframe tbody tr th {\n",
       "        vertical-align: top;\n",
       "    }\n",
       "\n",
       "    .dataframe thead th {\n",
       "        text-align: right;\n",
       "    }\n",
       "</style>\n",
       "<table border=\"1\" class=\"dataframe\">\n",
       "  <thead>\n",
       "    <tr style=\"text-align: right;\">\n",
       "      <th></th>\n",
       "      <th>id</th>\n",
       "      <th>name</th>\n",
       "      <th>salesrep</th>\n",
       "    </tr>\n",
       "  </thead>\n",
       "  <tbody>\n",
       "    <tr>\n",
       "      <th>0</th>\n",
       "      <td>1</td>\n",
       "      <td>John Smith2</td>\n",
       "      <td>John Doe3</td>\n",
       "    </tr>\n",
       "    <tr>\n",
       "      <th>1</th>\n",
       "      <td>2</td>\n",
       "      <td>Jane Doe</td>\n",
       "      <td>Joe Dog</td>\n",
       "    </tr>\n",
       "    <tr>\n",
       "      <th>2</th>\n",
       "      <td>3</td>\n",
       "      <td>Mike T.</td>\n",
       "      <td>Sarah H.</td>\n",
       "    </tr>\n",
       "    <tr>\n",
       "      <th>3</th>\n",
       "      <td>4</td>\n",
       "      <td>John Smith6662</td>\n",
       "      <td>John Doe3</td>\n",
       "    </tr>\n",
       "  </tbody>\n",
       "</table>\n",
       "</div>"
      ],
      "text/plain": [
       "   id            name   salesrep\n",
       "0   1     John Smith2  John Doe3\n",
       "1   2        Jane Doe    Joe Dog\n",
       "2   3         Mike T.   Sarah H.\n",
       "3   4  John Smith6662  John Doe3"
      ]
     },
     "execution_count": 18,
     "metadata": {},
     "output_type": "execute_result"
    }
   ],
   "source": [
    "pd.set_option('display.expand_frame_repr', False)\n",
    "df = pd.DataFrame(a, columns=['id', 'name', 'salesrep'])\n",
    "df"
   ]
  },
  {
   "cell_type": "code",
   "execution_count": 19,
   "id": "ef47a808-e568-42e7-8b71-43b460f10a15",
   "metadata": {},
   "outputs": [
    {
     "data": {
      "text/html": [
       "<style type=\"text/css\">\n",
       "#T_c80e5_row2_col1, #T_c80e5_row2_col2, #T_c80e5_row3_col0 {\n",
       "  background-color: yellow;\n",
       "}\n",
       "</style>\n",
       "<table id=\"T_c80e5\">\n",
       "  <thead>\n",
       "    <tr>\n",
       "      <th class=\"blank level0\" >&nbsp;</th>\n",
       "      <th id=\"T_c80e5_level0_col0\" class=\"col_heading level0 col0\" >id</th>\n",
       "      <th id=\"T_c80e5_level0_col1\" class=\"col_heading level0 col1\" >name</th>\n",
       "      <th id=\"T_c80e5_level0_col2\" class=\"col_heading level0 col2\" >salesrep</th>\n",
       "    </tr>\n",
       "  </thead>\n",
       "  <tbody>\n",
       "    <tr>\n",
       "      <th id=\"T_c80e5_level0_row0\" class=\"row_heading level0 row0\" >0</th>\n",
       "      <td id=\"T_c80e5_row0_col0\" class=\"data row0 col0\" >1</td>\n",
       "      <td id=\"T_c80e5_row0_col1\" class=\"data row0 col1\" >John Smith2</td>\n",
       "      <td id=\"T_c80e5_row0_col2\" class=\"data row0 col2\" >John Doe3</td>\n",
       "    </tr>\n",
       "    <tr>\n",
       "      <th id=\"T_c80e5_level0_row1\" class=\"row_heading level0 row1\" >1</th>\n",
       "      <td id=\"T_c80e5_row1_col0\" class=\"data row1 col0\" >2</td>\n",
       "      <td id=\"T_c80e5_row1_col1\" class=\"data row1 col1\" >Jane Doe</td>\n",
       "      <td id=\"T_c80e5_row1_col2\" class=\"data row1 col2\" >Joe Dog</td>\n",
       "    </tr>\n",
       "    <tr>\n",
       "      <th id=\"T_c80e5_level0_row2\" class=\"row_heading level0 row2\" >2</th>\n",
       "      <td id=\"T_c80e5_row2_col0\" class=\"data row2 col0\" >3</td>\n",
       "      <td id=\"T_c80e5_row2_col1\" class=\"data row2 col1\" >Mike T.</td>\n",
       "      <td id=\"T_c80e5_row2_col2\" class=\"data row2 col2\" >Sarah H.</td>\n",
       "    </tr>\n",
       "    <tr>\n",
       "      <th id=\"T_c80e5_level0_row3\" class=\"row_heading level0 row3\" >3</th>\n",
       "      <td id=\"T_c80e5_row3_col0\" class=\"data row3 col0\" >4</td>\n",
       "      <td id=\"T_c80e5_row3_col1\" class=\"data row3 col1\" >John Smith6662</td>\n",
       "      <td id=\"T_c80e5_row3_col2\" class=\"data row3 col2\" >John Doe3</td>\n",
       "    </tr>\n",
       "  </tbody>\n",
       "</table>\n"
      ],
      "text/plain": [
       "<pandas.io.formats.style.Styler at 0x7fc6e11d3250>"
      ]
     },
     "execution_count": 19,
     "metadata": {},
     "output_type": "execute_result"
    }
   ],
   "source": [
    "df.head().style.highlight_max()"
   ]
  },
  {
   "cell_type": "code",
   "execution_count": 21,
   "id": "338ffbcb-98e7-4aae-b4de-60f3869ee31a",
   "metadata": {},
   "outputs": [],
   "source": [
    "df.style.highlight_max().to_excel('hello.xlsx')"
   ]
  },
  {
   "cell_type": "code",
   "execution_count": null,
   "id": "64161bc4-57ea-4ef1-b018-aa613c3e23c9",
   "metadata": {},
   "outputs": [],
   "source": []
  }
 ],
 "metadata": {
  "kernelspec": {
   "display_name": "Python 3 (ipykernel)",
   "language": "python",
   "name": "python3"
  },
  "language_info": {
   "codemirror_mode": {
    "name": "ipython",
    "version": 3
   },
   "file_extension": ".py",
   "mimetype": "text/x-python",
   "name": "python",
   "nbconvert_exporter": "python",
   "pygments_lexer": "ipython3",
   "version": "3.8.16"
  }
 },
 "nbformat": 4,
 "nbformat_minor": 5
}
