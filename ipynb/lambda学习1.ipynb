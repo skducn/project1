{
 "cells": [
  {
   "cell_type": "code",
   "execution_count": 1,
   "id": "c53cc639",
   "metadata": {},
   "outputs": [],
   "source": [
    "# 匿名函数 lambda：是指一类无需定义标识符（函数名）的函数或子程序。\n",
    "# 格式： 函数对象地址 = lambda 参数列表 : 表达式 ， 注意：lambda返回值是一个函数的地址，也就是函数对象。\n",
    "# 用途：一般将它用在需要封装特殊的、非重用代码上，避免令代码充斥着大量单行函数。"
   ]
  },
  {
   "cell_type": "code",
   "execution_count": 4,
   "id": "a656cf46",
   "metadata": {},
   "outputs": [],
   "source": [
    "# 1，标准匿名函数格式\n",
    "p = lambda x,y: x+y "
   ]
  },
  {
   "cell_type": "code",
   "execution_count": 5,
   "id": "978e5153",
   "metadata": {},
   "outputs": [
    {
     "data": {
      "text/plain": [
       "function"
      ]
     },
     "execution_count": 5,
     "metadata": {},
     "output_type": "execute_result"
    }
   ],
   "source": [
    "type(p)"
   ]
  },
  {
   "cell_type": "code",
   "execution_count": 6,
   "id": "adc70579",
   "metadata": {},
   "outputs": [
    {
     "data": {
      "text/plain": [
       "function"
      ]
     },
     "execution_count": 6,
     "metadata": {},
     "output_type": "execute_result"
    }
   ],
   "source": [
    "type(lambda x,y: x+y)"
   ]
  },
  {
   "cell_type": "code",
   "execution_count": 7,
   "id": "a90d75e6",
   "metadata": {},
   "outputs": [
    {
     "data": {
      "text/plain": [
       "5"
      ]
     },
     "execution_count": 7,
     "metadata": {},
     "output_type": "execute_result"
    }
   ],
   "source": [
    "p(1,4)"
   ]
  },
  {
   "cell_type": "code",
   "execution_count": 8,
   "id": "db76bd5d",
   "metadata": {},
   "outputs": [],
   "source": [
    "# lambda是一个函数\n"
   ]
  },
  {
   "cell_type": "code",
   "execution_count": 9,
   "id": "0ecc3c13",
   "metadata": {},
   "outputs": [
    {
     "data": {
      "text/plain": [
       "5"
      ]
     },
     "execution_count": 9,
     "metadata": {},
     "output_type": "execute_result"
    }
   ],
   "source": [
    "# 2，非标准函数写法，直接在匿名函数后接实参\n",
    "\n",
    "p(1,4)"
   ]
  },
  {
   "cell_type": "code",
   "execution_count": 10,
   "id": "8e4486ed",
   "metadata": {},
   "outputs": [
    {
     "data": {
      "text/plain": [
       "5"
      ]
     },
     "execution_count": 10,
     "metadata": {},
     "output_type": "execute_result"
    }
   ],
   "source": [
    " (lambda x,y: x+y)(1,4)"
   ]
  },
  {
   "cell_type": "code",
   "execution_count": 15,
   "id": "dcc712a5",
   "metadata": {},
   "outputs": [
    {
     "data": {
      "text/plain": [
       "False"
      ]
     },
     "execution_count": 15,
     "metadata": {},
     "output_type": "execute_result"
    }
   ],
   "source": [
    "# 3, 可用于条件判断 true / false\n",
    "(lambda x:x % 3 == 0)(6)"
   ]
  },
  {
   "cell_type": "code",
   "execution_count": 17,
   "id": "d3c21025",
   "metadata": {},
   "outputs": [
    {
     "name": "stdout",
     "output_type": "stream",
     "text": [
      "123\n"
     ]
    }
   ],
   "source": [
    "if (lambda x:x % 3 == 0)(6):print(123)\n",
    "else:print(4444)"
   ]
  },
  {
   "cell_type": "code",
   "execution_count": 18,
   "id": "9d295b16",
   "metadata": {},
   "outputs": [
    {
     "data": {
      "text/plain": [
       "[0, -1, -2, 3, -4, 5, -6]"
      ]
     },
     "execution_count": 18,
     "metadata": {},
     "output_type": "execute_result"
    }
   ],
   "source": [
    "# lambda 使用场景？\n",
    "# 1， 与其他函数组合\n",
    "# (lambda x:abs(x)) ，迭代对象 ：[0, 1, 2, 3, 4, 5, 6]\n",
    "\n",
    "x = [3,5,-4,-1,0,-2,-6]\n",
    "\n",
    "# 要求：将列表变为 [0, -1, -2, 3, -4, 5, -6]? \n",
    "# sorted(list,itrators)\n",
    "\n",
    "sorted(x, key=lambda x:abs(x))\n"
   ]
  },
  {
   "cell_type": "code",
   "execution_count": 26,
   "id": "d5161c16",
   "metadata": {},
   "outputs": [
    {
     "data": {
      "text/plain": [
       "[3, 6]"
      ]
     },
     "execution_count": 26,
     "metadata": {},
     "output_type": "execute_result"
    }
   ],
   "source": [
    "# 2，三个常用函数编程工具， filter筛选，map小刷子，reduce合并\n",
    "\n",
    "# filter筛选\n",
    "# filter(function,sequence) 过滤序列，过滤掉不符合条件的元素，py3返回一个迭代器对象，如果要转换为列表，可以使用 list() 来转换。\n",
    "# 该函数接收两个参数，第一个为函数，第二个为序列，序列的每个元素作为参数传递给函数进行判，然后返回 True 或 False，最后将返回 True 的元素放到新列表中。\n",
    "# 注意：返回的迭代器对象只能转换一次  list()转换列表， tuple()转换元组 \n",
    "\n",
    "it = filter(lambda x: x% 3 == 0,[1,2,3,4,5,6])\n",
    "list(it)"
   ]
  },
  {
   "cell_type": "code",
   "execution_count": 29,
   "id": "ee29d835",
   "metadata": {},
   "outputs": [
    {
     "data": {
      "text/plain": [
       "[2, 4, 6, 8, 10, 12, 14, 16, 18, 20]"
      ]
     },
     "execution_count": 29,
     "metadata": {},
     "output_type": "execute_result"
    }
   ],
   "source": [
    "# 求1-20之间的偶数？将值放到列表里。\n",
    "\n",
    "list(filter(lambda x:x%2==0,range(1,21)))\n"
   ]
  },
  {
   "cell_type": "code",
   "execution_count": 30,
   "id": "bdb630a5",
   "metadata": {},
   "outputs": [
    {
     "data": {
      "text/plain": [
       "[2, 4, 6, 8, 10, 12, 14, 16, 18, 20]"
      ]
     },
     "execution_count": 30,
     "metadata": {},
     "output_type": "execute_result"
    }
   ],
   "source": [
    "def test(x):\n",
    "    if x%2 == 0:\n",
    "        return x\n",
    "\n",
    "list(filter(test,range(1,21)))"
   ]
  },
  {
   "cell_type": "code",
   "execution_count": 31,
   "id": "6ef2bcb3",
   "metadata": {},
   "outputs": [
    {
     "data": {
      "text/plain": [
       "[1,\n",
       " 4,\n",
       " 9,\n",
       " 16,\n",
       " 25,\n",
       " 36,\n",
       " 49,\n",
       " 64,\n",
       " 81,\n",
       " 100,\n",
       " 121,\n",
       " 144,\n",
       " 169,\n",
       " 196,\n",
       " 225,\n",
       " 256,\n",
       " 289,\n",
       " 324,\n",
       " 361,\n",
       " 400]"
      ]
     },
     "execution_count": 31,
     "metadata": {},
     "output_type": "execute_result"
    }
   ],
   "source": [
    "# map(function,sequence) \n",
    "# 定义：把sequence中的值当参数逐个传给function，返回一个包含函数执行结果的list。（py2）\n",
    "# 如果function有两个参数，即map(function,sequence1,sequence2)。\n",
    "\n",
    "# 求1-20平方？\n",
    "list(map(lambda x:x*x,range(1,21)))"
   ]
  },
  {
   "cell_type": "code",
   "execution_count": 32,
   "id": "ba1868e5",
   "metadata": {},
   "outputs": [
    {
     "data": {
      "text/plain": [
       "['Adam', 'Lisa', 'Bart']"
      ]
     },
     "execution_count": 32,
     "metadata": {},
     "output_type": "execute_result"
    }
   ],
   "source": [
    "# 将('adam', 'LISA', 'barT') 中单词的首字符改为大写，其余小写？  得到 ['Adam', 'Lisa', 'Bart']\n",
    "# adam , a = A , dam=dam => Adam\n",
    "# LISA , L=L, ISA=isa  => Lisa\n",
    "\n",
    "x= map(lambda s:s[0:1].upper()+s[1:].lower(),['adam', 'LISA', 'barT'])\n",
    "list(x)\n"
   ]
  },
  {
   "cell_type": "code",
   "execution_count": 35,
   "id": "fd4afebe",
   "metadata": {},
   "outputs": [
    {
     "data": {
      "text/plain": [
       "'A'"
      ]
     },
     "execution_count": 35,
     "metadata": {},
     "output_type": "execute_result"
    }
   ],
   "source": [
    "# 要求：将 a 改为大写A ,输出 A\n",
    "l = [\"a\",\"b\",\"c\"]   \n",
    "l[0:1][0].upper()"
   ]
  },
  {
   "cell_type": "code",
   "execution_count": 37,
   "id": "e8c6cb22",
   "metadata": {},
   "outputs": [
    {
     "data": {
      "text/plain": [
       "[1, 4, 27]"
      ]
     },
     "execution_count": 37,
     "metadata": {},
     "output_type": "execute_result"
    }
   ],
   "source": [
    "l2 = map(lambda x,y:x**y,[1,2,3],[1,2,3])\n",
    "list(l2)\n",
    "1**1\n",
    "2**2\n",
    "3**3"
   ]
  },
  {
   "cell_type": "code",
   "execution_count": 38,
   "id": "515f7c28",
   "metadata": {},
   "outputs": [
    {
     "ename": "TypeError",
     "evalue": "unsupported operand type(s) for ** or pow(): 'int' and 'str'",
     "output_type": "error",
     "traceback": [
      "\u001b[1;31m---------------------------------------------------------------------------\u001b[0m",
      "\u001b[1;31mTypeError\u001b[0m                                 Traceback (most recent call last)",
      "\u001b[1;32m<ipython-input-38-d10e4952c9d5>\u001b[0m in \u001b[0;36m<module>\u001b[1;34m\u001b[0m\n\u001b[0;32m      1\u001b[0m \u001b[0ml2\u001b[0m \u001b[1;33m=\u001b[0m \u001b[0mmap\u001b[0m\u001b[1;33m(\u001b[0m\u001b[1;32mlambda\u001b[0m \u001b[0mx\u001b[0m\u001b[1;33m,\u001b[0m\u001b[0my\u001b[0m\u001b[1;33m:\u001b[0m\u001b[0mx\u001b[0m\u001b[1;33m**\u001b[0m\u001b[0my\u001b[0m\u001b[1;33m,\u001b[0m\u001b[1;33m[\u001b[0m\u001b[1;36m1\u001b[0m\u001b[1;33m,\u001b[0m\u001b[1;36m2\u001b[0m\u001b[1;33m,\u001b[0m\u001b[1;36m3\u001b[0m\u001b[1;33m]\u001b[0m\u001b[1;33m,\u001b[0m\u001b[1;33m[\u001b[0m\u001b[1;36m1\u001b[0m\u001b[1;33m,\u001b[0m\u001b[1;36m2\u001b[0m\u001b[1;33m,\u001b[0m\u001b[1;34m\"a\"\u001b[0m\u001b[1;33m]\u001b[0m\u001b[1;33m)\u001b[0m\u001b[1;33m\u001b[0m\u001b[1;33m\u001b[0m\u001b[0m\n\u001b[1;32m----> 2\u001b[1;33m \u001b[0mlist\u001b[0m\u001b[1;33m(\u001b[0m\u001b[0ml2\u001b[0m\u001b[1;33m)\u001b[0m\u001b[1;33m\u001b[0m\u001b[1;33m\u001b[0m\u001b[0m\n\u001b[0m",
      "\u001b[1;32m<ipython-input-38-d10e4952c9d5>\u001b[0m in \u001b[0;36m<lambda>\u001b[1;34m(x, y)\u001b[0m\n\u001b[1;32m----> 1\u001b[1;33m \u001b[0ml2\u001b[0m \u001b[1;33m=\u001b[0m \u001b[0mmap\u001b[0m\u001b[1;33m(\u001b[0m\u001b[1;32mlambda\u001b[0m \u001b[0mx\u001b[0m\u001b[1;33m,\u001b[0m\u001b[0my\u001b[0m\u001b[1;33m:\u001b[0m\u001b[0mx\u001b[0m\u001b[1;33m**\u001b[0m\u001b[0my\u001b[0m\u001b[1;33m,\u001b[0m\u001b[1;33m[\u001b[0m\u001b[1;36m1\u001b[0m\u001b[1;33m,\u001b[0m\u001b[1;36m2\u001b[0m\u001b[1;33m,\u001b[0m\u001b[1;36m3\u001b[0m\u001b[1;33m]\u001b[0m\u001b[1;33m,\u001b[0m\u001b[1;33m[\u001b[0m\u001b[1;36m1\u001b[0m\u001b[1;33m,\u001b[0m\u001b[1;36m2\u001b[0m\u001b[1;33m,\u001b[0m\u001b[1;34m\"a\"\u001b[0m\u001b[1;33m]\u001b[0m\u001b[1;33m)\u001b[0m\u001b[1;33m\u001b[0m\u001b[1;33m\u001b[0m\u001b[0m\n\u001b[0m\u001b[0;32m      2\u001b[0m \u001b[0mlist\u001b[0m\u001b[1;33m(\u001b[0m\u001b[0ml2\u001b[0m\u001b[1;33m)\u001b[0m\u001b[1;33m\u001b[0m\u001b[1;33m\u001b[0m\u001b[0m\n",
      "\u001b[1;31mTypeError\u001b[0m: unsupported operand type(s) for ** or pow(): 'int' and 'str'"
     ]
    }
   ],
   "source": [
    "l2 = map(lambda x,y:x**y,[1,2,3],[1,2,\"a\"])\n",
    "list(l2)"
   ]
  },
  {
   "cell_type": "code",
   "execution_count": 39,
   "id": "69b6a859",
   "metadata": {},
   "outputs": [
    {
     "data": {
      "text/plain": [
       "[1, 4]"
      ]
     },
     "execution_count": 39,
     "metadata": {},
     "output_type": "execute_result"
    }
   ],
   "source": [
    "# 两个参数不对成时忽略\n",
    "l2 = map(lambda x,y:x**y,[1,2,3],[1,2])\n",
    "list(l2)"
   ]
  },
  {
   "cell_type": "code",
   "execution_count": 44,
   "id": "1236e79e",
   "metadata": {},
   "outputs": [
    {
     "data": {
      "text/plain": [
       "[10.0, 12.0, 14.0, 16.0]"
      ]
     },
     "execution_count": 44,
     "metadata": {},
     "output_type": "execute_result"
    }
   ],
   "source": [
    "l = map(float,'5678')\n",
    "list1= []\n",
    "\n",
    "# 要求：[10.0, 12.0, 14.0, 16.0]\n",
    "# 分析：\n",
    "# 1，字符串打散，5，6，7，8  //map\n",
    "# 2，将字符串转成float  5.0 ,6.0 ...   for 遍历\n",
    "# 3, float的值 *2 ， 10.0, 12.0, 14.0, 16.0\n",
    "# 4，放入列表里\n",
    "\n",
    "for i in l :\n",
    "    list1.append(i*2)\n",
    "list1"
   ]
  },
  {
   "cell_type": "code",
   "execution_count": 49,
   "id": "193eb27f",
   "metadata": {},
   "outputs": [
    {
     "data": {
      "text/plain": [
       "5050"
      ]
     },
     "execution_count": 49,
     "metadata": {},
     "output_type": "execute_result"
    }
   ],
   "source": [
    "# reduce() 函数会对参数序列中元素进行累积。\n",
    "# reduce(function,sequence) function接收的参数个数只能为2，\n",
    "# 先把sequence中第一个值和第二个值当参数传给function，再把function的返回值和第三个值当参数传给function，然后只返回一个结果。\n",
    "\n",
    "# 语法：reduce(function, iterable[, initializer])\n",
    "# initializer -- 可选，初始参数\n",
    "\n",
    "# 求 1 -100 之和？\n",
    "from functools import reduce\n",
    "reduce(lambda x,y:x+y, range(1,101))"
   ]
  },
  {
   "cell_type": "code",
   "execution_count": 48,
   "id": "f8fae251",
   "metadata": {},
   "outputs": [
    {
     "data": {
      "text/plain": [
       "15050"
      ]
     },
     "execution_count": 48,
     "metadata": {},
     "output_type": "execute_result"
    }
   ],
   "source": [
    "# 求1~100之和，再加上10000\n",
    "reduce(lambda x,y:x+y, range(1,101), 10000)"
   ]
  },
  {
   "cell_type": "code",
   "execution_count": 51,
   "id": "8acb9f2b",
   "metadata": {},
   "outputs": [],
   "source": [
    "# 关闭闭包\n",
    "#  闭包：一个定义在函数内部的函数，闭包使得变量即使脱离了该函数的作用域范围也依然能被访问到。\n",
    "\n",
    "def add(n):\n",
    "    return lambda x:x+n\n",
    "\n",
    "add2 = add(5)"
   ]
  },
  {
   "cell_type": "code",
   "execution_count": 52,
   "id": "60871837",
   "metadata": {},
   "outputs": [
    {
     "data": {
      "text/plain": [
       "20"
      ]
     },
     "execution_count": 52,
     "metadata": {},
     "output_type": "execute_result"
    }
   ],
   "source": [
    "add2(15)"
   ]
  },
  {
   "cell_type": "code",
   "execution_count": 53,
   "id": "2f8c831c",
   "metadata": {},
   "outputs": [
    {
     "data": {
      "text/plain": [
       "35"
      ]
     },
     "execution_count": 53,
     "metadata": {},
     "output_type": "execute_result"
    }
   ],
   "source": [
    "add2(30)"
   ]
  },
  {
   "cell_type": "code",
   "execution_count": null,
   "id": "c6449b4a",
   "metadata": {},
   "outputs": [],
   "source": []
  }
 ],
 "metadata": {
  "kernelspec": {
   "display_name": "Python 3",
   "language": "python",
   "name": "python3"
  },
  "language_info": {
   "codemirror_mode": {
    "name": "ipython",
    "version": 3
   },
   "file_extension": ".py",
   "mimetype": "text/x-python",
   "name": "python",
   "nbconvert_exporter": "python",
   "pygments_lexer": "ipython3",
   "version": "3.9.1"
  }
 },
 "nbformat": 4,
 "nbformat_minor": 5
}
