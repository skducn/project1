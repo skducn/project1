{
 "cells": [
  {
   "cell_type": "code",
   "execution_count": 110,
   "id": "3246a96c",
   "metadata": {},
   "outputs": [],
   "source": [
    "# 匿名函数 lambda：是指一类无需定义标识符（函数名）的函数或子程序。\n",
    "# 格式： 函数对象地址 = lambda 参数列表 : 表达式 ， 注意：lambda返回值是一个函数的地址，也就是函数对象。\n",
    "# 用途：一般将它用在需要封装特殊的、非重用代码上，避免令代码充斥着大量单行函数。"
   ]
  },
  {
   "cell_type": "code",
   "execution_count": 111,
   "id": "fa3bde9c",
   "metadata": {},
   "outputs": [],
   "source": [
    "# 1，标准匿名函数格式\n",
    "p = lambda x,y : x + y"
   ]
  },
  {
   "cell_type": "code",
   "execution_count": 112,
   "id": "001a878c",
   "metadata": {},
   "outputs": [
    {
     "data": {
      "text/plain": [
       "5"
      ]
     },
     "execution_count": 112,
     "metadata": {},
     "output_type": "execute_result"
    }
   ],
   "source": [
    "p(1,4)"
   ]
  },
  {
   "cell_type": "code",
   "execution_count": 113,
   "id": "9845ca48",
   "metadata": {},
   "outputs": [
    {
     "name": "stdout",
     "output_type": "stream",
     "text": [
      "<function <lambda> at 0x00000185E07DA0D0>\n"
     ]
    }
   ],
   "source": [
    "print(lambda x,y : x + y)"
   ]
  },
  {
   "cell_type": "code",
   "execution_count": 114,
   "id": "3e8d9436",
   "metadata": {},
   "outputs": [
    {
     "data": {
      "text/plain": [
       "function"
      ]
     },
     "execution_count": 114,
     "metadata": {},
     "output_type": "execute_result"
    }
   ],
   "source": [
    "type(lambda x,y : x + y)"
   ]
  },
  {
   "cell_type": "code",
   "execution_count": 115,
   "id": "70b544dc",
   "metadata": {},
   "outputs": [
    {
     "data": {
      "text/plain": [
       "<function __main__.<lambda>(x, y)>"
      ]
     },
     "execution_count": 115,
     "metadata": {},
     "output_type": "execute_result"
    }
   ],
   "source": [
    "# 显示函数及参数\n",
    "p"
   ]
  },
  {
   "cell_type": "code",
   "execution_count": 116,
   "id": "1fdbb861",
   "metadata": {},
   "outputs": [
    {
     "name": "stdout",
     "output_type": "stream",
     "text": [
      "<function <lambda> at 0x00000185E07DA040>\n"
     ]
    }
   ],
   "source": [
    "# 函数 lambda在内存中的地址\n",
    "print(p)"
   ]
  },
  {
   "cell_type": "code",
   "execution_count": 117,
   "id": "b12edbc3",
   "metadata": {},
   "outputs": [
    {
     "data": {
      "text/plain": [
       "function"
      ]
     },
     "execution_count": 117,
     "metadata": {},
     "output_type": "execute_result"
    }
   ],
   "source": [
    "# lambda是一个函数\n",
    "type(p)"
   ]
  },
  {
   "cell_type": "code",
   "execution_count": 118,
   "id": "0401c26a",
   "metadata": {},
   "outputs": [
    {
     "data": {
      "text/plain": [
       "9"
      ]
     },
     "execution_count": 118,
     "metadata": {},
     "output_type": "execute_result"
    }
   ],
   "source": [
    "# 2，非标准函数写法，直接在匿名函数后接实参\n",
    "(lambda x:x**2)(3)"
   ]
  },
  {
   "cell_type": "code",
   "execution_count": 119,
   "id": "4f478b83",
   "metadata": {},
   "outputs": [],
   "source": [
    "a = p"
   ]
  },
  {
   "cell_type": "code",
   "execution_count": 120,
   "id": "cb8892f1",
   "metadata": {},
   "outputs": [
    {
     "name": "stdout",
     "output_type": "stream",
     "text": [
      "<function <lambda> at 0x00000185E07DA040>\n"
     ]
    }
   ],
   "source": [
    "print(a)"
   ]
  },
  {
   "cell_type": "code",
   "execution_count": 121,
   "id": "50df7341",
   "metadata": {},
   "outputs": [
    {
     "name": "stdout",
     "output_type": "stream",
     "text": [
      "5\n"
     ]
    }
   ],
   "source": [
    "print(a(1,4))"
   ]
  },
  {
   "cell_type": "code",
   "execution_count": 122,
   "id": "e87c85c0",
   "metadata": {},
   "outputs": [
    {
     "name": "stdout",
     "output_type": "stream",
     "text": [
      "<function <lambda> at 0x00000185E07DA040>\n"
     ]
    }
   ],
   "source": [
    "print(p)"
   ]
  },
  {
   "cell_type": "code",
   "execution_count": 123,
   "id": "9cacfebb",
   "metadata": {},
   "outputs": [
    {
     "data": {
      "text/plain": [
       "True"
      ]
     },
     "execution_count": 123,
     "metadata": {},
     "output_type": "execute_result"
    }
   ],
   "source": [
    "# 可用于条件判断\n",
    "(lambda x: x % 3 == 0)(6)"
   ]
  },
  {
   "cell_type": "code",
   "execution_count": 124,
   "id": "be0c47e3",
   "metadata": {},
   "outputs": [
    {
     "name": "stdout",
     "output_type": "stream",
     "text": [
      "123\n"
     ]
    }
   ],
   "source": [
    "if (lambda x: x % 3 == 0)(6): print(123) \n",
    "else: print(4444)"
   ]
  },
  {
   "cell_type": "code",
   "execution_count": 125,
   "id": "c7c09ef7",
   "metadata": {},
   "outputs": [
    {
     "data": {
      "text/plain": [
       "<map at 0x185e07cc7f0>"
      ]
     },
     "execution_count": 125,
     "metadata": {},
     "output_type": "execute_result"
    }
   ],
   "source": [
    "def add(x,y):\n",
    "    return x+y\n",
    "add(3,4)\n",
    "\n",
    "type(add)\n",
    "\n",
    "# 给匿名函数绑定一个函数名abc\n",
    "abc = lambda x,y: x+y\n",
    "abc(3,4)\n",
    "type(abc)\n",
    "\n",
    "type(lambda x:x*x)\n",
    "map(lambda x:x*x,range(1,21))\n",
    "\n",
    "# 在python3里面，map()的返回值已经不是list,而是iterators, 所以想要使用map()函数，需要将iterator 转换成list 即可，即list(map())"
   ]
  },
  {
   "cell_type": "code",
   "execution_count": 157,
   "id": "33e6854e",
   "metadata": {},
   "outputs": [
    {
     "data": {
      "text/plain": [
       "[0, -1, -2, 3, -4, 5, -6]"
      ]
     },
     "execution_count": 157,
     "metadata": {},
     "output_type": "execute_result"
    }
   ],
   "source": [
    "# lambda使用场景？\n",
    "# 1，与其他函数组合使用\n",
    "x = [3,5,-4,-1,0,-2,-6]\n",
    "sorted(x,key=lambda x: abs(x))\n",
    "\n",
    "\n"
   ]
  },
  {
   "cell_type": "code",
   "execution_count": 155,
   "id": "2ab64e9f",
   "metadata": {},
   "outputs": [
    {
     "data": {
      "text/plain": [
       "[('1', 4), ('A', 2), ('a', 1), ('zcc', 3)]"
      ]
     },
     "execution_count": 155,
     "metadata": {},
     "output_type": "execute_result"
    }
   ],
   "source": [
    "# lambda x: abs(x) 解释： 迭代对象x = [3,5,4,1,0,2,6] \n",
    "L=[('A',2),(\"a\",1),('zcc',3),(\"1\",4)]\n",
    "sorted(L, key=lambda x:x[0]) "
   ]
  },
  {
   "cell_type": "code",
   "execution_count": 127,
   "id": "7d517390",
   "metadata": {},
   "outputs": [],
   "source": [
    "# lambda允许你快速定义单行最小函数\n",
    "# 2，三个常用的函数编程工具：filter筛选，map小刷子，reduce合并\n"
   ]
  },
  {
   "cell_type": "code",
   "execution_count": 128,
   "id": "654b2929",
   "metadata": {},
   "outputs": [
    {
     "name": "stdout",
     "output_type": "stream",
     "text": [
      "(3, 6)\n",
      "[]\n",
      "set()\n"
     ]
    }
   ],
   "source": [
    "# filter() 过滤序列，过滤掉不符合条件的元素，返回一个迭代器对象，如果要转换为列表，可以使用 list() 来转换。\n",
    "# 该函数接收两个参数，第一个为函数，第二个为序列，序列的每个元素作为参数传递给函数进行判，然后返回 True 或 False，最后将返回 True 的元素放到新列表中。\n",
    "# 注意：返回的迭代器对象只能转换一次  list()转换列表， tuple()转换元组 \n",
    "\n",
    "x = filter(lambda x: x % 3 == 0, [1, 2, 3, 4, 5, 6])\n",
    "print(tuple(x))  # (3, 6)   //注意：返回的迭代器对象只能转换一次\n",
    "print(list(x))  # [3, 6]\n",
    "print(set(x))  # {3, 6}\n"
   ]
  },
  {
   "cell_type": "code",
   "execution_count": 160,
   "id": "ffb3c4d9",
   "metadata": {},
   "outputs": [
    {
     "data": {
      "text/plain": [
       "[2, 4, 6, 8, 10, 12, 14, 16, 18, 20]"
      ]
     },
     "execution_count": 160,
     "metadata": {},
     "output_type": "execute_result"
    }
   ],
   "source": [
    "# filter(function,sequence)：对sequence中的item依次执行function(item)，\n",
    "# 将执行结果为True的item组成一个List/String/Tuple(取决于sequence的类型)返回。\n",
    "\n",
    "# 求1~20之间的偶数\n",
    "list(filter(lambda x:x%2==0,range(1,21)))\n"
   ]
  },
  {
   "cell_type": "code",
   "execution_count": 167,
   "id": "e746978d",
   "metadata": {},
   "outputs": [],
   "source": [
    "def test(x):\n",
    "    if x %2 == 0:\n",
    "        return x\n",
    "    \n"
   ]
  },
  {
   "cell_type": "code",
   "execution_count": 168,
   "id": "30613b5a",
   "metadata": {},
   "outputs": [
    {
     "data": {
      "text/plain": [
       "[2, 4, 6, 8, 10, 12, 14, 16, 18, 20]"
      ]
     },
     "execution_count": 168,
     "metadata": {},
     "output_type": "execute_result"
    }
   ],
   "source": [
    "list(filter(test,range(1,21)))"
   ]
  },
  {
   "cell_type": "code",
   "execution_count": 130,
   "id": "635ad40d",
   "metadata": {},
   "outputs": [
    {
     "data": {
      "text/plain": [
       "[False,\n",
       " True,\n",
       " False,\n",
       " True,\n",
       " False,\n",
       " True,\n",
       " False,\n",
       " True,\n",
       " False,\n",
       " True,\n",
       " False,\n",
       " True,\n",
       " False,\n",
       " True,\n",
       " False,\n",
       " True,\n",
       " False,\n",
       " True,\n",
       " False,\n",
       " True]"
      ]
     },
     "execution_count": 130,
     "metadata": {},
     "output_type": "execute_result"
    }
   ],
   "source": [
    "list(map(lambda x:x%2==0,range(1,21)))"
   ]
  },
  {
   "cell_type": "code",
   "execution_count": 131,
   "id": "f1cba715",
   "metadata": {},
   "outputs": [
    {
     "ename": "AttributeError",
     "evalue": "'list' object has no attribute 'upper'",
     "output_type": "error",
     "traceback": [
      "\u001b[1;31m---------------------------------------------------------------------------\u001b[0m",
      "\u001b[1;31mAttributeError\u001b[0m                            Traceback (most recent call last)",
      "\u001b[1;32m<ipython-input-131-7ea60fdcf391>\u001b[0m in \u001b[0;36m<module>\u001b[1;34m\u001b[0m\n\u001b[0;32m      1\u001b[0m \u001b[0mx\u001b[0m \u001b[1;33m=\u001b[0m \u001b[1;32mlambda\u001b[0m \u001b[0ms\u001b[0m\u001b[1;33m:\u001b[0m\u001b[0ms\u001b[0m\u001b[1;33m[\u001b[0m\u001b[1;36m0\u001b[0m\u001b[1;33m:\u001b[0m\u001b[1;36m1\u001b[0m\u001b[1;33m]\u001b[0m\u001b[1;33m.\u001b[0m\u001b[0mupper\u001b[0m\u001b[1;33m(\u001b[0m\u001b[1;33m)\u001b[0m\u001b[1;33m+\u001b[0m\u001b[0ms\u001b[0m\u001b[1;33m[\u001b[0m\u001b[1;36m1\u001b[0m\u001b[1;33m:\u001b[0m\u001b[1;33m]\u001b[0m\u001b[1;33m.\u001b[0m\u001b[0mlower\u001b[0m\u001b[1;33m(\u001b[0m\u001b[1;33m)\u001b[0m\u001b[1;33m\u001b[0m\u001b[1;33m\u001b[0m\u001b[0m\n\u001b[1;32m----> 2\u001b[1;33m \u001b[0mx\u001b[0m\u001b[1;33m(\u001b[0m\u001b[1;33m[\u001b[0m\u001b[1;34m'adam'\u001b[0m\u001b[1;33m,\u001b[0m \u001b[1;34m'LISA'\u001b[0m\u001b[1;33m,\u001b[0m \u001b[1;34m'barT'\u001b[0m\u001b[1;33m]\u001b[0m\u001b[1;33m)\u001b[0m\u001b[1;33m\u001b[0m\u001b[1;33m\u001b[0m\u001b[0m\n\u001b[0m",
      "\u001b[1;32m<ipython-input-131-7ea60fdcf391>\u001b[0m in \u001b[0;36m<lambda>\u001b[1;34m(s)\u001b[0m\n\u001b[1;32m----> 1\u001b[1;33m \u001b[0mx\u001b[0m \u001b[1;33m=\u001b[0m \u001b[1;32mlambda\u001b[0m \u001b[0ms\u001b[0m\u001b[1;33m:\u001b[0m\u001b[0ms\u001b[0m\u001b[1;33m[\u001b[0m\u001b[1;36m0\u001b[0m\u001b[1;33m:\u001b[0m\u001b[1;36m1\u001b[0m\u001b[1;33m]\u001b[0m\u001b[1;33m.\u001b[0m\u001b[0mupper\u001b[0m\u001b[1;33m(\u001b[0m\u001b[1;33m)\u001b[0m\u001b[1;33m+\u001b[0m\u001b[0ms\u001b[0m\u001b[1;33m[\u001b[0m\u001b[1;36m1\u001b[0m\u001b[1;33m:\u001b[0m\u001b[1;33m]\u001b[0m\u001b[1;33m.\u001b[0m\u001b[0mlower\u001b[0m\u001b[1;33m(\u001b[0m\u001b[1;33m)\u001b[0m\u001b[1;33m\u001b[0m\u001b[1;33m\u001b[0m\u001b[0m\n\u001b[0m\u001b[0;32m      2\u001b[0m \u001b[0mx\u001b[0m\u001b[1;33m(\u001b[0m\u001b[1;33m[\u001b[0m\u001b[1;34m'adam'\u001b[0m\u001b[1;33m,\u001b[0m \u001b[1;34m'LISA'\u001b[0m\u001b[1;33m,\u001b[0m \u001b[1;34m'barT'\u001b[0m\u001b[1;33m]\u001b[0m\u001b[1;33m)\u001b[0m\u001b[1;33m\u001b[0m\u001b[1;33m\u001b[0m\u001b[0m\n",
      "\u001b[1;31mAttributeError\u001b[0m: 'list' object has no attribute 'upper'"
     ]
    }
   ],
   "source": [
    "x = lambda s:s[0:1].upper()+s[1:].lower()\n",
    "x(['adam', 'LISA', 'barT'])"
   ]
  },
  {
   "cell_type": "code",
   "execution_count": 132,
   "id": "131d9366",
   "metadata": {},
   "outputs": [
    {
     "data": {
      "text/plain": [
       "[1,\n",
       " 4,\n",
       " 9,\n",
       " 16,\n",
       " 25,\n",
       " 36,\n",
       " 49,\n",
       " 64,\n",
       " 81,\n",
       " 100,\n",
       " 121,\n",
       " 144,\n",
       " 169,\n",
       " 196,\n",
       " 225,\n",
       " 256,\n",
       " 289,\n",
       " 324,\n",
       " 361,\n",
       " 400]"
      ]
     },
     "execution_count": 132,
     "metadata": {},
     "output_type": "execute_result"
    }
   ],
   "source": [
    "# map(function,sequence)：把sequence中的值当参数逐个传给function，返回一个包含函数执行结果的list。\n",
    "# 如果function有两个参数，即map(function,sequence1,sequence2)。\n",
    "\n",
    "# 求1-20平方？\n",
    "list(map(lambda x:x*x,range(1,21))) "
   ]
  },
  {
   "cell_type": "code",
   "execution_count": 170,
   "id": "f8d6a575",
   "metadata": {},
   "outputs": [
    {
     "name": "stdout",
     "output_type": "stream",
     "text": [
      "['Adam', 'Lisa', 'Bart']\n"
     ]
    }
   ],
   "source": [
    "# x = map(lambda s:s[0:1].upper()+s[1:].lower(), ['adam', 'LISA', 'barT'])\n",
    "x = map(lambda s:s[0:1].upper()+s[1:].lower(), ('adam', 'LISA', 'barT'))\n",
    "print(list(x))  # ['Adam', 'Lisa', 'Bart']"
   ]
  },
  {
   "cell_type": "code",
   "execution_count": 173,
   "id": "28103e10",
   "metadata": {},
   "outputs": [
    {
     "data": {
      "text/plain": [
       "'A'"
      ]
     },
     "execution_count": 173,
     "metadata": {},
     "output_type": "execute_result"
    }
   ],
   "source": [
    "l = [\"a\",\"b\",\"c\"]\n",
    "l[0:1][0].upper()"
   ]
  },
  {
   "cell_type": "code",
   "execution_count": 176,
   "id": "628a46f5",
   "metadata": {},
   "outputs": [
    {
     "data": {
      "text/plain": [
       "['A', 'B', 'C']"
      ]
     },
     "execution_count": 176,
     "metadata": {},
     "output_type": "execute_result"
    }
   ],
   "source": [
    "list(map(lambda l:l[0][0].upper(),[\"a\",\"b\",\"c\"]))"
   ]
  },
  {
   "cell_type": "code",
   "execution_count": 135,
   "id": "a86f4cf7",
   "metadata": {},
   "outputs": [
    {
     "name": "stdout",
     "output_type": "stream",
     "text": [
      "1\n",
      "4\n",
      "27\n"
     ]
    }
   ],
   "source": [
    "l2=map(lambda x,y:x**y,[1,2,3],[1,2,3])\n",
    "for i  in l2:\n",
    "    print(i)"
   ]
  },
  {
   "cell_type": "code",
   "execution_count": 136,
   "id": "94cf3ab3",
   "metadata": {},
   "outputs": [
    {
     "name": "stdout",
     "output_type": "stream",
     "text": [
      "(1, 2)\n",
      "(4, 4)\n",
      "(27, 6)\n"
     ]
    }
   ],
   "source": [
    "l3=map(lambda x,y:(x**y,x+y),[1,2,3],[1,2,3])\n",
    "for i in l3:\n",
    "    print(i)"
   ]
  },
  {
   "cell_type": "code",
   "execution_count": 137,
   "id": "da4ec5a3",
   "metadata": {},
   "outputs": [
    {
     "name": "stdout",
     "output_type": "stream",
     "text": [
      "(1, 2)\n",
      "(4, 4)\n"
     ]
    }
   ],
   "source": [
    "# 两个参数不对成时忽略\n",
    "l4=map(lambda x,y:(x**y,x+y),[1,2,3],[1,2])\n",
    "for i in l4:\n",
    "    print(i)"
   ]
  },
  {
   "cell_type": "code",
   "execution_count": 138,
   "id": "ffbf1210",
   "metadata": {},
   "outputs": [
    {
     "name": "stdout",
     "output_type": "stream",
     "text": [
      "(1, 2)\n",
      "(4, 4)\n"
     ]
    },
    {
     "ename": "TypeError",
     "evalue": "unsupported operand type(s) for ** or pow(): 'int' and 'str'",
     "output_type": "error",
     "traceback": [
      "\u001b[1;31m---------------------------------------------------------------------------\u001b[0m",
      "\u001b[1;31mTypeError\u001b[0m                                 Traceback (most recent call last)",
      "\u001b[1;32m<ipython-input-138-90d53a7793ee>\u001b[0m in \u001b[0;36m<module>\u001b[1;34m\u001b[0m\n\u001b[0;32m      1\u001b[0m \u001b[0ml4\u001b[0m\u001b[1;33m=\u001b[0m\u001b[0mmap\u001b[0m\u001b[1;33m(\u001b[0m\u001b[1;32mlambda\u001b[0m \u001b[0mx\u001b[0m\u001b[1;33m,\u001b[0m\u001b[0my\u001b[0m\u001b[1;33m:\u001b[0m\u001b[1;33m(\u001b[0m\u001b[0mx\u001b[0m\u001b[1;33m**\u001b[0m\u001b[0my\u001b[0m\u001b[1;33m,\u001b[0m\u001b[0mx\u001b[0m\u001b[1;33m+\u001b[0m\u001b[0my\u001b[0m\u001b[1;33m)\u001b[0m\u001b[1;33m,\u001b[0m\u001b[1;33m[\u001b[0m\u001b[1;36m1\u001b[0m\u001b[1;33m,\u001b[0m\u001b[1;36m2\u001b[0m\u001b[1;33m,\u001b[0m\u001b[1;36m3\u001b[0m\u001b[1;33m]\u001b[0m\u001b[1;33m,\u001b[0m\u001b[1;33m[\u001b[0m\u001b[1;36m1\u001b[0m\u001b[1;33m,\u001b[0m\u001b[1;36m2\u001b[0m\u001b[1;33m,\u001b[0m\u001b[1;34m'a'\u001b[0m\u001b[1;33m]\u001b[0m\u001b[1;33m)\u001b[0m\u001b[1;33m\u001b[0m\u001b[1;33m\u001b[0m\u001b[0m\n\u001b[1;32m----> 2\u001b[1;33m \u001b[1;32mfor\u001b[0m \u001b[0mi\u001b[0m \u001b[1;32min\u001b[0m \u001b[0ml4\u001b[0m\u001b[1;33m:\u001b[0m\u001b[1;33m\u001b[0m\u001b[1;33m\u001b[0m\u001b[0m\n\u001b[0m\u001b[0;32m      3\u001b[0m     \u001b[0mprint\u001b[0m\u001b[1;33m(\u001b[0m\u001b[0mi\u001b[0m\u001b[1;33m)\u001b[0m\u001b[1;33m\u001b[0m\u001b[1;33m\u001b[0m\u001b[0m\n",
      "\u001b[1;32m<ipython-input-138-90d53a7793ee>\u001b[0m in \u001b[0;36m<lambda>\u001b[1;34m(x, y)\u001b[0m\n\u001b[1;32m----> 1\u001b[1;33m \u001b[0ml4\u001b[0m\u001b[1;33m=\u001b[0m\u001b[0mmap\u001b[0m\u001b[1;33m(\u001b[0m\u001b[1;32mlambda\u001b[0m \u001b[0mx\u001b[0m\u001b[1;33m,\u001b[0m\u001b[0my\u001b[0m\u001b[1;33m:\u001b[0m\u001b[1;33m(\u001b[0m\u001b[0mx\u001b[0m\u001b[1;33m**\u001b[0m\u001b[0my\u001b[0m\u001b[1;33m,\u001b[0m\u001b[0mx\u001b[0m\u001b[1;33m+\u001b[0m\u001b[0my\u001b[0m\u001b[1;33m)\u001b[0m\u001b[1;33m,\u001b[0m\u001b[1;33m[\u001b[0m\u001b[1;36m1\u001b[0m\u001b[1;33m,\u001b[0m\u001b[1;36m2\u001b[0m\u001b[1;33m,\u001b[0m\u001b[1;36m3\u001b[0m\u001b[1;33m]\u001b[0m\u001b[1;33m,\u001b[0m\u001b[1;33m[\u001b[0m\u001b[1;36m1\u001b[0m\u001b[1;33m,\u001b[0m\u001b[1;36m2\u001b[0m\u001b[1;33m,\u001b[0m\u001b[1;34m'a'\u001b[0m\u001b[1;33m]\u001b[0m\u001b[1;33m)\u001b[0m\u001b[1;33m\u001b[0m\u001b[1;33m\u001b[0m\u001b[0m\n\u001b[0m\u001b[0;32m      2\u001b[0m \u001b[1;32mfor\u001b[0m \u001b[0mi\u001b[0m \u001b[1;32min\u001b[0m \u001b[0ml4\u001b[0m\u001b[1;33m:\u001b[0m\u001b[1;33m\u001b[0m\u001b[1;33m\u001b[0m\u001b[0m\n\u001b[0;32m      3\u001b[0m     \u001b[0mprint\u001b[0m\u001b[1;33m(\u001b[0m\u001b[0mi\u001b[0m\u001b[1;33m)\u001b[0m\u001b[1;33m\u001b[0m\u001b[1;33m\u001b[0m\u001b[0m\n",
      "\u001b[1;31mTypeError\u001b[0m: unsupported operand type(s) for ** or pow(): 'int' and 'str'"
     ]
    }
   ],
   "source": [
    "l4=map(lambda x,y:(x**y,x+y),[1,2,3],[1,2,'a'])\n",
    "for i in l4:\n",
    "    print(i)"
   ]
  },
  {
   "cell_type": "code",
   "execution_count": 177,
   "id": "7a1167d2",
   "metadata": {},
   "outputs": [
    {
     "name": "stdout",
     "output_type": "stream",
     "text": [
      "<class 'float'>\n",
      "10.0\n",
      "<class 'float'>\n",
      "12.0\n",
      "<class 'float'>\n",
      "14.0\n",
      "<class 'float'>\n",
      "16.0\n",
      "[]\n",
      "[10.0, 12.0, 14.0, 16.0]\n"
     ]
    }
   ],
   "source": [
    "l=map(float,'5678')\n",
    "list1 =[]\n",
    "for i in l:\n",
    "    print(type(i))\n",
    "    print(i*2)\n",
    "    list1.append(i*2)\n",
    "print(list(l))\n",
    "print(list1)"
   ]
  },
  {
   "cell_type": "code",
   "execution_count": 178,
   "id": "107496d7",
   "metadata": {},
   "outputs": [
    {
     "data": {
      "text/plain": [
       "type"
      ]
     },
     "execution_count": 178,
     "metadata": {},
     "output_type": "execute_result"
    }
   ],
   "source": []
  },
  {
   "cell_type": "code",
   "execution_count": 140,
   "id": "e2b2f69a",
   "metadata": {},
   "outputs": [
    {
     "name": "stdout",
     "output_type": "stream",
     "text": [
      "<map object at 0x00000185E07CC790>\n",
      "<class 'map'>\n"
     ]
    }
   ],
   "source": [
    "l=[1,2,3]\n",
    "x=map(None,l)\n",
    "print(x)\n",
    "print(type(x))\n"
   ]
  },
  {
   "cell_type": "code",
   "execution_count": 141,
   "id": "ea30cca8",
   "metadata": {},
   "outputs": [
    {
     "data": {
      "text/plain": [
       "<map at 0x185e07cc160>"
      ]
     },
     "execution_count": 141,
     "metadata": {},
     "output_type": "execute_result"
    }
   ],
   "source": [
    "map(None, [2,4,6],[3,2,1])"
   ]
  },
  {
   "cell_type": "code",
   "execution_count": 142,
   "id": "37386e33",
   "metadata": {},
   "outputs": [
    {
     "data": {
      "text/plain": [
       "<map at 0x185e07ccd00>"
      ]
     },
     "execution_count": 142,
     "metadata": {},
     "output_type": "execute_result"
    }
   ],
   "source": [
    "map(None, [2,4,6],[3,2,1])"
   ]
  },
  {
   "cell_type": "code",
   "execution_count": 143,
   "id": "73f6813c",
   "metadata": {},
   "outputs": [
    {
     "name": "stdout",
     "output_type": "stream",
     "text": [
      "<map object at 0x00000185E07CC550>\n"
     ]
    }
   ],
   "source": [
    "# map()返回值是 iterator，所以需要转换成list\n",
    "x = (map(None, [2,4,6],[3,2,1]))\n",
    "print(x)\n"
   ]
  },
  {
   "cell_type": "code",
   "execution_count": 144,
   "id": "8b8a2691",
   "metadata": {},
   "outputs": [
    {
     "data": {
      "text/plain": [
       "<map at 0x185e07cc670>"
      ]
     },
     "execution_count": 144,
     "metadata": {},
     "output_type": "execute_result"
    }
   ],
   "source": [
    "map(lambda x: x*2, range(1,10))"
   ]
  },
  {
   "cell_type": "code",
   "execution_count": 145,
   "id": "db0b311d",
   "metadata": {},
   "outputs": [
    {
     "data": {
      "text/plain": [
       "[2, 4, 6, 8, 10, 12, 14, 16, 18]"
      ]
     },
     "execution_count": 145,
     "metadata": {},
     "output_type": "execute_result"
    }
   ],
   "source": [
    "list(map(lambda x: x*2, range(1,10)))"
   ]
  },
  {
   "cell_type": "code",
   "execution_count": 183,
   "id": "705e542d",
   "metadata": {},
   "outputs": [
    {
     "name": "stdout",
     "output_type": "stream",
     "text": [
      "<class 'int'>\n"
     ]
    }
   ],
   "source": [
    "# reduce() 函数会对参数序列中元素进行累积。\n",
    "# reduce(function,sequence)：function接收的参数个数只能为2，\n",
    "# 先把sequence中第一个值和第二个值当参数传给function，再把function的返回值和第三个值当参数传给function，然后只返回一个结果。\n",
    "\n",
    "# 语法：reduce(function, iterable[, initializer])\n",
    "# initializer -- 可选，初始参数\n",
    "\n",
    "# 求1-100之和\n",
    "from functools import reduce\n",
    "reduce(lambda x,y:x+y, range(1,101))"
   ]
  },
  {
   "cell_type": "code",
   "execution_count": 181,
   "id": "7e1848af",
   "metadata": {},
   "outputs": [
    {
     "data": {
      "text/plain": [
       "93326215443944152681699238856266700490715968264381621468592963895217599993229915608941463976156518286253697920827223758251185210916864000000000000000000000000"
      ]
     },
     "execution_count": 181,
     "metadata": {},
     "output_type": "execute_result"
    }
   ],
   "source": []
  },
  {
   "cell_type": "code",
   "execution_count": 147,
   "id": "c54de7a7",
   "metadata": {},
   "outputs": [
    {
     "data": {
      "text/plain": [
       "15050"
      ]
     },
     "execution_count": 147,
     "metadata": {},
     "output_type": "execute_result"
    }
   ],
   "source": [
    "v\n",
    "reduce(lambda x,y:x+y, range(1,101),10000)"
   ]
  },
  {
   "cell_type": "code",
   "execution_count": 184,
   "id": "058c3900",
   "metadata": {},
   "outputs": [
    {
     "data": {
      "text/plain": [
       "20"
      ]
     },
     "execution_count": 184,
     "metadata": {},
     "output_type": "execute_result"
    }
   ],
   "source": [
    "# 这里的lambda函数就是一个闭包，在全局作用域范围中，add2(15)可以正常执行且返回值为20。\n",
    "# 之所以返回20是因为在add局部作用域中，变量n的值在闭包的作用使得它在全局作用域也可以被访问到。\n",
    "\n",
    "# 闭包\n",
    "# 闭包：一个定义在函数内部的函数，闭包使得变量即使脱离了该函数的作用域范围也依然能被访问到。\n",
    "def add(n):\n",
    "    return lambda x:x+n\n",
    "add2 = add(5)\n",
    "add2(15)"
   ]
  },
  {
   "cell_type": "code",
   "execution_count": 185,
   "id": "cc593809",
   "metadata": {},
   "outputs": [
    {
     "ename": "TypeError",
     "evalue": "'function' object is not iterable",
     "output_type": "error",
     "traceback": [
      "\u001b[1;31m---------------------------------------------------------------------------\u001b[0m",
      "\u001b[1;31mTypeError\u001b[0m                                 Traceback (most recent call last)",
      "\u001b[1;32m<ipython-input-185-3e36b99eb530>\u001b[0m in \u001b[0;36m<module>\u001b[1;34m\u001b[0m\n\u001b[1;32m----> 1\u001b[1;33m \u001b[0mlist\u001b[0m\u001b[1;33m(\u001b[0m\u001b[0madd\u001b[0m\u001b[1;33m(\u001b[0m\u001b[1;36m5\u001b[0m\u001b[1;33m)\u001b[0m\u001b[1;33m)\u001b[0m\u001b[1;33m\u001b[0m\u001b[1;33m\u001b[0m\u001b[0m\n\u001b[0m",
      "\u001b[1;31mTypeError\u001b[0m: 'function' object is not iterable"
     ]
    }
   ],
   "source": []
  },
  {
   "cell_type": "code",
   "execution_count": 149,
   "id": "7a952217",
   "metadata": {},
   "outputs": [
    {
     "data": {
      "text/plain": [
       "35"
      ]
     },
     "execution_count": 149,
     "metadata": {},
     "output_type": "execute_result"
    }
   ],
   "source": [
    "add2(30)"
   ]
  },
  {
   "cell_type": "code",
   "execution_count": 150,
   "id": "8d0ad4a0",
   "metadata": {},
   "outputs": [
    {
     "data": {
      "text/plain": [
       "31"
      ]
     },
     "execution_count": 150,
     "metadata": {},
     "output_type": "execute_result"
    }
   ],
   "source": [
    "add2 = add(1)\n",
    "add2(30)"
   ]
  },
  {
   "cell_type": "code",
   "execution_count": 151,
   "id": "4527a027",
   "metadata": {},
   "outputs": [
    {
     "data": {
      "text/plain": [
       "15"
      ]
     },
     "execution_count": 151,
     "metadata": {},
     "output_type": "execute_result"
    }
   ],
   "source": [
    "def add(x,y):\n",
    "    return x+ y \n",
    "reduce(add,[1,2,3,4,5])"
   ]
  },
  {
   "cell_type": "code",
   "execution_count": 152,
   "id": "4c62e6b6",
   "metadata": {},
   "outputs": [
    {
     "data": {
      "text/plain": [
       "15"
      ]
     },
     "execution_count": 152,
     "metadata": {},
     "output_type": "execute_result"
    }
   ],
   "source": [
    "reduce(lambda x, y: x+y, [1,2,3,4,5])"
   ]
  },
  {
   "cell_type": "code",
   "execution_count": null,
   "id": "06374b40",
   "metadata": {},
   "outputs": [],
   "source": []
  },
  {
   "cell_type": "code",
   "execution_count": null,
   "id": "14d59f30",
   "metadata": {},
   "outputs": [],
   "source": []
  },
  {
   "cell_type": "code",
   "execution_count": null,
   "id": "8dfb75be",
   "metadata": {},
   "outputs": [],
   "source": []
  },
  {
   "cell_type": "code",
   "execution_count": null,
   "id": "edb0861e",
   "metadata": {},
   "outputs": [],
   "source": []
  }
 ],
 "metadata": {
  "kernelspec": {
   "display_name": "Python 3",
   "language": "python",
   "name": "python3"
  },
  "language_info": {
   "codemirror_mode": {
    "name": "ipython",
    "version": 3
   },
   "file_extension": ".py",
   "mimetype": "text/x-python",
   "name": "python",
   "nbconvert_exporter": "python",
   "pygments_lexer": "ipython3",
   "version": "3.9.1"
  }
 },
 "nbformat": 4,
 "nbformat_minor": 5
}
