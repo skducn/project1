{
 "cells": [
  {
   "cell_type": "code",
   "execution_count": 117,
   "id": "298560a1",
   "metadata": {},
   "outputs": [],
   "source": [
    "import numpy as np\n",
    "import pandas as pd\n",
    "from datetime import datetime"
   ]
  },
  {
   "cell_type": "code",
   "execution_count": 140,
   "id": "def90bb1",
   "metadata": {},
   "outputs": [
    {
     "name": "stderr",
     "output_type": "stream",
     "text": [
      "b'Skipping line 9: expected 9 fields, saw 10\\n'\n"
     ]
    }
   ],
   "source": [
    "df = pd.read_csv(\"DC.csv\",encoding='gbk',error_bad_lines=False, warn_bad_lines=True)"
   ]
  },
  {
   "cell_type": "code",
   "execution_count": 141,
   "id": "c5fa1fa8",
   "metadata": {},
   "outputs": [
    {
     "data": {
      "text/html": [
       "<div>\n",
       "<style scoped>\n",
       "    .dataframe tbody tr th:only-of-type {\n",
       "        vertical-align: middle;\n",
       "    }\n",
       "\n",
       "    .dataframe tbody tr th {\n",
       "        vertical-align: top;\n",
       "    }\n",
       "\n",
       "    .dataframe thead th {\n",
       "        text-align: right;\n",
       "    }\n",
       "</style>\n",
       "<table border=\"1\" class=\"dataframe\">\n",
       "  <thead>\n",
       "    <tr style=\"text-align: right;\">\n",
       "      <th></th>\n",
       "      <th>对手</th>\n",
       "      <th>胜负</th>\n",
       "      <th>主客场</th>\n",
       "      <th>命中</th>\n",
       "      <th>投篮数</th>\n",
       "      <th>篮板</th>\n",
       "      <th>助攻</th>\n",
       "      <th>得分</th>\n",
       "      <th>日期</th>\n",
       "    </tr>\n",
       "  </thead>\n",
       "  <tbody>\n",
       "    <tr>\n",
       "      <th>0</th>\n",
       "      <td>勇士</td>\n",
       "      <td>胜</td>\n",
       "      <td>客</td>\n",
       "      <td>10.0</td>\n",
       "      <td>23.0</td>\n",
       "      <td>6.0</td>\n",
       "      <td>11.0</td>\n",
       "      <td>27</td>\n",
       "      <td>1999/12/1</td>\n",
       "    </tr>\n",
       "    <tr>\n",
       "      <th>1</th>\n",
       "      <td>国王</td>\n",
       "      <td>胜</td>\n",
       "      <td>客</td>\n",
       "      <td>8.0</td>\n",
       "      <td>NaN</td>\n",
       "      <td>3.0</td>\n",
       "      <td>9.0</td>\n",
       "      <td>27</td>\n",
       "      <td>1999/12/2</td>\n",
       "    </tr>\n",
       "    <tr>\n",
       "      <th>2</th>\n",
       "      <td>小牛</td>\n",
       "      <td>胜</td>\n",
       "      <td>主</td>\n",
       "      <td>NaN</td>\n",
       "      <td>55.0</td>\n",
       "      <td>3.0</td>\n",
       "      <td>NaN</td>\n",
       "      <td>29</td>\n",
       "      <td>1999/12/3</td>\n",
       "    </tr>\n",
       "    <tr>\n",
       "      <th>3</th>\n",
       "      <td>灰熊</td>\n",
       "      <td>负</td>\n",
       "      <td>主</td>\n",
       "      <td>8.0</td>\n",
       "      <td>20.0</td>\n",
       "      <td>5.0</td>\n",
       "      <td>8.0</td>\n",
       "      <td>22</td>\n",
       "      <td>1999/12/4</td>\n",
       "    </tr>\n",
       "    <tr>\n",
       "      <th>4</th>\n",
       "      <td>76人</td>\n",
       "      <td>胜</td>\n",
       "      <td>客</td>\n",
       "      <td>10.0</td>\n",
       "      <td>20.0</td>\n",
       "      <td>3.0</td>\n",
       "      <td>13.0</td>\n",
       "      <td>27</td>\n",
       "      <td>1999/12/5</td>\n",
       "    </tr>\n",
       "    <tr>\n",
       "      <th>5</th>\n",
       "      <td>黄蜂</td>\n",
       "      <td>胜</td>\n",
       "      <td>客</td>\n",
       "      <td>8.0</td>\n",
       "      <td>18.0</td>\n",
       "      <td>NaN</td>\n",
       "      <td>11.0</td>\n",
       "      <td>27</td>\n",
       "      <td>1999/12/6</td>\n",
       "    </tr>\n",
       "    <tr>\n",
       "      <th>6</th>\n",
       "      <td>灰熊</td>\n",
       "      <td>负</td>\n",
       "      <td>客</td>\n",
       "      <td>6.0</td>\n",
       "      <td>19.0</td>\n",
       "      <td>4.0</td>\n",
       "      <td>8.0</td>\n",
       "      <td>20</td>\n",
       "      <td>1999/12/7</td>\n",
       "    </tr>\n",
       "    <tr>\n",
       "      <th>7</th>\n",
       "      <td>尼克斯</td>\n",
       "      <td>胜</td>\n",
       "      <td>客</td>\n",
       "      <td>9.0</td>\n",
       "      <td>23.0</td>\n",
       "      <td>5.0</td>\n",
       "      <td>9.0</td>\n",
       "      <td>31</td>\n",
       "      <td>1999/12/9</td>\n",
       "    </tr>\n",
       "    <tr>\n",
       "      <th>8</th>\n",
       "      <td>老鹰</td>\n",
       "      <td>胜</td>\n",
       "      <td>客</td>\n",
       "      <td>8.0</td>\n",
       "      <td>15.0</td>\n",
       "      <td>3.0</td>\n",
       "      <td>11.0</td>\n",
       "      <td>29</td>\n",
       "      <td>1999/12/10</td>\n",
       "    </tr>\n",
       "    <tr>\n",
       "      <th>9</th>\n",
       "      <td>爵士</td>\n",
       "      <td>胜</td>\n",
       "      <td>主</td>\n",
       "      <td>19.0</td>\n",
       "      <td>25.0</td>\n",
       "      <td>2.0</td>\n",
       "      <td>NaN</td>\n",
       "      <td>56</td>\n",
       "      <td>1999/12/11</td>\n",
       "    </tr>\n",
       "    <tr>\n",
       "      <th>10</th>\n",
       "      <td>骑士</td>\n",
       "      <td>胜</td>\n",
       "      <td>主</td>\n",
       "      <td>8.0</td>\n",
       "      <td>21.0</td>\n",
       "      <td>11.0</td>\n",
       "      <td>13.0</td>\n",
       "      <td>35</td>\n",
       "      <td>1999/12/12</td>\n",
       "    </tr>\n",
       "    <tr>\n",
       "      <th>11</th>\n",
       "      <td>灰熊</td>\n",
       "      <td>胜</td>\n",
       "      <td>主</td>\n",
       "      <td>11.0</td>\n",
       "      <td>25.0</td>\n",
       "      <td>4.0</td>\n",
       "      <td>8.0</td>\n",
       "      <td>38</td>\n",
       "      <td>1999/12/13</td>\n",
       "    </tr>\n",
       "    <tr>\n",
       "      <th>12</th>\n",
       "      <td>步行者</td>\n",
       "      <td>胜</td>\n",
       "      <td>客</td>\n",
       "      <td>9.0</td>\n",
       "      <td>NaN</td>\n",
       "      <td>5.0</td>\n",
       "      <td>15.0</td>\n",
       "      <td>26</td>\n",
       "      <td>1999/12/14</td>\n",
       "    </tr>\n",
       "    <tr>\n",
       "      <th>13</th>\n",
       "      <td>猛龙</td>\n",
       "      <td>负</td>\n",
       "      <td>主</td>\n",
       "      <td>8.0</td>\n",
       "      <td>25.0</td>\n",
       "      <td>6.0</td>\n",
       "      <td>11.0</td>\n",
       "      <td>38</td>\n",
       "      <td>1999/12/15</td>\n",
       "    </tr>\n",
       "    <tr>\n",
       "      <th>14</th>\n",
       "      <td>太阳</td>\n",
       "      <td>胜</td>\n",
       "      <td>客</td>\n",
       "      <td>12.0</td>\n",
       "      <td>22.0</td>\n",
       "      <td>2.0</td>\n",
       "      <td>7.0</td>\n",
       "      <td>48</td>\n",
       "      <td>1999/12/16</td>\n",
       "    </tr>\n",
       "    <tr>\n",
       "      <th>15</th>\n",
       "      <td>灰熊</td>\n",
       "      <td>胜</td>\n",
       "      <td>客</td>\n",
       "      <td>9.0</td>\n",
       "      <td>20.0</td>\n",
       "      <td>5.0</td>\n",
       "      <td>7.0</td>\n",
       "      <td>29</td>\n",
       "      <td>1999/12/17</td>\n",
       "    </tr>\n",
       "    <tr>\n",
       "      <th>16</th>\n",
       "      <td>掘金</td>\n",
       "      <td>胜</td>\n",
       "      <td>主</td>\n",
       "      <td>NaN</td>\n",
       "      <td>16.0</td>\n",
       "      <td>8.0</td>\n",
       "      <td>9.0</td>\n",
       "      <td>21</td>\n",
       "      <td>1999/12/18</td>\n",
       "    </tr>\n",
       "    <tr>\n",
       "      <th>17</th>\n",
       "      <td>尼克斯</td>\n",
       "      <td>胜</td>\n",
       "      <td>主</td>\n",
       "      <td>12.0</td>\n",
       "      <td>27.0</td>\n",
       "      <td>2.0</td>\n",
       "      <td>10.0</td>\n",
       "      <td>37</td>\n",
       "      <td>1999/12/19</td>\n",
       "    </tr>\n",
       "    <tr>\n",
       "      <th>18</th>\n",
       "      <td>篮网</td>\n",
       "      <td>胜</td>\n",
       "      <td>主</td>\n",
       "      <td>13.0</td>\n",
       "      <td>20.0</td>\n",
       "      <td>10.0</td>\n",
       "      <td>8.0</td>\n",
       "      <td>37</td>\n",
       "      <td>1999/12/20</td>\n",
       "    </tr>\n",
       "    <tr>\n",
       "      <th>19</th>\n",
       "      <td>步行者</td>\n",
       "      <td>胜</td>\n",
       "      <td>NaN</td>\n",
       "      <td>8.0</td>\n",
       "      <td>22.0</td>\n",
       "      <td>8.0</td>\n",
       "      <td>10.0</td>\n",
       "      <td>29</td>\n",
       "      <td>1999/12/21</td>\n",
       "    </tr>\n",
       "    <tr>\n",
       "      <th>20</th>\n",
       "      <td>湖人</td>\n",
       "      <td>胜</td>\n",
       "      <td>客</td>\n",
       "      <td>13.0</td>\n",
       "      <td>22.0</td>\n",
       "      <td>4.0</td>\n",
       "      <td>9.0</td>\n",
       "      <td>36</td>\n",
       "      <td>1999/12/22</td>\n",
       "    </tr>\n",
       "    <tr>\n",
       "      <th>21</th>\n",
       "      <td>爵士</td>\n",
       "      <td>NaN</td>\n",
       "      <td>客</td>\n",
       "      <td>8.0</td>\n",
       "      <td>19.0</td>\n",
       "      <td>5.0</td>\n",
       "      <td>3.0</td>\n",
       "      <td>29</td>\n",
       "      <td>1999/12/23</td>\n",
       "    </tr>\n",
       "    <tr>\n",
       "      <th>22</th>\n",
       "      <td>开拓者</td>\n",
       "      <td>胜</td>\n",
       "      <td>客</td>\n",
       "      <td>16.0</td>\n",
       "      <td>29.0</td>\n",
       "      <td>8.0</td>\n",
       "      <td>3.0</td>\n",
       "      <td>48</td>\n",
       "      <td>1999/12/24</td>\n",
       "    </tr>\n",
       "    <tr>\n",
       "      <th>23</th>\n",
       "      <td>NaN</td>\n",
       "      <td>胜</td>\n",
       "      <td>主</td>\n",
       "      <td>8.0</td>\n",
       "      <td>16.0</td>\n",
       "      <td>1.0</td>\n",
       "      <td>17.0</td>\n",
       "      <td>26</td>\n",
       "      <td>1999/12/25</td>\n",
       "    </tr>\n",
       "  </tbody>\n",
       "</table>\n",
       "</div>"
      ],
      "text/plain": [
       "     对手   胜负  主客场    命中   投篮数    篮板    助攻  得分          日期\n",
       "0    勇士    胜    客  10.0  23.0   6.0  11.0  27   1999/12/1\n",
       "1    国王    胜    客   8.0   NaN   3.0   9.0  27   1999/12/2\n",
       "2    小牛    胜    主   NaN  55.0   3.0   NaN  29   1999/12/3\n",
       "3    灰熊    负    主   8.0  20.0   5.0   8.0  22   1999/12/4\n",
       "4   76人    胜    客  10.0  20.0   3.0  13.0  27   1999/12/5\n",
       "5    黄蜂    胜    客   8.0  18.0   NaN  11.0  27   1999/12/6\n",
       "6    灰熊    负    客   6.0  19.0   4.0   8.0  20   1999/12/7\n",
       "7   尼克斯    胜    客   9.0  23.0   5.0   9.0  31   1999/12/9\n",
       "8    老鹰    胜    客   8.0  15.0   3.0  11.0  29  1999/12/10\n",
       "9    爵士    胜    主  19.0  25.0   2.0   NaN  56  1999/12/11\n",
       "10   骑士    胜    主   8.0  21.0  11.0  13.0  35  1999/12/12\n",
       "11   灰熊    胜    主  11.0  25.0   4.0   8.0  38  1999/12/13\n",
       "12  步行者    胜    客   9.0   NaN   5.0  15.0  26  1999/12/14\n",
       "13   猛龙    负    主   8.0  25.0   6.0  11.0  38  1999/12/15\n",
       "14   太阳    胜    客  12.0  22.0   2.0   7.0  48  1999/12/16\n",
       "15   灰熊    胜    客   9.0  20.0   5.0   7.0  29  1999/12/17\n",
       "16   掘金    胜    主   NaN  16.0   8.0   9.0  21  1999/12/18\n",
       "17  尼克斯    胜    主  12.0  27.0   2.0  10.0  37  1999/12/19\n",
       "18   篮网    胜    主  13.0  20.0  10.0   8.0  37  1999/12/20\n",
       "19  步行者    胜  NaN   8.0  22.0   8.0  10.0  29  1999/12/21\n",
       "20   湖人    胜    客  13.0  22.0   4.0   9.0  36  1999/12/22\n",
       "21   爵士  NaN    客   8.0  19.0   5.0   3.0  29  1999/12/23\n",
       "22  开拓者    胜    客  16.0  29.0   8.0   3.0  48  1999/12/24\n",
       "23  NaN    胜    主   8.0  16.0   1.0  17.0  26  1999/12/25"
      ]
     },
     "execution_count": 141,
     "metadata": {},
     "output_type": "execute_result"
    }
   ],
   "source": [
    "df"
   ]
  },
  {
   "cell_type": "code",
   "execution_count": 130,
   "id": "9cbe219a",
   "metadata": {},
   "outputs": [
    {
     "data": {
      "text/html": [
       "<div>\n",
       "<style scoped>\n",
       "    .dataframe tbody tr th:only-of-type {\n",
       "        vertical-align: middle;\n",
       "    }\n",
       "\n",
       "    .dataframe tbody tr th {\n",
       "        vertical-align: top;\n",
       "    }\n",
       "\n",
       "    .dataframe thead th {\n",
       "        text-align: right;\n",
       "    }\n",
       "</style>\n",
       "<table border=\"1\" class=\"dataframe\">\n",
       "  <thead>\n",
       "    <tr style=\"text-align: right;\">\n",
       "      <th></th>\n",
       "      <th>对手</th>\n",
       "      <th>胜负</th>\n",
       "      <th>主客场</th>\n",
       "      <th>命中</th>\n",
       "      <th>投篮数</th>\n",
       "      <th>篮板</th>\n",
       "      <th>助攻</th>\n",
       "      <th>得分</th>\n",
       "      <th>日期</th>\n",
       "    </tr>\n",
       "  </thead>\n",
       "  <tbody>\n",
       "    <tr>\n",
       "      <th>1</th>\n",
       "      <td>国王</td>\n",
       "      <td>胜</td>\n",
       "      <td>客</td>\n",
       "      <td>8</td>\n",
       "      <td>NaN</td>\n",
       "      <td>3</td>\n",
       "      <td>9</td>\n",
       "      <td>27</td>\n",
       "      <td>1999/12/2</td>\n",
       "    </tr>\n",
       "  </tbody>\n",
       "</table>\n",
       "</div>"
      ],
      "text/plain": [
       "   对手 胜负 主客场  命中  投篮数  篮板  助攻  得分         日期\n",
       "1  国王  胜   客   8  NaN   3   9  27  1999/12/2"
      ]
     },
     "execution_count": 130,
     "metadata": {},
     "output_type": "execute_result"
    }
   ],
   "source": [
    "df.get_chunk(1)"
   ]
  },
  {
   "cell_type": "code",
   "execution_count": 131,
   "id": "aec6d13e",
   "metadata": {},
   "outputs": [
    {
     "data": {
      "text/html": [
       "<div>\n",
       "<style scoped>\n",
       "    .dataframe tbody tr th:only-of-type {\n",
       "        vertical-align: middle;\n",
       "    }\n",
       "\n",
       "    .dataframe tbody tr th {\n",
       "        vertical-align: top;\n",
       "    }\n",
       "\n",
       "    .dataframe thead th {\n",
       "        text-align: right;\n",
       "    }\n",
       "</style>\n",
       "<table border=\"1\" class=\"dataframe\">\n",
       "  <thead>\n",
       "    <tr style=\"text-align: right;\">\n",
       "      <th></th>\n",
       "      <th>对手</th>\n",
       "      <th>胜负</th>\n",
       "      <th>主客场</th>\n",
       "      <th>命中</th>\n",
       "      <th>投篮数</th>\n",
       "      <th>篮板</th>\n",
       "      <th>助攻</th>\n",
       "      <th>得分</th>\n",
       "      <th>日期</th>\n",
       "    </tr>\n",
       "  </thead>\n",
       "  <tbody>\n",
       "    <tr>\n",
       "      <th>2</th>\n",
       "      <td>小牛</td>\n",
       "      <td>胜</td>\n",
       "      <td>主</td>\n",
       "      <td>NaN</td>\n",
       "      <td>55</td>\n",
       "      <td>3</td>\n",
       "      <td>NaN</td>\n",
       "      <td>29</td>\n",
       "      <td>1999/12/3</td>\n",
       "    </tr>\n",
       "    <tr>\n",
       "      <th>3</th>\n",
       "      <td>灰熊</td>\n",
       "      <td>负</td>\n",
       "      <td>主</td>\n",
       "      <td>8.0</td>\n",
       "      <td>20</td>\n",
       "      <td>5</td>\n",
       "      <td>8.0</td>\n",
       "      <td>22</td>\n",
       "      <td>1999/12/4</td>\n",
       "    </tr>\n",
       "    <tr>\n",
       "      <th>4</th>\n",
       "      <td>76人</td>\n",
       "      <td>胜</td>\n",
       "      <td>客</td>\n",
       "      <td>10.0</td>\n",
       "      <td>20</td>\n",
       "      <td>3</td>\n",
       "      <td>13.0</td>\n",
       "      <td>27</td>\n",
       "      <td>1999/12/5</td>\n",
       "    </tr>\n",
       "  </tbody>\n",
       "</table>\n",
       "</div>"
      ],
      "text/plain": [
       "    对手 胜负 主客场    命中  投篮数  篮板    助攻  得分         日期\n",
       "2   小牛  胜   主   NaN   55   3   NaN  29  1999/12/3\n",
       "3   灰熊  负   主   8.0   20   5   8.0  22  1999/12/4\n",
       "4  76人  胜   客  10.0   20   3  13.0  27  1999/12/5"
      ]
     },
     "execution_count": 131,
     "metadata": {},
     "output_type": "execute_result"
    }
   ],
   "source": [
    "df.get_chunk(3)"
   ]
  },
  {
   "cell_type": "code",
   "execution_count": 127,
   "id": "c82902a8",
   "metadata": {},
   "outputs": [
    {
     "ename": "AttributeError",
     "evalue": "'TextFileReader' object has no attribute 'head'",
     "output_type": "error",
     "traceback": [
      "\u001b[1;31m---------------------------------------------------------------------------\u001b[0m",
      "\u001b[1;31mAttributeError\u001b[0m                            Traceback (most recent call last)",
      "\u001b[1;32m<ipython-input-127-6ab08b3e117d>\u001b[0m in \u001b[0;36m<module>\u001b[1;34m\u001b[0m\n\u001b[1;32m----> 1\u001b[1;33m \u001b[0mdf\u001b[0m\u001b[1;33m.\u001b[0m\u001b[0mhead\u001b[0m\u001b[1;33m(\u001b[0m\u001b[1;36m6\u001b[0m\u001b[1;33m)\u001b[0m\u001b[1;33m\u001b[0m\u001b[1;33m\u001b[0m\u001b[0m\n\u001b[0m",
      "\u001b[1;31mAttributeError\u001b[0m: 'TextFileReader' object has no attribute 'head'"
     ]
    }
   ],
   "source": [
    "df.head(6)"
   ]
  },
  {
   "cell_type": "code",
   "execution_count": 55,
   "id": "2d9c17f7",
   "metadata": {},
   "outputs": [
    {
     "data": {
      "text/plain": [
       "Index(['景区名称', '地区', '热度', '地址', '价格', '月销量'], dtype='object')"
      ]
     },
     "execution_count": 55,
     "metadata": {},
     "output_type": "execute_result"
    }
   ],
   "source": [
    "df.columns"
   ]
  },
  {
   "cell_type": "code",
   "execution_count": 57,
   "id": "4a9b637f",
   "metadata": {},
   "outputs": [
    {
     "data": {
      "text/plain": [
       "景区名称     object\n",
       "地区       object\n",
       "热度       object\n",
       "地址       object\n",
       "价格      float64\n",
       "月销量       int64\n",
       "dtype: object"
      ]
     },
     "execution_count": 57,
     "metadata": {},
     "output_type": "execute_result"
    }
   ],
   "source": [
    "df.dtypes"
   ]
  },
  {
   "cell_type": "code",
   "execution_count": 59,
   "id": "99d906b7",
   "metadata": {},
   "outputs": [
    {
     "data": {
      "text/plain": [
       "array([141.5, 100. ,  58. , 215. ,  25. , 118. , 168. ,  89. ,  99. ,\n",
       "        80. ,  36. ,  35. ,  50. ,   3. , 109. ,  90. ,  65. ,  30. ,\n",
       "       158. , 200. ,  98. , 350. , 268. , 318. , 130. , 298. ,  70. ,\n",
       "       178. ,   2. ,  66. ,   9. , 518. ,  51. , 238. ,  28. ,  69. ])"
      ]
     },
     "execution_count": 59,
     "metadata": {},
     "output_type": "execute_result"
    }
   ],
   "source": [
    "df['价格'].unique()"
   ]
  },
  {
   "cell_type": "code",
   "execution_count": 22,
   "id": "7671f6ab",
   "metadata": {},
   "outputs": [
    {
     "data": {
      "text/plain": [
       "Index(['景区名称', '星级', '地区', '热度', '地址', '价格', '月销量'], dtype='object')"
      ]
     },
     "execution_count": 22,
     "metadata": {},
     "output_type": "execute_result"
    }
   ],
   "source": [
    "# 获取 title\n",
    "df.columns"
   ]
  },
  {
   "cell_type": "code",
   "execution_count": 16,
   "id": "72d5cbb9",
   "metadata": {},
   "outputs": [
    {
     "data": {
      "text/plain": [
       "array([ 0,  1,  2,  3,  4,  5,  6,  7,  8,  9, 10, 11, 12, 13, 14, 15, 16,\n",
       "       17, 18, 19, 20, 21, 22, 23, 24, 25, 26, 27, 28, 29, 30, 31, 32, 33,\n",
       "       34, 35, 36, 37, 38, 39, 40, 41, 42, 43, 44, 45, 46, 47, 48, 49, 50,\n",
       "       51, 52, 53, 54, 55, 56, 57, 58, 59], dtype=int64)"
      ]
     },
     "execution_count": 16,
     "metadata": {},
     "output_type": "execute_result"
    }
   ],
   "source": [
    "# 获取第一列（索引值）\n",
    "df.index.values"
   ]
  },
  {
   "cell_type": "code",
   "execution_count": 18,
   "id": "b920a944",
   "metadata": {},
   "outputs": [],
   "source": [
    "# 将某一行记录转为字典 to_dict()\n",
    "df_dict = df.loc[1,df.columns].to_dict()"
   ]
  },
  {
   "cell_type": "code",
   "execution_count": 19,
   "id": "6ebba294",
   "metadata": {},
   "outputs": [
    {
     "data": {
      "text/plain": [
       "{'景区名称': '大连圣亚海洋世界',\n",
       " '星级': '4A景区',\n",
       " '地区': '辽宁·大连·沙河口区',\n",
       " '热度': '热度 0.82',\n",
       " '地址': '地址：大连市沙河口区中山路608-6-8号（星海广场西500米）',\n",
       " '价格': 100.0,\n",
       " '月销量': 666}"
      ]
     },
     "execution_count": 19,
     "metadata": {},
     "output_type": "execute_result"
    }
   ],
   "source": [
    "df_dict"
   ]
  },
  {
   "cell_type": "code",
   "execution_count": 20,
   "id": "a3061afa",
   "metadata": {},
   "outputs": [
    {
     "data": {
      "text/plain": [
       "景区名称                            大连圣亚海洋世界\n",
       "星级                                  4A景区\n",
       "地区                            辽宁·大连·沙河口区\n",
       "热度                               热度 0.82\n",
       "地址      地址：大连市沙河口区中山路608-6-8号（星海广场西500米）\n",
       "价格                                 100.0\n",
       "月销量                                  666\n",
       "Name: 1, dtype: object"
      ]
     },
     "execution_count": 20,
     "metadata": {},
     "output_type": "execute_result"
    }
   ],
   "source": [
    "df.loc[1,df.columns]"
   ]
  },
  {
   "cell_type": "code",
   "execution_count": null,
   "id": "94bb6c34",
   "metadata": {},
   "outputs": [],
   "source": [
    "# 将title和每行记录以字典形式封装\n",
    "# for i in df.index.values:\n",
    "#     df_dict = df.loc[1,df.columns].to_dict()\n",
    "#     print(df_dict)"
   ]
  }
 ],
 "metadata": {
  "kernelspec": {
   "display_name": "Python 3",
   "language": "python",
   "name": "python3"
  },
  "language_info": {
   "codemirror_mode": {
    "name": "ipython",
    "version": 3
   },
   "file_extension": ".py",
   "mimetype": "text/x-python",
   "name": "python",
   "nbconvert_exporter": "python",
   "pygments_lexer": "ipython3",
   "version": "3.9.1"
  }
 },
 "nbformat": 4,
 "nbformat_minor": 5
}
