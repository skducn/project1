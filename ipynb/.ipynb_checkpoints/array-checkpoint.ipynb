{
 "cells": [
  {
   "cell_type": "code",
   "execution_count": 48,
   "id": "755969bb",
   "metadata": {},
   "outputs": [
    {
     "name": "stdout",
     "output_type": "stream",
     "text": [
      "<attribute 'typecode' of 'array.array' objects>\n"
     ]
    }
   ],
   "source": [
    "# coding: utf-8\n",
    "# ********************************************************************************************************************\n",
    "# Author     : John\n",
    "# Date       : 2020-3-19\n",
    "# Description: 数组 array可以存放放一组相同类型的数字\n",
    "# 数据array 与列表list 有什么区别?\n",
    "# array 是数组, 数组只能保存一种类型的数, 在它初始化的时候就决定了数据是什么类型的值，而list 几乎可以放任何对象,如数字、字典、对象、列表、字符串等。\n",
    "# array 可以紧凑地定义一个基本的数组：字符，整数，浮点数。\n",
    "# 数组与列表都是序列类型，支持所有跟可变序列有关的操作,包括 pop,insert和extend\n",
    "# 关于效率，当只对1000万个浮点数进行操作时，数组的效率要比列表要高得多，因为数组在内存中存的不是对象，而是字节。\n",
    "# 关于效率，如果业务只对数字进行操作，那么数组比列表更高效。\n",
    "# 如需要频繁对序列做先出先进的操作，collection.deque(双端队列)的速度应该会更快。\n",
    "# 数组支持从文件读取和写入的方法，如.frombytes和.tofile。\n",
    "# 创建数组需要一个类型码，这个类型码用来表示在底层的C语言应该存放怎样的数据类型。比如b类型码代表的是有符号的字符（signedchar），array(‘b’)创建出的数组就只能存放一个字节大小的整数，范围从-128到127，这样在序列很大的时候，我们能节省很多空间。\n",
    "# 参考：https://blog.csdn.net/xc_zhou/article/details/88538793\n",
    "\n",
    "# array类型码\n",
    "'''\n",
    "Type code      C Type     Minimum size in bytes   python Type\n",
    "     'b'    signed integer           1                int\n",
    "     'B'    unsigned integer         1                int\n",
    "     'u'    Unicode character        2                Unicode character\n",
    "     'h'    signed integer           2                int\n",
    "     'H'    unsigned integer         2                int\n",
    "     'i'    signed integer           4                int\n",
    "     'I'    unsigned integer         4                int\n",
    "     'l'    signed integer           4                int\n",
    "     'L'    unsigned integer         4                int\n",
    "     'q'    signed integer           8                int\n",
    "     'Q'    unsigned integer         8                int\n",
    "     'f'    floating point           4                float\n",
    "     'd'    floating point           8                float\n",
    "'''\n",
    "\n",
    "# array 提供的方法如下\n",
    "# append() -- append a new item to the end of the array\n",
    "# buffer_info() -- return information giving the current memory info\n",
    "# byteswap() -- byteswap all the items of the array\n",
    "# count() -- return number of occurrences of an object\n",
    "# extend() -- extend array by appending multiple elements from an iterable\n",
    "# fromfile() -- read items from a file object\n",
    "# fromlist() -- append items from the list\n",
    "# frombytes() -- append items from the string\n",
    "# index() -- return index of first occurrence of an object\n",
    "# insert() -- insert a new item into the array at a provided position\n",
    "# pop() -- remove and return item (default last)\n",
    "# remove() -- remove first occurrence of an object\n",
    "# reverse() -- reverse the order of the items in the array\n",
    "# tofile() -- write all items to a file object\n",
    "# tolist() -- return the array converted to an ordinary list\n",
    "# tobytes() -- return the array converted to a string\n",
    "# ********************************************************************************************************************\n",
    "# 所有可用类型代码的字符串\n",
    "# import array\n",
    "# array.typecodes  # 'bBuhHiIlLqQfd'\n",
    "\n",
    "from array import array\n",
    "\n",
    "print(array.typecode)  # <attribute 'typecode' of 'array.array' objects>\n"
   ]
  },
  {
   "cell_type": "code",
   "execution_count": 49,
   "id": "e670a9c7",
   "metadata": {},
   "outputs": [
    {
     "name": "stdout",
     "output_type": "stream",
     "text": [
      "array('f')\n",
      "f\n",
      "4\n"
     ]
    }
   ],
   "source": [
    "# # 构造一个空的int类型数组\n",
    "arr = array('f')\n",
    "print(arr)\n",
    "\n",
    "print(arr.typecode)  # f  //类型代码的字符串\n",
    "print(arr.itemsize)  # 4  // 数组的字节长度。"
   ]
  },
  {
   "cell_type": "code",
   "execution_count": 51,
   "id": "7f0c93db",
   "metadata": {},
   "outputs": [
    {
     "data": {
      "text/plain": [
       "array('i', [0, 1, 2, 3, 4, 6, 7, 8, 9, 100])"
      ]
     },
     "execution_count": 51,
     "metadata": {},
     "output_type": "execute_result"
    }
   ],
   "source": [
    "# 创建数组的类型代码字符\n",
    "arr = array('i', [0, 1, 2, 3, 4, 6, 7, 8, 9, 100])\n",
    "arr"
   ]
  },
  {
   "cell_type": "code",
   "execution_count": 68,
   "id": "8762fc55",
   "metadata": {},
   "outputs": [
    {
     "data": {
      "text/plain": [
       "5"
      ]
     },
     "execution_count": 68,
     "metadata": {},
     "output_type": "execute_result"
    }
   ],
   "source": [
    "# count 返回元素在数组中出现的次数,没有该元素则返回0 \n",
    "b = array('i', [1, 12, 45, 1, 1, 1, 0, 12, 1, 4])\n",
    "b.count(1)  \n"
   ]
  },
  {
   "cell_type": "code",
   "execution_count": 69,
   "id": "949710c1",
   "metadata": {},
   "outputs": [
    {
     "data": {
      "text/plain": [
       "2"
      ]
     },
     "execution_count": 69,
     "metadata": {},
     "output_type": "execute_result"
    }
   ],
   "source": [
    "# index 返回元素在数组中第一次出现的下标, 下标从零开始,如果没有找到该元素会报异常.\n",
    "b.index(45)"
   ]
  },
  {
   "cell_type": "code",
   "execution_count": 70,
   "id": "f8019b0c",
   "metadata": {},
   "outputs": [
    {
     "ename": "ValueError",
     "evalue": "array.index(x): x not in array",
     "output_type": "error",
     "traceback": [
      "\u001b[1;31m---------------------------------------------------------------------------\u001b[0m",
      "\u001b[1;31mValueError\u001b[0m                                Traceback (most recent call last)",
      "\u001b[1;32m<ipython-input-70-1581140065bd>\u001b[0m in \u001b[0;36m<module>\u001b[1;34m\u001b[0m\n\u001b[1;32m----> 1\u001b[1;33m \u001b[0mb\u001b[0m\u001b[1;33m.\u001b[0m\u001b[0mindex\u001b[0m\u001b[1;33m(\u001b[0m\u001b[1;36m666\u001b[0m\u001b[1;33m)\u001b[0m  \u001b[1;31m# ValueError: array.index(x): x not in array\u001b[0m\u001b[1;33m\u001b[0m\u001b[1;33m\u001b[0m\u001b[0m\n\u001b[0m",
      "\u001b[1;31mValueError\u001b[0m: array.index(x): x not in array"
     ]
    }
   ],
   "source": [
    "b.index(666)  # ValueError: array.index(x): x not in array"
   ]
  },
  {
   "cell_type": "code",
   "execution_count": 71,
   "id": "8e961ca7",
   "metadata": {},
   "outputs": [
    {
     "data": {
      "text/plain": [
       "array('i', [1, 45, 1, 1, 1, 0, 12, 1, 4])"
      ]
     },
     "execution_count": 71,
     "metadata": {},
     "output_type": "execute_result"
    }
   ],
   "source": [
    "# remove 删除元素, 该方法只删除第一次出现的元素。\n",
    "b.remove(12)   # 后面的12没有被删除\n",
    "b"
   ]
  },
  {
   "cell_type": "code",
   "execution_count": 65,
   "id": "14fd38bb",
   "metadata": {},
   "outputs": [
    {
     "data": {
      "text/plain": [
       "array('i', [1, 45, 1, 1, 1, 0, 12, 1, 4])"
      ]
     },
     "execution_count": 65,
     "metadata": {},
     "output_type": "execute_result"
    }
   ],
   "source": []
  },
  {
   "cell_type": "code",
   "execution_count": null,
   "id": "b415d90f",
   "metadata": {},
   "outputs": [],
   "source": []
  }
 ],
 "metadata": {
  "kernelspec": {
   "display_name": "Python 3",
   "language": "python",
   "name": "python3"
  },
  "language_info": {
   "codemirror_mode": {
    "name": "ipython",
    "version": 3
   },
   "file_extension": ".py",
   "mimetype": "text/x-python",
   "name": "python",
   "nbconvert_exporter": "python",
   "pygments_lexer": "ipython3",
   "version": "3.9.1"
  }
 },
 "nbformat": 4,
 "nbformat_minor": 5
}
