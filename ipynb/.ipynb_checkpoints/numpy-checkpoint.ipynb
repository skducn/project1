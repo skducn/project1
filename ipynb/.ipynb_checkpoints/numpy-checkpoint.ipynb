{
 "cells": [
  {
   "cell_type": "code",
   "execution_count": 2,
   "id": "bbf44daa",
   "metadata": {},
   "outputs": [],
   "source": [
    "# https://blog.csdn.net/create115721/article/details/81266009\n",
    "# numpy 是高性能科学计算和数据分析基础包，用于数组计算（一维、二维、多维），对list进行部分封装。提供了非常便利的科学运算功能\n",
    "# 官网：https://numpy.org/doc/stable/reference/\n",
    "\n",
    "# 主要功能如下：\n",
    "# ndarray, 具有矢量算术运算和复杂广播能力的快速且节省空间的多维数组。\n",
    "# 用于对整组数据进行快速运算的标准数学函数（无需编写循环）。\n",
    "# 用于读写磁盘数据的工具以及用于操作内存映射文件的工具。\n",
    "# 线性代数、随机数生成以及傅里叶变换功能。\n",
    "# 用于集成C、C++、Fortran等语言编写的代码的工具。\n",
    "import numpy as np"
   ]
  },
  {
   "cell_type": "code",
   "execution_count": 3,
   "id": "5a57fa7d",
   "metadata": {},
   "outputs": [
    {
     "name": "stdout",
     "output_type": "stream",
     "text": [
      "<class 'numpy.ndarray'>\n",
      "<class 'numpy.ndarray'>\n",
      "<class 'numpy.ndarray'>\n",
      "<class 'numpy.ndarray'>\n"
     ]
    }
   ],
   "source": [
    "# 1, np.array() 将数据转为数组（ndarray）\n",
    "l_test1 = [1,2,3]\n",
    "np.array(l_test1)  # array([1, 2, 3])\n",
    "print(type(np.array(l_test1)))  # <class 'numpy.ndarray'>\n",
    "\n",
    "t_test2 = (4,5,6)\n",
    "np.array(t_test2)  # array([4, 5, 6])\n",
    "print(type(np.array(t_test2)))  # <class 'numpy.ndarray'>\n",
    "\n",
    "str1 = \"4,5,678\"\n",
    "np.array(str1)   # darray('4,5,678', dtype='<U7') , type='<U7 表示长度为7位的unicode\n",
    "print(type(np.array(str1)))  # <class 'numpy.ndarray'>\n",
    "\n",
    "d_test3 = {\"a\":88,\"b\":123}\n",
    "np.array(d_test3)  # array({'a': 88, 'b': 123}, dtype=object)\n",
    "print(type(np.array(d_test3)))  # <class 'numpy.ndarray'>"
   ]
  },
  {
   "cell_type": "code",
   "execution_count": 16,
   "id": "bdcb306d",
   "metadata": {},
   "outputs": [
    {
     "data": {
      "text/plain": [
       "array([10, 20])"
      ]
     },
     "execution_count": 16,
     "metadata": {},
     "output_type": "execute_result"
    }
   ],
   "source": [
    "# 2, asarray() 将数据转为数组（ndarray）；将数据类型转为float或int；判断元素值是否大于0，如大于0的则修改为1。\n",
    "l_test4 = [10,20]\n",
    "np.asarray(l_test4) # array([1, 2])\n",
    "\n"
   ]
  },
  {
   "cell_type": "code",
   "execution_count": 17,
   "id": "5324353c",
   "metadata": {},
   "outputs": [
    {
     "data": {
      "text/plain": [
       "array([10., 20.], dtype=float32)"
      ]
     },
     "execution_count": 17,
     "metadata": {},
     "output_type": "execute_result"
    }
   ],
   "source": [
    "f= np.asarray(l_test4,'f')  # array([1., 2.], dtype=float32)\n",
    "f"
   ]
  },
  {
   "cell_type": "code",
   "execution_count": 18,
   "id": "688f380b",
   "metadata": {},
   "outputs": [
    {
     "data": {
      "text/plain": [
       "array([10, 20], dtype=int32)"
      ]
     },
     "execution_count": 18,
     "metadata": {},
     "output_type": "execute_result"
    }
   ],
   "source": [
    "i = np.asarray(l_test4,\"i\")  # array([1, 2], dtype=int32)\n",
    "i"
   ]
  },
  {
   "cell_type": "code",
   "execution_count": 20,
   "id": "19b11091",
   "metadata": {},
   "outputs": [
    {
     "data": {
      "text/plain": [
       "array([[1., 1.],\n",
       "       [1., 0.]], dtype=float32)"
      ]
     },
     "execution_count": 20,
     "metadata": {},
     "output_type": "execute_result"
    }
   ],
   "source": [
    "l_test5 = [[1,2],[3,0]]\n",
    "l_test5 = np.asarray(l_test5)\n",
    "\n",
    "\n",
    "l_test5 = np.asarray(l_test5>0,\"i\")\n",
    "l_test5  # array([[1, 1], [1, 0]], dtype=int32)\n",
    "l_test5 = np.asarray(l_test5>0,\"f\")\n",
    "l_test5  # array([[1., 1.],[1., 0.]], dtype=float32)"
   ]
  },
  {
   "cell_type": "code",
   "execution_count": 52,
   "id": "57ff32ac",
   "metadata": {},
   "outputs": [
    {
     "name": "stdout",
     "output_type": "stream",
     "text": [
      "float64\n",
      "int32\n",
      "[1 1 1 1 1]\n",
      "[1. 1. 1. 1. 1.]\n",
      "[[1.]\n",
      " [1.]\n",
      " [1.]]\n",
      "[[[1 1]\n",
      "  [1 1]\n",
      "  [1 1]\n",
      "  [1 1]]\n",
      "\n",
      " [[1 1]\n",
      "  [1 1]\n",
      "  [1 1]\n",
      "  [1 1]]\n",
      "\n",
      " [[1 1]\n",
      "  [1 1]\n",
      "  [1 1]\n",
      "  [1 1]]]\n"
     ]
    },
    {
     "data": {
      "text/plain": [
       "array([0.2, 0.2, 0.2, 0.2, 0.2])"
      ]
     },
     "execution_count": 52,
     "metadata": {},
     "output_type": "execute_result"
    }
   ],
   "source": [
    "# 3, np.ones() 返回一个全1的n维数组\n",
    "# numpy.ones(shape, dtype=None, order='C')\n",
    "# shape : 数组的形状，例如 (2, 3) 或 2.\n",
    "# dtype : 数组的数据类型，默认为numpy.float64.\n",
    "# order : 数组元素在内存中的排列方式，默认 'C’表示C语言排列方式，或者‘F’表示 Fortran 语言排列方式.\n",
    "\n",
    "a = np.ones(5)\n",
    "print(a)  # [1. 1. 1. 1. 1.]\n",
    "print(a.dtype)  # float64\n",
    "\n",
    "b = np.ones(5, \"i\")  # array([1, 1, 1, 1, 1], dtype=int32)  等同于 b = np.ones(5,dtype=np.int32)\n",
    "print(b)  # [1 1 1 1 1]\n",
    "print(b.dtype)  # int32\n",
    "# c = np.ones(3,np.int) # 此处指定ones()创建的数据类型为int32 ,注意 np.int这方式已弃用，直接使用“i”\n",
    "# print(c.dtype)  # int32\n",
    "\n",
    "c = np.ones(5, dtype=np.int64)\n",
    "print(c)  # [1 1 1 1 1]\n",
    "print(c.dtype)  # int64\n",
    "\n",
    "d = np.ones(5, \"f\")  # array([1., 1., 1., 1., 1.], dtype=float32)\n",
    "print(d)  # [1. 1. 1. 1. 1.]\n",
    "print(d.dtype)  # float32\n",
    "\n",
    "\n",
    "e = np.ones((3, 5))  # array([[1.],[1.],[1.]])\n",
    "print(e)  # //输出的shape，3行5列的二维数组\n",
    "# [[1. 1. 1. 1. 1.]\n",
    "#  [1. 1. 1. 1. 1.]\n",
    "#  [1. 1. 1. 1. 1.]]\n",
    "print(e.dtype)  # float64\n",
    "\n",
    "f = np.ones([3, 4, 2], \"i\")\n",
    "print(f)\n",
    "# [[[1 1]\n",
    "#   [1 1]\n",
    "#   [1 1]\n",
    "#   [1 1]]\n",
    "#\n",
    "#  [[1 1]\n",
    "#   [1 1]\n",
    "#   [1 1]\n",
    "#   [1 1]]\n",
    "#\n",
    "#  [[1 1]\n",
    "#   [1 1]\n",
    "#   [1 1]\n",
    "#   [1 1]]]\n",
    "\n",
    "np.ones(5)/5   #  array([0.2, 0.2, 0.2, 0.2, 0.2])\n"
   ]
  },
  {
   "cell_type": "code",
   "execution_count": 58,
   "id": "0585bc1c",
   "metadata": {},
   "outputs": [
    {
     "name": "stdout",
     "output_type": "stream",
     "text": [
      "(行，列， 通道) (3, 3, 3)\n",
      "[[[ 0  1  2]\n",
      "  [ 3  4  5]\n",
      "  [ 6  7  8]]\n",
      "\n",
      " [[ 9 10 11]\n",
      "  [12 13 14]\n",
      "  [15 16 17]]\n",
      "\n",
      " [[18 19 20]\n",
      "  [21 22 23]\n",
      "  [24 25 26]]]\n",
      "第1个水平面 [[0 1 2]\n",
      " [3 4 5]\n",
      " [6 7 8]]\n",
      "第2个水平面 [[ 9 10 11]\n",
      " [12 13 14]\n",
      " [15 16 17]]\n",
      "第3个水平面 [[18 19 20]\n",
      " [21 22 23]\n",
      " [24 25 26]]\n",
      "第1个面的第一个直线  [0 1 2]\n",
      "第1个面的第二个直线 [3 4 5]\n",
      "第1个面的第三个直线 [6 7 8]\n",
      "第1个面的第一条直线的第一个点 0\n",
      "第1个面的第一条直线的第二个点 1\n",
      "第1个面的第一条直线的第三个点 2\n"
     ]
    }
   ],
   "source": [
    "# 对于二维数组就是输出行与列，对于三维数组[4][2][3]，表示[4]表示三维数组中包含4个二维数组，后两个数字表示二维数组的形状，即2行3列\n",
    "x = np.arange(27)\n",
    "x = np.reshape(x, (3,3,3))\n",
    "print('(行，列， 通道)', x.shape)\n",
    "print(x)\n",
    "print('第1个水平面', x[0])\n",
    "print('第2个水平面', x[1])\n",
    "print('第3个水平面', x[2])\n",
    "print('第1个面的第一个直线 ', x[0][0])\n",
    "print('第1个面的第二个直线', x[0][1])\n",
    "print('第1个面的第三个直线', x[0][2])\n",
    "print(\"第1个面的第一条直线的第一个点\",x[0][0][0])\n",
    "print(\"第1个面的第一条直线的第二个点\",x[0][0][1])\n",
    "print(\"第1个面的第一条直线的第三个点\",x[0][0][2])\n",
    "# print('2222 ', x[1])"
   ]
  },
  {
   "cell_type": "code",
   "execution_count": 68,
   "id": "6c75a2f8",
   "metadata": {},
   "outputs": [
    {
     "name": "stdout",
     "output_type": "stream",
     "text": [
      "[[[ 0  1  2]\n",
      "  [ 3  4  5]]\n",
      "\n",
      " [[ 6  7  8]\n",
      "  [ 9 10 11]]\n",
      "\n",
      " [[12 13 14]\n",
      "  [15 16 17]]\n",
      "\n",
      " [[18 19 20]\n",
      "  [21 22 23]]]\n",
      "第1个水平面 [[0 1 2]\n",
      " [3 4 5]]\n",
      "第2个水平面 [[ 6  7  8]\n",
      " [ 9 10 11]]\n",
      "第3个水平面 [[12 13 14]\n",
      " [15 16 17]]\n",
      "第4个水平面 [[18 19 20]\n",
      " [21 22 23]]\n",
      "第1个面的第1个直线  [0 1 2]\n",
      "第1个面的第2个直线 [3 4 5]\n",
      "第2个面的第1个直线  [6 7 8]\n",
      "第2个面的第2个直线 [ 9 10 11]\n",
      "第3个面的第1个直线  [12 13 14]\n",
      "第3个面的第2个直线 [15 16 17]\n",
      "第4个面的第1个直线  [18 19 20]\n",
      "第4个面的第2个直线 [21 22 23]\n",
      "第1个面的第一条直线的第一个点 0\n",
      "第1个面的第一条直线的第二个点 1\n",
      "第1个面的第一条直线的第三个点 2\n",
      "第1个面的第一条直线的第一个点 3\n",
      "第1个面的第一条直线的第二个点 4\n",
      "第1个面的第一条直线的第三个点 5\n"
     ]
    }
   ],
   "source": [
    "x = np.arange(24)\n",
    "x = np.reshape(x, (4,2,3))\n",
    "\n",
    "print(x)\n",
    "print('第1个水平面', x[0])\n",
    "print('第2个水平面', x[1])\n",
    "print('第3个水平面', x[2])\n",
    "print('第4个水平面', x[3])\n",
    "print('第1个面的第1个直线 ', x[0][0])\n",
    "print('第1个面的第2个直线', x[0][1])\n",
    "print('第2个面的第1个直线 ', x[1][0])\n",
    "print('第2个面的第2个直线', x[1][1])\n",
    "print('第3个面的第1个直线 ', x[2][0])\n",
    "print('第3个面的第2个直线', x[2][1])\n",
    "print('第4个面的第1个直线 ', x[3][0])\n",
    "print('第4个面的第2个直线', x[3][1])\n",
    "\n",
    "print(\"第1个面的第一条直线的第1个点\",x[0][0][0])\n",
    "print(\"第1个面的第一条直线的第2个点\",x[0][0][1])\n",
    "print(\"第1个面的第一条直线的第3个点\",x[0][0][2])\n",
    "print(\"第1个面的第一条直线的第4个点\",x[0][1][0])\n",
    "print(\"第1个面的第一条直线的第5个点\",x[0][1][1])\n",
    "print(\"第1个面的第一条直线的第6个点\",x[0][1][2])"
   ]
  },
  {
   "cell_type": "code",
   "execution_count": 71,
   "id": "9575830e",
   "metadata": {},
   "outputs": [
    {
     "data": {
      "text/plain": [
       "array([1, 1, 1, 1, 1, 1])"
      ]
     },
     "execution_count": 71,
     "metadata": {},
     "output_type": "execute_result"
    }
   ],
   "source": [
    "# ones_like , 返回一个用1填充的跟输入 形状和类型 一致的数组。\n",
    "# zeros_like, 返回一个用0填充的跟输入 形状和类型 一致的数组。\n",
    "# np.zeros_like(arr)  # array([0., 0., 0.])\n",
    "x = np.arange(6)  # array([0, 1, 2, 3, 4, 5])\n",
    "np.ones_like(x)  # array([1, 1, 1, 1, 1, 1])"
   ]
  },
  {
   "cell_type": "code",
   "execution_count": 87,
   "id": "94a93d87",
   "metadata": {},
   "outputs": [
    {
     "name": "stdout",
     "output_type": "stream",
     "text": [
      "[[0 1 2]\n",
      " [3 4 5]]\n",
      "[[0. 1. 2. 3.]\n",
      " [4. 5. 6. 7.]]\n",
      "[[  0. 100.   2.   3.]\n",
      " [  4.   5.   6.   7.]]\n"
     ]
    }
   ],
   "source": [
    "# 4, ndarray.reshape, 将ndarray转化为N*M*...的多维ndarray（非copy）\n",
    "# reshape 将ndarray数组转换成2行3列,array([[0, 1, 2],[3, 4, 5]])\n",
    "x = x.reshape((2,3))  \n",
    "print(x)  # [[0 1 2][3 4 5]]\n",
    "\n",
    "y = np.arange(8,dtype=np.float64) # [0. 1. 2. 3. 4. 5. 6. 7.]\n",
    "d = y.reshape((2,4))\n",
    "print(d) # [[0. 1. 2. 3.] [4. 5. 6. 7.]]\n",
    "\n",
    "y[1] =100\n",
    "print(d)  # [[  0. 100.   2.   3.][  4.   5.   6.   7.]]\n",
    "# 通过reshape生成的新数组和原始数组公用一个内存，也就是说，假如更改一个数组的元素，另一个数组也将发生改变 \n",
    "\n"
   ]
  },
  {
   "cell_type": "code",
   "execution_count": 93,
   "id": "17f906c7",
   "metadata": {},
   "outputs": [
    {
     "data": {
      "text/plain": [
       "array([[  0., 100.,   2.,   3.],\n",
       "       [  4.,   5.,   6.,   7.]])"
      ]
     },
     "execution_count": 93,
     "metadata": {},
     "output_type": "execute_result"
    }
   ],
   "source": [
    "# 5, ndarray.empty 根据给定的维度和数值类型返回一个新的数组，其元素不进行初始化。\n",
    "# 新的数组的值是随机的。\n",
    "np.empty([2,4])"
   ]
  },
  {
   "cell_type": "code",
   "execution_count": 94,
   "id": "cecddb47",
   "metadata": {},
   "outputs": [
    {
     "data": {
      "text/plain": [
       "array([[1., 0., 0.],\n",
       "       [0., 1., 0.],\n",
       "       [0., 0., 1.]])"
      ]
     },
     "execution_count": 94,
     "metadata": {},
     "output_type": "execute_result"
    }
   ],
   "source": [
    "# 6, ndarray.eye返回的是一个二维的数组(N,M)，对角线的为1，其余的地方为0.\n",
    "a = np.eye(3)\n",
    "a"
   ]
  },
  {
   "cell_type": "code",
   "execution_count": 95,
   "id": "ee20680d",
   "metadata": {},
   "outputs": [
    {
     "data": {
      "text/plain": [
       "array([[0., 1., 0., 0.],\n",
       "       [0., 0., 1., 0.],\n",
       "       [0., 0., 0., 1.],\n",
       "       [0., 0., 0., 0.]])"
      ]
     },
     "execution_count": 95,
     "metadata": {},
     "output_type": "execute_result"
    }
   ],
   "source": [
    "# k：int 可选项，对角线的下标，默认为0表示的是主对角线，负数表示的是低对角，正数表示的是高对角。\n",
    "b = np.eye(4,k=1)\n",
    "b"
   ]
  },
  {
   "cell_type": "code",
   "execution_count": 96,
   "id": "160549f5",
   "metadata": {},
   "outputs": [
    {
     "data": {
      "text/plain": [
       "array([[0., 0., 0., 0.],\n",
       "       [0., 0., 0., 0.],\n",
       "       [1., 0., 0., 0.],\n",
       "       [0., 1., 0., 0.]])"
      ]
     },
     "execution_count": 96,
     "metadata": {},
     "output_type": "execute_result"
    }
   ],
   "source": [
    "b = np.eye(4,k=-2)\n",
    "b"
   ]
  },
  {
   "cell_type": "code",
   "execution_count": 97,
   "id": "09518811",
   "metadata": {},
   "outputs": [
    {
     "data": {
      "text/plain": [
       "array([[0., 1., 0., 0.],\n",
       "       [0., 0., 1., 0.],\n",
       "       [1., 0., 0., 0.],\n",
       "       [0., 1., 0., 0.]])"
      ]
     },
     "execution_count": 97,
     "metadata": {},
     "output_type": "execute_result"
    }
   ],
   "source": [
    "# np.eye将数组转化为one-hot数组\n",
    "labels=np.array([[1],[2],[0],[1]])\n",
    "res=np.eye(4)[labels.reshape(-1)]\n",
    "res"
   ]
  },
  {
   "cell_type": "code",
   "execution_count": 99,
   "id": "41157820",
   "metadata": {},
   "outputs": [
    {
     "data": {
      "text/plain": [
       "array([[         0, 1072693248,          0, 1072693248],\n",
       "       [         0, 1072693248,          0, 1072693248]])"
      ]
     },
     "execution_count": 99,
     "metadata": {},
     "output_type": "execute_result"
    }
   ],
   "source": [
    "np.empty([2,4],dtype=int)"
   ]
  },
  {
   "cell_type": "code",
   "execution_count": 100,
   "id": "5dd08c90",
   "metadata": {},
   "outputs": [
    {
     "data": {
      "text/plain": [
       "array([[1., 0., 0., 0.],\n",
       "       [0., 1., 0., 0.],\n",
       "       [0., 0., 1., 0.],\n",
       "       [0., 0., 0., 1.]])"
      ]
     },
     "execution_count": 100,
     "metadata": {},
     "output_type": "execute_result"
    }
   ],
   "source": [
    "# 7, ndarray.identity 只能创建方阵，也就是N=M ， 生成对角线的矩阵方阵\n",
    "# np.identity(n,dtype=None)\n",
    "# 参数：n，int型表示的是输出的矩阵的行数和列数都是n\n",
    "# dtype：表示的是输出的类型，默认是float\n",
    "np.identity(4)"
   ]
  },
  {
   "cell_type": "code",
   "execution_count": 101,
   "id": "5bcc0ddb",
   "metadata": {},
   "outputs": [
    {
     "data": {
      "image/png": "[encoded data removed]",
      "text/plain": [
       "<Figure size 432x288 with 1 Axes>"
      ]
     },
     "metadata": {
      "needs_background": "light"
     },
     "output_type": "display_data"
    }
   ],
   "source": [
    "# 8, numpy.meshgrid()——生成网格点坐标矩阵。\n",
    "import matplotlib.pyplot as plt\n",
    "\n",
    "x = np.array([[0, 1, 2], [0, 1, 2]])\n",
    "y = np.array([[0, 0, 0], [1, 1, 1]])\n",
    "\n",
    "\n",
    "plt.plot(x, y,\n",
    "         color='red',  # 全部点设置为红色\n",
    "         marker='X',  # 点的形状为X         \n",
    "         markersize = 10, # X设置大小\n",
    "         linestyle='-')  # 线型为空，也即点与点之间不用线连接\n",
    "plt.grid(True)\n",
    "plt.show()\n"
   ]
  },
  {
   "cell_type": "code",
   "execution_count": 199,
   "id": "a2df09e6",
   "metadata": {},
   "outputs": [
    {
     "data": {
      "image/png": "[encoded data removed]",
      "text/plain": [
       "<Figure size 432x288 with 1 Axes>"
      ]
     },
     "metadata": {
      "needs_background": "light"
     },
     "output_type": "display_data"
    }
   ],
   "source": [
    "# x = np.array([0, 1, 2])\n",
    "# y = np.array([0, 1])\n",
    "# X, Y = np.meshgrid(x, y)\n",
    "\n",
    "x = np.linspace(0,1000,20)\n",
    "y = np.linspace(0,500,20)\n",
    "X, Y = np.meshgrid(x, y)\n",
    "\n",
    "plt.plot(X, Y,\n",
    "         color='red',  # 全部点设置为红色\n",
    "         marker='.',  # 点的形状为圆点\n",
    "         linestyle='')  # 线型为空，也即点与点之间不用线连接\n",
    "plt.grid(True)\n",
    "plt.show()\n"
   ]
  },
  {
   "cell_type": "code",
   "execution_count": 202,
   "id": "d7c87458",
   "metadata": {},
   "outputs": [
    {
     "data": {
      "text/plain": [
       "array([   0.        ,   52.63157895,  105.26315789,  157.89473684,\n",
       "        210.52631579,  263.15789474,  315.78947368,  368.42105263,\n",
       "        421.05263158,  473.68421053,  526.31578947,  578.94736842,\n",
       "        631.57894737,  684.21052632,  736.84210526,  789.47368421,\n",
       "        842.10526316,  894.73684211,  947.36842105, 1000.        ])"
      ]
     },
     "execution_count": 202,
     "metadata": {},
     "output_type": "execute_result"
    }
   ],
   "source": [
    "# ndarray.linspace 用来创建等差数列。\n",
    "# numpy.linspace(start, stop, num=50, endpoint=True, retstep=False, dtype=None, axis=0)\n",
    "# 功能：在start和stop之间返回均匀间隔的数据\n",
    "# start:返回样本数据开始点\n",
    "# stop:返回样本数据结束点\n",
    "# num:生成的样本数据量，默认为50\n",
    "# endpoint：True则包含stop；False则不包含stop\n",
    "# retstep：If True, return (samples, step), where step is the spacing between samples.(即如果为True则结果会给出数据间隔)\n",
    "# dtype：输出数组类型\n",
    "# axis：0(默认)或-1\n",
    "\n",
    "x = np.linspace(0,1000,20)\n",
    "x"
   ]
  },
  {
   "cell_type": "code",
   "execution_count": 102,
   "id": "7a5f26af",
   "metadata": {},
   "outputs": [
    {
     "data": {
      "text/plain": [
       "array([-1,  1,  1,  1,  1,  1,  1,  1,  1,  1])"
      ]
     },
     "execution_count": 102,
     "metadata": {},
     "output_type": "execute_result"
    }
   ],
   "source": [
    "# 第一种情况， np.where(condition, x, y) 满足条件(condition)，输出x，不满足输出y。\n",
    "# 注意：0为False\n",
    "aa = np.arange(10)\n",
    "np.where(aa,1,-1)  # 注意：0为False , array([-1,  1,  1,  1,  1,  1,  1,  1,  1,  1])\n"
   ]
  },
  {
   "cell_type": "code",
   "execution_count": 103,
   "id": "47274cd7",
   "metadata": {},
   "outputs": [
    {
     "data": {
      "text/plain": [
       "array([-1, -1, -1, -1, -1, -1,  5,  5,  5,  5])"
      ]
     },
     "execution_count": 103,
     "metadata": {},
     "output_type": "execute_result"
    }
   ],
   "source": [
    "np.where(aa>5,5,-1)  # array([-1, -1, -1, -1, -1, -1,  5,  5,  5,  5])"
   ]
  },
  {
   "cell_type": "code",
   "execution_count": 104,
   "id": "8aac227c",
   "metadata": {},
   "outputs": [
    {
     "data": {
      "text/plain": [
       "array([[1, 8],\n",
       "       [3, 4]])"
      ]
     },
     "execution_count": 104,
     "metadata": {},
     "output_type": "execute_result"
    }
   ],
   "source": [
    " np.where([[True,False], [True,True]], \n",
    "          [[1,2], [3,4]], [[9,8], [7,6]])\n"
   ]
  },
  {
   "cell_type": "code",
   "execution_count": 105,
   "id": "d8c87c00",
   "metadata": {},
   "outputs": [
    {
     "data": {
      "text/plain": [
       "array([['chosen', 'chosen'],\n",
       "       ['chosen', 'chosen']], dtype='<U10')"
      ]
     },
     "execution_count": 105,
     "metadata": {},
     "output_type": "execute_result"
    }
   ],
   "source": [
    "a = 10\n",
    "np.where([[a > 5,a < 5], [a == 10,a == 7]],\n",
    "             [[\"chosen\",\"not chosen\"], [\"chosen\",\"not chosen\"]],\n",
    "             [[\"not chosen\",\"chosen\"], [\"not chosen\",\"chosen\"]])"
   ]
  },
  {
   "cell_type": "code",
   "execution_count": 106,
   "id": "5c43e556",
   "metadata": {},
   "outputs": [
    {
     "data": {
      "text/plain": [
       "array([ 6,  8, 10])"
      ]
     },
     "execution_count": 106,
     "metadata": {},
     "output_type": "execute_result"
    }
   ],
   "source": [
    "# 第二种情况， np.where(condition） 只有条件，没有x和y\n",
    "a = np.array([2,4,6,8,10])\n",
    "np.where(a>5)   # 返回索引，即(array([2, 3, 4], dtype=int64),)\n",
    "a[np.where(a>5)]  # array([ 6,  8, 10]) 等价于 a[a>5]"
   ]
  },
  {
   "cell_type": "code",
   "execution_count": 107,
   "id": "f9d9c22c",
   "metadata": {},
   "outputs": [
    {
     "data": {
      "text/plain": [
       "array([[[ 0,  1,  2],\n",
       "        [ 3,  4,  5],\n",
       "        [ 6,  7,  8]],\n",
       "\n",
       "       [[ 9, 10, 11],\n",
       "        [12, 13, 14],\n",
       "        [15, 16, 17]]])"
      ]
     },
     "execution_count": 107,
     "metadata": {},
     "output_type": "execute_result"
    }
   ],
   "source": [
    "a = np.arange(18).reshape(2,3,3)\n",
    "a\n",
    "# array([[[ 0,  1,  2],\n",
    "#         [ 3,  4,  5],\n",
    "#         [ 6,  7,  8]],\n",
    "\n",
    "#        [[ 9, 10, 11],\n",
    "#         [12, 13, 14],\n",
    "#         [15, 16, 17]],\n",
    "\n",
    "#        [[18, 19, 20],\n",
    "#         [21, 22, 23],\n",
    "#         [24, 25, 26]]])\n"
   ]
  },
  {
   "cell_type": "code",
   "execution_count": 108,
   "id": "2ace9e18",
   "metadata": {},
   "outputs": [
    {
     "data": {
      "text/plain": [
       "(array([0, 0, 0, 1, 1, 1, 1, 1, 1, 1, 1, 1], dtype=int64),\n",
       " array([2, 2, 2, 0, 0, 0, 1, 1, 1, 2, 2, 2], dtype=int64),\n",
       " array([0, 1, 2, 0, 1, 2, 0, 1, 2, 0, 1, 2], dtype=int64))"
      ]
     },
     "execution_count": 108,
     "metadata": {},
     "output_type": "execute_result"
    }
   ],
   "source": [
    "np.where(a > 5)"
   ]
  },
  {
   "cell_type": "code",
   "execution_count": 183,
   "id": "b688d770",
   "metadata": {},
   "outputs": [
    {
     "data": {
      "text/plain": [
       "array([1, 2, 3, 4, 5, 6, 7, 8, 9])"
      ]
     },
     "execution_count": 183,
     "metadata": {},
     "output_type": "execute_result"
    }
   ],
   "source": [
    "# arange 生成一个从0到num-1步数为1的一维ndarray\n",
    "np.arange(1,10)"
   ]
  },
  {
   "cell_type": "code",
   "execution_count": 6,
   "id": "d9b9e2ca",
   "metadata": {},
   "outputs": [
    {
     "name": "stdout",
     "output_type": "stream",
     "text": [
      "<class 'numpy.ndarray'>\n"
     ]
    }
   ],
   "source": [
    "print(type(np.arange(10)))\n",
    "# ndarray = N-dimensional array 多维度数组"
   ]
  },
  {
   "cell_type": "code",
   "execution_count": 11,
   "id": "a1385030",
   "metadata": {},
   "outputs": [
    {
     "name": "stdout",
     "output_type": "stream",
     "text": [
      "[[1 2]\n",
      " [3 4]]\n"
     ]
    }
   ],
   "source": [
    "# 2,多维数组\n",
    "print(np.array([[1, 2],[3, 4]]))  "
   ]
  },
  {
   "cell_type": "code",
   "execution_count": 13,
   "id": "cb20578c",
   "metadata": {},
   "outputs": [
    {
     "name": "stdout",
     "output_type": "stream",
     "text": [
      "[[1 2]\n",
      " [3 4]]\n"
     ]
    }
   ],
   "source": [
    "print(np.array(([1, 2],[3, 4])))"
   ]
  },
  {
   "cell_type": "code",
   "execution_count": 14,
   "id": "ebcd8506",
   "metadata": {},
   "outputs": [
    {
     "name": "stdout",
     "output_type": "stream",
     "text": [
      "[[ 9 10]\n",
      " [11 12]]\n"
     ]
    }
   ],
   "source": [
    "print(np.array(((9, 10), (11, 12)))) "
   ]
  },
  {
   "cell_type": "code",
   "execution_count": 113,
   "id": "389f528f",
   "metadata": {},
   "outputs": [
    {
     "name": "stdout",
     "output_type": "stream",
     "text": [
      "[[0 1 2]\n",
      " [0 1 2]]\n"
     ]
    }
   ],
   "source": [
    "M = np.array(((np.arange(3)), (np.arange(3))))\n",
    "print(M)"
   ]
  },
  {
   "cell_type": "code",
   "execution_count": 114,
   "id": "d58ffd6f",
   "metadata": {},
   "outputs": [
    {
     "name": "stdout",
     "output_type": "stream",
     "text": [
      "(3, 2)\n"
     ]
    }
   ],
   "source": [
    "# ndarry.shape 数组的维度，这是一个整数的元组，表示每个维度中数组的大小（长度）。shape元组的长度就是rank或维度的个数ndim.\n",
    "X= np.array([[1, 2],[3, 4],[13, 14]])\n",
    "print(X.shape)  # 3行2列"
   ]
  },
  {
   "cell_type": "code",
   "execution_count": 115,
   "id": "d09bdea1",
   "metadata": {},
   "outputs": [
    {
     "name": "stdout",
     "output_type": "stream",
     "text": [
      "2\n"
     ]
    }
   ],
   "source": [
    "# ndarry.ndim ,数组的轴（维度）的个数，维度的数量被称为rank。\n",
    "# 因此，对于一个数组，shape属性的长度既是它的ndim.\n",
    "print(M.ndim)"
   ]
  },
  {
   "cell_type": "code",
   "execution_count": 24,
   "id": "66826333",
   "metadata": {},
   "outputs": [
    {
     "name": "stdout",
     "output_type": "stream",
     "text": [
      "2\n"
     ]
    }
   ],
   "source": [
    "# 问题：为什么3*3的矩阵结果是二维数组？\n",
    "c= [[1, 2, 3],\n",
    "    [4, 5, 6],\n",
    "    [7, 8, 9],\n",
    "    ]\n",
    "print(np.array(c).ndim)"
   ]
  },
  {
   "cell_type": "code",
   "execution_count": 25,
   "id": "eeff6c2a",
   "metadata": {},
   "outputs": [
    {
     "name": "stdout",
     "output_type": "stream",
     "text": [
      "5\n"
     ]
    }
   ],
   "source": [
    "# 当用数组下标表示的时候，需要用几个数字来表示才能唯一确定这个元素，这个数组就是几维。\n",
    "print(c[1][1])"
   ]
  },
  {
   "cell_type": "code",
   "execution_count": 117,
   "id": "95429009",
   "metadata": {},
   "outputs": [
    {
     "name": "stdout",
     "output_type": "stream",
     "text": [
      "3\n"
     ]
    }
   ],
   "source": [
    "c = [\n",
    "    [\n",
    "        [1,2,3],\n",
    "        [4,5,6]\n",
    "    ],\n",
    "    [\n",
    "       [7,8,9],\n",
    "       [10,11,12]\n",
    "    ]\n",
    "]\n",
    "print(np.array(c).ndim)"
   ]
  },
  {
   "cell_type": "code",
   "execution_count": 121,
   "id": "7b68cf08",
   "metadata": {},
   "outputs": [
    {
     "name": "stdout",
     "output_type": "stream",
     "text": [
      "[[1, 2, 3], [4, 5, 6]]\n",
      "[[7, 8, 9], [10, 11, 12]]\n",
      "[1, 2, 3]\n",
      "[4, 5, 6]\n",
      "1\n",
      "2\n",
      "3\n",
      "9\n"
     ]
    }
   ],
   "source": [
    "print(c[0])\n",
    "print(c[1])\n",
    "print(c[0][0])\n",
    "print(c[0][1])\n",
    "print(c[0][0][0])\n",
    "print(c[0][0][1])\n",
    "print(c[0][0][2])\n",
    "print(c[1][0][2])"
   ]
  },
  {
   "cell_type": "code",
   "execution_count": 31,
   "id": "0e28163f",
   "metadata": {},
   "outputs": [
    {
     "name": "stdout",
     "output_type": "stream",
     "text": [
      "int32\n"
     ]
    }
   ],
   "source": [
    "print(M.dtype)"
   ]
  },
  {
   "cell_type": "code",
   "execution_count": 124,
   "id": "f52aaa97",
   "metadata": {},
   "outputs": [
    {
     "name": "stdout",
     "output_type": "stream",
     "text": [
      "[2 2 5]\n",
      "[3 6]\n"
     ]
    }
   ],
   "source": [
    "# 8, ndarray.sum 行列值之和\n",
    "\n",
    "# 实例， 二维列表，两个列表矩阵值相加与单加？\n",
    "a = [0, 1, 2]\n",
    "b = [2, 1, 3]\n",
    "x = np.array([a, b])\n",
    "arr_a = np.sum(x, axis=0)  # [2 2 5]   //矩阵列相加\n",
    "arr_b = np.sum(x, axis=1)  # [3 6]  //矩阵列表中所有元素相加\n",
    "print(arr_a)\n",
    "print(arr_b)\n"
   ]
  },
  {
   "cell_type": "code",
   "execution_count": 131,
   "id": "ddfcf05b",
   "metadata": {},
   "outputs": [
    {
     "name": "stdout",
     "output_type": "stream",
     "text": [
      "[[[1 2 3 2]\n",
      "  [1 2 3 1]\n",
      "  [2 3 4 1]]\n",
      "\n",
      " [[1 0 2 0]\n",
      "  [2 1 2 0]\n",
      "  [2 1 1 1]]]\n",
      "[[2 2 5 2]\n",
      " [3 3 5 1]\n",
      " [4 4 5 2]]\n",
      "[[ 4  7 10  4]\n",
      " [ 5  2  5  1]]\n",
      "[[ 8  7 10]\n",
      " [ 3  5  5]]\n",
      "1\n",
      "2\n",
      "3\n",
      "2\n"
     ]
    }
   ],
   "source": [
    "# 实例， 三维列表，两个列表矩阵值相加与单加？\n",
    "a = np.array([[[1,2,3,2],[1,2,3,1],[2,3,4,1]],[[1,0,2,0],[2,1,2,0],[2,1,1,1]]])\n",
    "print(a)\n",
    "# [[[1 2 3 2][1 2 3 1][2 3 4 1]]\n",
    "#  [[1 0 2 0][2 1 2 0][2 1 1 1]]]\n",
    "\n",
    "print(a.sum(axis=0))\n",
    "# array([[2, 2, 5, 2],\n",
    "#        [3, 3, 5, 1],\n",
    "#        [4, 4, 5, 2]])\n",
    "\n",
    "print(a.sum(axis=1))\n",
    "# [[ 4  7 10  4]\n",
    "#  [ 5  2  5  1]]\n",
    "\n",
    "print(a.sum(axis=2))\n",
    "# array([[ 8,  7, 10],\n",
    "#        [ 3,  5,  5]])\n"
   ]
  },
  {
   "cell_type": "code",
   "execution_count": 36,
   "id": "f058009c",
   "metadata": {},
   "outputs": [
    {
     "name": "stdout",
     "output_type": "stream",
     "text": [
      "2.0\n",
      "6\n"
     ]
    }
   ],
   "source": [
    "# 列表值的统计\n",
    "x = np.array([1, 2, 3])\n",
    "print(x.mean())   # 2.0  //计算所有值的平均数\n",
    "print(x.sum())   # 6  //计算所有值的合计"
   ]
  },
  {
   "cell_type": "code",
   "execution_count": 132,
   "id": "642f9c0f",
   "metadata": {},
   "outputs": [
    {
     "name": "stdout",
     "output_type": "stream",
     "text": [
      "<class 'numpy.float64'>\n"
     ]
    }
   ],
   "source": [
    "print(type(x.mean()))"
   ]
  },
  {
   "cell_type": "code",
   "execution_count": 133,
   "id": "ff190986",
   "metadata": {},
   "outputs": [
    {
     "name": "stdout",
     "output_type": "stream",
     "text": [
      "<class 'numpy.int32'>\n"
     ]
    }
   ],
   "source": [
    "print(type(x.sum()))"
   ]
  },
  {
   "cell_type": "code",
   "execution_count": 137,
   "id": "be502bc4",
   "metadata": {},
   "outputs": [
    {
     "name": "stdout",
     "output_type": "stream",
     "text": [
      "[[1 2]\n",
      " [3 4]]\n",
      "[[1 2 1 2 1 2 1 2]\n",
      " [3 4 3 4 3 4 3 4]]\n"
     ]
    }
   ],
   "source": [
    "# np.tile()将原矩阵横向、纵向地复制。\n",
    "mat = np.array([[1,2], [3, 4]])\n",
    "print(mat)\n",
    "print(np.tile(mat,(1,4)))"
   ]
  },
  {
   "cell_type": "code",
   "execution_count": 136,
   "id": "384c5f3d",
   "metadata": {},
   "outputs": [
    {
     "name": "stdout",
     "output_type": "stream",
     "text": [
      "[[1 2 1 2 1 2 1 2]\n",
      " [3 4 3 4 3 4 3 4]]\n"
     ]
    }
   ],
   "source": [
    "print(np.tile(mat,4))"
   ]
  },
  {
   "cell_type": "code",
   "execution_count": 47,
   "id": "1fce0430",
   "metadata": {},
   "outputs": [
    {
     "name": "stdout",
     "output_type": "stream",
     "text": [
      "[[1 2]\n",
      " [3 4]\n",
      " [1 2]\n",
      " [3 4]\n",
      " [1 2]\n",
      " [3 4]]\n"
     ]
    }
   ],
   "source": [
    "print(np.tile(mat,(3,1)))"
   ]
  },
  {
   "cell_type": "code",
   "execution_count": 49,
   "id": "4f1fd4dc",
   "metadata": {},
   "outputs": [
    {
     "name": "stdout",
     "output_type": "stream",
     "text": [
      "[[1 2 1 2 1 2 1 2]\n",
      " [3 4 3 4 3 4 3 4]\n",
      " [1 2 1 2 1 2 1 2]\n",
      " [3 4 3 4 3 4 3 4]\n",
      " [1 2 1 2 1 2 1 2]\n",
      " [3 4 3 4 3 4 3 4]]\n"
     ]
    }
   ],
   "source": [
    "print(np.tile(mat,(3,4)))"
   ]
  },
  {
   "cell_type": "code",
   "execution_count": 50,
   "id": "63e6ca0b",
   "metadata": {},
   "outputs": [
    {
     "name": "stdout",
     "output_type": "stream",
     "text": [
      "2\n"
     ]
    }
   ],
   "source": [
    "print(np.ndim(np.tile(mat,(3,4))))"
   ]
  },
  {
   "cell_type": "code",
   "execution_count": 138,
   "id": "1b72da55",
   "metadata": {},
   "outputs": [
    {
     "name": "stdout",
     "output_type": "stream",
     "text": [
      "[[[0.49323828 0.26405104]\n",
      "  [0.82334514 0.59384838]\n",
      "  [0.47052241 0.50576018]\n",
      "  [0.86715999 0.77654217]]\n",
      "\n",
      " [[0.95776734 0.86421734]\n",
      "  [0.02848531 0.68406681]\n",
      "  [0.58952126 0.59278959]\n",
      "  [0.28273356 0.47040882]]\n",
      "\n",
      " [[0.94496965 0.55168782]\n",
      "  [0.60305051 0.95807957]\n",
      "  [0.0444195  0.56870374]\n",
      "  [0.33559257 0.10748405]]]\n"
     ]
    }
   ],
   "source": [
    "# np.random.rand 随机生成N行M列的多维数组\n",
    "arr = np.random.rand(3,4,2)\n",
    "print(arr)"
   ]
  },
  {
   "cell_type": "code",
   "execution_count": 53,
   "id": "f91d7c53",
   "metadata": {},
   "outputs": [
    {
     "name": "stdout",
     "output_type": "stream",
     "text": [
      "3\n"
     ]
    }
   ],
   "source": [
    "print(arr.ndim)"
   ]
  },
  {
   "cell_type": "code",
   "execution_count": null,
   "id": "d902f491",
   "metadata": {},
   "outputs": [],
   "source": []
  }
 ],
 "metadata": {
  "kernelspec": {
   "display_name": "Python 3",
   "language": "python",
   "name": "python3"
  },
  "language_info": {
   "codemirror_mode": {
    "name": "ipython",
    "version": 3
   },
   "file_extension": ".py",
   "mimetype": "text/x-python",
   "name": "python",
   "nbconvert_exporter": "python",
   "pygments_lexer": "ipython3",
   "version": "3.9.1"
  }
 },
 "nbformat": 4,
 "nbformat_minor": 5
}
