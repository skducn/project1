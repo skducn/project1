{
 "cells": [
  {
   "cell_type": "code",
   "execution_count": 1,
   "id": "19520ff9",
   "metadata": {},
   "outputs": [],
   "source": [
    "import numpy as np\n",
    "import pandas as pd"
   ]
  },
  {
   "cell_type": "code",
   "execution_count": 14,
   "id": "0e29fe2a",
   "metadata": {},
   "outputs": [],
   "source": [
    "df = pd.read_excel(\"qunaer.xlsx\")"
   ]
  },
  {
   "cell_type": "code",
   "execution_count": 21,
   "id": "5499c230",
   "metadata": {},
   "outputs": [
    {
     "data": {
      "text/html": [
       "<div>\n",
       "<style scoped>\n",
       "    .dataframe tbody tr th:only-of-type {\n",
       "        vertical-align: middle;\n",
       "    }\n",
       "\n",
       "    .dataframe tbody tr th {\n",
       "        vertical-align: top;\n",
       "    }\n",
       "\n",
       "    .dataframe thead th {\n",
       "        text-align: right;\n",
       "    }\n",
       "</style>\n",
       "<table border=\"1\" class=\"dataframe\">\n",
       "  <thead>\n",
       "    <tr style=\"text-align: right;\">\n",
       "      <th></th>\n",
       "      <th>景区名称</th>\n",
       "      <th>星级</th>\n",
       "      <th>地区</th>\n",
       "      <th>热度</th>\n",
       "      <th>地址</th>\n",
       "      <th>价格</th>\n",
       "      <th>月销量</th>\n",
       "    </tr>\n",
       "  </thead>\n",
       "  <tbody>\n",
       "    <tr>\n",
       "      <th>0</th>\n",
       "      <td>老虎滩海洋公园</td>\n",
       "      <td>5A景区</td>\n",
       "      <td>辽宁·大连·中山区</td>\n",
       "      <td>热度 0.9</td>\n",
       "      <td>地址：大连市中山区滨海中路9号</td>\n",
       "      <td>141.5</td>\n",
       "      <td>788</td>\n",
       "    </tr>\n",
       "    <tr>\n",
       "      <th>1</th>\n",
       "      <td>大连圣亚海洋世界</td>\n",
       "      <td>4A景区</td>\n",
       "      <td>辽宁·大连·沙河口区</td>\n",
       "      <td>热度 0.82</td>\n",
       "      <td>地址：大连市沙河口区中山路608-6-8号（星海广场西500米）</td>\n",
       "      <td>100.0</td>\n",
       "      <td>666</td>\n",
       "    </tr>\n",
       "    <tr>\n",
       "      <th>2</th>\n",
       "      <td>大连森林动物园</td>\n",
       "      <td>4A景区</td>\n",
       "      <td>辽宁·大连·西岗区</td>\n",
       "      <td>热度 0.72</td>\n",
       "      <td>地址：大连市西岗区迎春路60号（圈养区入口）大连市西岗区滨海西路79号（散养区入口）</td>\n",
       "      <td>58.0</td>\n",
       "      <td>458</td>\n",
       "    </tr>\n",
       "    <tr>\n",
       "      <th>3</th>\n",
       "      <td>海昌发现王国</td>\n",
       "      <td>无星级</td>\n",
       "      <td>辽宁·大连·金石滩旅游度假区</td>\n",
       "      <td>热度 0.0</td>\n",
       "      <td>地址：大连市金州区金石滩国家旅游度假区金石路36号</td>\n",
       "      <td>215.0</td>\n",
       "      <td>836</td>\n",
       "    </tr>\n",
       "    <tr>\n",
       "      <th>4</th>\n",
       "      <td>金石滩旅游度假区</td>\n",
       "      <td>5A景区</td>\n",
       "      <td>辽宁·大连·金州区</td>\n",
       "      <td>热度 0.9199999999999999</td>\n",
       "      <td>地址：大连市金州区金石滩国家旅游度假区</td>\n",
       "      <td>25.0</td>\n",
       "      <td>46</td>\n",
       "    </tr>\n",
       "  </tbody>\n",
       "</table>\n",
       "</div>"
      ],
      "text/plain": [
       "       景区名称    星级              地区                     热度  \\\n",
       "0   老虎滩海洋公园  5A景区       辽宁·大连·中山区                 热度 0.9   \n",
       "1  大连圣亚海洋世界  4A景区      辽宁·大连·沙河口区                热度 0.82   \n",
       "2   大连森林动物园  4A景区       辽宁·大连·西岗区                热度 0.72   \n",
       "3    海昌发现王国   无星级  辽宁·大连·金石滩旅游度假区                 热度 0.0   \n",
       "4  金石滩旅游度假区  5A景区       辽宁·大连·金州区  热度 0.9199999999999999   \n",
       "\n",
       "                                           地址     价格  月销量  \n",
       "0                             地址：大连市中山区滨海中路9号  141.5  788  \n",
       "1            地址：大连市沙河口区中山路608-6-8号（星海广场西500米）  100.0  666  \n",
       "2  地址：大连市西岗区迎春路60号（圈养区入口）大连市西岗区滨海西路79号（散养区入口）   58.0  458  \n",
       "3                   地址：大连市金州区金石滩国家旅游度假区金石路36号  215.0  836  \n",
       "4                         地址：大连市金州区金石滩国家旅游度假区   25.0   46  "
      ]
     },
     "execution_count": 21,
     "metadata": {},
     "output_type": "execute_result"
    }
   ],
   "source": [
    "df.head(5)"
   ]
  },
  {
   "cell_type": "code",
   "execution_count": 22,
   "id": "9249f763",
   "metadata": {},
   "outputs": [
    {
     "data": {
      "text/plain": [
       "Index(['景区名称', '星级', '地区', '热度', '地址', '价格', '月销量'], dtype='object')"
      ]
     },
     "execution_count": 22,
     "metadata": {},
     "output_type": "execute_result"
    }
   ],
   "source": [
    "# 获取 title\n",
    "df.columns"
   ]
  },
  {
   "cell_type": "code",
   "execution_count": 16,
   "id": "91cf4646",
   "metadata": {},
   "outputs": [
    {
     "data": {
      "text/plain": [
       "array([ 0,  1,  2,  3,  4,  5,  6,  7,  8,  9, 10, 11, 12, 13, 14, 15, 16,\n",
       "       17, 18, 19, 20, 21, 22, 23, 24, 25, 26, 27, 28, 29, 30, 31, 32, 33,\n",
       "       34, 35, 36, 37, 38, 39, 40, 41, 42, 43, 44, 45, 46, 47, 48, 49, 50,\n",
       "       51, 52, 53, 54, 55, 56, 57, 58, 59], dtype=int64)"
      ]
     },
     "execution_count": 16,
     "metadata": {},
     "output_type": "execute_result"
    }
   ],
   "source": [
    "# 获取第一列（索引值）\n",
    "df.index.values"
   ]
  },
  {
   "cell_type": "code",
   "execution_count": 18,
   "id": "8f5d3564",
   "metadata": {},
   "outputs": [],
   "source": [
    "# 将某一行记录转为字典 to_dict()\n",
    "df_dict = df.loc[1,df.columns].to_dict()"
   ]
  },
  {
   "cell_type": "code",
   "execution_count": 19,
   "id": "6243423e",
   "metadata": {},
   "outputs": [
    {
     "data": {
      "text/plain": [
       "{'景区名称': '大连圣亚海洋世界',\n",
       " '星级': '4A景区',\n",
       " '地区': '辽宁·大连·沙河口区',\n",
       " '热度': '热度 0.82',\n",
       " '地址': '地址：大连市沙河口区中山路608-6-8号（星海广场西500米）',\n",
       " '价格': 100.0,\n",
       " '月销量': 666}"
      ]
     },
     "execution_count": 19,
     "metadata": {},
     "output_type": "execute_result"
    }
   ],
   "source": [
    "df_dict"
   ]
  },
  {
   "cell_type": "code",
   "execution_count": 20,
   "id": "47d3ac29",
   "metadata": {},
   "outputs": [
    {
     "data": {
      "text/plain": [
       "景区名称                            大连圣亚海洋世界\n",
       "星级                                  4A景区\n",
       "地区                            辽宁·大连·沙河口区\n",
       "热度                               热度 0.82\n",
       "地址      地址：大连市沙河口区中山路608-6-8号（星海广场西500米）\n",
       "价格                                 100.0\n",
       "月销量                                  666\n",
       "Name: 1, dtype: object"
      ]
     },
     "execution_count": 20,
     "metadata": {},
     "output_type": "execute_result"
    }
   ],
   "source": [
    "df.loc[1,df.columns]"
   ]
  },
  {
   "cell_type": "code",
   "execution_count": null,
   "id": "a8ab1745",
   "metadata": {},
   "outputs": [],
   "source": [
    "# 将title和每行记录以字典形式封装\n",
    "# for i in df.index.values:\n",
    "#     df_dict = df.loc[1,df.columns].to_dict()\n",
    "#     print(df_dict)"
   ]
  }
 ],
 "metadata": {
  "kernelspec": {
   "display_name": "Python 3",
   "language": "python",
   "name": "python3"
  },
  "language_info": {
   "codemirror_mode": {
    "name": "ipython",
    "version": 3
   },
   "file_extension": ".py",
   "mimetype": "text/x-python",
   "name": "python",
   "nbconvert_exporter": "python",
   "pygments_lexer": "ipython3",
   "version": "3.9.1"
  }
 },
 "nbformat": 4,
 "nbformat_minor": 5
}
