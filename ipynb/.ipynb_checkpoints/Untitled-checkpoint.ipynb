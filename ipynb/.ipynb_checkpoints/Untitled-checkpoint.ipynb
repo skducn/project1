{
 "cells": [
  {
   "cell_type": "code",
   "execution_count": 1,
   "id": "0fe4c50d",
   "metadata": {},
   "outputs": [],
   "source": [
    "import numpy as np"
   ]
  },
  {
   "cell_type": "code",
   "execution_count": 2,
   "id": "d884f930",
   "metadata": {},
   "outputs": [],
   "source": [
    "n = np.array([[5, 10, 15],\n",
    "              [20, 125, 30],\n",
    "              [35, 40, 45]])"
   ]
  },
  {
   "cell_type": "code",
   "execution_count": 3,
   "id": "d0952962",
   "metadata": {},
   "outputs": [
    {
     "data": {
      "text/plain": [
       "5"
      ]
     },
     "execution_count": 3,
     "metadata": {},
     "output_type": "execute_result"
    }
   ],
   "source": [
    "n.min()"
   ]
  },
  {
   "cell_type": "code",
   "execution_count": 4,
   "id": "e714a842",
   "metadata": {},
   "outputs": [
    {
     "data": {
      "text/plain": [
       "125"
      ]
     },
     "execution_count": 4,
     "metadata": {},
     "output_type": "execute_result"
    }
   ],
   "source": [
    "n.max()"
   ]
  },
  {
   "cell_type": "code",
   "execution_count": 5,
   "id": "9a7674dc",
   "metadata": {},
   "outputs": [
    {
     "data": {
      "text/plain": [
       "array([ 35, 125,  45])"
      ]
     },
     "execution_count": 5,
     "metadata": {},
     "output_type": "execute_result"
    }
   ],
   "source": [
    "# 某一行中最大值组成数组\n",
    "n.max(axis=0)"
   ]
  },
  {
   "cell_type": "code",
   "execution_count": 6,
   "id": "4d9eea68",
   "metadata": {},
   "outputs": [
    {
     "data": {
      "text/plain": [
       "array([ 15, 125,  45])"
      ]
     },
     "execution_count": 6,
     "metadata": {},
     "output_type": "execute_result"
    }
   ],
   "source": [
    "# 某一列中最大值组成数组\n",
    "n.max(1)"
   ]
  },
  {
   "cell_type": "code",
   "execution_count": 7,
   "id": "d5276e50",
   "metadata": {},
   "outputs": [
    {
     "data": {
      "text/plain": [
       "36.11"
      ]
     },
     "execution_count": 7,
     "metadata": {},
     "output_type": "execute_result"
    }
   ],
   "source": [
    "n.mean().round(2)"
   ]
  },
  {
   "cell_type": "code",
   "execution_count": 8,
   "id": "0d5eaeb5",
   "metadata": {},
   "outputs": [
    {
     "data": {
      "text/plain": [
       "array([ 60, 175,  90])"
      ]
     },
     "execution_count": 8,
     "metadata": {},
     "output_type": "execute_result"
    }
   ],
   "source": [
    "# 列求和组成数组  \n",
    "n.sum(axis=0)"
   ]
  },
  {
   "cell_type": "code",
   "execution_count": 9,
   "id": "88856959",
   "metadata": {},
   "outputs": [
    {
     "data": {
      "text/plain": [
       "array([ 30, 175, 120])"
      ]
     },
     "execution_count": 9,
     "metadata": {},
     "output_type": "execute_result"
    }
   ],
   "source": [
    "# 行求和组成数组\n",
    "n.sum(1)"
   ]
  },
  {
   "cell_type": "code",
   "execution_count": 10,
   "id": "86c5e934",
   "metadata": {},
   "outputs": [
    {
     "data": {
      "text/plain": [
       "325"
      ]
     },
     "execution_count": 10,
     "metadata": {},
     "output_type": "execute_result"
    }
   ],
   "source": [
    "n.sum()"
   ]
  },
  {
   "cell_type": "code",
   "execution_count": 11,
   "id": "808879ca",
   "metadata": {},
   "outputs": [
    {
     "data": {
      "text/plain": [
       "array([20.        , 58.33333333, 30.        ])"
      ]
     },
     "execution_count": 11,
     "metadata": {},
     "output_type": "execute_result"
    }
   ],
   "source": [
    "# 列求平均值组成数组\n",
    "n.mean(0)"
   ]
  },
  {
   "cell_type": "code",
   "execution_count": 12,
   "id": "15fe7934",
   "metadata": {},
   "outputs": [
    {
     "data": {
      "text/plain": [
       "array([10.        , 58.33333333, 40.        ])"
      ]
     },
     "execution_count": 12,
     "metadata": {},
     "output_type": "execute_result"
    }
   ],
   "source": [
    "# 行求平均值组成数组\n",
    "n.mean(1)"
   ]
  },
  {
   "cell_type": "code",
   "execution_count": 13,
   "id": "0e5b9215",
   "metadata": {},
   "outputs": [],
   "source": [
    "n1 = np.arange(5)"
   ]
  },
  {
   "cell_type": "code",
   "execution_count": 14,
   "id": "61222f80",
   "metadata": {},
   "outputs": [
    {
     "data": {
      "text/plain": [
       "array([0, 1, 2, 3, 4])"
      ]
     },
     "execution_count": 14,
     "metadata": {},
     "output_type": "execute_result"
    }
   ],
   "source": [
    "n1"
   ]
  },
  {
   "cell_type": "code",
   "execution_count": 15,
   "id": "45f1d580",
   "metadata": {},
   "outputs": [
    {
     "data": {
      "text/plain": [
       "array([ 1.        ,  2.71828183,  7.3890561 , 20.08553692, 54.59815003])"
      ]
     },
     "execution_count": 15,
     "metadata": {},
     "output_type": "execute_result"
    }
   ],
   "source": [
    "# np. exp(x)   e的x幂次方\n",
    "np.exp(n1)"
   ]
  },
  {
   "cell_type": "code",
   "execution_count": 16,
   "id": "0a583e8f",
   "metadata": {},
   "outputs": [
    {
     "data": {
      "text/plain": [
       "array([0.        , 1.        , 1.41421356, 1.73205081, 2.        ])"
      ]
     },
     "execution_count": 16,
     "metadata": {},
     "output_type": "execute_result"
    }
   ],
   "source": [
    "# 开根号\n",
    "np.sqrt(n1)"
   ]
  },
  {
   "cell_type": "code",
   "execution_count": 17,
   "id": "8edbab72",
   "metadata": {},
   "outputs": [],
   "source": [
    "# np.floor() 向下取整\n",
    "a = np.array([-1.7, -1.5, -0.2, 0.2, 1.5, 1.7, 2.0])"
   ]
  },
  {
   "cell_type": "code",
   "execution_count": 18,
   "id": "848d765b",
   "metadata": {},
   "outputs": [
    {
     "data": {
      "text/plain": [
       "array([-2., -2., -1.,  0.,  1.,  1.,  2.])"
      ]
     },
     "execution_count": 18,
     "metadata": {},
     "output_type": "execute_result"
    }
   ],
   "source": [
    "np.floor(a)"
   ]
  },
  {
   "cell_type": "code",
   "execution_count": 19,
   "id": "470aa4ec",
   "metadata": {},
   "outputs": [
    {
     "data": {
      "text/plain": [
       "array([[4, 3, 5],\n",
       "       [1, 6, 1]])"
      ]
     },
     "execution_count": 19,
     "metadata": {},
     "output_type": "execute_result"
    }
   ],
   "source": [
    "# 排序\n",
    "a = np.array([[4, 3, 5], [1, 6, 1]])\n",
    "a"
   ]
  },
  {
   "cell_type": "code",
   "execution_count": 20,
   "id": "29641e62",
   "metadata": {},
   "outputs": [
    {
     "data": {
      "text/plain": [
       "array([[3, 4, 5],\n",
       "       [1, 1, 6]])"
      ]
     },
     "execution_count": 20,
     "metadata": {},
     "output_type": "execute_result"
    }
   ],
   "source": [
    "# 行排序\n",
    "np.sort(a)  # 等同于 np.sort(a,1)   或 np.sort(a,axis=1)"
   ]
  },
  {
   "cell_type": "code",
   "execution_count": 21,
   "id": "75da307b",
   "metadata": {},
   "outputs": [
    {
     "data": {
      "text/plain": [
       "array([[3, 4, 5],\n",
       "       [1, 1, 6]])"
      ]
     },
     "execution_count": 21,
     "metadata": {},
     "output_type": "execute_result"
    }
   ],
   "source": [
    "# 列排序\n",
    "np.sort(a)"
   ]
  },
  {
   "cell_type": "code",
   "execution_count": 22,
   "id": "eacf25c5",
   "metadata": {},
   "outputs": [
    {
     "data": {
      "text/plain": [
       "array([2, 1, 3, 0], dtype=int64)"
      ]
     },
     "execution_count": 22,
     "metadata": {},
     "output_type": "execute_result"
    }
   ],
   "source": [
    "# np.argsort() 返回元素位置的排序索引\n",
    "x = np.array([44, 23, 10, 24])\n",
    "arg = np.argsort(x)\n",
    "arg"
   ]
  },
  {
   "cell_type": "code",
   "execution_count": 23,
   "id": "240a846b",
   "metadata": {},
   "outputs": [
    {
     "data": {
      "text/plain": [
       "array([10, 23, 24, 44])"
      ]
     },
     "execution_count": 23,
     "metadata": {},
     "output_type": "execute_result"
    }
   ],
   "source": [
    "x[arg]"
   ]
  },
  {
   "cell_type": "code",
   "execution_count": 24,
   "id": "99157654",
   "metadata": {},
   "outputs": [
    {
     "data": {
      "text/plain": [
       "array([3, 1, 0, 2], dtype=int64)"
      ]
     },
     "execution_count": 24,
     "metadata": {},
     "output_type": "execute_result"
    }
   ],
   "source": [
    "np.argsort(arg)  # 对 array([2, 1, 3, 0], dtype=int64) 进行再索引排序"
   ]
  },
  {
   "cell_type": "code",
   "execution_count": 25,
   "id": "a47e79e2",
   "metadata": {},
   "outputs": [
    {
     "data": {
      "text/plain": [
       "0"
      ]
     },
     "execution_count": 25,
     "metadata": {},
     "output_type": "execute_result"
    }
   ],
   "source": [
    "# 返回数组[44, 23, 10, 24]中最大值的索引号\n",
    "arg[-1]"
   ]
  },
  {
   "cell_type": "code",
   "execution_count": 26,
   "id": "87e02fa8",
   "metadata": {},
   "outputs": [
    {
     "data": {
      "text/plain": [
       "2"
      ]
     },
     "execution_count": 26,
     "metadata": {},
     "output_type": "execute_result"
    }
   ],
   "source": [
    "# 返回数组中最小值的索引号\n",
    "arg[0]"
   ]
  },
  {
   "cell_type": "code",
   "execution_count": 27,
   "id": "4c63f003",
   "metadata": {},
   "outputs": [
    {
     "data": {
      "text/plain": [
       "2"
      ]
     },
     "execution_count": 27,
     "metadata": {},
     "output_type": "execute_result"
    }
   ],
   "source": [
    "# 返回数组中最大元素的索引\n",
    "a = np.array([44, 23, 3310, 124])\n",
    "a.argmax()"
   ]
  },
  {
   "cell_type": "code",
   "execution_count": 28,
   "id": "f14b9cf1",
   "metadata": {},
   "outputs": [
    {
     "data": {
      "text/plain": [
       "1"
      ]
     },
     "execution_count": 28,
     "metadata": {},
     "output_type": "execute_result"
    }
   ],
   "source": [
    "a.argmin()"
   ]
  },
  {
   "cell_type": "code",
   "execution_count": 29,
   "id": "e99a2b72",
   "metadata": {},
   "outputs": [],
   "source": [
    "n1 = np.array([[11, 1],\n",
    "               [0, 5]])\n",
    "n2 = np.array([[2, 0],\n",
    "               [3, 4]])"
   ]
  },
  {
   "cell_type": "code",
   "execution_count": 30,
   "id": "d876367f",
   "metadata": {},
   "outputs": [
    {
     "data": {
      "text/plain": [
       "array([[11,  1],\n",
       "       [ 0,  5]])"
      ]
     },
     "execution_count": 30,
     "metadata": {},
     "output_type": "execute_result"
    }
   ],
   "source": [
    "n1"
   ]
  },
  {
   "cell_type": "code",
   "execution_count": 31,
   "id": "24824158",
   "metadata": {},
   "outputs": [
    {
     "data": {
      "text/plain": [
       "array([[2, 0],\n",
       "       [3, 4]])"
      ]
     },
     "execution_count": 31,
     "metadata": {},
     "output_type": "execute_result"
    }
   ],
   "source": [
    "n2"
   ]
  },
  {
   "cell_type": "code",
   "execution_count": 32,
   "id": "891eb107",
   "metadata": {},
   "outputs": [
    {
     "data": {
      "text/plain": [
       "array([[22,  0],\n",
       "       [ 0, 20]])"
      ]
     },
     "execution_count": 32,
     "metadata": {},
     "output_type": "execute_result"
    }
   ],
   "source": [
    "# [11*2,1*0],[0*3,5*4]\n",
    "n1*n2"
   ]
  },
  {
   "cell_type": "code",
   "execution_count": 33,
   "id": "70b74f97",
   "metadata": {},
   "outputs": [
    {
     "data": {
      "text/plain": [
       "array([[22,  0],\n",
       "       [ 0, 20]])"
      ]
     },
     "execution_count": 33,
     "metadata": {},
     "output_type": "execute_result"
    }
   ],
   "source": [
    "np.multiply(n1,n2)"
   ]
  },
  {
   "cell_type": "code",
   "execution_count": 34,
   "id": "d612604b",
   "metadata": {},
   "outputs": [
    {
     "data": {
      "text/plain": [
       "6"
      ]
     },
     "execution_count": 34,
     "metadata": {},
     "output_type": "execute_result"
    }
   ],
   "source": [
    "np.multiply(2, 3)"
   ]
  },
  {
   "cell_type": "code",
   "execution_count": 35,
   "id": "e231d5a9",
   "metadata": {},
   "outputs": [
    {
     "data": {
      "text/plain": [
       "array([[33,  3],\n",
       "       [ 0, 15]])"
      ]
     },
     "execution_count": 35,
     "metadata": {},
     "output_type": "execute_result"
    }
   ],
   "source": [
    "np.multiply(n1, 3)"
   ]
  },
  {
   "cell_type": "code",
   "execution_count": 36,
   "id": "423d3ff2",
   "metadata": {},
   "outputs": [],
   "source": [
    "A = np.array( [[1,2],\n",
    "               [3,4]] )\n",
    "B = np.array( [[5,6],\n",
    "               [7,8]] )"
   ]
  },
  {
   "cell_type": "code",
   "execution_count": 37,
   "id": "32069722",
   "metadata": {},
   "outputs": [
    {
     "data": {
      "text/plain": [
       "array([[19, 22],\n",
       "       [43, 50]])"
      ]
     },
     "execution_count": 37,
     "metadata": {},
     "output_type": "execute_result"
    }
   ],
   "source": [
    "A.dot(B)"
   ]
  },
  {
   "cell_type": "code",
   "execution_count": 38,
   "id": "805d4c71",
   "metadata": {},
   "outputs": [
    {
     "data": {
      "text/plain": [
       "array([[19, 22],\n",
       "       [43, 50]])"
      ]
     },
     "execution_count": 38,
     "metadata": {},
     "output_type": "execute_result"
    }
   ],
   "source": [
    "np.dot(A,B)"
   ]
  },
  {
   "cell_type": "code",
   "execution_count": 39,
   "id": "11665ebf",
   "metadata": {},
   "outputs": [],
   "source": [
    "a= np.ones((3,7))"
   ]
  },
  {
   "cell_type": "code",
   "execution_count": 40,
   "id": "67d8b0ef",
   "metadata": {},
   "outputs": [
    {
     "data": {
      "text/plain": [
       "array([[1., 1., 1., 1., 1., 1., 1.],\n",
       "       [1., 1., 1., 1., 1., 1., 1.],\n",
       "       [1., 1., 1., 1., 1., 1., 1.]])"
      ]
     },
     "execution_count": 40,
     "metadata": {},
     "output_type": "execute_result"
    }
   ],
   "source": [
    "a"
   ]
  },
  {
   "cell_type": "code",
   "execution_count": 41,
   "id": "5bc6473d",
   "metadata": {},
   "outputs": [],
   "source": [
    "b= np.ones((7,3))*4"
   ]
  },
  {
   "cell_type": "code",
   "execution_count": 42,
   "id": "2a0068d0",
   "metadata": {},
   "outputs": [
    {
     "data": {
      "text/plain": [
       "array([[4., 4., 4.],\n",
       "       [4., 4., 4.],\n",
       "       [4., 4., 4.],\n",
       "       [4., 4., 4.],\n",
       "       [4., 4., 4.],\n",
       "       [4., 4., 4.],\n",
       "       [4., 4., 4.]])"
      ]
     },
     "execution_count": 42,
     "metadata": {},
     "output_type": "execute_result"
    }
   ],
   "source": [
    "b"
   ]
  },
  {
   "cell_type": "code",
   "execution_count": 43,
   "id": "90551e9d",
   "metadata": {},
   "outputs": [
    {
     "data": {
      "text/plain": [
       "array([[28., 28., 28.],\n",
       "       [28., 28., 28.],\n",
       "       [28., 28., 28.]])"
      ]
     },
     "execution_count": 43,
     "metadata": {},
     "output_type": "execute_result"
    }
   ],
   "source": [
    "a.dot(b)"
   ]
  },
  {
   "cell_type": "code",
   "execution_count": 44,
   "id": "93e914ee",
   "metadata": {},
   "outputs": [],
   "source": [
    "A=[1,2,3,4,5]\n",
    "B=[5,4,3,2,1]"
   ]
  },
  {
   "cell_type": "code",
   "execution_count": 45,
   "id": "f8bef38b",
   "metadata": {},
   "outputs": [
    {
     "data": {
      "text/plain": [
       "35"
      ]
     },
     "execution_count": 45,
     "metadata": {},
     "output_type": "execute_result"
    }
   ],
   "source": [
    "np.dot(A,B)"
   ]
  },
  {
   "cell_type": "code",
   "execution_count": 46,
   "id": "99be0224",
   "metadata": {},
   "outputs": [],
   "source": [
    "A=np.array([1,2,3,4]).reshape(4,1)\n",
    "B=np.array([1,2,3,4,5,6,7,8]).reshape(2,4)"
   ]
  },
  {
   "cell_type": "code",
   "execution_count": 47,
   "id": "3ee1bf2f",
   "metadata": {},
   "outputs": [
    {
     "data": {
      "text/plain": [
       "array([[1],\n",
       "       [2],\n",
       "       [3],\n",
       "       [4]])"
      ]
     },
     "execution_count": 47,
     "metadata": {},
     "output_type": "execute_result"
    }
   ],
   "source": [
    "A"
   ]
  },
  {
   "cell_type": "code",
   "execution_count": 48,
   "id": "7e59b357",
   "metadata": {},
   "outputs": [
    {
     "data": {
      "text/plain": [
       "array([[1, 2, 3, 4],\n",
       "       [5, 6, 7, 8]])"
      ]
     },
     "execution_count": 48,
     "metadata": {},
     "output_type": "execute_result"
    }
   ],
   "source": [
    "B"
   ]
  },
  {
   "cell_type": "code",
   "execution_count": 49,
   "id": "ab2f838a",
   "metadata": {},
   "outputs": [
    {
     "ename": "ValueError",
     "evalue": "shapes (4,1) and (2,4) not aligned: 1 (dim 1) != 2 (dim 0)",
     "output_type": "error",
     "traceback": [
      "\u001b[1;31m---------------------------------------------------------------------------\u001b[0m",
      "\u001b[1;31mValueError\u001b[0m                                Traceback (most recent call last)",
      "\u001b[1;32m<ipython-input-49-9ad6c1600889>\u001b[0m in \u001b[0;36m<module>\u001b[1;34m\u001b[0m\n\u001b[0;32m      1\u001b[0m \u001b[1;31m# 报错了，A·B中, 因为A的x方向为1个元素，而B的y方向为2个元素。无法进行点积运算。\u001b[0m\u001b[1;33m\u001b[0m\u001b[1;33m\u001b[0m\u001b[1;33m\u001b[0m\u001b[0m\n\u001b[1;32m----> 2\u001b[1;33m \u001b[0mnp\u001b[0m\u001b[1;33m.\u001b[0m\u001b[0mdot\u001b[0m\u001b[1;33m(\u001b[0m\u001b[0mA\u001b[0m\u001b[1;33m,\u001b[0m\u001b[0mB\u001b[0m\u001b[1;33m)\u001b[0m\u001b[1;33m\u001b[0m\u001b[1;33m\u001b[0m\u001b[0m\n\u001b[0m",
      "\u001b[1;32m<__array_function__ internals>\u001b[0m in \u001b[0;36mdot\u001b[1;34m(*args, **kwargs)\u001b[0m\n",
      "\u001b[1;31mValueError\u001b[0m: shapes (4,1) and (2,4) not aligned: 1 (dim 1) != 2 (dim 0)"
     ]
    }
   ],
   "source": [
    "# 报错了，A·B中, 因为A的x方向为1个元素，而B的y方向为2个元素。无法进行点积运算。\n",
    "np.dot(A,B)"
   ]
  },
  {
   "cell_type": "code",
   "execution_count": null,
   "id": "2ba0ce77",
   "metadata": {},
   "outputs": [],
   "source": [
    "# B·A中，B的x方向有4个元素，A的y方向有四个元素。\n",
    "# 最终的结果，C在y方向上跟随B，有两个元素；在x方向上跟随A，有一个元素。C：(2,1)。\n",
    "np.dot(B,A)"
   ]
  },
  {
   "cell_type": "code",
   "execution_count": null,
   "id": "e875d80f",
   "metadata": {},
   "outputs": [],
   "source": [
    "A1=np.array([1,2]).reshape(2,1)\n",
    "W=np.array([1,2,3,4,5,6]).reshape(3,2)\n",
    "print('A2=W·A1:\\n',np.dot(W,A1))"
   ]
  },
  {
   "cell_type": "code",
   "execution_count": null,
   "id": "a7a838c0",
   "metadata": {},
   "outputs": [],
   "source": [
    "A1\n"
   ]
  },
  {
   "cell_type": "code",
   "execution_count": null,
   "id": "e1ab7663",
   "metadata": {},
   "outputs": [],
   "source": [
    "W"
   ]
  },
  {
   "cell_type": "code",
   "execution_count": null,
   "id": "4491e5a1",
   "metadata": {},
   "outputs": [],
   "source": [
    "np.matmul(W,A1)"
   ]
  },
  {
   "cell_type": "code",
   "execution_count": null,
   "id": "4b752c27",
   "metadata": {},
   "outputs": [],
   "source": [
    "n1 = np.array([[10, 11],\n",
    "               [12, 13]])\n",
    "n2 = np.array([[40, 51],\n",
    "               [62, 73]])"
   ]
  },
  {
   "cell_type": "code",
   "execution_count": null,
   "id": "7c691102",
   "metadata": {},
   "outputs": [],
   "source": [
    "# 横拼接\n",
    "np.hstack((n1,n2))"
   ]
  },
  {
   "cell_type": "code",
   "execution_count": null,
   "id": "db866bea",
   "metadata": {},
   "outputs": [],
   "source": [
    "# 竖拼接\n",
    "np.vstack((n1,n2))"
   ]
  },
  {
   "cell_type": "code",
   "execution_count": null,
   "id": "990ff2cd",
   "metadata": {},
   "outputs": [],
   "source": [
    "n3 = np.floor(10 * np.random.random((2, 12)))\n",
    "n3"
   ]
  },
  {
   "cell_type": "code",
   "execution_count": null,
   "id": "72f718ff",
   "metadata": {},
   "outputs": [],
   "source": [
    "np.hsplit(n3,3)"
   ]
  },
  {
   "cell_type": "code",
   "execution_count": null,
   "id": "eff29121",
   "metadata": {},
   "outputs": [],
   "source": [
    "np.hsplit(n3,(3,5))"
   ]
  },
  {
   "cell_type": "code",
   "execution_count": null,
   "id": "86b0a569",
   "metadata": {},
   "outputs": [],
   "source": [
    "n3.T"
   ]
  },
  {
   "cell_type": "code",
   "execution_count": null,
   "id": "27950016",
   "metadata": {},
   "outputs": [],
   "source": [
    "np.vsplit(n3.T,3)"
   ]
  },
  {
   "cell_type": "code",
   "execution_count": null,
   "id": "a3750639",
   "metadata": {},
   "outputs": [],
   "source": [
    "harr = np.floor(10 * np.random.random((2, 6)))\n",
    "harr\n"
   ]
  },
  {
   "cell_type": "code",
   "execution_count": null,
   "id": "38710be3",
   "metadata": {},
   "outputs": [],
   "source": [
    "np.hsplit(harr, 3)"
   ]
  },
  {
   "cell_type": "code",
   "execution_count": null,
   "id": "9914adb9",
   "metadata": {},
   "outputs": [],
   "source": [
    "np.hsplit(harr, (2, 4, 5))"
   ]
  },
  {
   "cell_type": "code",
   "execution_count": null,
   "id": "e1810205",
   "metadata": {},
   "outputs": [],
   "source": [
    "x = np.arange(16.0).reshape(2, 8)"
   ]
  },
  {
   "cell_type": "code",
   "execution_count": null,
   "id": "b249c5fb",
   "metadata": {},
   "outputs": [],
   "source": [
    "x"
   ]
  },
  {
   "cell_type": "code",
   "execution_count": null,
   "id": "297cff25",
   "metadata": {},
   "outputs": [],
   "source": [
    "np.hsplit(x, [1,2,6])"
   ]
  },
  {
   "cell_type": "code",
   "execution_count": null,
   "id": "50674110",
   "metadata": {},
   "outputs": [],
   "source": [
    "n = np.array([-0.746, 4.6, 9.4, 7.447, 10.455, 121.555])\n"
   ]
  },
  {
   "cell_type": "code",
   "execution_count": null,
   "id": "3036f0fe",
   "metadata": {},
   "outputs": [],
   "source": [
    "np.around(n, decimals=-1)\n"
   ]
  },
  {
   "cell_type": "code",
   "execution_count": null,
   "id": "9898cfa2",
   "metadata": {},
   "outputs": [],
   "source": []
  },
  {
   "cell_type": "code",
   "execution_count": null,
   "id": "c3e90bd9",
   "metadata": {},
   "outputs": [],
   "source": [
    "n = np.array([-1.7, -2.5, -0.2, 0.6, 1.2, 2.7, 11])\n"
   ]
  },
  {
   "cell_type": "code",
   "execution_count": null,
   "id": "8a8cf77b",
   "metadata": {},
   "outputs": [],
   "source": [
    "np.ceil(n)"
   ]
  },
  {
   "cell_type": "code",
   "execution_count": null,
   "id": "e293883d",
   "metadata": {},
   "outputs": [],
   "source": [
    "data = np.random.random([2, 3])\n",
    "data"
   ]
  },
  {
   "cell_type": "code",
   "execution_count": null,
   "id": "9688fd31",
   "metadata": {},
   "outputs": [],
   "source": [
    "np.where(data>0.5,data,0)"
   ]
  },
  {
   "cell_type": "code",
   "execution_count": null,
   "id": "b531acd5",
   "metadata": {},
   "outputs": [],
   "source": [
    "np.array([[i, i * i] for i in [5, 6, 7]])\n"
   ]
  },
  {
   "cell_type": "code",
   "execution_count": null,
   "id": "bfcbdcff",
   "metadata": {},
   "outputs": [],
   "source": [
    "np.arange(9.).reshape(3, 3)"
   ]
  },
  {
   "cell_type": "code",
   "execution_count": null,
   "id": "4e66988a",
   "metadata": {},
   "outputs": [],
   "source": [
    "np.arange(2, 10, 2)\n"
   ]
  },
  {
   "cell_type": "code",
   "execution_count": null,
   "id": "64b919a8",
   "metadata": {},
   "outputs": [],
   "source": [
    "np.arange(start=2, stop=10, step=2)\n"
   ]
  },
  {
   "cell_type": "code",
   "execution_count": null,
   "id": "464f0929",
   "metadata": {},
   "outputs": [],
   "source": [
    "np.empty(shape=3)"
   ]
  },
  {
   "cell_type": "code",
   "execution_count": null,
   "id": "f7248588",
   "metadata": {},
   "outputs": [],
   "source": [
    "np.empty(shape=(2,3))"
   ]
  },
  {
   "cell_type": "code",
   "execution_count": null,
   "id": "02860bc0",
   "metadata": {},
   "outputs": [],
   "source": [
    "np.empty(shape=(2,3),dtype=int)"
   ]
  },
  {
   "cell_type": "code",
   "execution_count": null,
   "id": "60662428",
   "metadata": {},
   "outputs": [],
   "source": [
    "np.ones(5)"
   ]
  },
  {
   "cell_type": "code",
   "execution_count": null,
   "id": "f60d9031",
   "metadata": {},
   "outputs": [],
   "source": [
    "np.ones(5).dtype"
   ]
  },
  {
   "cell_type": "code",
   "execution_count": null,
   "id": "1b520278",
   "metadata": {},
   "outputs": [],
   "source": [
    "np.full((2, 3), 7)"
   ]
  },
  {
   "cell_type": "code",
   "execution_count": null,
   "id": "ec6ec82b",
   "metadata": {},
   "outputs": [],
   "source": [
    "n1=np.arange(0,40,10)"
   ]
  },
  {
   "cell_type": "code",
   "execution_count": null,
   "id": "003636a2",
   "metadata": {},
   "outputs": [],
   "source": [
    "np.tile(n1,(3,5))"
   ]
  },
  {
   "cell_type": "code",
   "execution_count": null,
   "id": "2705d87c",
   "metadata": {},
   "outputs": [],
   "source": [
    "np.r_[[1,2,3],[4,5,6],[7,8,9]]\n"
   ]
  },
  {
   "cell_type": "code",
   "execution_count": null,
   "id": "8e3a4ef0",
   "metadata": {},
   "outputs": [],
   "source": [
    "a = np.array([[1, 2, 3],[7,8,9]])\n",
    "b=np.array([[4,5,6],[1,2,3]])"
   ]
  },
  {
   "cell_type": "code",
   "execution_count": null,
   "id": "1177973c",
   "metadata": {},
   "outputs": [],
   "source": [
    "np.r_[a,b]\n"
   ]
  },
  {
   "cell_type": "code",
   "execution_count": null,
   "id": "3549ff2d",
   "metadata": {},
   "outputs": [],
   "source": [
    " np.linspace(-5, 5, 5)"
   ]
  },
  {
   "cell_type": "code",
   "execution_count": null,
   "id": "bd65f91c",
   "metadata": {},
   "outputs": [],
   "source": [
    " np.linspace(-5, 5, 5, False)"
   ]
  },
  {
   "cell_type": "code",
   "execution_count": null,
   "id": "89343e5d",
   "metadata": {},
   "outputs": [],
   "source": [
    " np.linspace(-5, 5, 5, False,True)"
   ]
  },
  {
   "cell_type": "code",
   "execution_count": null,
   "id": "6bd1533d",
   "metadata": {},
   "outputs": [],
   "source": [
    " np.linspace(-5, 5, 5, False,True,int)"
   ]
  },
  {
   "cell_type": "code",
   "execution_count": null,
   "id": "dfb76163",
   "metadata": {},
   "outputs": [],
   "source": [
    "b = np.array([[[1,2.0],[1,2],[5,6]]])"
   ]
  },
  {
   "cell_type": "code",
   "execution_count": null,
   "id": "285b2867",
   "metadata": {},
   "outputs": [],
   "source": [
    "b.ndim"
   ]
  },
  {
   "cell_type": "code",
   "execution_count": null,
   "id": "b5a99b19",
   "metadata": {},
   "outputs": [],
   "source": [
    "b.shape\n"
   ]
  },
  {
   "cell_type": "code",
   "execution_count": null,
   "id": "e8156256",
   "metadata": {},
   "outputs": [],
   "source": [
    "b.dtype"
   ]
  },
  {
   "cell_type": "code",
   "execution_count": null,
   "id": "559c27cc",
   "metadata": {},
   "outputs": [],
   "source": [
    "a = np.array([5, 10, 15])\n"
   ]
  },
  {
   "cell_type": "code",
   "execution_count": null,
   "id": "384b4a1c",
   "metadata": {},
   "outputs": [],
   "source": [
    "a[1]"
   ]
  },
  {
   "cell_type": "code",
   "execution_count": null,
   "id": "d6e77ecc",
   "metadata": {},
   "outputs": [],
   "source": [
    "a[0:2]"
   ]
  },
  {
   "cell_type": "code",
   "execution_count": null,
   "id": "caf2ce90",
   "metadata": {},
   "outputs": [],
   "source": [
    "a[:2]"
   ]
  },
  {
   "cell_type": "code",
   "execution_count": null,
   "id": "e5286760",
   "metadata": {},
   "outputs": [],
   "source": [
    "a[2:]"
   ]
  },
  {
   "cell_type": "code",
   "execution_count": null,
   "id": "15676884",
   "metadata": {},
   "outputs": [],
   "source": [
    "b = np.array([[5, 10, 15], [20, 25, 30], [35, 40, 45]])\n"
   ]
  },
  {
   "cell_type": "code",
   "execution_count": null,
   "id": "60a4319a",
   "metadata": {},
   "outputs": [],
   "source": [
    "b[1,2]"
   ]
  },
  {
   "cell_type": "code",
   "execution_count": null,
   "id": "015dcd4e",
   "metadata": {},
   "outputs": [],
   "source": [
    "b[:,1]"
   ]
  },
  {
   "cell_type": "code",
   "execution_count": null,
   "id": "3292f005",
   "metadata": {},
   "outputs": [],
   "source": [
    "b[:,0:2]"
   ]
  },
  {
   "cell_type": "code",
   "execution_count": null,
   "id": "65d2e1ea",
   "metadata": {},
   "outputs": [],
   "source": [
    "b[1:3,0:2]"
   ]
  },
  {
   "cell_type": "code",
   "execution_count": null,
   "id": "9fa1d9e1",
   "metadata": {},
   "outputs": [],
   "source": [
    "n = np.array([[1, 2, 3, 4, 5], [2, 3, 4, 5, 6], [1, 3, 5, 7, 9]])"
   ]
  },
  {
   "cell_type": "code",
   "execution_count": null,
   "id": "603d99fb",
   "metadata": {},
   "outputs": [],
   "source": [
    "b = n[:, 4] > 6\n"
   ]
  },
  {
   "cell_type": "code",
   "execution_count": null,
   "id": "e911f8c0",
   "metadata": {},
   "outputs": [],
   "source": [
    "b"
   ]
  },
  {
   "cell_type": "code",
   "execution_count": null,
   "id": "cc735b02",
   "metadata": {},
   "outputs": [],
   "source": [
    "n[b] = 11"
   ]
  },
  {
   "cell_type": "code",
   "execution_count": null,
   "id": "a91b6283",
   "metadata": {},
   "outputs": [],
   "source": [
    "n"
   ]
  },
  {
   "cell_type": "code",
   "execution_count": null,
   "id": "ace846dc",
   "metadata": {},
   "outputs": [],
   "source": [
    "n[n>2]=11"
   ]
  },
  {
   "cell_type": "code",
   "execution_count": null,
   "id": "7cd23fff",
   "metadata": {},
   "outputs": [],
   "source": [
    "n"
   ]
  },
  {
   "cell_type": "code",
   "execution_count": null,
   "id": "5a45d9bb",
   "metadata": {},
   "outputs": [],
   "source": [
    "n.ravel()"
   ]
  },
  {
   "cell_type": "code",
   "execution_count": null,
   "id": "45405a85",
   "metadata": {},
   "outputs": [],
   "source": [
    "n.resize(3,5)"
   ]
  },
  {
   "cell_type": "code",
   "execution_count": null,
   "id": "338baa6c",
   "metadata": {},
   "outputs": [],
   "source": [
    "n"
   ]
  },
  {
   "cell_type": "code",
   "execution_count": null,
   "id": "d662ebed",
   "metadata": {},
   "outputs": [],
   "source": [
    "n.reshape(3,5)"
   ]
  },
  {
   "cell_type": "code",
   "execution_count": null,
   "id": "93bbf16d",
   "metadata": {},
   "outputs": [],
   "source": [
    "n1 = np.array([1, 2, 3, 4, 5, 6, 7, 8])\n"
   ]
  },
  {
   "cell_type": "code",
   "execution_count": null,
   "id": "bcd75de8",
   "metadata": {},
   "outputs": [],
   "source": [
    "n1.shape"
   ]
  },
  {
   "cell_type": "code",
   "execution_count": null,
   "id": "632ed7ea",
   "metadata": {},
   "outputs": [],
   "source": [
    "b = np.array([[[1,2.0],[1,2],[5,6]]])"
   ]
  },
  {
   "cell_type": "code",
   "execution_count": null,
   "id": "6fc504a9",
   "metadata": {},
   "outputs": [],
   "source": [
    "b.shape"
   ]
  },
  {
   "cell_type": "code",
   "execution_count": null,
   "id": "2aeee449",
   "metadata": {},
   "outputs": [],
   "source": [
    "n1 = np.array([1, 2, 3, 4, 5, 6, 7, 8])"
   ]
  },
  {
   "cell_type": "code",
   "execution_count": null,
   "id": "533c202b",
   "metadata": {},
   "outputs": [],
   "source": [
    "n1"
   ]
  },
  {
   "cell_type": "code",
   "execution_count": null,
   "id": "f806bede",
   "metadata": {},
   "outputs": [],
   "source": [
    "n2 = n1.reshape(2, 4)"
   ]
  },
  {
   "cell_type": "code",
   "execution_count": null,
   "id": "16d334e4",
   "metadata": {},
   "outputs": [],
   "source": [
    "n2"
   ]
  },
  {
   "cell_type": "code",
   "execution_count": null,
   "id": "ce3b33f0",
   "metadata": {},
   "outputs": [],
   "source": [
    "n1"
   ]
  },
  {
   "cell_type": "code",
   "execution_count": null,
   "id": "e6564d7e",
   "metadata": {},
   "outputs": [],
   "source": [
    "n2.shape = (8)"
   ]
  },
  {
   "cell_type": "code",
   "execution_count": null,
   "id": "9cd5c898",
   "metadata": {},
   "outputs": [],
   "source": [
    "n2"
   ]
  },
  {
   "cell_type": "code",
   "execution_count": null,
   "id": "cf93af74",
   "metadata": {},
   "outputs": [],
   "source": [
    "n3 = n1.reshape(2, 2, -1) "
   ]
  },
  {
   "cell_type": "code",
   "execution_count": null,
   "id": "96b6e9af",
   "metadata": {},
   "outputs": [],
   "source": [
    "n3"
   ]
  },
  {
   "cell_type": "code",
   "execution_count": null,
   "id": "b8174855",
   "metadata": {},
   "outputs": [],
   "source": [
    "n3.shape"
   ]
  },
  {
   "cell_type": "code",
   "execution_count": null,
   "id": "80e49497",
   "metadata": {},
   "outputs": [],
   "source": [
    "n4 = n3.ravel()"
   ]
  },
  {
   "cell_type": "code",
   "execution_count": null,
   "id": "e6135c91",
   "metadata": {},
   "outputs": [],
   "source": [
    "n4"
   ]
  },
  {
   "cell_type": "code",
   "execution_count": null,
   "id": "fa555a01",
   "metadata": {},
   "outputs": [],
   "source": [
    "n5 = n3.resize(2,4)"
   ]
  },
  {
   "cell_type": "code",
   "execution_count": null,
   "id": "d5d91091",
   "metadata": {},
   "outputs": [],
   "source": [
    "n3"
   ]
  },
  {
   "cell_type": "code",
   "execution_count": null,
   "id": "f0d6d2e4",
   "metadata": {},
   "outputs": [],
   "source": [
    "n5"
   ]
  },
  {
   "cell_type": "code",
   "execution_count": null,
   "id": "9e24ff66",
   "metadata": {},
   "outputs": [],
   "source": [
    "n3.T"
   ]
  },
  {
   "cell_type": "code",
   "execution_count": null,
   "id": "d16b243d",
   "metadata": {},
   "outputs": [],
   "source": [
    "n = np.array(['1', '2', '0', '4'])"
   ]
  },
  {
   "cell_type": "code",
   "execution_count": null,
   "id": "c7425e96",
   "metadata": {},
   "outputs": [],
   "source": [
    "n.dtype"
   ]
  },
  {
   "cell_type": "code",
   "execution_count": null,
   "id": "e484468b",
   "metadata": {},
   "outputs": [],
   "source": [
    "n2 = n.astype(float)"
   ]
  },
  {
   "cell_type": "code",
   "execution_count": null,
   "id": "385c9474",
   "metadata": {},
   "outputs": [],
   "source": [
    "n2.dtype"
   ]
  },
  {
   "cell_type": "code",
   "execution_count": null,
   "id": "73674b2f",
   "metadata": {},
   "outputs": [],
   "source": [
    "n3 = n.astype(bool)"
   ]
  },
  {
   "cell_type": "code",
   "execution_count": null,
   "id": "af43c640",
   "metadata": {},
   "outputs": [],
   "source": [
    "n3.dtype"
   ]
  },
  {
   "cell_type": "code",
   "execution_count": null,
   "id": "3d69da87",
   "metadata": {},
   "outputs": [],
   "source": [
    "arr = np.arange(6).reshape(2,3)\n",
    "print('原数组：')\n",
    "print(arr)\n",
    "print('查看原数组的ID:')\n",
    "print(id(arr))\n",
    "print('创建arr的视图brr，brr = arr.view()')\n",
    "brr = arr.view()\n",
    "print('brr的id与arr的不相同:')\n",
    "print(brr)\n",
    "print(id(brr))\n",
    "print('修改brr的形状arr的不会改变，但是更改brr里面的值arr的也会改变：')\n",
    "brr.shape = (3,2)\n",
    "brr[0,0] = 10\n",
    "print('brr:')\n",
    "print(brr)\n",
    "print('arr:')\n",
    "print(arr)\n",
    "print()\n"
   ]
  },
  {
   "cell_type": "code",
   "execution_count": null,
   "id": "153d3938",
   "metadata": {},
   "outputs": [],
   "source": [
    "arr = np.arange(12)"
   ]
  },
  {
   "cell_type": "code",
   "execution_count": null,
   "id": "3b11c608",
   "metadata": {},
   "outputs": [],
   "source": [
    "arr"
   ]
  },
  {
   "cell_type": "code",
   "execution_count": null,
   "id": "4b677ea1",
   "metadata": {},
   "outputs": [],
   "source": [
    "a=arr[3:]"
   ]
  },
  {
   "cell_type": "code",
   "execution_count": null,
   "id": "ae22e8b9",
   "metadata": {},
   "outputs": [],
   "source": [
    "a"
   ]
  },
  {
   "cell_type": "code",
   "execution_count": null,
   "id": "f2ab98d2",
   "metadata": {},
   "outputs": [],
   "source": [
    "b=arr[3:]"
   ]
  },
  {
   "cell_type": "code",
   "execution_count": null,
   "id": "aaa3410d",
   "metadata": {},
   "outputs": [],
   "source": [
    "b"
   ]
  },
  {
   "cell_type": "code",
   "execution_count": null,
   "id": "dafa9b07",
   "metadata": {},
   "outputs": [],
   "source": [
    "a[1]=123"
   ]
  },
  {
   "cell_type": "code",
   "execution_count": null,
   "id": "7510114b",
   "metadata": {},
   "outputs": [],
   "source": [
    "a"
   ]
  },
  {
   "cell_type": "code",
   "execution_count": null,
   "id": "e86482ee",
   "metadata": {},
   "outputs": [],
   "source": [
    "b[2]=555"
   ]
  },
  {
   "cell_type": "code",
   "execution_count": null,
   "id": "ad1e77d7",
   "metadata": {},
   "outputs": [],
   "source": [
    "b"
   ]
  },
  {
   "cell_type": "code",
   "execution_count": null,
   "id": "40bac4c2",
   "metadata": {},
   "outputs": [],
   "source": [
    "arr"
   ]
  },
  {
   "cell_type": "code",
   "execution_count": null,
   "id": "1023efc5",
   "metadata": {},
   "outputs": [],
   "source": [
    "id(a)"
   ]
  },
  {
   "cell_type": "code",
   "execution_count": null,
   "id": "c00803c1",
   "metadata": {},
   "outputs": [],
   "source": [
    "id(b)"
   ]
  },
  {
   "cell_type": "code",
   "execution_count": null,
   "id": "54e9b19e",
   "metadata": {},
   "outputs": [],
   "source": [
    "id(arr)"
   ]
  },
  {
   "cell_type": "code",
   "execution_count": null,
   "id": "9a727acb",
   "metadata": {},
   "outputs": [],
   "source": [
    "n2 = np.array([[5, 10, 15], [20, 25, 30], [35, 40, 45]])"
   ]
  },
  {
   "cell_type": "code",
   "execution_count": null,
   "id": "11bc9c6d",
   "metadata": {},
   "outputs": [],
   "source": [
    "n2"
   ]
  },
  {
   "cell_type": "code",
   "execution_count": null,
   "id": "aee74882",
   "metadata": {},
   "outputs": [],
   "source": [
    "n_bool = (n2 == 10) | (n2 == 25) | (n2 == 45)"
   ]
  },
  {
   "cell_type": "code",
   "execution_count": null,
   "id": "3edd8e38",
   "metadata": {},
   "outputs": [],
   "source": [
    "n_bool"
   ]
  },
  {
   "cell_type": "code",
   "execution_count": null,
   "id": "7a5109ba",
   "metadata": {},
   "outputs": [],
   "source": [
    "n2[n_bool]"
   ]
  },
  {
   "cell_type": "code",
   "execution_count": 51,
   "id": "8cc31f0f",
   "metadata": {},
   "outputs": [
    {
     "data": {
      "text/plain": [
       "array([[1, 2, 3]])"
      ]
     },
     "execution_count": 51,
     "metadata": {},
     "output_type": "execute_result"
    }
   ],
   "source": [
    "np.array([[1,2,3]])"
   ]
  },
  {
   "cell_type": "code",
   "execution_count": 65,
   "id": "f0f2f521",
   "metadata": {},
   "outputs": [],
   "source": [
    "x = np.array([(1,2),(3,4),(5,6)],dtype=[('a','<i4'),('b','f4')])"
   ]
  },
  {
   "cell_type": "code",
   "execution_count": 66,
   "id": "e20103c4",
   "metadata": {},
   "outputs": [
    {
     "data": {
      "text/plain": [
       "array([1, 3, 5])"
      ]
     },
     "execution_count": 66,
     "metadata": {},
     "output_type": "execute_result"
    }
   ],
   "source": [
    "x['a']"
   ]
  },
  {
   "cell_type": "code",
   "execution_count": 71,
   "id": "f1020a5e",
   "metadata": {},
   "outputs": [
    {
     "data": {
      "text/plain": [
       "array([2., 4., 6.], dtype=float32)"
      ]
     },
     "execution_count": 71,
     "metadata": {},
     "output_type": "execute_result"
    }
   ],
   "source": [
    "x[\"b\"]"
   ]
  },
  {
   "cell_type": "code",
   "execution_count": 68,
   "id": "d27f7452",
   "metadata": {},
   "outputs": [
    {
     "data": {
      "text/plain": [
       "array([(1, 2.), (3, 4.), (5, 6.)], dtype=[('a', '<i4'), ('b', '<f4')])"
      ]
     },
     "execution_count": 68,
     "metadata": {},
     "output_type": "execute_result"
    }
   ],
   "source": [
    "x"
   ]
  },
  {
   "cell_type": "code",
   "execution_count": 69,
   "id": "f6eaf301",
   "metadata": {},
   "outputs": [
    {
     "data": {
      "text/plain": [
       "(1, 2.)"
      ]
     },
     "execution_count": 69,
     "metadata": {},
     "output_type": "execute_result"
    }
   ],
   "source": [
    "x[0]"
   ]
  },
  {
   "cell_type": "code",
   "execution_count": 72,
   "id": "1144a079",
   "metadata": {},
   "outputs": [],
   "source": [
    "x = np.array([[1, 2], [3, 4]])"
   ]
  },
  {
   "cell_type": "code",
   "execution_count": 73,
   "id": "21724b3b",
   "metadata": {},
   "outputs": [],
   "source": [
    "m = np.asmatrix(x)"
   ]
  },
  {
   "cell_type": "code",
   "execution_count": 74,
   "id": "37866ade",
   "metadata": {},
   "outputs": [
    {
     "data": {
      "text/plain": [
       "matrix([[1, 2],\n",
       "        [3, 4]])"
      ]
     },
     "execution_count": 74,
     "metadata": {},
     "output_type": "execute_result"
    }
   ],
   "source": [
    "m"
   ]
  },
  {
   "cell_type": "code",
   "execution_count": 75,
   "id": "6cdae041",
   "metadata": {},
   "outputs": [],
   "source": [
    "x[0,0] = 5"
   ]
  },
  {
   "cell_type": "code",
   "execution_count": 76,
   "id": "c33a6be1",
   "metadata": {},
   "outputs": [
    {
     "data": {
      "text/plain": [
       "matrix([[5, 2],\n",
       "        [3, 4]])"
      ]
     },
     "execution_count": 76,
     "metadata": {},
     "output_type": "execute_result"
    }
   ],
   "source": [
    "m"
   ]
  },
  {
   "cell_type": "code",
   "execution_count": 77,
   "id": "1c9b7523",
   "metadata": {},
   "outputs": [
    {
     "data": {
      "text/plain": [
       "matrix([[5, 3],\n",
       "        [2, 4]])"
      ]
     },
     "execution_count": 77,
     "metadata": {},
     "output_type": "execute_result"
    }
   ],
   "source": [
    "m.T"
   ]
  },
  {
   "cell_type": "code",
   "execution_count": 78,
   "id": "a29efe54",
   "metadata": {},
   "outputs": [
    {
     "data": {
      "text/plain": [
       "matrix([[ 0.28571429, -0.14285714],\n",
       "        [-0.21428571,  0.35714286]])"
      ]
     },
     "execution_count": 78,
     "metadata": {},
     "output_type": "execute_result"
    }
   ],
   "source": [
    "m.I"
   ]
  },
  {
   "cell_type": "code",
   "execution_count": 79,
   "id": "ce70a0f8",
   "metadata": {},
   "outputs": [
    {
     "data": {
      "text/plain": [
       "dtype('int32')"
      ]
     },
     "execution_count": 79,
     "metadata": {},
     "output_type": "execute_result"
    }
   ],
   "source": [
    "m.dtype"
   ]
  },
  {
   "cell_type": "code",
   "execution_count": 80,
   "id": "13b8de5f",
   "metadata": {},
   "outputs": [
    {
     "data": {
      "text/plain": [
       "16"
      ]
     },
     "execution_count": 80,
     "metadata": {},
     "output_type": "execute_result"
    }
   ],
   "source": [
    "m.nbytes"
   ]
  },
  {
   "cell_type": "code",
   "execution_count": 81,
   "id": "a45f52df",
   "metadata": {},
   "outputs": [
    {
     "data": {
      "text/plain": [
       "2"
      ]
     },
     "execution_count": 81,
     "metadata": {},
     "output_type": "execute_result"
    }
   ],
   "source": [
    "m.ndim"
   ]
  },
  {
   "cell_type": "code",
   "execution_count": 82,
   "id": "a67b09f3",
   "metadata": {},
   "outputs": [
    {
     "data": {
      "text/plain": [
       "4"
      ]
     },
     "execution_count": 82,
     "metadata": {},
     "output_type": "execute_result"
    }
   ],
   "source": [
    "m.size"
   ]
  },
  {
   "cell_type": "code",
   "execution_count": 83,
   "id": "73e75dc2",
   "metadata": {},
   "outputs": [
    {
     "data": {
      "text/plain": [
       "matrix([[5, 2],\n",
       "        [3, 4]])"
      ]
     },
     "execution_count": 83,
     "metadata": {},
     "output_type": "execute_result"
    }
   ],
   "source": [
    "m.real"
   ]
  },
  {
   "cell_type": "code",
   "execution_count": 84,
   "id": "d5b40acd",
   "metadata": {},
   "outputs": [
    {
     "data": {
      "text/plain": [
       "matrix([[5, 2],\n",
       "        [3, 4]])"
      ]
     },
     "execution_count": 84,
     "metadata": {},
     "output_type": "execute_result"
    }
   ],
   "source": [
    "m"
   ]
  },
  {
   "cell_type": "code",
   "execution_count": 86,
   "id": "62925dc5",
   "metadata": {},
   "outputs": [
    {
     "data": {
      "text/plain": [
       "matrix([[0, 0],\n",
       "        [0, 0]])"
      ]
     },
     "execution_count": 86,
     "metadata": {},
     "output_type": "execute_result"
    }
   ],
   "source": [
    "m.imag"
   ]
  },
  {
   "cell_type": "markdown",
   "id": "d891c113",
   "metadata": {},
   "source": []
  }
 ],
 "metadata": {
  "kernelspec": {
   "display_name": "Python 3",
   "language": "python",
   "name": "python3"
  },
  "language_info": {
   "codemirror_mode": {
    "name": "ipython",
    "version": 3
   },
   "file_extension": ".py",
   "mimetype": "text/x-python",
   "name": "python",
   "nbconvert_exporter": "python",
   "pygments_lexer": "ipython3",
   "version": "3.9.1"
  }
 },
 "nbformat": 4,
 "nbformat_minor": 5
}
