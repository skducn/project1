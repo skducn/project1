{
 "cells": [
  {
   "cell_type": "code",
   "execution_count": 1,
   "id": "bdff34de",
   "metadata": {},
   "outputs": [],
   "source": [
    "# 匿名函数 lambda：是指一类无需定义标识符（函数名）的函数或子程序。\n",
    "# 格式： 函数对象地址 = lambda 参数列表 : 表达式 ， 注意：lambda返回值是一个函数的地址，也就是函数对象。\n",
    "# 用途：一般将它用在需要封装特殊的、非重用代码上，避免令代码充斥着大量单行函数。"
   ]
  },
  {
   "cell_type": "code",
   "execution_count": 4,
   "id": "f17cd2f6",
   "metadata": {},
   "outputs": [],
   "source": [
    "# 1，标准匿名函数格式\n",
    "p = lambda x,y: x+y "
   ]
  },
  {
   "cell_type": "code",
   "execution_count": 5,
   "id": "37331efd",
   "metadata": {},
   "outputs": [
    {
     "data": {
      "text/plain": [
       "function"
      ]
     },
     "execution_count": 5,
     "metadata": {},
     "output_type": "execute_result"
    }
   ],
   "source": [
    "type(p)"
   ]
  },
  {
   "cell_type": "code",
   "execution_count": 6,
   "id": "5880dbd9",
   "metadata": {},
   "outputs": [
    {
     "data": {
      "text/plain": [
       "function"
      ]
     },
     "execution_count": 6,
     "metadata": {},
     "output_type": "execute_result"
    }
   ],
   "source": [
    "type(lambda x,y: x+y)"
   ]
  },
  {
   "cell_type": "code",
   "execution_count": 7,
   "id": "5d4f054e",
   "metadata": {},
   "outputs": [
    {
     "data": {
      "text/plain": [
       "5"
      ]
     },
     "execution_count": 7,
     "metadata": {},
     "output_type": "execute_result"
    }
   ],
   "source": [
    "p(1,4)"
   ]
  },
  {
   "cell_type": "code",
   "execution_count": 8,
   "id": "0fadd7fa",
   "metadata": {},
   "outputs": [],
   "source": [
    "# lambda是一个函数\n"
   ]
  },
  {
   "cell_type": "code",
   "execution_count": 9,
   "id": "d0895daa",
   "metadata": {},
   "outputs": [
    {
     "data": {
      "text/plain": [
       "5"
      ]
     },
     "execution_count": 9,
     "metadata": {},
     "output_type": "execute_result"
    }
   ],
   "source": [
    "# 2，非标准函数写法，直接在匿名函数后接实参\n",
    "\n",
    "p(1,4)"
   ]
  },
  {
   "cell_type": "code",
   "execution_count": 10,
   "id": "bbdcc8da",
   "metadata": {},
   "outputs": [
    {
     "data": {
      "text/plain": [
       "5"
      ]
     },
     "execution_count": 10,
     "metadata": {},
     "output_type": "execute_result"
    }
   ],
   "source": [
    " (lambda x,y: x+y)(1,4)"
   ]
  },
  {
   "cell_type": "code",
   "execution_count": 15,
   "id": "3372c041",
   "metadata": {},
   "outputs": [
    {
     "data": {
      "text/plain": [
       "False"
      ]
     },
     "execution_count": 15,
     "metadata": {},
     "output_type": "execute_result"
    }
   ],
   "source": [
    "# 3, 可用于条件判断 true / false\n",
    "(lambda x:x % 3 == 0)(6)"
   ]
  },
  {
   "cell_type": "code",
   "execution_count": 17,
   "id": "32e7768d",
   "metadata": {},
   "outputs": [
    {
     "name": "stdout",
     "output_type": "stream",
     "text": [
      "123\n"
     ]
    }
   ],
   "source": [
    "if (lambda x:x % 3 == 0)(6):print(123)\n",
    "else:print(4444)"
   ]
  },
  {
   "cell_type": "code",
   "execution_count": 18,
   "id": "3cefe93a",
   "metadata": {},
   "outputs": [
    {
     "data": {
      "text/plain": [
       "[0, -1, -2, 3, -4, 5, -6]"
      ]
     },
     "execution_count": 18,
     "metadata": {},
     "output_type": "execute_result"
    }
   ],
   "source": [
    "# lambda 使用场景？\n",
    "# 1， 与其他函数组合\n",
    "# (lambda x:abs(x)) ，迭代对象 ：[0, 1, 2, 3, 4, 5, 6]\n",
    "\n",
    "x = [3,5,-4,-1,0,-2,-6]\n",
    "\n",
    "# 要求：将列表变为 [0, -1, -2, 3, -4, 5, -6]? \n",
    "# sorted(list,itrators)\n",
    "\n",
    "sorted(x, key=lambda x:abs(x))\n"
   ]
  },
  {
   "cell_type": "code",
   "execution_count": null,
   "id": "6f933d14",
   "metadata": {},
   "outputs": [],
   "source": [
    "\n",
    "\n",
    "\n",
    "\n",
    "\n"
   ]
  }
 ],
 "metadata": {
  "kernelspec": {
   "display_name": "Python 3",
   "language": "python",
   "name": "python3"
  },
  "language_info": {
   "codemirror_mode": {
    "name": "ipython",
    "version": 3
   },
   "file_extension": ".py",
   "mimetype": "text/x-python",
   "name": "python",
   "nbconvert_exporter": "python",
   "pygments_lexer": "ipython3",
   "version": "3.9.1"
  }
 },
 "nbformat": 4,
 "nbformat_minor": 5
}
